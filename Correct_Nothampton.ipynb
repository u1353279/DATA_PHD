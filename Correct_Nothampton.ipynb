{
  "nbformat": 4,
  "nbformat_minor": 0,
  "metadata": {
    "colab": {
      "name": "Correct_Nothampton.ipynb",
      "provenance": [],
      "collapsed_sections": [],
      "toc_visible": true,
      "mount_file_id": "1FeBYB3vI3WaEEPUxeI6hvMcDfGjHa_Ge",
      "authorship_tag": "ABX9TyOkApLKXHWvhvfizRZ/jmRq",
      "include_colab_link": true
    },
    "kernelspec": {
      "name": "python3",
      "display_name": "Python 3"
    }
  },
  "cells": [
    {
      "cell_type": "markdown",
      "metadata": {
        "id": "view-in-github",
        "colab_type": "text"
      },
      "source": [
        "<a href=\"https://colab.research.google.com/github/u1353279/DATA_PHD/blob/main/Correct_Nothampton.ipynb\" target=\"_parent\"><img src=\"https://colab.research.google.com/assets/colab-badge.svg\" alt=\"Open In Colab\"/></a>"
      ]
    },
    {
      "cell_type": "markdown",
      "metadata": {
        "id": "3blIf5BPCsgD"
      },
      "source": [
        "# Comparing Seasonal degredation of 3 PV systems based on 3 month intervals located in Northampton"
      ]
    },
    {
      "cell_type": "code",
      "metadata": {
        "id": "ty0ROpk_7qTe",
        "colab": {
          "base_uri": "https://localhost:8080/"
        },
        "outputId": "7125a4a1-d512-4028-d70d-5b7d30b89c8b"
      },
      "source": [
        "import pandas as pd\r\n",
        "import numpy as np\r\n",
        "import seaborn as sns\r\n",
        "import statsmodels.api as sm\r\n",
        "from matplotlib import pyplot as plt\r\n",
        "from pandas.plotting import register_matplotlib_converters\r\n",
        "register_matplotlib_converters()\r\n",
        "\r\n",
        "# settings\r\n",
        "plt.style.use('seaborn-white')\r\n",
        "plt.rcParams[\"figure.figsize\"] = (8, 5)"
      ],
      "execution_count": 1,
      "outputs": [
        {
          "output_type": "stream",
          "text": [
            "/usr/local/lib/python3.6/dist-packages/statsmodels/tools/_testing.py:19: FutureWarning: pandas.util.testing is deprecated. Use the functions in the public API at pandas.testing instead.\n",
            "  import pandas.util.testing as tm\n"
          ],
          "name": "stderr"
        }
      ]
    },
    {
      "cell_type": "markdown",
      "metadata": {
        "id": "z0Ou0Ev0747k"
      },
      "source": [
        "# Northampton PV-01 MAR-MAY"
      ]
    },
    {
      "cell_type": "code",
      "metadata": {
        "colab": {
          "base_uri": "https://localhost:8080/",
          "height": 342
        },
        "id": "BCDqv1nZ7uve",
        "outputId": "44ece09f-0d3a-4ba9-e9e1-811f2492b232"
      },
      "source": [
        "bedford_1 = pd.read_csv('/content/drive/MyDrive/PHD/Data/Northampton1.csv')\r\n",
        "\r\n",
        "df = bedford_1[(bedford_1['Unnamed: 1']>2) & (bedford_1['Unnamed: 1']<6)]\r\n",
        "\r\n",
        "#df['PR'].plot()\r\n",
        "#plt.xlabel('Month')\r\n",
        "#plt.ylabel('PR')\r\n",
        "#plt.title('Monthly PR 2015-2020')\r\n",
        "\r\n",
        "#fig, axs = plt.subplots()\r\n",
        "#axs.plot(df.index, df.PR, 'o-', alpha = 0.5,color='g')\r\n",
        "#axs.set_ylabel('PR (%)');\r\n",
        "#axs.set_xlabel('Month')\r\n",
        "\r\n",
        "resolution = 3\r\n",
        "s=sm.tsa.seasonal_decompose(df.PR, model = 'multiplicative', freq = 1)\r\n",
        "#s.plot()\r\n",
        "\r\n",
        "trend_df = pd.DataFrame(list(s.trend), columns = ['Trend'])\r\n",
        "trend_df.insert(loc=0, column = 'Month', value=np.arange(len(trend_df)))\r\n",
        "trend_df=trend_df[np.isfinite(trend_df['Trend'])]\r\n",
        "y = trend_df.Trend\r\n",
        "x = trend_df.Month\r\n",
        "x, y = np.array(x), np.array(y)\r\n",
        "\r\n",
        "x = sm.add_constant(x)\r\n",
        "\r\n",
        "#trend_df['Trend'].plot()\r\n",
        "#plt.xlabel('Month')\r\n",
        "#plt.ylabel('PR')\r\n",
        "#plt.title('Decomposed Trend for Bedford PV-2 JAN-APR')\r\n",
        "\r\n",
        "model = sm.OLS(y,x)\r\n",
        "results = model.fit()\r\n",
        "#results.summary()\r\n",
        "\r\n",
        "#confidence level 95%\r\n",
        "intercept, slope = results.params\r\n",
        "CI_abs = resolution*results.conf_int(alpha = 0.05)[1]\r\n",
        "CIL_abs = CI_abs[1]\r\n",
        "CIH_abs = CI_abs[0]\r\n",
        "round(CIL_abs,2),round(CIH_abs,2)\r\n",
        "\r\n",
        "DR_abs = round(resolution*slope, 2)\r\n",
        "\r\n",
        "\r\n",
        "sns.regplot(y = trend_df['Trend'], x = trend_df['Month'], data = df, color='g')\r\n",
        "plt.ylabel(\"PR(%)\")\r\n",
        "plt.xlabel(\"Month\")\r\n",
        "plt.ylim(65,100)\r\n",
        "plt.xlim(0, 18)\r\n",
        "plt.title(\"MAR-May:Degradation Rate for Northampton PV-1\")\r\n",
        "plt.grid(True)\r\n",
        "plt.show()\r\n",
        "\r\n",
        "print('Absolute degredation value', DR_abs)\r\n",
        "print('Lower boundary degredation value', CIL_abs)\r\n",
        "print('Upper boundary degredation value', CIH_abs)"
      ],
      "execution_count": 26,
      "outputs": [
        {
          "output_type": "display_data",
          "data": {
            "image/png": "[encoded data removed]",
            "text/plain": [
              "<Figure size 432x288 with 1 Axes>"
            ]
          },
          "metadata": {
            "tags": [],
            "needs_background": "light"
          }
        },
        {
          "output_type": "stream",
          "text": [
            "Absolute degredation value 0.08\n",
            "Lower boundary degredation value 0.4683124958011444\n",
            "Upper boundary degredation value -0.3135137341912533\n"
          ],
          "name": "stdout"
        }
      ]
    },
    {
      "cell_type": "markdown",
      "metadata": {
        "id": "I-UECbmE8mMF"
      },
      "source": [
        "# Northampton PV-02 MAR-MAY"
      ]
    },
    {
      "cell_type": "code",
      "metadata": {
        "colab": {
          "base_uri": "https://localhost:8080/",
          "height": 342
        },
        "id": "8qawen928PrX",
        "outputId": "20e567ed-d8c5-4871-cdad-09ac65bad854"
      },
      "source": [
        "bedford_2 = pd.read_csv('/content/drive/MyDrive/PHD/Data/Northampton2.csv')\r\n",
        "\r\n",
        "df = bedford_2[(bedford_2['Unnamed: 1']>2) & (bedford_2['Unnamed: 1']<6)]\r\n",
        "\r\n",
        "#df['PR'].plot()\r\n",
        "#plt.xlabel('Month')\r\n",
        "#plt.ylabel('PR')\r\n",
        "#plt.title('Monthly PR 2015-2020')\r\n",
        "\r\n",
        "#fig, axs = plt.subplots()\r\n",
        "#axs.plot(df.index, df.PR, 'o-', alpha = 0.5,color='g')\r\n",
        "#axs.set_ylabel('PR (%)');\r\n",
        "#axs.set_xlabel('Month')\r\n",
        "\r\n",
        "resolution = 3\r\n",
        "s=sm.tsa.seasonal_decompose(df.PR, model = 'multiplicative', freq = 1)\r\n",
        "#s.plot()\r\n",
        "\r\n",
        "trend_df = pd.DataFrame(list(s.trend), columns = ['Trend'])\r\n",
        "trend_df.insert(loc=0, column = 'Month', value=np.arange(len(trend_df)))\r\n",
        "trend_df=trend_df[np.isfinite(trend_df['Trend'])]\r\n",
        "y = trend_df.Trend\r\n",
        "x = trend_df.Month\r\n",
        "x, y = np.array(x), np.array(y)\r\n",
        "\r\n",
        "x = sm.add_constant(x)\r\n",
        "\r\n",
        "#trend_df['Trend'].plot()\r\n",
        "#plt.xlabel('Month')\r\n",
        "#plt.ylabel('PR')\r\n",
        "#plt.title('Decomposed Trend for Bedford PV-2 JAN-APR')\r\n",
        "\r\n",
        "model = sm.OLS(y,x)\r\n",
        "results = model.fit()\r\n",
        "#results.summary()\r\n",
        "\r\n",
        "#confidence level 95%\r\n",
        "intercept, slope = results.params\r\n",
        "CI_abs = resolution*results.conf_int(alpha = 0.05)[1]\r\n",
        "CIL_abs = CI_abs[1]\r\n",
        "CIH_abs = CI_abs[0]\r\n",
        "round(CIL_abs,2),round(CIH_abs,2)\r\n",
        "\r\n",
        "DR_abs = round(resolution*slope, 2)\r\n",
        "\r\n",
        "\r\n",
        "sns.regplot(y = trend_df['Trend'], x = trend_df['Month'], data = df, color='g')\r\n",
        "plt.ylabel(\"PR(%)\")\r\n",
        "plt.xlabel(\"Month\")\r\n",
        "plt.ylim(65,100)\r\n",
        "plt.xlim(0, 18)\r\n",
        "plt.title(\"MAR-MAY:Degradation Rate for Northampton PV-2\")\r\n",
        "plt.grid(True)\r\n",
        "plt.show()\r\n",
        "\r\n",
        "print('Absolute degredation value', DR_abs)\r\n",
        "print('Lower boundary degredation value', CIL_abs)\r\n",
        "print('Upper boundary degredation value', CIH_abs)"
      ],
      "execution_count": 27,
      "outputs": [
        {
          "output_type": "display_data",
          "data": {
            "image/png": "[encoded data removed]",
            "text/plain": [
              "<Figure size 432x288 with 1 Axes>"
            ]
          },
          "metadata": {
            "tags": [],
            "needs_background": "light"
          }
        },
        {
          "output_type": "stream",
          "text": [
            "Absolute degredation value -0.57\n",
            "Lower boundary degredation value -0.042199459865374156\n",
            "Upper boundary degredation value -1.1033113760479563\n"
          ],
          "name": "stdout"
        }
      ]
    },
    {
      "cell_type": "markdown",
      "metadata": {
        "id": "UEy9A372837b"
      },
      "source": [
        "# Northampton PV-03 MAR-MAY"
      ]
    },
    {
      "cell_type": "code",
      "metadata": {
        "colab": {
          "base_uri": "https://localhost:8080/",
          "height": 342
        },
        "id": "NlD3u1-I8ze3",
        "outputId": "9a907464-dc4c-4113-a5cc-55fe76df10fc"
      },
      "source": [
        "bedford_3 = pd.read_csv('/content/drive/MyDrive/PHD/Data/Northampton3.csv')\r\n",
        "\r\n",
        "df = bedford_3[(bedford_3['Unnamed: 1']>2) & (bedford_3['Unnamed: 1']<6)]\r\n",
        "\r\n",
        "#df['PR'].plot()\r\n",
        "#plt.xlabel('Month')\r\n",
        "#plt.ylabel('PR')\r\n",
        "#plt.title('Monthly PR 2015-2020')\r\n",
        "\r\n",
        "#fig, axs = plt.subplots()\r\n",
        "#axs.plot(df.index, df.PR, 'o-', alpha = 0.5,color='g')\r\n",
        "#axs.set_ylabel('PR (%)');\r\n",
        "#axs.set_xlabel('Month')\r\n",
        "\r\n",
        "resolution = 3\r\n",
        "s=sm.tsa.seasonal_decompose(df.PR, model = 'multiplicative', freq = 1)\r\n",
        "#s.plot()\r\n",
        "\r\n",
        "trend_df = pd.DataFrame(list(s.trend), columns = ['Trend'])\r\n",
        "trend_df.insert(loc=0, column = 'Month', value=np.arange(len(trend_df)))\r\n",
        "trend_df=trend_df[np.isfinite(trend_df['Trend'])]\r\n",
        "y = trend_df.Trend\r\n",
        "x = trend_df.Month\r\n",
        "x, y = np.array(x), np.array(y)\r\n",
        "\r\n",
        "x = sm.add_constant(x)\r\n",
        "\r\n",
        "#trend_df['Trend'].plot()\r\n",
        "#plt.xlabel('Month')\r\n",
        "#plt.ylabel('PR')\r\n",
        "#plt.title('Decomposed Trend for Bedford PV-2 JAN-APR')\r\n",
        "\r\n",
        "model = sm.OLS(y,x)\r\n",
        "results = model.fit()\r\n",
        "#results.summary()\r\n",
        "\r\n",
        "#confidence level 95%\r\n",
        "intercept, slope = results.params\r\n",
        "CI_abs = resolution*results.conf_int(alpha = 0.05)[1]\r\n",
        "CIL_abs = CI_abs[1]\r\n",
        "CIH_abs = CI_abs[0]\r\n",
        "round(CIL_abs,2),round(CIH_abs,2)\r\n",
        "\r\n",
        "DR_abs = round(resolution*slope, 2)\r\n",
        "\r\n",
        "\r\n",
        "sns.regplot(y = trend_df['Trend'], x = trend_df['Month'], data = df, color='g')\r\n",
        "plt.ylabel(\"PR(%)\")\r\n",
        "plt.xlabel(\"Month\")\r\n",
        "plt.ylim(65,100)\r\n",
        "plt.xlim(0, 18)\r\n",
        "plt.title(\"MAR-MAY:Degradation Rate for Northampton PV-3\")\r\n",
        "plt.grid(True)\r\n",
        "plt.show()\r\n",
        "\r\n",
        "print('Absolute degredation value', DR_abs)\r\n",
        "print('Lower boundary degredation value', CIL_abs)\r\n",
        "print('Upper boundary degredation value', CIH_abs)"
      ],
      "execution_count": 28,
      "outputs": [
        {
          "output_type": "display_data",
          "data": {
            "image/png": "[encoded data removed]",
            "text/plain": [
              "<Figure size 432x288 with 1 Axes>"
            ]
          },
          "metadata": {
            "tags": [],
            "needs_background": "light"
          }
        },
        {
          "output_type": "stream",
          "text": [
            "Absolute degredation value -0.45\n",
            "Lower boundary degredation value -0.04748477295013484\n",
            "Upper boundary degredation value -0.8441560939229485\n"
          ],
          "name": "stdout"
        }
      ]
    },
    {
      "cell_type": "markdown",
      "metadata": {
        "id": "yZCmtmQXHCJV"
      },
      "source": [
        "## Avg degredation for Northampton between MAR-MAY is -0.37%"
      ]
    },
    {
      "cell_type": "markdown",
      "metadata": {
        "id": "8RlvM1bi9JXO"
      },
      "source": [
        "# Northampton PV-01 JUN-AUG"
      ]
    },
    {
      "cell_type": "code",
      "metadata": {
        "colab": {
          "base_uri": "https://localhost:8080/",
          "height": 342
        },
        "id": "30MNvrsg9Bmb",
        "outputId": "3f8d50f9-34b4-42d5-c5f2-c1f26a92f52d"
      },
      "source": [
        "bedford_1 = pd.read_csv('/content/drive/MyDrive/PHD/Data/Northampton1.csv')\r\n",
        "\r\n",
        "df = bedford_1[(bedford_1['Unnamed: 1']>5) & (bedford_1['Unnamed: 1']<9)]\r\n",
        "\r\n",
        "#df['PR'].plot()\r\n",
        "#plt.xlabel('Month')\r\n",
        "#plt.ylabel('PR')\r\n",
        "#plt.title('Monthly PR 2015-2020')\r\n",
        "\r\n",
        "#fig, axs = plt.subplots()\r\n",
        "#axs.plot(df.index, df.PR, 'o-', alpha = 0.5,color='g')\r\n",
        "#axs.set_ylabel('PR (%)');\r\n",
        "#axs.set_xlabel('Month')\r\n",
        "\r\n",
        "resolution = 3\r\n",
        "s=sm.tsa.seasonal_decompose(df.PR, model = 'multiplicative', freq = 1)\r\n",
        "#s.plot()\r\n",
        "\r\n",
        "trend_df = pd.DataFrame(list(s.trend), columns = ['Trend'])\r\n",
        "trend_df.insert(loc=0, column = 'Month', value=np.arange(len(trend_df)))\r\n",
        "trend_df=trend_df[np.isfinite(trend_df['Trend'])]\r\n",
        "y = trend_df.Trend\r\n",
        "x = trend_df.Month\r\n",
        "x, y = np.array(x), np.array(y)\r\n",
        "\r\n",
        "x = sm.add_constant(x)\r\n",
        "\r\n",
        "#trend_df['Trend'].plot()\r\n",
        "#plt.xlabel('Month')\r\n",
        "#plt.ylabel('PR')\r\n",
        "#plt.title('Decomposed Trend for Bedford PV-2 JAN-APR')\r\n",
        "\r\n",
        "model = sm.OLS(y,x)\r\n",
        "results = model.fit()\r\n",
        "#results.summary()\r\n",
        "\r\n",
        "#confidence level 95%\r\n",
        "intercept, slope = results.params\r\n",
        "CI_abs = resolution*results.conf_int(alpha = 0.05)[1]\r\n",
        "CIL_abs = CI_abs[1]\r\n",
        "CIH_abs = CI_abs[0]\r\n",
        "round(CIL_abs,2),round(CIH_abs,2)\r\n",
        "\r\n",
        "DR_abs = round(resolution*slope, 2)\r\n",
        "\r\n",
        "\r\n",
        "sns.regplot(y = trend_df['Trend'], x = trend_df['Month'], data = df, color='g')\r\n",
        "plt.ylabel(\"PR(%)\")\r\n",
        "plt.xlabel(\"Month\")\r\n",
        "plt.ylim(65,100)\r\n",
        "plt.xlim(0, 18)\r\n",
        "plt.title(\"JUN-AUG:Degradation Rate for Northampton PV-1\")\r\n",
        "plt.grid(True)\r\n",
        "plt.show()\r\n",
        "\r\n",
        "print('Absolute degredation value', DR_abs)\r\n",
        "print('Lower boundary degredation value', CIL_abs)\r\n",
        "print('Upper boundary degredation value', CIH_abs)"
      ],
      "execution_count": 29,
      "outputs": [
        {
          "output_type": "display_data",
          "data": {
            "image/png": "[encoded data removed]",
            "text/plain": [
              "<Figure size 432x288 with 1 Axes>"
            ]
          },
          "metadata": {
            "tags": [],
            "needs_background": "light"
          }
        },
        {
          "output_type": "stream",
          "text": [
            "Absolute degredation value -0.44\n",
            "Lower boundary degredation value 0.027577854142569164\n",
            "Upper boundary degredation value -0.9130267705512525\n"
          ],
          "name": "stdout"
        }
      ]
    },
    {
      "cell_type": "markdown",
      "metadata": {
        "id": "oWXgOhq_9-uU"
      },
      "source": [
        "# Northampton PV-02 JUN-AUG"
      ]
    },
    {
      "cell_type": "code",
      "metadata": {
        "colab": {
          "base_uri": "https://localhost:8080/",
          "height": 342
        },
        "id": "E_xzQn9g92tj",
        "outputId": "85e16a53-d0ca-40ab-e87e-48a246fc91ca"
      },
      "source": [
        "bedford_2 = pd.read_csv('/content/drive/MyDrive/PHD/Data/Northampton2.csv')\r\n",
        "\r\n",
        "df = bedford_2[(bedford_2['Unnamed: 1']>5) & (bedford_2['Unnamed: 1']<9)]\r\n",
        "\r\n",
        "#df['PR'].plot()\r\n",
        "#plt.xlabel('Month')\r\n",
        "#plt.ylabel('PR')\r\n",
        "#plt.title('Monthly PR 2015-2020')\r\n",
        "\r\n",
        "#fig, axs = plt.subplots()\r\n",
        "#axs.plot(df.index, df.PR, 'o-', alpha = 0.5,color='g')\r\n",
        "#axs.set_ylabel('PR (%)');\r\n",
        "#axs.set_xlabel('Month')\r\n",
        "\r\n",
        "resolution = 3\r\n",
        "s=sm.tsa.seasonal_decompose(df.PR, model = 'multiplicative', freq = 1)\r\n",
        "#s.plot()\r\n",
        "\r\n",
        "trend_df = pd.DataFrame(list(s.trend), columns = ['Trend'])\r\n",
        "trend_df.insert(loc=0, column = 'Month', value=np.arange(len(trend_df)))\r\n",
        "trend_df=trend_df[np.isfinite(trend_df['Trend'])]\r\n",
        "y = trend_df.Trend\r\n",
        "x = trend_df.Month\r\n",
        "x, y = np.array(x), np.array(y)\r\n",
        "\r\n",
        "x = sm.add_constant(x)\r\n",
        "\r\n",
        "#trend_df['Trend'].plot()\r\n",
        "#plt.xlabel('Month')\r\n",
        "#plt.ylabel('PR')\r\n",
        "#plt.title('Decomposed Trend for Bedford PV-2 JAN-APR')\r\n",
        "\r\n",
        "model = sm.OLS(y,x)\r\n",
        "results = model.fit()\r\n",
        "#results.summary()\r\n",
        "\r\n",
        "#confidence level 95%\r\n",
        "intercept, slope = results.params\r\n",
        "CI_abs = resolution*results.conf_int(alpha = 0.05)[1]\r\n",
        "CIL_abs = CI_abs[1]\r\n",
        "CIH_abs = CI_abs[0]\r\n",
        "round(CIL_abs,2),round(CIH_abs,2)\r\n",
        "\r\n",
        "DR_abs = round(resolution*slope, 2)\r\n",
        "\r\n",
        "\r\n",
        "sns.regplot(y = trend_df['Trend'], x = trend_df['Month'], data = df, color='g')\r\n",
        "plt.ylabel(\"PR(%)\")\r\n",
        "plt.xlabel(\"Month\")\r\n",
        "plt.ylim(65,100)\r\n",
        "plt.xlim(0, 18)\r\n",
        "plt.title(\"JUN-AUG:Degradation Rate for Northampton PV-2\")\r\n",
        "plt.grid(True)\r\n",
        "plt.show()\r\n",
        "\r\n",
        "print('Absolute degredation value', DR_abs)\r\n",
        "print('Lower boundary degredation value', CIL_abs)\r\n",
        "print('Upper boundary degredation value', CIH_abs)"
      ],
      "execution_count": 30,
      "outputs": [
        {
          "output_type": "display_data",
          "data": {
            "image/png": "[encoded data removed]",
            "text/plain": [
              "<Figure size 432x288 with 1 Axes>"
            ]
          },
          "metadata": {
            "tags": [],
            "needs_background": "light"
          }
        },
        {
          "output_type": "stream",
          "text": [
            "Absolute degredation value -0.68\n",
            "Lower boundary degredation value -0.2085394152269986\n",
            "Upper boundary degredation value -1.1536896869402034\n"
          ],
          "name": "stdout"
        }
      ]
    },
    {
      "cell_type": "markdown",
      "metadata": {
        "id": "WtMmTH4j-JfU"
      },
      "source": [
        "# Northampton PV-03 JUN-AUG"
      ]
    },
    {
      "cell_type": "code",
      "metadata": {
        "colab": {
          "base_uri": "https://localhost:8080/",
          "height": 342
        },
        "id": "ui8JzDPh-GAL",
        "outputId": "0ba7efab-f39a-42dc-f661-57228c47de6a"
      },
      "source": [
        "bedford_3 = pd.read_csv('/content/drive/MyDrive/PHD/Data/Northampton3.csv')\r\n",
        "\r\n",
        "df = bedford_3[(bedford_3['Unnamed: 1']>5) & (bedford_3['Unnamed: 1']<9)]\r\n",
        "\r\n",
        "#df['PR'].plot()\r\n",
        "#plt.xlabel('Month')\r\n",
        "#plt.ylabel('PR')\r\n",
        "#plt.title('Monthly PR 2015-2020')\r\n",
        "\r\n",
        "#fig, axs = plt.subplots()\r\n",
        "#axs.plot(df.index, df.PR, 'o-', alpha = 0.5,color='g')\r\n",
        "#axs.set_ylabel('PR (%)');\r\n",
        "#axs.set_xlabel('Month')\r\n",
        "\r\n",
        "resolution = 3\r\n",
        "s=sm.tsa.seasonal_decompose(df.PR, model = 'multiplicative', freq = 1)\r\n",
        "#s.plot()\r\n",
        "\r\n",
        "trend_df = pd.DataFrame(list(s.trend), columns = ['Trend'])\r\n",
        "trend_df.insert(loc=0, column = 'Month', value=np.arange(len(trend_df)))\r\n",
        "trend_df=trend_df[np.isfinite(trend_df['Trend'])]\r\n",
        "y = trend_df.Trend\r\n",
        "x = trend_df.Month\r\n",
        "x, y = np.array(x), np.array(y)\r\n",
        "\r\n",
        "x = sm.add_constant(x)\r\n",
        "\r\n",
        "#trend_df['Trend'].plot()\r\n",
        "#plt.xlabel('Month')\r\n",
        "#plt.ylabel('PR')\r\n",
        "#plt.title('Decomposed Trend for Bedford PV-2 JAN-APR')\r\n",
        "\r\n",
        "model = sm.OLS(y,x)\r\n",
        "results = model.fit()\r\n",
        "#results.summary()\r\n",
        "\r\n",
        "#confidence level 95%\r\n",
        "intercept, slope = results.params\r\n",
        "CI_abs = resolution*results.conf_int(alpha = 0.05)[1]\r\n",
        "CIL_abs = CI_abs[1]\r\n",
        "CIH_abs = CI_abs[0]\r\n",
        "round(CIL_abs,2),round(CIH_abs,2)\r\n",
        "\r\n",
        "DR_abs = round(resolution*slope, 2)\r\n",
        "\r\n",
        "\r\n",
        "sns.regplot(y = trend_df['Trend'], x = trend_df['Month'], data = df, color='g')\r\n",
        "plt.ylabel(\"PR(%)\")\r\n",
        "plt.xlabel(\"Month\")\r\n",
        "plt.ylim(65,100)\r\n",
        "plt.xlim(0, 18)\r\n",
        "plt.title(\"JUN-AUG:Degradation Rate for Northampton PV-03\")\r\n",
        "plt.grid(True)\r\n",
        "plt.show()\r\n",
        "\r\n",
        "print('Absolute degredation value', DR_abs)\r\n",
        "print('Lower boundary degredation value', CIL_abs)\r\n",
        "print('Upper boundary degredation value', CIH_abs)"
      ],
      "execution_count": 31,
      "outputs": [
        {
          "output_type": "display_data",
          "data": {
            "image/png": "[encoded data removed]",
            "text/plain": [
              "<Figure size 432x288 with 1 Axes>"
            ]
          },
          "metadata": {
            "tags": [],
            "needs_background": "light"
          }
        },
        {
          "output_type": "stream",
          "text": [
            "Absolute degredation value -0.59\n",
            "Lower boundary degredation value -0.14863436965356688\n",
            "Upper boundary degredation value -1.0402201195105336\n"
          ],
          "name": "stdout"
        }
      ]
    },
    {
      "cell_type": "markdown",
      "metadata": {
        "id": "a6wvGuOWHkPB"
      },
      "source": [
        "## Avg degredation for Northampton between JUN-AUG is -0.55%"
      ]
    },
    {
      "cell_type": "markdown",
      "metadata": {
        "id": "GyUnFvWd_eq_"
      },
      "source": [
        "# Northampton PV-01 SEPT-NOV"
      ]
    },
    {
      "cell_type": "code",
      "metadata": {
        "colab": {
          "base_uri": "https://localhost:8080/",
          "height": 342
        },
        "id": "nJjhwmeY-RiS",
        "outputId": "48d13d1f-c807-4cac-b073-a2622e3034b4"
      },
      "source": [
        "bedford_1 = pd.read_csv('/content/drive/MyDrive/PHD/Data/Northampton1.csv')\r\n",
        "\r\n",
        "df = bedford_1[(bedford_1['Unnamed: 1']>8) & (bedford_1['Unnamed: 1']<12)]\r\n",
        "\r\n",
        "#df['PR'].plot()\r\n",
        "#plt.xlabel('Month')\r\n",
        "#plt.ylabel('PR')\r\n",
        "#plt.title('Monthly PR 2015-2020')\r\n",
        "\r\n",
        "#fig, axs = plt.subplots()\r\n",
        "#axs.plot(df.index, df.PR, 'o-', alpha = 0.5,color='g')\r\n",
        "#axs.set_ylabel('PR (%)');\r\n",
        "#axs.set_xlabel('Month')\r\n",
        "\r\n",
        "resolution = 3\r\n",
        "s=sm.tsa.seasonal_decompose(df.PR, model = 'multiplicative', freq = 1)\r\n",
        "#s.plot()\r\n",
        "\r\n",
        "trend_df = pd.DataFrame(list(s.trend), columns = ['Trend'])\r\n",
        "trend_df.insert(loc=0, column = 'Month', value=np.arange(len(trend_df)))\r\n",
        "trend_df=trend_df[np.isfinite(trend_df['Trend'])]\r\n",
        "y = trend_df.Trend\r\n",
        "x = trend_df.Month\r\n",
        "x, y = np.array(x), np.array(y)\r\n",
        "\r\n",
        "x = sm.add_constant(x)\r\n",
        "\r\n",
        "#trend_df['Trend'].plot()\r\n",
        "#plt.xlabel('Month')\r\n",
        "#plt.ylabel('PR')\r\n",
        "#plt.title('Decomposed Trend for Bedford PV-2 JAN-APR')\r\n",
        "\r\n",
        "model = sm.OLS(y,x)\r\n",
        "results = model.fit()\r\n",
        "#results.summary()\r\n",
        "\r\n",
        "#confidence level 95%\r\n",
        "intercept, slope = results.params\r\n",
        "CI_abs = resolution*results.conf_int(alpha = 0.05)[1]\r\n",
        "CIL_abs = CI_abs[1]\r\n",
        "CIH_abs = CI_abs[0]\r\n",
        "round(CIL_abs,2),round(CIH_abs,2)\r\n",
        "\r\n",
        "DR_abs = round(resolution*slope, 2)\r\n",
        "\r\n",
        "\r\n",
        "sns.regplot(y = trend_df['Trend'], x = trend_df['Month'], data = df, color='g')\r\n",
        "plt.ylabel(\"PR(%)\")\r\n",
        "plt.xlabel(\"Month\")\r\n",
        "plt.ylim(65,100)\r\n",
        "plt.xlim(0, 18)\r\n",
        "plt.title(\"SEPT-NOV:Degradation Rate for Northampton PV-1\")\r\n",
        "plt.grid(True)\r\n",
        "plt.show()\r\n",
        "\r\n",
        "print('Absolute degredation value', DR_abs)\r\n",
        "print('Lower boundary degredation value', CIL_abs)\r\n",
        "print('Upper boundary degredation value', CIH_abs)"
      ],
      "execution_count": 32,
      "outputs": [
        {
          "output_type": "display_data",
          "data": {
            "image/png": "[encoded data removed]",
            "text/plain": [
              "<Figure size 432x288 with 1 Axes>"
            ]
          },
          "metadata": {
            "tags": [],
            "needs_background": "light"
          }
        },
        {
          "output_type": "stream",
          "text": [
            "Absolute degredation value -1.03\n",
            "Lower boundary degredation value -0.5610478270171183\n",
            "Upper boundary degredation value -1.5070636280912577\n"
          ],
          "name": "stdout"
        }
      ]
    },
    {
      "cell_type": "markdown",
      "metadata": {
        "id": "_bVB0eZEAIj3"
      },
      "source": [
        "# Northampton PV-02 SEPT-NOV"
      ]
    },
    {
      "cell_type": "code",
      "metadata": {
        "colab": {
          "base_uri": "https://localhost:8080/",
          "height": 342
        },
        "id": "5A4gFgJsABH9",
        "outputId": "90815917-5c8a-4fb3-f02f-3eed6c146842"
      },
      "source": [
        "bedford_2 = pd.read_csv('/content/drive/MyDrive/PHD/Data/Northampton2.csv')\r\n",
        "\r\n",
        "df = bedford_2[(bedford_2['Unnamed: 1']>8) & (bedford_2['Unnamed: 1']<12)]\r\n",
        "\r\n",
        "#df['PR'].plot()\r\n",
        "#plt.xlabel('Month')\r\n",
        "#plt.ylabel('PR')\r\n",
        "#plt.title('Monthly PR 2015-2020')\r\n",
        "\r\n",
        "#fig, axs = plt.subplots()\r\n",
        "#axs.plot(df.index, df.PR, 'o-', alpha = 0.5,color='g')\r\n",
        "#axs.set_ylabel('PR (%)');\r\n",
        "#axs.set_xlabel('Month')\r\n",
        "\r\n",
        "resolution = 3\r\n",
        "s=sm.tsa.seasonal_decompose(df.PR, model = 'multiplicative', freq = 1)\r\n",
        "#s.plot()\r\n",
        "\r\n",
        "trend_df = pd.DataFrame(list(s.trend), columns = ['Trend'])\r\n",
        "trend_df.insert(loc=0, column = 'Month', value=np.arange(len(trend_df)))\r\n",
        "trend_df=trend_df[np.isfinite(trend_df['Trend'])]\r\n",
        "y = trend_df.Trend\r\n",
        "x = trend_df.Month\r\n",
        "x, y = np.array(x), np.array(y)\r\n",
        "\r\n",
        "x = sm.add_constant(x)\r\n",
        "\r\n",
        "#trend_df['Trend'].plot()\r\n",
        "#plt.xlabel('Month')\r\n",
        "#plt.ylabel('PR')\r\n",
        "#plt.title('Decomposed Trend for Bedford PV-2 JAN-APR')\r\n",
        "\r\n",
        "model = sm.OLS(y,x)\r\n",
        "results = model.fit()\r\n",
        "#results.summary()\r\n",
        "\r\n",
        "#confidence level 95%\r\n",
        "intercept, slope = results.params\r\n",
        "CI_abs = resolution*results.conf_int(alpha = 0.05)[1]\r\n",
        "CIL_abs = CI_abs[1]\r\n",
        "CIH_abs = CI_abs[0]\r\n",
        "round(CIL_abs,2),round(CIH_abs,2)\r\n",
        "\r\n",
        "DR_abs = round(resolution*slope, 2)\r\n",
        "\r\n",
        "\r\n",
        "sns.regplot(y = trend_df['Trend'], x = trend_df['Month'], data = df, color='g')\r\n",
        "plt.ylabel(\"PR(%)\")\r\n",
        "plt.xlabel(\"Month\")\r\n",
        "plt.ylim(65,100)\r\n",
        "plt.xlim(0, 18)\r\n",
        "plt.title(\"SEPT-NOV:Degradation Rate for Northampton PV-2\")\r\n",
        "plt.grid(True)\r\n",
        "plt.show()\r\n",
        "\r\n",
        "print('Absolute degredation value', DR_abs)\r\n",
        "print('Lower boundary degredation value', CIL_abs)\r\n",
        "print('Upper boundary degredation value', CIH_abs)"
      ],
      "execution_count": 33,
      "outputs": [
        {
          "output_type": "display_data",
          "data": {
            "image/png": "[encoded data removed]",
            "text/plain": [
              "<Figure size 432x288 with 1 Axes>"
            ]
          },
          "metadata": {
            "tags": [],
            "needs_background": "light"
          }
        },
        {
          "output_type": "stream",
          "text": [
            "Absolute degredation value -0.61\n",
            "Lower boundary degredation value -0.13523972634088358\n",
            "Upper boundary degredation value -1.0783825646808056\n"
          ],
          "name": "stdout"
        }
      ]
    },
    {
      "cell_type": "markdown",
      "metadata": {
        "id": "X6kRn5fTAg-9"
      },
      "source": [
        "# Northampton PV-03 SEPT-NOV"
      ]
    },
    {
      "cell_type": "code",
      "metadata": {
        "colab": {
          "base_uri": "https://localhost:8080/",
          "height": 342
        },
        "id": "Ln73bqLAAXaf",
        "outputId": "de7ff8d5-615a-45c5-aa49-b9d569836f0f"
      },
      "source": [
        "bedford_3 = pd.read_csv('/content/drive/MyDrive/PHD/Data/Northampton3.csv')\r\n",
        "\r\n",
        "df = bedford_3[(bedford_3['Unnamed: 1']>8) & (bedford_3['Unnamed: 1']<12)]\r\n",
        "\r\n",
        "#df['PR'].plot()\r\n",
        "#plt.xlabel('Month')\r\n",
        "#plt.ylabel('PR')\r\n",
        "#plt.title('Monthly PR 2015-2020')\r\n",
        "\r\n",
        "#fig, axs = plt.subplots()\r\n",
        "#axs.plot(df.index, df.PR, 'o-', alpha = 0.5,color='g')\r\n",
        "#axs.set_ylabel('PR (%)');\r\n",
        "#axs.set_xlabel('Month')\r\n",
        "\r\n",
        "resolution = 3\r\n",
        "s=sm.tsa.seasonal_decompose(df.PR, model = 'multiplicative', freq = 1)\r\n",
        "#s.plot()\r\n",
        "\r\n",
        "trend_df = pd.DataFrame(list(s.trend), columns = ['Trend'])\r\n",
        "trend_df.insert(loc=0, column = 'Month', value=np.arange(len(trend_df)))\r\n",
        "trend_df=trend_df[np.isfinite(trend_df['Trend'])]\r\n",
        "y = trend_df.Trend\r\n",
        "x = trend_df.Month\r\n",
        "x, y = np.array(x), np.array(y)\r\n",
        "\r\n",
        "x = sm.add_constant(x)\r\n",
        "\r\n",
        "#trend_df['Trend'].plot()\r\n",
        "#plt.xlabel('Month')\r\n",
        "#plt.ylabel('PR')\r\n",
        "#plt.title('Decomposed Trend for Bedford PV-2 JAN-APR')\r\n",
        "\r\n",
        "model = sm.OLS(y,x)\r\n",
        "results = model.fit()\r\n",
        "#results.summary()\r\n",
        "\r\n",
        "#confidence level 95%\r\n",
        "intercept, slope = results.params\r\n",
        "CI_abs = resolution*results.conf_int(alpha = 0.05)[1]\r\n",
        "CIL_abs = CI_abs[1]\r\n",
        "CIH_abs = CI_abs[0]\r\n",
        "round(CIL_abs,2),round(CIH_abs,2)\r\n",
        "\r\n",
        "DR_abs = round(resolution*slope, 2)\r\n",
        "\r\n",
        "\r\n",
        "sns.regplot(y = trend_df['Trend'], x = trend_df['Month'], data = df, color='g')\r\n",
        "plt.ylabel(\"PR(%)\")\r\n",
        "plt.xlabel(\"Month\")\r\n",
        "plt.ylim(65,100)\r\n",
        "plt.xlim(0, 18)\r\n",
        "plt.title(\"SEPT-NOV:Degradation Rate for Northampton PV-3\")\r\n",
        "plt.grid(True)\r\n",
        "plt.show()\r\n",
        "\r\n",
        "print('Absolute degredation value', DR_abs)\r\n",
        "print('Lower boundary degredation value', CIL_abs)\r\n",
        "print('Upper boundary degredation value', CIH_abs)"
      ],
      "execution_count": 34,
      "outputs": [
        {
          "output_type": "display_data",
          "data": {
            "image/png": "[encoded data removed]",
            "text/plain": [
              "<Figure size 432x288 with 1 Axes>"
            ]
          },
          "metadata": {
            "tags": [],
            "needs_background": "light"
          }
        },
        {
          "output_type": "stream",
          "text": [
            "Absolute degredation value -0.78\n",
            "Lower boundary degredation value -0.17930623531375448\n",
            "Upper boundary degredation value -1.387257232178527\n"
          ],
          "name": "stdout"
        }
      ]
    },
    {
      "cell_type": "markdown",
      "metadata": {
        "id": "arfURbN1INK8"
      },
      "source": [
        "## Avg degredation for Northampton between SEPT-NOV is -0.80%"
      ]
    },
    {
      "cell_type": "markdown",
      "metadata": {
        "id": "XVgGHX2-BZXT"
      },
      "source": [
        "# Northampton PV-01 DEC-FEB"
      ]
    },
    {
      "cell_type": "code",
      "metadata": {
        "colab": {
          "base_uri": "https://localhost:8080/",
          "height": 426
        },
        "id": "g_nVAtKeAv4I",
        "outputId": "fa767330-269a-4e8c-9599-eabb54dd0002"
      },
      "source": [
        "bedford_1 = pd.read_csv('/content/drive/MyDrive/PHD/Data/Northampton1.csv')\r\n",
        "\r\n",
        "data = bedford_1[(bedford_1['Unnamed: 1']<3) | (bedford_1['Unnamed: 1']==12)]\r\n",
        "\r\n",
        "data.replace(12, 3,inplace=True)\r\n",
        "\r\n",
        "df=data\r\n",
        "\r\n",
        "#df['PR'].plot()\r\n",
        "#plt.xlabel('Month')\r\n",
        "#plt.ylabel('PR')\r\n",
        "#plt.title('Monthly PR 2015-2020')\r\n",
        "\r\n",
        "#fig, axs = plt.subplots()\r\n",
        "#axs.plot(df.index, df.PR, 'o-', alpha = 0.5,color='g')\r\n",
        "#axs.set_ylabel('PR (%)');\r\n",
        "#axs.set_xlabel('Month')\r\n",
        "\r\n",
        "resolution = 3\r\n",
        "s=sm.tsa.seasonal_decompose(df.PR, model = 'multiplicative', freq = 1)\r\n",
        "#s.plot()\r\n",
        "\r\n",
        "trend_df = pd.DataFrame(list(s.trend), columns = ['Trend'])\r\n",
        "trend_df.insert(loc=0, column = 'Month', value=np.arange(len(trend_df)))\r\n",
        "trend_df=trend_df[np.isfinite(trend_df['Trend'])]\r\n",
        "y = trend_df.Trend\r\n",
        "x = trend_df.Month\r\n",
        "x, y = np.array(x), np.array(y)\r\n",
        "\r\n",
        "x = sm.add_constant(x)\r\n",
        "\r\n",
        "#trend_df['Trend'].plot()\r\n",
        "#plt.xlabel('Month')\r\n",
        "#plt.ylabel('PR')\r\n",
        "#plt.title('Decomposed Trend for Bedford PV-2 JAN-APR')\r\n",
        "\r\n",
        "model = sm.OLS(y,x)\r\n",
        "results = model.fit()\r\n",
        "#results.summary()\r\n",
        "\r\n",
        "#confidence level 95%\r\n",
        "intercept, slope = results.params\r\n",
        "CI_abs = resolution*results.conf_int(alpha = 0.05)[1]\r\n",
        "CIL_abs = CI_abs[1]\r\n",
        "CIH_abs = CI_abs[0]\r\n",
        "round(CIL_abs,2),round(CIH_abs,2)\r\n",
        "\r\n",
        "DR_abs = round(resolution*slope, 2)\r\n",
        "\r\n",
        "\r\n",
        "sns.regplot(y = trend_df['Trend'], x = trend_df['Month'], data = df, color='g')\r\n",
        "plt.ylabel(\"PR(%)\")\r\n",
        "plt.xlabel(\"Month\")\r\n",
        "plt.ylim(65,100)\r\n",
        "plt.xlim(0, 18)\r\n",
        "plt.title(\"DEC-FEB:Degradation Rate for Northampton PV-1\")\r\n",
        "plt.grid(True)\r\n",
        "plt.show()\r\n",
        "\r\n",
        "print('Absolute degredation value', DR_abs)\r\n",
        "print('Lower boundary degredation value', CIL_abs)\r\n",
        "print('Upper boundary degredation value', CIH_abs)"
      ],
      "execution_count": 35,
      "outputs": [
        {
          "output_type": "stream",
          "text": [
            "/usr/local/lib/python3.6/dist-packages/pandas/core/frame.py:4389: SettingWithCopyWarning: \n",
            "A value is trying to be set on a copy of a slice from a DataFrame\n",
            "\n",
            "See the caveats in the documentation: https://pandas.pydata.org/pandas-docs/stable/user_guide/indexing.html#returning-a-view-versus-a-copy\n",
            "  method=method,\n"
          ],
          "name": "stderr"
        },
        {
          "output_type": "display_data",
          "data": {
            "image/png": "[encoded data removed]",
            "text/plain": [
              "<Figure size 432x288 with 1 Axes>"
            ]
          },
          "metadata": {
            "tags": [],
            "needs_background": "light"
          }
        },
        {
          "output_type": "stream",
          "text": [
            "Absolute degredation value -0.22\n",
            "Lower boundary degredation value 0.24773995729094409\n",
            "Upper boundary degredation value -0.6873684402630978\n"
          ],
          "name": "stdout"
        }
      ]
    },
    {
      "cell_type": "markdown",
      "metadata": {
        "id": "OHpOk_KjBz15"
      },
      "source": [
        "# Northampton PV-02 DEC-FEB"
      ]
    },
    {
      "cell_type": "code",
      "metadata": {
        "colab": {
          "base_uri": "https://localhost:8080/",
          "height": 426
        },
        "id": "JBCAicpHBvqd",
        "outputId": "600e83b9-b9b9-49ff-c896-cc6efe9a2b3e"
      },
      "source": [
        "bedford_2 = pd.read_csv('/content/drive/MyDrive/PHD/Data/Northampton2.csv')\r\n",
        "\r\n",
        "data = bedford_2[(bedford_1['Unnamed: 1']<3) | (bedford_2['Unnamed: 1']==12)]\r\n",
        "\r\n",
        "data.replace(12, 3,inplace=True)\r\n",
        "\r\n",
        "df=data\r\n",
        "\r\n",
        "#df['PR'].plot()\r\n",
        "#plt.xlabel('Month')\r\n",
        "#plt.ylabel('PR')\r\n",
        "#plt.title('Monthly PR 2015-2020')\r\n",
        "\r\n",
        "#fig, axs = plt.subplots()\r\n",
        "#axs.plot(df.index, df.PR, 'o-', alpha = 0.5,color='g')\r\n",
        "#axs.set_ylabel('PR (%)');\r\n",
        "#axs.set_xlabel('Month')\r\n",
        "\r\n",
        "resolution = 3\r\n",
        "s=sm.tsa.seasonal_decompose(df.PR, model = 'multiplicative', freq = 1)\r\n",
        "#s.plot()\r\n",
        "\r\n",
        "trend_df = pd.DataFrame(list(s.trend), columns = ['Trend'])\r\n",
        "trend_df.insert(loc=0, column = 'Month', value=np.arange(len(trend_df)))\r\n",
        "trend_df=trend_df[np.isfinite(trend_df['Trend'])]\r\n",
        "y = trend_df.Trend\r\n",
        "x = trend_df.Month\r\n",
        "x, y = np.array(x), np.array(y)\r\n",
        "\r\n",
        "x = sm.add_constant(x)\r\n",
        "\r\n",
        "#trend_df['Trend'].plot()\r\n",
        "#plt.xlabel('Month')\r\n",
        "#plt.ylabel('PR')\r\n",
        "#plt.title('Decomposed Trend for Bedford PV-2 JAN-APR')\r\n",
        "\r\n",
        "model = sm.OLS(y,x)\r\n",
        "results = model.fit()\r\n",
        "#results.summary()\r\n",
        "\r\n",
        "#confidence level 95%\r\n",
        "intercept, slope = results.params\r\n",
        "CI_abs = resolution*results.conf_int(alpha = 0.05)[1]\r\n",
        "CIL_abs = CI_abs[1]\r\n",
        "CIH_abs = CI_abs[0]\r\n",
        "round(CIL_abs,2),round(CIH_abs,2)\r\n",
        "\r\n",
        "DR_abs = round(resolution*slope, 2)\r\n",
        "\r\n",
        "\r\n",
        "sns.regplot(y = trend_df['Trend'], x = trend_df['Month'], data = df, color='g')\r\n",
        "plt.ylabel(\"PR(%)\")\r\n",
        "plt.xlabel(\"Month\")\r\n",
        "plt.ylim(65,100)\r\n",
        "plt.xlim(0, 18)\r\n",
        "plt.title(\"OCT-DEC:Degradation Rate for Northampton PV-2\")\r\n",
        "plt.grid(True)\r\n",
        "plt.show()\r\n",
        "\r\n",
        "print('Absolute degredation value', DR_abs)\r\n",
        "print('Lower boundary degredation value', CIL_abs)\r\n",
        "print('Upper boundary degredation value', CIH_abs)"
      ],
      "execution_count": 36,
      "outputs": [
        {
          "output_type": "stream",
          "text": [
            "/usr/local/lib/python3.6/dist-packages/pandas/core/frame.py:4389: SettingWithCopyWarning: \n",
            "A value is trying to be set on a copy of a slice from a DataFrame\n",
            "\n",
            "See the caveats in the documentation: https://pandas.pydata.org/pandas-docs/stable/user_guide/indexing.html#returning-a-view-versus-a-copy\n",
            "  method=method,\n"
          ],
          "name": "stderr"
        },
        {
          "output_type": "display_data",
          "data": {
            "image/png": "[encoded data removed]",
            "text/plain": [
              "<Figure size 432x288 with 1 Axes>"
            ]
          },
          "metadata": {
            "tags": [],
            "needs_background": "light"
          }
        },
        {
          "output_type": "stream",
          "text": [
            "Absolute degredation value -0.54\n",
            "Lower boundary degredation value -0.17563988035398298\n",
            "Upper boundary degredation value -0.8955675499865992\n"
          ],
          "name": "stdout"
        }
      ]
    },
    {
      "cell_type": "markdown",
      "metadata": {
        "id": "2Q4a05bKCHEY"
      },
      "source": [
        "# Northampton PV-03 DEC-FEB"
      ]
    },
    {
      "cell_type": "code",
      "metadata": {
        "colab": {
          "base_uri": "https://localhost:8080/",
          "height": 426
        },
        "id": "3aeNvB7tCCk_",
        "outputId": "42440c6b-69e1-474a-8e11-bfd666f1e5c8"
      },
      "source": [
        "bedford_3 = pd.read_csv('/content/drive/MyDrive/PHD/Data/Northampton3.csv')\r\n",
        "\r\n",
        "data = bedford_3[(bedford_1['Unnamed: 1']<3) | (bedford_3['Unnamed: 1']==12)]\r\n",
        "\r\n",
        "data.replace(12, 3,inplace=True)\r\n",
        "\r\n",
        "df=data\r\n",
        "\r\n",
        "#df['PR'].plot()\r\n",
        "#plt.xlabel('Month')\r\n",
        "#plt.ylabel('PR')\r\n",
        "#plt.title('Monthly PR 2015-2020')\r\n",
        "\r\n",
        "#fig, axs = plt.subplots()\r\n",
        "#axs.plot(df.index, df.PR, 'o-', alpha = 0.5,color='g')\r\n",
        "#axs.set_ylabel('PR (%)');\r\n",
        "#axs.set_xlabel('Month')\r\n",
        "\r\n",
        "resolution = 3\r\n",
        "s=sm.tsa.seasonal_decompose(df.PR, model = 'multiplicative', freq = 1)\r\n",
        "#s.plot()\r\n",
        "\r\n",
        "trend_df = pd.DataFrame(list(s.trend), columns = ['Trend'])\r\n",
        "trend_df.insert(loc=0, column = 'Month', value=np.arange(len(trend_df)))\r\n",
        "trend_df=trend_df[np.isfinite(trend_df['Trend'])]\r\n",
        "y = trend_df.Trend\r\n",
        "x = trend_df.Month\r\n",
        "x, y = np.array(x), np.array(y)\r\n",
        "\r\n",
        "x = sm.add_constant(x)\r\n",
        "\r\n",
        "#trend_df['Trend'].plot()\r\n",
        "#plt.xlabel('Month')\r\n",
        "#plt.ylabel('PR')\r\n",
        "#plt.title('Decomposed Trend for Bedford PV-2 JAN-APR')\r\n",
        "\r\n",
        "model = sm.OLS(y,x)\r\n",
        "results = model.fit()\r\n",
        "#results.summary()\r\n",
        "\r\n",
        "#confidence level 95%\r\n",
        "intercept, slope = results.params\r\n",
        "CI_abs = resolution*results.conf_int(alpha = 0.05)[1]\r\n",
        "CIL_abs = CI_abs[1]\r\n",
        "CIH_abs = CI_abs[0]\r\n",
        "round(CIL_abs,2),round(CIH_abs,2)\r\n",
        "\r\n",
        "DR_abs = round(resolution*slope, 2)\r\n",
        "\r\n",
        "\r\n",
        "sns.regplot(y = trend_df['Trend'], x = trend_df['Month'], data = df, color='g')\r\n",
        "plt.ylabel(\"PR(%)\")\r\n",
        "plt.xlabel(\"Month\")\r\n",
        "plt.ylim(65,100)\r\n",
        "plt.xlim(0, 18)\r\n",
        "plt.title(\"OCT-DEC:Degradation Rate for Northampton PV-3\")\r\n",
        "plt.grid(True)\r\n",
        "plt.show()\r\n",
        "\r\n",
        "print('Absolute degredation value', DR_abs)\r\n",
        "print('Lower boundary degredation value', CIL_abs)\r\n",
        "print('Upper boundary degredation value', CIH_abs)"
      ],
      "execution_count": 37,
      "outputs": [
        {
          "output_type": "stream",
          "text": [
            "/usr/local/lib/python3.6/dist-packages/pandas/core/frame.py:4389: SettingWithCopyWarning: \n",
            "A value is trying to be set on a copy of a slice from a DataFrame\n",
            "\n",
            "See the caveats in the documentation: https://pandas.pydata.org/pandas-docs/stable/user_guide/indexing.html#returning-a-view-versus-a-copy\n",
            "  method=method,\n"
          ],
          "name": "stderr"
        },
        {
          "output_type": "display_data",
          "data": {
            "image/png": "[encoded data removed]",
            "text/plain": [
              "<Figure size 432x288 with 1 Axes>"
            ]
          },
          "metadata": {
            "tags": [],
            "needs_background": "light"
          }
        },
        {
          "output_type": "stream",
          "text": [
            "Absolute degredation value -0.6\n",
            "Lower boundary degredation value -0.2807607533921132\n",
            "Upper boundary degredation value -0.926669587165179\n"
          ],
          "name": "stdout"
        }
      ]
    },
    {
      "cell_type": "markdown",
      "metadata": {
        "id": "pmRSWIpyJB24"
      },
      "source": [
        "## Avg degredation for Northampton between DEC-FEB is -0.45%"
      ]
    },
    {
      "cell_type": "code",
      "metadata": {
        "id": "FTLiOWQwCTus"
      },
      "source": [
        "# https://www.carboncommentary.com/blog/2019/12/6/how-fast-do-solar-panels-degrade-evidence-from-a-single-house-over-15-years"
      ],
      "execution_count": null,
      "outputs": []
    },
    {
      "cell_type": "code",
      "metadata": {
        "id": "IyVZkOtSFOuU"
      },
      "source": [
        ""
      ],
      "execution_count": null,
      "outputs": []
    }
  ]
}