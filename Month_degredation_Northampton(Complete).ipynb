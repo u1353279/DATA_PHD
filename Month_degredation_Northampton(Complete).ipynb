{
  "nbformat": 4,
  "nbformat_minor": 0,
  "metadata": {
    "colab": {
      "name": "Month_degredation_Northampton(Complete).ipynb",
      "provenance": [],
      "collapsed_sections": [],
      "toc_visible": true,
      "mount_file_id": "1BY4Xq4sFtVDFjWYa6C_atpodPtTHbGQC",
      "authorship_tag": "ABX9TyOzOCD8pXtREUmrYCHcYVsJ",
      "include_colab_link": true
    },
    "kernelspec": {
      "name": "python3",
      "display_name": "Python 3"
    }
  },
  "cells": [
    {
      "cell_type": "markdown",
      "metadata": {
        "id": "view-in-github",
        "colab_type": "text"
      },
      "source": [
        "<a href=\"https://colab.research.google.com/github/u1353279/DATA_PHD/blob/main/Month_degredation_Northampton(Complete).ipynb\" target=\"_parent\"><img src=\"https://colab.research.google.com/assets/colab-badge.svg\" alt=\"Open In Colab\"/></a>"
      ]
    },
    {
      "cell_type": "markdown",
      "metadata": {
        "id": "3blIf5BPCsgD"
      },
      "source": [
        "# Comparing Seasonal degredation of 3 PV systems based on 3 month intervals located in Northampton"
      ]
    },
    {
      "cell_type": "code",
      "metadata": {
        "id": "ty0ROpk_7qTe",
        "colab": {
          "base_uri": "https://localhost:8080/"
        },
        "outputId": "804e35bd-17cd-47fe-af5d-5e65ad3b5e91"
      },
      "source": [
        "import pandas as pd\r\n",
        "import numpy as np\r\n",
        "import seaborn as sns\r\n",
        "import statsmodels.api as sm\r\n",
        "from matplotlib import pyplot as plt\r\n",
        "from pandas.plotting import register_matplotlib_converters\r\n",
        "register_matplotlib_converters()\r\n",
        "\r\n",
        "# settings\r\n",
        "plt.style.use('seaborn-white')\r\n",
        "plt.rcParams[\"figure.figsize\"] = (8, 5)"
      ],
      "execution_count": 1,
      "outputs": [
        {
          "output_type": "stream",
          "text": [
            "/usr/local/lib/python3.6/dist-packages/statsmodels/tools/_testing.py:19: FutureWarning: pandas.util.testing is deprecated. Use the functions in the public API at pandas.testing instead.\n",
            "  import pandas.util.testing as tm\n"
          ],
          "name": "stderr"
        }
      ]
    },
    {
      "cell_type": "markdown",
      "metadata": {
        "id": "z0Ou0Ev0747k"
      },
      "source": [
        "# Northampton PV-01 JAN-MAR"
      ]
    },
    {
      "cell_type": "code",
      "metadata": {
        "colab": {
          "base_uri": "https://localhost:8080/",
          "height": 342
        },
        "id": "BCDqv1nZ7uve",
        "outputId": "96329d73-c88b-4331-e6b3-ee3f955c4096"
      },
      "source": [
        "Leicester_1 = pd.read_csv('/content/drive/MyDrive/PHD/Data/Northampton1.csv')\r\n",
        "\r\n",
        "df = Leicester_1[(Leicester_1['Unnamed: 1']>0) & (Leicester_1['Unnamed: 1']<4)]\r\n",
        "\r\n",
        "#df['PR'].plot()\r\n",
        "#plt.xlabel('Month')\r\n",
        "#plt.ylabel('PR')\r\n",
        "#plt.title('Monthly PR 2015-2020')\r\n",
        "\r\n",
        "#fig, axs = plt.subplots()\r\n",
        "#axs.plot(df.index, df.PR, 'o-', alpha = 0.5,color='g')\r\n",
        "#axs.set_ylabel('PR (%)');\r\n",
        "#axs.set_xlabel('Month')\r\n",
        "\r\n",
        "resolution = 3\r\n",
        "s=sm.tsa.seasonal_decompose(df.PR, model = 'multiplicative', freq = 3)\r\n",
        "#s.plot()\r\n",
        "\r\n",
        "trend_df = pd.DataFrame(list(s.trend), columns = ['Trend'])\r\n",
        "trend_df.insert(loc=0, column = 'Month', value=np.arange(len(trend_df)))\r\n",
        "trend_df=trend_df[np.isfinite(trend_df['Trend'])]\r\n",
        "y = trend_df.Trend\r\n",
        "x = trend_df.Month\r\n",
        "x, y = np.array(x), np.array(y)\r\n",
        "\r\n",
        "x = sm.add_constant(x)\r\n",
        "\r\n",
        "#trend_df['Trend'].plot()\r\n",
        "#plt.xlabel('Month')\r\n",
        "#plt.ylabel('PR')\r\n",
        "#plt.title('Decomposed Trend for Bedford PV-2 JAN-APR')\r\n",
        "\r\n",
        "model = sm.OLS(y,x)\r\n",
        "results = model.fit()\r\n",
        "#results.summary()\r\n",
        "\r\n",
        "#confidence level 95%\r\n",
        "intercept, slope = results.params\r\n",
        "CI_abs = resolution*results.conf_int(alpha = 0.05)[1]\r\n",
        "CIL_abs = CI_abs[1]\r\n",
        "CIH_abs = CI_abs[0]\r\n",
        "round(CIL_abs,2),round(CIH_abs,2)\r\n",
        "\r\n",
        "DR_abs = round(resolution*slope, 2)\r\n",
        "\r\n",
        "\r\n",
        "sns.regplot(y = trend_df['Trend'], x = trend_df['Month'], data = df, color='g')\r\n",
        "plt.ylabel(\"PR(%)\")\r\n",
        "plt.xlabel(\"Month\")\r\n",
        "plt.ylim(65,100)\r\n",
        "plt.xlim(0, 17)\r\n",
        "plt.title(\"JAN-MARCH:Degradation Rate for Northampton PV-1\")\r\n",
        "plt.grid(True)\r\n",
        "plt.show()\r\n",
        "\r\n",
        "print('Absolute degredation value', DR_abs)\r\n",
        "print('Lower boundary degredation value', CIL_abs)\r\n",
        "print('Upper boundary degredation value', CIH_abs)"
      ],
      "execution_count": 2,
      "outputs": [
        {
          "output_type": "display_data",
          "data": {
            "image/png": "[encoded data removed]",
            "text/plain": [
              "<Figure size 432x288 with 1 Axes>"
            ]
          },
          "metadata": {
            "tags": [],
            "needs_background": "light"
          }
        },
        {
          "output_type": "stream",
          "text": [
            "Absolute degredation value -0.09\n",
            "Lower boundary degredation value 0.3669486156815562\n",
            "Upper boundary degredation value -0.5493015568580368\n"
          ],
          "name": "stdout"
        }
      ]
    },
    {
      "cell_type": "markdown",
      "metadata": {
        "id": "I-UECbmE8mMF"
      },
      "source": [
        "# Northampton PV-02 JAN-MAR"
      ]
    },
    {
      "cell_type": "code",
      "metadata": {
        "colab": {
          "base_uri": "https://localhost:8080/",
          "height": 342
        },
        "id": "8qawen928PrX",
        "outputId": "f7afe65f-3009-40a6-cadd-9abe2e4466fc"
      },
      "source": [
        "Leicester_2 = pd.read_csv('/content/drive/MyDrive/PHD/Data/Northampton2.csv')\r\n",
        "\r\n",
        "df = Leicester_2[(Leicester_2['Unnamed: 1']>0) & (Leicester_2['Unnamed: 1']<4)]\r\n",
        "\r\n",
        "#df['PR'].plot()\r\n",
        "#plt.xlabel('Month')\r\n",
        "#plt.ylabel('PR')\r\n",
        "#plt.title('Monthly PR 2015-2020')\r\n",
        "\r\n",
        "#fig, axs = plt.subplots()\r\n",
        "#axs.plot(df.index, df.PR, 'o-', alpha = 0.5,color='g')\r\n",
        "#axs.set_ylabel('PR (%)');\r\n",
        "#axs.set_xlabel('Month')\r\n",
        "\r\n",
        "resolution = 3\r\n",
        "s=sm.tsa.seasonal_decompose(df.PR, model = 'multiplicative', freq = 3)\r\n",
        "#s.plot()\r\n",
        "\r\n",
        "trend_df = pd.DataFrame(list(s.trend), columns = ['Trend'])\r\n",
        "trend_df.insert(loc=0, column = 'Month', value=np.arange(len(trend_df)))\r\n",
        "trend_df=trend_df[np.isfinite(trend_df['Trend'])]\r\n",
        "y = trend_df.Trend\r\n",
        "x = trend_df.Month\r\n",
        "x, y = np.array(x), np.array(y)\r\n",
        "\r\n",
        "x = sm.add_constant(x)\r\n",
        "\r\n",
        "#trend_df['Trend'].plot()\r\n",
        "#plt.xlabel('Month')\r\n",
        "#plt.ylabel('PR')\r\n",
        "#plt.title('Decomposed Trend for Bedford PV-2 JAN-APR')\r\n",
        "\r\n",
        "model = sm.OLS(y,x)\r\n",
        "results = model.fit()\r\n",
        "#results.summary()\r\n",
        "\r\n",
        "#confidence level 95%\r\n",
        "intercept, slope = results.params\r\n",
        "CI_abs = resolution*results.conf_int(alpha = 0.05)[1]\r\n",
        "CIL_abs = CI_abs[1]\r\n",
        "CIH_abs = CI_abs[0]\r\n",
        "round(CIL_abs,2),round(CIH_abs,2)\r\n",
        "\r\n",
        "DR_abs = round(resolution*slope, 2)\r\n",
        "\r\n",
        "\r\n",
        "sns.regplot(y = trend_df['Trend'], x = trend_df['Month'], data = df, color='g')\r\n",
        "plt.ylabel(\"PR(%)\")\r\n",
        "plt.xlabel(\"Month\")\r\n",
        "plt.ylim(65,100)\r\n",
        "plt.xlim(0, 17)\r\n",
        "plt.title(\"JAN-MARCH:Degradation Rate for Northampton PV-2\")\r\n",
        "plt.grid(True)\r\n",
        "plt.show()\r\n",
        "\r\n",
        "print('Absolute degredation value', DR_abs)\r\n",
        "print('Lower boundary degredation value', CIL_abs)\r\n",
        "print('Upper boundary degredation value', CIH_abs)"
      ],
      "execution_count": 3,
      "outputs": [
        {
          "output_type": "display_data",
          "data": {
            "image/png": "[encoded data removed]",
            "text/plain": [
              "<Figure size 432x288 with 1 Axes>"
            ]
          },
          "metadata": {
            "tags": [],
            "needs_background": "light"
          }
        },
        {
          "output_type": "stream",
          "text": [
            "Absolute degredation value -0.55\n",
            "Lower boundary degredation value -0.37679594696651014\n",
            "Upper boundary degredation value -0.7173217000923229\n"
          ],
          "name": "stdout"
        }
      ]
    },
    {
      "cell_type": "markdown",
      "metadata": {
        "id": "UEy9A372837b"
      },
      "source": [
        "# Northampton PV-03 JAN-MAR"
      ]
    },
    {
      "cell_type": "code",
      "metadata": {
        "colab": {
          "base_uri": "https://localhost:8080/",
          "height": 342
        },
        "id": "NlD3u1-I8ze3",
        "outputId": "12113c2e-6526-43a6-be82-3b6563b5b76a"
      },
      "source": [
        "Leicester_3 = pd.read_csv('/content/drive/MyDrive/PHD/Data/Northampton3.csv')\r\n",
        "\r\n",
        "df = Leicester_3[(Leicester_3['Unnamed: 1']>0) & (Leicester_3['Unnamed: 1']<4)]\r\n",
        "\r\n",
        "#df['PR'].plot()\r\n",
        "#plt.xlabel('Month')\r\n",
        "#plt.ylabel('PR')\r\n",
        "#plt.title('Monthly PR 2015-2020')\r\n",
        "\r\n",
        "#fig, axs = plt.subplots()\r\n",
        "#axs.plot(df.index, df.PR, 'o-', alpha = 0.5,color='g')\r\n",
        "#axs.set_ylabel('PR (%)');\r\n",
        "#axs.set_xlabel('Month')\r\n",
        "\r\n",
        "resolution = 3\r\n",
        "s=sm.tsa.seasonal_decompose(df.PR, model = 'multiplicative', freq = 3)\r\n",
        "#s.plot()\r\n",
        "\r\n",
        "trend_df = pd.DataFrame(list(s.trend), columns = ['Trend'])\r\n",
        "trend_df.insert(loc=0, column = 'Month', value=np.arange(len(trend_df)))\r\n",
        "trend_df=trend_df[np.isfinite(trend_df['Trend'])]\r\n",
        "y = trend_df.Trend\r\n",
        "x = trend_df.Month\r\n",
        "x, y = np.array(x), np.array(y)\r\n",
        "\r\n",
        "x = sm.add_constant(x)\r\n",
        "\r\n",
        "#trend_df['Trend'].plot()\r\n",
        "#plt.xlabel('Month')\r\n",
        "#plt.ylabel('PR')\r\n",
        "#plt.title('Decomposed Trend for Milton PV-2 JAN-APR')\r\n",
        "\r\n",
        "model = sm.OLS(y,x)\r\n",
        "results = model.fit()\r\n",
        "#results.summary()\r\n",
        "\r\n",
        "#confidence level 95%\r\n",
        "intercept, slope = results.params\r\n",
        "CI_abs = resolution*results.conf_int(alpha = 0.05)[1]\r\n",
        "CIL_abs = CI_abs[1]\r\n",
        "CIH_abs = CI_abs[0]\r\n",
        "round(CIL_abs,2),round(CIH_abs,2)\r\n",
        "\r\n",
        "DR_abs = round(resolution*slope, 2)\r\n",
        "\r\n",
        "\r\n",
        "sns.regplot(y = trend_df['Trend'], x = trend_df['Month'], data = df, color='g')\r\n",
        "plt.ylabel(\"PR(%)\")\r\n",
        "plt.xlabel(\"Month\")\r\n",
        "plt.ylim(65,100)\r\n",
        "plt.xlim(0, 17)\r\n",
        "plt.title(\"JAN-MARCH:Degradation Rate for Northampton PV-3\")\r\n",
        "plt.grid(True)\r\n",
        "plt.show()\r\n",
        "\r\n",
        "print('Absolute degredation value', DR_abs)\r\n",
        "print('Lower boundary degredation value', CIL_abs)\r\n",
        "print('Upper boundary degredation value', CIH_abs)"
      ],
      "execution_count": 4,
      "outputs": [
        {
          "output_type": "display_data",
          "data": {
            "image/png": "[encoded data removed]",
            "text/plain": [
              "<Figure size 432x288 with 1 Axes>"
            ]
          },
          "metadata": {
            "tags": [],
            "needs_background": "light"
          }
        },
        {
          "output_type": "stream",
          "text": [
            "Absolute degredation value -0.69\n",
            "Lower boundary degredation value -0.5209618599894621\n",
            "Upper boundary degredation value -0.8555087282458405\n"
          ],
          "name": "stdout"
        }
      ]
    },
    {
      "cell_type": "markdown",
      "metadata": {
        "id": "yZCmtmQXHCJV"
      },
      "source": [
        "## Avg degredation for Northampton between JAN-March is -0.44%"
      ]
    },
    {
      "cell_type": "markdown",
      "metadata": {
        "id": "8RlvM1bi9JXO"
      },
      "source": [
        "# Northampton PV-01 APR-JUN"
      ]
    },
    {
      "cell_type": "code",
      "metadata": {
        "colab": {
          "base_uri": "https://localhost:8080/",
          "height": 342
        },
        "id": "30MNvrsg9Bmb",
        "outputId": "d9dec035-d4d8-4736-fe2d-39e6feffea92"
      },
      "source": [
        "Leicester_1 = pd.read_csv('/content/drive/MyDrive/PHD/Data/Northampton1.csv')\r\n",
        "\r\n",
        "df = Leicester_1[(Leicester_1['Unnamed: 1']>3) & (Leicester_1['Unnamed: 1']<7)]\r\n",
        "\r\n",
        "#df['PR'].plot()\r\n",
        "#plt.xlabel('Month')\r\n",
        "#plt.ylabel('PR')\r\n",
        "#plt.title('Monthly PR 2015-2020')\r\n",
        "\r\n",
        "#fig, axs = plt.subplots()\r\n",
        "#axs.plot(df.index, df.PR, 'o-', alpha = 0.5,color='g')\r\n",
        "#axs.set_ylabel('PR (%)');\r\n",
        "#axs.set_xlabel('Month')\r\n",
        "\r\n",
        "resolution = 3\r\n",
        "s=sm.tsa.seasonal_decompose(df.PR, model = 'multiplicative', freq = 3)\r\n",
        "#s.plot()\r\n",
        "\r\n",
        "trend_df = pd.DataFrame(list(s.trend), columns = ['Trend'])\r\n",
        "trend_df.insert(loc=0, column = 'Month', value=np.arange(len(trend_df)))\r\n",
        "trend_df=trend_df[np.isfinite(trend_df['Trend'])]\r\n",
        "y = trend_df.Trend\r\n",
        "x = trend_df.Month\r\n",
        "x, y = np.array(x), np.array(y)\r\n",
        "\r\n",
        "x = sm.add_constant(x)\r\n",
        "\r\n",
        "#trend_df['Trend'].plot()\r\n",
        "#plt.xlabel('Month')\r\n",
        "#plt.ylabel('PR')\r\n",
        "#plt.title('Decomposed Trend for Bedford PV-2 JAN-APR')\r\n",
        "\r\n",
        "model = sm.OLS(y,x)\r\n",
        "results = model.fit()\r\n",
        "#results.summary()\r\n",
        "\r\n",
        "#confidence level 95%\r\n",
        "intercept, slope = results.params\r\n",
        "CI_abs = resolution*results.conf_int(alpha = 0.05)[1]\r\n",
        "CIL_abs = CI_abs[1]\r\n",
        "CIH_abs = CI_abs[0]\r\n",
        "round(CIL_abs,2),round(CIH_abs,2)\r\n",
        "\r\n",
        "DR_abs = round(resolution*slope, 2)\r\n",
        "\r\n",
        "\r\n",
        "sns.regplot(y = trend_df['Trend'], x = trend_df['Month'], data = df, color='g')\r\n",
        "plt.ylabel(\"PR(%)\")\r\n",
        "plt.xlabel(\"Month\")\r\n",
        "plt.ylim(65,100)\r\n",
        "plt.xlim(0, 17)\r\n",
        "plt.title(\"APR-JUN:Degradation Rate for Northampton PV-1\")\r\n",
        "plt.grid(True)\r\n",
        "plt.show()\r\n",
        "\r\n",
        "print('Absolute degredation value', DR_abs)\r\n",
        "print('Lower boundary degredation value', CIL_abs)\r\n",
        "print('Upper boundary degredation value', CIH_abs)"
      ],
      "execution_count": 5,
      "outputs": [
        {
          "output_type": "display_data",
          "data": {
            "image/png": "[encoded data removed]",
            "text/plain": [
              "<Figure size 432x288 with 1 Axes>"
            ]
          },
          "metadata": {
            "tags": [],
            "needs_background": "light"
          }
        },
        {
          "output_type": "stream",
          "text": [
            "Absolute degredation value -0.09\n",
            "Lower boundary degredation value 0.1844240827706478\n",
            "Upper boundary degredation value -0.35501231806477285\n"
          ],
          "name": "stdout"
        }
      ]
    },
    {
      "cell_type": "markdown",
      "metadata": {
        "id": "oWXgOhq_9-uU"
      },
      "source": [
        "# Northampton PV-02 APR-JUN"
      ]
    },
    {
      "cell_type": "code",
      "metadata": {
        "colab": {
          "base_uri": "https://localhost:8080/",
          "height": 342
        },
        "id": "E_xzQn9g92tj",
        "outputId": "efb4a402-c18d-4bda-e299-de88ab8d1620"
      },
      "source": [
        "Leicester_2 = pd.read_csv('/content/drive/MyDrive/PHD/Data/Northampton2.csv')\r\n",
        "\r\n",
        "df = Leicester_2[(Leicester_2['Unnamed: 1']>3) & (Leicester_2['Unnamed: 1']<7)]\r\n",
        "\r\n",
        "#df['PR'].plot()\r\n",
        "#plt.xlabel('Month')\r\n",
        "#plt.ylabel('PR')\r\n",
        "#plt.title('Monthly PR 2015-2020')\r\n",
        "\r\n",
        "#fig, axs = plt.subplots()\r\n",
        "#axs.plot(df.index, df.PR, 'o-', alpha = 0.5,color='g')\r\n",
        "#axs.set_ylabel('PR (%)');\r\n",
        "#axs.set_xlabel('Month')\r\n",
        "\r\n",
        "resolution = 3\r\n",
        "s=sm.tsa.seasonal_decompose(df.PR, model = 'multiplicative', freq = 3)\r\n",
        "#s.plot()\r\n",
        "\r\n",
        "trend_df = pd.DataFrame(list(s.trend), columns = ['Trend'])\r\n",
        "trend_df.insert(loc=0, column = 'Month', value=np.arange(len(trend_df)))\r\n",
        "trend_df=trend_df[np.isfinite(trend_df['Trend'])]\r\n",
        "y = trend_df.Trend\r\n",
        "x = trend_df.Month\r\n",
        "x, y = np.array(x), np.array(y)\r\n",
        "\r\n",
        "x = sm.add_constant(x)\r\n",
        "\r\n",
        "#trend_df['Trend'].plot()\r\n",
        "#plt.xlabel('Month')\r\n",
        "#plt.ylabel('PR')\r\n",
        "#plt.title('Decomposed Trend for Bedford PV-2 JAN-APR')\r\n",
        "\r\n",
        "model = sm.OLS(y,x)\r\n",
        "results = model.fit()\r\n",
        "#results.summary()\r\n",
        "\r\n",
        "#confidence level 95%\r\n",
        "intercept, slope = results.params\r\n",
        "CI_abs = resolution*results.conf_int(alpha = 0.05)[1]\r\n",
        "CIL_abs = CI_abs[1]\r\n",
        "CIH_abs = CI_abs[0]\r\n",
        "round(CIL_abs,2),round(CIH_abs,2)\r\n",
        "\r\n",
        "DR_abs = round(resolution*slope, 2)\r\n",
        "\r\n",
        "\r\n",
        "sns.regplot(y = trend_df['Trend'], x = trend_df['Month'], data = df, color='g')\r\n",
        "plt.ylabel(\"PR(%)\")\r\n",
        "plt.xlabel(\"Month\")\r\n",
        "plt.ylim(65,100)\r\n",
        "plt.xlim(0, 17)\r\n",
        "plt.title(\"APR-JUN:Degradation Rate for Northampton PV-2\")\r\n",
        "plt.grid(True)\r\n",
        "plt.show()\r\n",
        "\r\n",
        "print('Absolute degredation value', DR_abs)\r\n",
        "print('Lower boundary degredation value', CIL_abs)\r\n",
        "print('Upper boundary degredation value', CIH_abs)"
      ],
      "execution_count": 6,
      "outputs": [
        {
          "output_type": "display_data",
          "data": {
            "image/png": "[encoded data removed]",
            "text/plain": [
              "<Figure size 432x288 with 1 Axes>"
            ]
          },
          "metadata": {
            "tags": [],
            "needs_background": "light"
          }
        },
        {
          "output_type": "stream",
          "text": [
            "Absolute degredation value -0.49\n",
            "Lower boundary degredation value -0.24602896024027993\n",
            "Upper boundary degredation value -0.7304416279950281\n"
          ],
          "name": "stdout"
        }
      ]
    },
    {
      "cell_type": "markdown",
      "metadata": {
        "id": "WtMmTH4j-JfU"
      },
      "source": [
        "# Northampton PV-03 APR-JUN"
      ]
    },
    {
      "cell_type": "code",
      "metadata": {
        "colab": {
          "base_uri": "https://localhost:8080/",
          "height": 342
        },
        "id": "ui8JzDPh-GAL",
        "outputId": "8f4d5984-a997-4bab-8b4e-08b3e893562f"
      },
      "source": [
        "Leicester_3 = pd.read_csv('/content/drive/MyDrive/PHD/Data/Northampton3.csv')\r\n",
        "\r\n",
        "df = Leicester_3[(Leicester_3['Unnamed: 1']>3) & (Leicester_3['Unnamed: 1']<7)]\r\n",
        "\r\n",
        "#df['PR'].plot()\r\n",
        "#plt.xlabel('Month')\r\n",
        "#plt.ylabel('PR')\r\n",
        "#plt.title('Monthly PR 2015-2020')\r\n",
        "\r\n",
        "#fig, axs = plt.subplots()\r\n",
        "#axs.plot(df.index, df.PR, 'o-', alpha = 0.5,color='g')\r\n",
        "#axs.set_ylabel('PR (%)');\r\n",
        "#axs.set_xlabel('Month')\r\n",
        "\r\n",
        "resolution = 3\r\n",
        "s=sm.tsa.seasonal_decompose(df.PR, model = 'multiplicative', freq = 3)\r\n",
        "#s.plot()\r\n",
        "\r\n",
        "trend_df = pd.DataFrame(list(s.trend), columns = ['Trend'])\r\n",
        "trend_df.insert(loc=0, column = 'Month', value=np.arange(len(trend_df)))\r\n",
        "trend_df=trend_df[np.isfinite(trend_df['Trend'])]\r\n",
        "y = trend_df.Trend\r\n",
        "x = trend_df.Month\r\n",
        "x, y = np.array(x), np.array(y)\r\n",
        "\r\n",
        "x = sm.add_constant(x)\r\n",
        "\r\n",
        "#trend_df['Trend'].plot()\r\n",
        "#plt.xlabel('Month')\r\n",
        "#plt.ylabel('PR')\r\n",
        "#plt.title('Decomposed Trend for Milton PV-2 JAN-APR')\r\n",
        "\r\n",
        "model = sm.OLS(y,x)\r\n",
        "results = model.fit()\r\n",
        "#results.summary()\r\n",
        "\r\n",
        "#confidence level 95%\r\n",
        "intercept, slope = results.params\r\n",
        "CI_abs = resolution*results.conf_int(alpha = 0.05)[1]\r\n",
        "CIL_abs = CI_abs[1]\r\n",
        "CIH_abs = CI_abs[0]\r\n",
        "round(CIL_abs,2),round(CIH_abs,2)\r\n",
        "\r\n",
        "DR_abs = round(resolution*slope, 2)\r\n",
        "\r\n",
        "\r\n",
        "sns.regplot(y = trend_df['Trend'], x = trend_df['Month'], data = df, color='g')\r\n",
        "plt.ylabel(\"PR(%)\")\r\n",
        "plt.xlabel(\"Month\")\r\n",
        "plt.ylim(65,100)\r\n",
        "plt.xlim(0, 17)\r\n",
        "plt.title(\"APR-JUN:Degradation Rate for Northampton PV-03\")\r\n",
        "plt.grid(True)\r\n",
        "plt.show()\r\n",
        "\r\n",
        "print('Absolute degredation value', DR_abs)\r\n",
        "print('Lower boundary degredation value', CIL_abs)\r\n",
        "print('Upper boundary degredation value', CIH_abs)"
      ],
      "execution_count": 7,
      "outputs": [
        {
          "output_type": "display_data",
          "data": {
            "image/png": "[encoded data removed]",
            "text/plain": [
              "<Figure size 432x288 with 1 Axes>"
            ]
          },
          "metadata": {
            "tags": [],
            "needs_background": "light"
          }
        },
        {
          "output_type": "stream",
          "text": [
            "Absolute degredation value -0.51\n",
            "Lower boundary degredation value -0.24427202445643054\n",
            "Upper boundary degredation value -0.7851397402494589\n"
          ],
          "name": "stdout"
        }
      ]
    },
    {
      "cell_type": "markdown",
      "metadata": {
        "id": "a6wvGuOWHkPB"
      },
      "source": [
        "## Avg degredation for Northampton between Apr-Jun is -0.75%"
      ]
    },
    {
      "cell_type": "markdown",
      "metadata": {
        "id": "GyUnFvWd_eq_"
      },
      "source": [
        "# Northampton PV-01 JUL-SEPT"
      ]
    },
    {
      "cell_type": "code",
      "metadata": {
        "colab": {
          "base_uri": "https://localhost:8080/",
          "height": 342
        },
        "id": "nJjhwmeY-RiS",
        "outputId": "862d0934-6f98-48f0-d43c-e283054ef063"
      },
      "source": [
        "Leicester_1 = pd.read_csv('/content/drive/MyDrive/PHD/Data/Northampton1.csv')\r\n",
        "\r\n",
        "df = Leicester_1[(Leicester_1['Unnamed: 1']>6) & (Leicester_1['Unnamed: 1']<10)]\r\n",
        "\r\n",
        "#df['PR'].plot()\r\n",
        "#plt.xlabel('Month')\r\n",
        "#plt.ylabel('PR')\r\n",
        "#plt.title('Monthly PR 2015-2020')\r\n",
        "\r\n",
        "#fig, axs = plt.subplots()\r\n",
        "#axs.plot(df.index, df.PR, 'o-', alpha = 0.5,color='g')\r\n",
        "#axs.set_ylabel('PR (%)');\r\n",
        "#axs.set_xlabel('Month')\r\n",
        "\r\n",
        "resolution = 3\r\n",
        "s=sm.tsa.seasonal_decompose(df.PR, model = 'multiplicative', freq = 3)\r\n",
        "#s.plot()\r\n",
        "\r\n",
        "trend_df = pd.DataFrame(list(s.trend), columns = ['Trend'])\r\n",
        "trend_df.insert(loc=0, column = 'Month', value=np.arange(len(trend_df)))\r\n",
        "trend_df=trend_df[np.isfinite(trend_df['Trend'])]\r\n",
        "y = trend_df.Trend\r\n",
        "x = trend_df.Month\r\n",
        "x, y = np.array(x), np.array(y)\r\n",
        "\r\n",
        "x = sm.add_constant(x)\r\n",
        "\r\n",
        "#trend_df['Trend'].plot()\r\n",
        "#plt.xlabel('Month')\r\n",
        "#plt.ylabel('PR')\r\n",
        "#plt.title('Decomposed Trend for Bedford PV-2 JAN-APR')\r\n",
        "\r\n",
        "model = sm.OLS(y,x)\r\n",
        "results = model.fit()\r\n",
        "#results.summary()\r\n",
        "\r\n",
        "#confidence level 95%\r\n",
        "intercept, slope = results.params\r\n",
        "CI_abs = resolution*results.conf_int(alpha = 0.05)[1]\r\n",
        "CIL_abs = CI_abs[1]\r\n",
        "CIH_abs = CI_abs[0]\r\n",
        "round(CIL_abs,2),round(CIH_abs,2)\r\n",
        "\r\n",
        "DR_abs = round(resolution*slope, 2)\r\n",
        "\r\n",
        "\r\n",
        "sns.regplot(y = trend_df['Trend'], x = trend_df['Month'], data = df, color='g')\r\n",
        "plt.ylabel(\"PR(%)\")\r\n",
        "plt.xlabel(\"Month\")\r\n",
        "plt.ylim(65,100)\r\n",
        "plt.xlim(0, 17)\r\n",
        "plt.title(\"JUL-SEPT:Degradation Rate for Northampton PV-1\")\r\n",
        "plt.grid(True)\r\n",
        "plt.show()\r\n",
        "\r\n",
        "print('Absolute degredation value', DR_abs)\r\n",
        "print('Lower boundary degredation value', CIL_abs)\r\n",
        "print('Upper boundary degredation value', CIH_abs)"
      ],
      "execution_count": 8,
      "outputs": [
        {
          "output_type": "display_data",
          "data": {
            "image/png": "[encoded data removed]",
            "text/plain": [
              "<Figure size 432x288 with 1 Axes>"
            ]
          },
          "metadata": {
            "tags": [],
            "needs_background": "light"
          }
        },
        {
          "output_type": "stream",
          "text": [
            "Absolute degredation value -0.66\n",
            "Lower boundary degredation value -0.12076562542711339\n",
            "Upper boundary degredation value -1.2027637863376117\n"
          ],
          "name": "stdout"
        }
      ]
    },
    {
      "cell_type": "markdown",
      "metadata": {
        "id": "_bVB0eZEAIj3"
      },
      "source": [
        "# Northampton PV-02 JUL-SEPT"
      ]
    },
    {
      "cell_type": "code",
      "metadata": {
        "colab": {
          "base_uri": "https://localhost:8080/",
          "height": 342
        },
        "id": "5A4gFgJsABH9",
        "outputId": "d68ba597-cb4e-40b5-93d1-6f6ae36af37e"
      },
      "source": [
        "Leicester_2 = pd.read_csv('/content/drive/MyDrive/PHD/Data/Northampton2.csv')\r\n",
        "\r\n",
        "df = Leicester_2[(Leicester_2['Unnamed: 1']>6) & (Leicester_2['Unnamed: 1']<10)]\r\n",
        "\r\n",
        "#df['PR'].plot()\r\n",
        "#plt.xlabel('Month')\r\n",
        "#plt.ylabel('PR')\r\n",
        "#plt.title('Monthly PR 2015-2020')\r\n",
        "\r\n",
        "#fig, axs = plt.subplots()\r\n",
        "#axs.plot(df.index, df.PR, 'o-', alpha = 0.5,color='g')\r\n",
        "#axs.set_ylabel('PR (%)');\r\n",
        "#axs.set_xlabel('Month')\r\n",
        "\r\n",
        "resolution = 3\r\n",
        "s=sm.tsa.seasonal_decompose(df.PR, model = 'multiplicative', freq = 3)\r\n",
        "#s.plot()\r\n",
        "\r\n",
        "trend_df = pd.DataFrame(list(s.trend), columns = ['Trend'])\r\n",
        "trend_df.insert(loc=0, column = 'Month', value=np.arange(len(trend_df)))\r\n",
        "trend_df=trend_df[np.isfinite(trend_df['Trend'])]\r\n",
        "y = trend_df.Trend\r\n",
        "x = trend_df.Month\r\n",
        "x, y = np.array(x), np.array(y)\r\n",
        "\r\n",
        "x = sm.add_constant(x)\r\n",
        "\r\n",
        "#trend_df['Trend'].plot()\r\n",
        "#plt.xlabel('Month')\r\n",
        "#plt.ylabel('PR')\r\n",
        "#plt.title('Decomposed Trend for Milton PV-2 JAN-APR')\r\n",
        "\r\n",
        "model = sm.OLS(y,x)\r\n",
        "results = model.fit()\r\n",
        "#results.summary()\r\n",
        "\r\n",
        "#confidence level 95%\r\n",
        "intercept, slope = results.params\r\n",
        "CI_abs = resolution*results.conf_int(alpha = 0.05)[1]\r\n",
        "CIL_abs = CI_abs[1]\r\n",
        "CIH_abs = CI_abs[0]\r\n",
        "round(CIL_abs,2),round(CIH_abs,2)\r\n",
        "\r\n",
        "DR_abs = round(resolution*slope, 2)\r\n",
        "\r\n",
        "\r\n",
        "sns.regplot(y = trend_df['Trend'], x = trend_df['Month'], data = df, color='g')\r\n",
        "plt.ylabel(\"PR(%)\")\r\n",
        "plt.xlabel(\"Month\")\r\n",
        "plt.ylim(65,100)\r\n",
        "plt.xlim(0, 17)\r\n",
        "plt.title(\"JUL-SEPT:Degradation Rate for Northampton PV-2\")\r\n",
        "plt.grid(True)\r\n",
        "plt.show()\r\n",
        "\r\n",
        "print('Absolute degredation value', DR_abs)\r\n",
        "print('Lower boundary degredation value', CIL_abs)\r\n",
        "print('Upper boundary degredation value', CIH_abs)"
      ],
      "execution_count": 9,
      "outputs": [
        {
          "output_type": "display_data",
          "data": {
            "image/png": "[encoded data removed]",
            "text/plain": [
              "<Figure size 432x288 with 1 Axes>"
            ]
          },
          "metadata": {
            "tags": [],
            "needs_background": "light"
          }
        },
        {
          "output_type": "stream",
          "text": [
            "Absolute degredation value -1.11\n",
            "Lower boundary degredation value -0.9094219344987594\n",
            "Upper boundary degredation value -1.302342771383603\n"
          ],
          "name": "stdout"
        }
      ]
    },
    {
      "cell_type": "markdown",
      "metadata": {
        "id": "X6kRn5fTAg-9"
      },
      "source": [
        "# Northampton PV-03 JUL-SEPT"
      ]
    },
    {
      "cell_type": "code",
      "metadata": {
        "colab": {
          "base_uri": "https://localhost:8080/",
          "height": 342
        },
        "id": "Ln73bqLAAXaf",
        "outputId": "31d6ccf7-cad3-45e6-96fd-12c456691d75"
      },
      "source": [
        "Leicester_3 = pd.read_csv('/content/drive/MyDrive/PHD/Data/Northampton3.csv')\r\n",
        "\r\n",
        "df = Leicester_3[(Leicester_3['Unnamed: 1']>6) & (Leicester_3['Unnamed: 1']<10)]\r\n",
        "\r\n",
        "#df['PR'].plot()\r\n",
        "#plt.xlabel('Month')\r\n",
        "#plt.ylabel('PR')\r\n",
        "#plt.title('Monthly PR 2015-2020')\r\n",
        "\r\n",
        "#fig, axs = plt.subplots()\r\n",
        "#axs.plot(df.index, df.PR, 'o-', alpha = 0.5,color='g')\r\n",
        "#axs.set_ylabel('PR (%)');\r\n",
        "#axs.set_xlabel('Month')\r\n",
        "\r\n",
        "resolution = 3\r\n",
        "s=sm.tsa.seasonal_decompose(df.PR, model = 'multiplicative', freq = 3)\r\n",
        "#s.plot()\r\n",
        "\r\n",
        "trend_df = pd.DataFrame(list(s.trend), columns = ['Trend'])\r\n",
        "trend_df.insert(loc=0, column = 'Month', value=np.arange(len(trend_df)))\r\n",
        "trend_df=trend_df[np.isfinite(trend_df['Trend'])]\r\n",
        "y = trend_df.Trend\r\n",
        "x = trend_df.Month\r\n",
        "x, y = np.array(x), np.array(y)\r\n",
        "\r\n",
        "x = sm.add_constant(x)\r\n",
        "\r\n",
        "#trend_df['Trend'].plot()\r\n",
        "#plt.xlabel('Month')\r\n",
        "#plt.ylabel('PR')\r\n",
        "#plt.title('Decomposed Trend for Milton PV-2 JAN-APR')\r\n",
        "\r\n",
        "model = sm.OLS(y,x)\r\n",
        "results = model.fit()\r\n",
        "#results.summary()\r\n",
        "\r\n",
        "#confidence level 95%\r\n",
        "intercept, slope = results.params\r\n",
        "CI_abs = resolution*results.conf_int(alpha = 0.05)[1]\r\n",
        "CIL_abs = CI_abs[1]\r\n",
        "CIH_abs = CI_abs[0]\r\n",
        "round(CIL_abs,2),round(CIH_abs,2)\r\n",
        "\r\n",
        "DR_abs = round(resolution*slope, 2)\r\n",
        "\r\n",
        "\r\n",
        "sns.regplot(y = trend_df['Trend'], x = trend_df['Month'], data = df, color='g')\r\n",
        "plt.ylabel(\"PR(%)\")\r\n",
        "plt.xlabel(\"Month\")\r\n",
        "plt.ylim(65,100)\r\n",
        "plt.xlim(0, 17)\r\n",
        "plt.title(\"JUL-SEPT:Degradation Rate for Northampton PV-3\")\r\n",
        "plt.grid(True)\r\n",
        "plt.show()\r\n",
        "\r\n",
        "print('Absolute degredation value', DR_abs)\r\n",
        "print('Lower boundary degredation value', CIL_abs)\r\n",
        "print('Upper boundary degredation value', CIH_abs)"
      ],
      "execution_count": 10,
      "outputs": [
        {
          "output_type": "display_data",
          "data": {
            "image/png": "[encoded data removed]",
            "text/plain": [
              "<Figure size 432x288 with 1 Axes>"
            ]
          },
          "metadata": {
            "tags": [],
            "needs_background": "light"
          }
        },
        {
          "output_type": "stream",
          "text": [
            "Absolute degredation value -1.19\n",
            "Lower boundary degredation value -0.9184114916697069\n",
            "Upper boundary degredation value -1.466882625977366\n"
          ],
          "name": "stdout"
        }
      ]
    },
    {
      "cell_type": "markdown",
      "metadata": {
        "id": "arfURbN1INK8"
      },
      "source": [
        "## Avg degredation for Northampton between Jul-Sept is -0.99%"
      ]
    },
    {
      "cell_type": "markdown",
      "metadata": {
        "id": "XVgGHX2-BZXT"
      },
      "source": [
        "# Northampton PV-01 OCT-DEC"
      ]
    },
    {
      "cell_type": "code",
      "metadata": {
        "colab": {
          "base_uri": "https://localhost:8080/",
          "height": 342
        },
        "id": "g_nVAtKeAv4I",
        "outputId": "afc8e7af-c2a3-40ae-b898-11e881711db7"
      },
      "source": [
        "Leicester_1 = pd.read_csv('/content/drive/MyDrive/PHD/Data/Northampton1.csv')\r\n",
        "\r\n",
        "df = Leicester_1[(Leicester_1['Unnamed: 1']>9) & (Leicester_1['Unnamed: 1']<13)]\r\n",
        "\r\n",
        "#df['PR'].plot()\r\n",
        "#plt.xlabel('Month')\r\n",
        "#plt.ylabel('PR')\r\n",
        "#plt.title('Monthly PR 2015-2020')\r\n",
        "\r\n",
        "#fig, axs = plt.subplots()\r\n",
        "#axs.plot(df.index, df.PR, 'o-', alpha = 0.5,color='g')\r\n",
        "#axs.set_ylabel('PR (%)');\r\n",
        "#axs.set_xlabel('Month')\r\n",
        "\r\n",
        "resolution = 3\r\n",
        "s=sm.tsa.seasonal_decompose(df.PR, model = 'multiplicative', freq = 3)\r\n",
        "#s.plot()\r\n",
        "\r\n",
        "trend_df = pd.DataFrame(list(s.trend), columns = ['Trend'])\r\n",
        "trend_df.insert(loc=0, column = 'Month', value=np.arange(len(trend_df)))\r\n",
        "trend_df=trend_df[np.isfinite(trend_df['Trend'])]\r\n",
        "y = trend_df.Trend\r\n",
        "x = trend_df.Month\r\n",
        "x, y = np.array(x), np.array(y)\r\n",
        "\r\n",
        "x = sm.add_constant(x)\r\n",
        "\r\n",
        "#trend_df['Trend'].plot()\r\n",
        "#plt.xlabel('Month')\r\n",
        "#plt.ylabel('PR')\r\n",
        "#plt.title('Decomposed Trend for Bedford PV-2 JAN-APR')\r\n",
        "\r\n",
        "model = sm.OLS(y,x)\r\n",
        "results = model.fit()\r\n",
        "#results.summary()\r\n",
        "\r\n",
        "#confidence level 95%\r\n",
        "intercept, slope = results.params\r\n",
        "CI_abs = resolution*results.conf_int(alpha = 0.05)[1]\r\n",
        "CIL_abs = CI_abs[1]\r\n",
        "CIH_abs = CI_abs[0]\r\n",
        "round(CIL_abs,2),round(CIH_abs,2)\r\n",
        "\r\n",
        "DR_abs = round(resolution*slope, 2)\r\n",
        "\r\n",
        "\r\n",
        "sns.regplot(y = trend_df['Trend'], x = trend_df['Month'], data = df, color='g')\r\n",
        "plt.ylabel(\"PR(%)\")\r\n",
        "plt.xlabel(\"Month\")\r\n",
        "plt.ylim(65,100)\r\n",
        "plt.xlim(0, 17)\r\n",
        "plt.title(\"OCT-DEC:Degradation Rate for Northampton PV-1\")\r\n",
        "plt.grid(True)\r\n",
        "plt.show()\r\n",
        "\r\n",
        "print('Absolute degredation value', DR_abs)\r\n",
        "print('Lower boundary degredation value', CIL_abs)\r\n",
        "print('Upper boundary degredation value', CIH_abs)"
      ],
      "execution_count": 11,
      "outputs": [
        {
          "output_type": "display_data",
          "data": {
            "image/png": "[encoded data removed]",
            "text/plain": [
              "<Figure size 432x288 with 1 Axes>"
            ]
          },
          "metadata": {
            "tags": [],
            "needs_background": "light"
          }
        },
        {
          "output_type": "stream",
          "text": [
            "Absolute degredation value -0.67\n",
            "Lower boundary degredation value -0.4377754628423209\n",
            "Upper boundary degredation value -0.9092833606871034\n"
          ],
          "name": "stdout"
        }
      ]
    },
    {
      "cell_type": "markdown",
      "metadata": {
        "id": "OHpOk_KjBz15"
      },
      "source": [
        "# Northampton PV-02 OCT-DEC"
      ]
    },
    {
      "cell_type": "code",
      "metadata": {
        "colab": {
          "base_uri": "https://localhost:8080/",
          "height": 342
        },
        "id": "JBCAicpHBvqd",
        "outputId": "a0802b60-56a9-4f53-9e76-01472517c4ad"
      },
      "source": [
        "Leicester_2 = pd.read_csv('/content/drive/MyDrive/PHD/Data/Northampton2.csv')\r\n",
        "\r\n",
        "df = Leicester_2[(Leicester_2['Unnamed: 1']>9) & (Leicester_2['Unnamed: 1']<13)]\r\n",
        "\r\n",
        "#df['PR'].plot()\r\n",
        "#plt.xlabel('Month')\r\n",
        "#plt.ylabel('PR')\r\n",
        "#plt.title('Monthly PR 2015-2020')\r\n",
        "\r\n",
        "#fig, axs = plt.subplots()\r\n",
        "#axs.plot(df.index, df.PR, 'o-', alpha = 0.5,color='g')\r\n",
        "#axs.set_ylabel('PR (%)');\r\n",
        "#axs.set_xlabel('Month')\r\n",
        "\r\n",
        "resolution = 3\r\n",
        "s=sm.tsa.seasonal_decompose(df.PR, model = 'multiplicative', freq = 3)\r\n",
        "#s.plot()\r\n",
        "\r\n",
        "trend_df = pd.DataFrame(list(s.trend), columns = ['Trend'])\r\n",
        "trend_df.insert(loc=0, column = 'Month', value=np.arange(len(trend_df)))\r\n",
        "trend_df=trend_df[np.isfinite(trend_df['Trend'])]\r\n",
        "y = trend_df.Trend\r\n",
        "x = trend_df.Month\r\n",
        "x, y = np.array(x), np.array(y)\r\n",
        "\r\n",
        "x = sm.add_constant(x)\r\n",
        "\r\n",
        "#trend_df['Trend'].plot()\r\n",
        "#plt.xlabel('Month')\r\n",
        "#plt.ylabel('PR')\r\n",
        "#plt.title('Decomposed Trend for Milton PV-2 JAN-APR')\r\n",
        "\r\n",
        "model = sm.OLS(y,x)\r\n",
        "results = model.fit()\r\n",
        "#results.summary()\r\n",
        "\r\n",
        "#confidence level 95%\r\n",
        "intercept, slope = results.params\r\n",
        "CI_abs = resolution*results.conf_int(alpha = 0.05)[1]\r\n",
        "CIL_abs = CI_abs[1]\r\n",
        "CIH_abs = CI_abs[0]\r\n",
        "round(CIL_abs,2),round(CIH_abs,2)\r\n",
        "\r\n",
        "DR_abs = round(resolution*slope, 2)\r\n",
        "\r\n",
        "\r\n",
        "sns.regplot(y = trend_df['Trend'], x = trend_df['Month'], data = df, color='g')\r\n",
        "plt.ylabel(\"PR(%)\")\r\n",
        "plt.xlabel(\"Month\")\r\n",
        "plt.ylim(65,100)\r\n",
        "plt.xlim(0, 17)\r\n",
        "plt.title(\"OCT-DEC:Degradation Rate for Northampton PV-2\")\r\n",
        "plt.grid(True)\r\n",
        "plt.show()\r\n",
        "\r\n",
        "print('Absolute degredation value', DR_abs)\r\n",
        "print('Lower boundary degredation value', CIL_abs)\r\n",
        "print('Upper boundary degredation value', CIH_abs)"
      ],
      "execution_count": 12,
      "outputs": [
        {
          "output_type": "display_data",
          "data": {
            "image/png": "[encoded data removed]",
            "text/plain": [
              "<Figure size 432x288 with 1 Axes>"
            ]
          },
          "metadata": {
            "tags": [],
            "needs_background": "light"
          }
        },
        {
          "output_type": "stream",
          "text": [
            "Absolute degredation value -0.41\n",
            "Lower boundary degredation value -0.29734267419433763\n",
            "Upper boundary degredation value -0.5232455610997917\n"
          ],
          "name": "stdout"
        }
      ]
    },
    {
      "cell_type": "markdown",
      "metadata": {
        "id": "2Q4a05bKCHEY"
      },
      "source": [
        "# Northampton PV-03 OCT-DEC"
      ]
    },
    {
      "cell_type": "code",
      "metadata": {
        "colab": {
          "base_uri": "https://localhost:8080/",
          "height": 342
        },
        "id": "3aeNvB7tCCk_",
        "outputId": "aed9bc63-b129-4e0f-8570-1e6b5799cb69"
      },
      "source": [
        "Leicester_3 = pd.read_csv('/content/drive/MyDrive/PHD/Data/Northampton3.csv')\r\n",
        "\r\n",
        "df = Leicester_3[(Leicester_3['Unnamed: 1']>9) & (Leicester_3['Unnamed: 1']<13)]\r\n",
        "\r\n",
        "#df['PR'].plot()\r\n",
        "#plt.xlabel('Month')\r\n",
        "#plt.ylabel('PR')\r\n",
        "#plt.title('Monthly PR 2015-2020')\r\n",
        "\r\n",
        "#fig, axs = plt.subplots()\r\n",
        "#axs.plot(df.index, df.PR, 'o-', alpha = 0.5,color='g')\r\n",
        "#axs.set_ylabel('PR (%)');\r\n",
        "#axs.set_xlabel('Month')\r\n",
        "\r\n",
        "resolution = 3\r\n",
        "s=sm.tsa.seasonal_decompose(df.PR, model = 'multiplicative', freq = 3)\r\n",
        "#s.plot()\r\n",
        "\r\n",
        "trend_df = pd.DataFrame(list(s.trend), columns = ['Trend'])\r\n",
        "trend_df.insert(loc=0, column = 'Month', value=np.arange(len(trend_df)))\r\n",
        "trend_df=trend_df[np.isfinite(trend_df['Trend'])]\r\n",
        "y = trend_df.Trend\r\n",
        "x = trend_df.Month\r\n",
        "x, y = np.array(x), np.array(y)\r\n",
        "\r\n",
        "x = sm.add_constant(x)\r\n",
        "\r\n",
        "#trend_df['Trend'].plot()\r\n",
        "#plt.xlabel('Month')\r\n",
        "#plt.ylabel('PR')\r\n",
        "#plt.title('Decomposed Trend for Milton PV-2 JAN-APR')\r\n",
        "\r\n",
        "model = sm.OLS(y,x)\r\n",
        "results = model.fit()\r\n",
        "#results.summary()\r\n",
        "\r\n",
        "#confidence level 95%\r\n",
        "intercept, slope = results.params\r\n",
        "CI_abs = resolution*results.conf_int(alpha = 0.05)[1]\r\n",
        "CIL_abs = CI_abs[1]\r\n",
        "CIH_abs = CI_abs[0]\r\n",
        "round(CIL_abs,2),round(CIH_abs,2)\r\n",
        "\r\n",
        "DR_abs = round(resolution*slope, 2)\r\n",
        "\r\n",
        "\r\n",
        "sns.regplot(y = trend_df['Trend'], x = trend_df['Month'], data = df, color='g')\r\n",
        "plt.ylabel(\"PR(%)\")\r\n",
        "plt.xlabel(\"Month\")\r\n",
        "plt.ylim(65,100)\r\n",
        "plt.xlim(0, 17)\r\n",
        "plt.title(\"OCT-DEC:Degradation Rate for Northampton PV-3\")\r\n",
        "plt.grid(True)\r\n",
        "plt.show()\r\n",
        "\r\n",
        "print('Absolute degredation value', DR_abs)\r\n",
        "print('Lower boundary degredation value', CIL_abs)\r\n",
        "print('Upper boundary degredation value', CIH_abs)"
      ],
      "execution_count": 13,
      "outputs": [
        {
          "output_type": "display_data",
          "data": {
            "image/png": "[encoded data removed]",
            "text/plain": [
              "<Figure size 432x288 with 1 Axes>"
            ]
          },
          "metadata": {
            "tags": [],
            "needs_background": "light"
          }
        },
        {
          "output_type": "stream",
          "text": [
            "Absolute degredation value -0.45\n",
            "Lower boundary degredation value -0.20565800865037426\n",
            "Upper boundary degredation value -0.6914008148790424\n"
          ],
          "name": "stdout"
        }
      ]
    },
    {
      "cell_type": "markdown",
      "metadata": {
        "id": "pmRSWIpyJB24"
      },
      "source": [
        "## Avg degredation for Northampton between Oct-Dec is -0.51%"
      ]
    },
    {
      "cell_type": "code",
      "metadata": {
        "id": "FTLiOWQwCTus"
      },
      "source": [
        "# https://www.carboncommentary.com/blog/2019/12/6/how-fast-do-solar-panels-degrade-evidence-from-a-single-house-over-15-years"
      ],
      "execution_count": null,
      "outputs": []
    },
    {
      "cell_type": "code",
      "metadata": {
        "id": "IyVZkOtSFOuU"
      },
      "source": [
        ""
      ],
      "execution_count": null,
      "outputs": []
    }
  ]
}