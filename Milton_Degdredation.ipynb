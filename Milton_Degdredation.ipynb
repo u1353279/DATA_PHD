{
  "nbformat": 4,
  "nbformat_minor": 0,
  "metadata": {
    "colab": {
      "name": "Milton_Degdredation.ipynb",
      "provenance": [],
      "collapsed_sections": [],
      "toc_visible": true,
      "mount_file_id": "1yiWs_1iI6L4H8XQsaEfqaGaEEbbOq0iC",
      "authorship_tag": "ABX9TyMGt1jxw6DeaAR5Jjrkq6XW",
      "include_colab_link": true
    },
    "kernelspec": {
      "name": "python3",
      "display_name": "Python 3"
    }
  },
  "cells": [
    {
      "cell_type": "markdown",
      "metadata": {
        "id": "view-in-github",
        "colab_type": "text"
      },
      "source": [
        "<a href=\"https://colab.research.google.com/github/u1353279/DATA_PHD/blob/main/Milton_Degdredation.ipynb\" target=\"_parent\"><img src=\"https://colab.research.google.com/assets/colab-badge.svg\" alt=\"Open In Colab\"/></a>"
      ]
    },
    {
      "cell_type": "code",
      "metadata": {
        "id": "m_QZ8Eby4egm",
        "colab": {
          "base_uri": "https://localhost:8080/"
        },
        "outputId": "5a3e0d42-61f2-41f4-c60e-b39749f46d17"
      },
      "source": [
        "import pandas as pd\r\n",
        "import numpy as np\r\n",
        "import seaborn as sns\r\n",
        "import statsmodels.api as sm\r\n",
        "from matplotlib import pyplot as plt\r\n",
        "from pandas.plotting import register_matplotlib_converters\r\n",
        "register_matplotlib_converters()\r\n",
        "\r\n",
        "# settings\r\n",
        "plt.style.use('seaborn')\r\n",
        "plt.rcParams[\"figure.figsize\"] = (9, 9)"
      ],
      "execution_count": 1,
      "outputs": [
        {
          "output_type": "stream",
          "text": [
            "/usr/local/lib/python3.6/dist-packages/statsmodels/tools/_testing.py:19: FutureWarning: pandas.util.testing is deprecated. Use the functions in the public API at pandas.testing instead.\n",
            "  import pandas.util.testing as tm\n"
          ],
          "name": "stderr"
        }
      ]
    },
    {
      "cell_type": "markdown",
      "metadata": {
        "id": "qaJSManIBBWM"
      },
      "source": [
        "#Degredation Analysis for Milton PV-01"
      ]
    },
    {
      "cell_type": "code",
      "metadata": {
        "id": "BcUC60yr5ZJ9"
      },
      "source": [
        "milton_1 = pd.read_csv('/content/drive/MyDrive/PHD/Data/Milton1.csv')"
      ],
      "execution_count": 2,
      "outputs": []
    },
    {
      "cell_type": "code",
      "metadata": {
        "colab": {
          "base_uri": "https://localhost:8080/",
          "height": 279
        },
        "id": "7Rh6K84M8o9g",
        "outputId": "bd57d110-295b-4493-c7b8-bd4a44477bf5"
      },
      "source": [
        "fig, axs = plt.subplots()\r\n",
        "axs.plot(milton_1.index, milton_1.PR, 'o-', alpha = 0.5,color='g')\r\n",
        "axs.set_ylabel('PR (%)');\r\n",
        "axs.set_xlabel('Month')\r\n",
        "\r\n",
        "resolution = 12\r\n",
        "s=sm.tsa.seasonal_decompose(milton_1.PR, model = 'multiplicative', freq = resolution)\r\n",
        "#s.plot()"
      ],
      "execution_count": 3,
      "outputs": [
        {
          "output_type": "display_data",
          "data": {
            "image/png": "[encoded data removed]",
            "text/plain": [
              "<Figure size 432x288 with 1 Axes>"
            ]
          },
          "metadata": {
            "tags": [],
            "needs_background": "light"
          }
        }
      ]
    },
    {
      "cell_type": "code",
      "metadata": {
        "id": "75MiH3g681sW"
      },
      "source": [
        "trend_df = pd.DataFrame(list(s.trend), columns = ['Trend'])\r\n",
        "trend_df.insert(loc=0, column = 'Month', value=np.arange(len(trend_df)))\r\n",
        "trend_df=trend_df[np.isfinite(trend_df['Trend'])]\r\n",
        "y = trend_df.Trend\r\n",
        "x = trend_df.Month\r\n",
        "x, y = np.array(x), np.array(y)\r\n",
        "\r\n",
        "x = sm.add_constant(x)"
      ],
      "execution_count": 4,
      "outputs": []
    },
    {
      "cell_type": "code",
      "metadata": {
        "colab": {
          "base_uri": "https://localhost:8080/",
          "height": 426
        },
        "id": "i8YZxeBc898K",
        "outputId": "90a77019-d2c9-4536-9ed8-25a63bba877f"
      },
      "source": [
        "model = sm.OLS(y,x)\r\n",
        "results = model.fit()\r\n",
        "results.summary()"
      ],
      "execution_count": 5,
      "outputs": [
        {
          "output_type": "execute_result",
          "data": {
            "text/html": [
              "<table class=\"simpletable\">\n",
              "<caption>OLS Regression Results</caption>\n",
              "<tr>\n",
              "  <th>Dep. Variable:</th>            <td>y</td>        <th>  R-squared:         </th> <td>   0.730</td>\n",
              "</tr>\n",
              "<tr>\n",
              "  <th>Model:</th>                   <td>OLS</td>       <th>  Adj. R-squared:    </th> <td>   0.726</td>\n",
              "</tr>\n",
              "<tr>\n",
              "  <th>Method:</th>             <td>Least Squares</td>  <th>  F-statistic:       </th> <td>   157.1</td>\n",
              "</tr>\n",
              "<tr>\n",
              "  <th>Date:</th>             <td>Fri, 29 Jan 2021</td> <th>  Prob (F-statistic):</th> <td>3.76e-18</td>\n",
              "</tr>\n",
              "<tr>\n",
              "  <th>Time:</th>                 <td>18:50:22</td>     <th>  Log-Likelihood:    </th> <td> -75.080</td>\n",
              "</tr>\n",
              "<tr>\n",
              "  <th>No. Observations:</th>      <td>    60</td>      <th>  AIC:               </th> <td>   154.2</td>\n",
              "</tr>\n",
              "<tr>\n",
              "  <th>Df Residuals:</th>          <td>    58</td>      <th>  BIC:               </th> <td>   158.3</td>\n",
              "</tr>\n",
              "<tr>\n",
              "  <th>Df Model:</th>              <td>     1</td>      <th>                     </th>     <td> </td>   \n",
              "</tr>\n",
              "<tr>\n",
              "  <th>Covariance Type:</th>      <td>nonrobust</td>    <th>                     </th>     <td> </td>   \n",
              "</tr>\n",
              "</table>\n",
              "<table class=\"simpletable\">\n",
              "<tr>\n",
              "    <td></td>       <th>coef</th>     <th>std err</th>      <th>t</th>      <th>P>|t|</th>  <th>[0.025</th>    <th>0.975]</th>  \n",
              "</tr>\n",
              "<tr>\n",
              "  <th>const</th> <td>   85.0338</td> <td>    0.253</td> <td>  335.748</td> <td> 0.000</td> <td>   84.527</td> <td>   85.541</td>\n",
              "</tr>\n",
              "<tr>\n",
              "  <th>x1</th>    <td>   -0.0804</td> <td>    0.006</td> <td>  -12.535</td> <td> 0.000</td> <td>   -0.093</td> <td>   -0.068</td>\n",
              "</tr>\n",
              "</table>\n",
              "<table class=\"simpletable\">\n",
              "<tr>\n",
              "  <th>Omnibus:</th>       <td> 2.597</td> <th>  Durbin-Watson:     </th> <td>   0.065</td>\n",
              "</tr>\n",
              "<tr>\n",
              "  <th>Prob(Omnibus):</th> <td> 0.273</td> <th>  Jarque-Bera (JB):  </th> <td>   1.525</td>\n",
              "</tr>\n",
              "<tr>\n",
              "  <th>Skew:</th>          <td>-0.052</td> <th>  Prob(JB):          </th> <td>   0.467</td>\n",
              "</tr>\n",
              "<tr>\n",
              "  <th>Kurtosis:</th>      <td> 2.226</td> <th>  Cond. No.          </th> <td>    90.1</td>\n",
              "</tr>\n",
              "</table><br/><br/>Warnings:<br/>[1] Standard Errors assume that the covariance matrix of the errors is correctly specified."
            ],
            "text/plain": [
              "<class 'statsmodels.iolib.summary.Summary'>\n",
              "\"\"\"\n",
              "                            OLS Regression Results                            \n",
              "==============================================================================\n",
              "Dep. Variable:                      y   R-squared:                       0.730\n",
              "Model:                            OLS   Adj. R-squared:                  0.726\n",
              "Method:                 Least Squares   F-statistic:                     157.1\n",
              "Date:                Fri, 29 Jan 2021   Prob (F-statistic):           3.76e-18\n",
              "Time:                        18:50:22   Log-Likelihood:                -75.080\n",
              "No. Observations:                  60   AIC:                             154.2\n",
              "Df Residuals:                      58   BIC:                             158.3\n",
              "Df Model:                           1                                         \n",
              "Covariance Type:            nonrobust                                         \n",
              "==============================================================================\n",
              "                 coef    std err          t      P>|t|      [0.025      0.975]\n",
              "------------------------------------------------------------------------------\n",
              "const         85.0338      0.253    335.748      0.000      84.527      85.541\n",
              "x1            -0.0804      0.006    -12.535      0.000      -0.093      -0.068\n",
              "==============================================================================\n",
              "Omnibus:                        2.597   Durbin-Watson:                   0.065\n",
              "Prob(Omnibus):                  0.273   Jarque-Bera (JB):                1.525\n",
              "Skew:                          -0.052   Prob(JB):                        0.467\n",
              "Kurtosis:                       2.226   Cond. No.                         90.1\n",
              "==============================================================================\n",
              "\n",
              "Warnings:\n",
              "[1] Standard Errors assume that the covariance matrix of the errors is correctly specified.\n",
              "\"\"\""
            ]
          },
          "metadata": {
            "tags": []
          },
          "execution_count": 5
        }
      ]
    },
    {
      "cell_type": "markdown",
      "metadata": {
        "id": "ILUOwW5DkUfQ"
      },
      "source": [
        "## Result interpretation\r\n",
        "\r\n",
        "##### R-squared values is closer to one showing that the model has a good fit.\r\n",
        "\r\n",
        "##### As the Prob (F-statistic) is less than 0.05 we can reject the null hypothesis ( the intercept only model is same as the co-effiecent model. if the null hypothesis was true the model would be useless. However this is not the case.\r\n",
        "\r\n",
        "##### x1- p-value is equal to zero which can be interpreted as the feature co-efficient is not zero, tehrefore does have a relationship with the target."
      ]
    },
    {
      "cell_type": "code",
      "metadata": {
        "colab": {
          "base_uri": "https://localhost:8080/"
        },
        "id": "yLg3KbTT9DSw",
        "outputId": "cc41d984-ba9e-4a95-f492-b6668cd033b0"
      },
      "source": [
        "#confidence level 95%\r\n",
        "intercept, slope = results.params\r\n",
        "CI_abs = resolution*results.conf_int(alpha = 0.05)[1]\r\n",
        "CIL_abs = CI_abs[1]\r\n",
        "CIH_abs = CI_abs[0]\r\n",
        "round(CIL_abs,2),round(CIH_abs,2)\r\n",
        "\r\n",
        "DR_abs = round(resolution*slope, 2)\r\n",
        "DR_abs"
      ],
      "execution_count": 6,
      "outputs": [
        {
          "output_type": "execute_result",
          "data": {
            "text/plain": [
              "-0.96"
            ]
          },
          "metadata": {
            "tags": []
          },
          "execution_count": 6
        }
      ]
    },
    {
      "cell_type": "code",
      "metadata": {
        "colab": {
          "base_uri": "https://localhost:8080/"
        },
        "id": "QFQ3D2XQnG7b",
        "outputId": "b2831a46-1a2d-4568-c58b-71f5b2a29bab"
      },
      "source": [
        "results.params"
      ],
      "execution_count": 7,
      "outputs": [
        {
          "output_type": "execute_result",
          "data": {
            "text/plain": [
              "array([ 8.50338389e+01, -8.03741780e-02])"
            ]
          },
          "metadata": {
            "tags": []
          },
          "execution_count": 7
        }
      ]
    },
    {
      "cell_type": "code",
      "metadata": {
        "colab": {
          "base_uri": "https://localhost:8080/"
        },
        "id": "x6tepcsw5ebq",
        "outputId": "b3af3b40-6f66-4066-dd07-1d6ca59b225a"
      },
      "source": [
        "#confidence level 95%\r\n",
        "CI_rel = 100*resolution*results.conf_int(alpha = 0.05)[1]/intercept\r\n",
        "CIL_rel = CI_rel[1]\r\n",
        "CIH_rel = CI_rel[0]\r\n",
        "round(CIL_rel,2),round(CIH_rel,2)\r\n",
        "\r\n",
        "DR_rel = round(100*resolution*slope/intercept,2)\r\n",
        "DR_rel"
      ],
      "execution_count": 8,
      "outputs": [
        {
          "output_type": "execute_result",
          "data": {
            "text/plain": [
              "-1.13"
            ]
          },
          "metadata": {
            "tags": []
          },
          "execution_count": 8
        }
      ]
    },
    {
      "cell_type": "code",
      "metadata": {
        "colab": {
          "base_uri": "https://localhost:8080/",
          "height": 302
        },
        "id": "310ltslg9ItI",
        "outputId": "2e067ef9-aecc-45d1-83d1-c45d54871be9"
      },
      "source": [
        "sns.regplot(y = trend_df['Trend'], x = trend_df['Month'], data = milton_1, color='g')\r\n",
        "plt.ylabel(\"PR(%)\",fontsize=15)\r\n",
        "plt.xlabel(\"Month\", fontsize=15)\r\n",
        "plt.ylim(65,90)\r\n",
        "plt.xlim(0, 80)\r\n",
        "plt.title(\"Degradation Rate for milton PV-1\",fontsize=18)\r\n",
        "plt.grid(True)\r\n",
        "plt.show()"
      ],
      "execution_count": 9,
      "outputs": [
        {
          "output_type": "display_data",
          "data": {
            "image/png": "[encoded data removed]",
            "text/plain": [
              "<Figure size 432x288 with 1 Axes>"
            ]
          },
          "metadata": {
            "tags": [],
            "needs_background": "light"
          }
        }
      ]
    },
    {
      "cell_type": "markdown",
      "metadata": {
        "id": "zRx6zB-IWLYW"
      },
      "source": [
        "##### Yearly degredation for Milton PV-1 range -0.96 & -1.13%"
      ]
    },
    {
      "cell_type": "markdown",
      "metadata": {
        "id": "dJXOkgJcW4Jf"
      },
      "source": [
        "# Degredation Analysis for Milton PV-02"
      ]
    },
    {
      "cell_type": "code",
      "metadata": {
        "id": "pUplML198Plh"
      },
      "source": [
        "milton_2 = pd.read_csv('/content/drive/MyDrive/PHD/Data/Milton2.csv')"
      ],
      "execution_count": 10,
      "outputs": []
    },
    {
      "cell_type": "code",
      "metadata": {
        "colab": {
          "base_uri": "https://localhost:8080/",
          "height": 279
        },
        "id": "pPf5APCSXJE2",
        "outputId": "337fdc86-bffe-447e-d556-421922f5a6c0"
      },
      "source": [
        "fig, axs = plt.subplots()\r\n",
        "axs.plot(milton_2.index, milton_2.PR, 'o-', alpha = 0.5,color='g')\r\n",
        "axs.set_ylabel('PR (%)');\r\n",
        "axs.set_xlabel('Month')\r\n",
        "\r\n",
        "resolution = 12\r\n",
        "s=sm.tsa.seasonal_decompose(milton_2.PR, model = 'multiplicative', freq = resolution)\r\n",
        "#s.plot()"
      ],
      "execution_count": 12,
      "outputs": [
        {
          "output_type": "display_data",
          "data": {
            "image/png": "[encoded data removed]",
            "text/plain": [
              "<Figure size 432x288 with 1 Axes>"
            ]
          },
          "metadata": {
            "tags": [],
            "needs_background": "light"
          }
        }
      ]
    },
    {
      "cell_type": "code",
      "metadata": {
        "id": "HzpDxyEIXTjL"
      },
      "source": [
        "trend_df = pd.DataFrame(list(s.trend), columns = ['Trend'])\r\n",
        "trend_df.insert(loc=0, column = 'Month', value=np.arange(len(trend_df)))\r\n",
        "trend_df=trend_df[np.isfinite(trend_df['Trend'])]\r\n",
        "y = trend_df.Trend\r\n",
        "x = trend_df.Month\r\n",
        "x, y = np.array(x), np.array(y)\r\n",
        "\r\n",
        "x = sm.add_constant(x)"
      ],
      "execution_count": 13,
      "outputs": []
    },
    {
      "cell_type": "code",
      "metadata": {
        "colab": {
          "base_uri": "https://localhost:8080/",
          "height": 426
        },
        "id": "pw0kIgxTXoDK",
        "outputId": "42f6286f-4ed6-44fb-aa90-e1e1080b4287"
      },
      "source": [
        "model = sm.OLS(y,x)\r\n",
        "results = model.fit()\r\n",
        "results.summary()"
      ],
      "execution_count": 14,
      "outputs": [
        {
          "output_type": "execute_result",
          "data": {
            "text/html": [
              "<table class=\"simpletable\">\n",
              "<caption>OLS Regression Results</caption>\n",
              "<tr>\n",
              "  <th>Dep. Variable:</th>            <td>y</td>        <th>  R-squared:         </th> <td>   0.518</td>\n",
              "</tr>\n",
              "<tr>\n",
              "  <th>Model:</th>                   <td>OLS</td>       <th>  Adj. R-squared:    </th> <td>   0.510</td>\n",
              "</tr>\n",
              "<tr>\n",
              "  <th>Method:</th>             <td>Least Squares</td>  <th>  F-statistic:       </th> <td>   62.44</td>\n",
              "</tr>\n",
              "<tr>\n",
              "  <th>Date:</th>             <td>Fri, 29 Jan 2021</td> <th>  Prob (F-statistic):</th> <td>8.94e-11</td>\n",
              "</tr>\n",
              "<tr>\n",
              "  <th>Time:</th>                 <td>18:53:07</td>     <th>  Log-Likelihood:    </th> <td> -67.557</td>\n",
              "</tr>\n",
              "<tr>\n",
              "  <th>No. Observations:</th>      <td>    60</td>      <th>  AIC:               </th> <td>   139.1</td>\n",
              "</tr>\n",
              "<tr>\n",
              "  <th>Df Residuals:</th>          <td>    58</td>      <th>  BIC:               </th> <td>   143.3</td>\n",
              "</tr>\n",
              "<tr>\n",
              "  <th>Df Model:</th>              <td>     1</td>      <th>                     </th>     <td> </td>   \n",
              "</tr>\n",
              "<tr>\n",
              "  <th>Covariance Type:</th>      <td>nonrobust</td>    <th>                     </th>     <td> </td>   \n",
              "</tr>\n",
              "</table>\n",
              "<table class=\"simpletable\">\n",
              "<tr>\n",
              "    <td></td>       <th>coef</th>     <th>std err</th>      <th>t</th>      <th>P>|t|</th>  <th>[0.025</th>    <th>0.975]</th>  \n",
              "</tr>\n",
              "<tr>\n",
              "  <th>const</th> <td>   84.0965</td> <td>    0.223</td> <td>  376.403</td> <td> 0.000</td> <td>   83.649</td> <td>   84.544</td>\n",
              "</tr>\n",
              "<tr>\n",
              "  <th>x1</th>    <td>   -0.0447</td> <td>    0.006</td> <td>   -7.902</td> <td> 0.000</td> <td>   -0.056</td> <td>   -0.033</td>\n",
              "</tr>\n",
              "</table>\n",
              "<table class=\"simpletable\">\n",
              "<tr>\n",
              "  <th>Omnibus:</th>       <td> 1.836</td> <th>  Durbin-Watson:     </th> <td>   0.080</td>\n",
              "</tr>\n",
              "<tr>\n",
              "  <th>Prob(Omnibus):</th> <td> 0.399</td> <th>  Jarque-Bera (JB):  </th> <td>   1.323</td>\n",
              "</tr>\n",
              "<tr>\n",
              "  <th>Skew:</th>          <td>-0.116</td> <th>  Prob(JB):          </th> <td>   0.516</td>\n",
              "</tr>\n",
              "<tr>\n",
              "  <th>Kurtosis:</th>      <td> 2.311</td> <th>  Cond. No.          </th> <td>    90.1</td>\n",
              "</tr>\n",
              "</table><br/><br/>Warnings:<br/>[1] Standard Errors assume that the covariance matrix of the errors is correctly specified."
            ],
            "text/plain": [
              "<class 'statsmodels.iolib.summary.Summary'>\n",
              "\"\"\"\n",
              "                            OLS Regression Results                            \n",
              "==============================================================================\n",
              "Dep. Variable:                      y   R-squared:                       0.518\n",
              "Model:                            OLS   Adj. R-squared:                  0.510\n",
              "Method:                 Least Squares   F-statistic:                     62.44\n",
              "Date:                Fri, 29 Jan 2021   Prob (F-statistic):           8.94e-11\n",
              "Time:                        18:53:07   Log-Likelihood:                -67.557\n",
              "No. Observations:                  60   AIC:                             139.1\n",
              "Df Residuals:                      58   BIC:                             143.3\n",
              "Df Model:                           1                                         \n",
              "Covariance Type:            nonrobust                                         \n",
              "==============================================================================\n",
              "                 coef    std err          t      P>|t|      [0.025      0.975]\n",
              "------------------------------------------------------------------------------\n",
              "const         84.0965      0.223    376.403      0.000      83.649      84.544\n",
              "x1            -0.0447      0.006     -7.902      0.000      -0.056      -0.033\n",
              "==============================================================================\n",
              "Omnibus:                        1.836   Durbin-Watson:                   0.080\n",
              "Prob(Omnibus):                  0.399   Jarque-Bera (JB):                1.323\n",
              "Skew:                          -0.116   Prob(JB):                        0.516\n",
              "Kurtosis:                       2.311   Cond. No.                         90.1\n",
              "==============================================================================\n",
              "\n",
              "Warnings:\n",
              "[1] Standard Errors assume that the covariance matrix of the errors is correctly specified.\n",
              "\"\"\""
            ]
          },
          "metadata": {
            "tags": []
          },
          "execution_count": 14
        }
      ]
    },
    {
      "cell_type": "markdown",
      "metadata": {
        "id": "bYzLVgJCX1Lp"
      },
      "source": [
        "## Result interpretation\r\n",
        "\r\n",
        "##### R-squared values is closer to one showing that the model has a good fit.\r\n",
        "\r\n",
        "##### As the Prob (F-statistic) is less than 0.05 we can reject the null hypothesis ( the intercept only model is same as the co-effiecent model. if the null hypothesis was true the model would be useless. However this is not the case.\r\n",
        "\r\n",
        "##### x1- p-value is equal to zero which can be interpreted as the feature co-efficient is not zero, thErefore does have a relationship with the target."
      ]
    },
    {
      "cell_type": "code",
      "metadata": {
        "colab": {
          "base_uri": "https://localhost:8080/"
        },
        "id": "H_w08BjiXt-z",
        "outputId": "a05445a9-b67e-4813-94b7-173a7221049e"
      },
      "source": [
        "#confidence level 95%\r\n",
        "intercept, slope = results.params\r\n",
        "CI_abs = resolution*results.conf_int(alpha = 0.05)[1]\r\n",
        "CIL_abs = CI_abs[1]\r\n",
        "CIH_abs = CI_abs[0]\r\n",
        "round(CIL_abs,2),round(CIH_abs,2)\r\n",
        "\r\n",
        "DR_abs = round(resolution*slope, 2)\r\n",
        "DR_abs"
      ],
      "execution_count": 15,
      "outputs": [
        {
          "output_type": "execute_result",
          "data": {
            "text/plain": [
              "-0.54"
            ]
          },
          "metadata": {
            "tags": []
          },
          "execution_count": 15
        }
      ]
    },
    {
      "cell_type": "code",
      "metadata": {
        "colab": {
          "base_uri": "https://localhost:8080/"
        },
        "id": "yF2EVpdPYEzP",
        "outputId": "c96218b0-b58f-47ed-af18-c863ae6d67db"
      },
      "source": [
        "results.params"
      ],
      "execution_count": 16,
      "outputs": [
        {
          "output_type": "execute_result",
          "data": {
            "text/plain": [
              "array([ 8.40964871e+01, -4.46976012e-02])"
            ]
          },
          "metadata": {
            "tags": []
          },
          "execution_count": 16
        }
      ]
    },
    {
      "cell_type": "code",
      "metadata": {
        "colab": {
          "base_uri": "https://localhost:8080/"
        },
        "id": "ibO5yPcjYJtv",
        "outputId": "2b0888fb-f026-446b-a7d7-9d870aec412c"
      },
      "source": [
        "#confidence level 95%\r\n",
        "CI_rel = 100*resolution*results.conf_int(alpha = 0.05)[1]/intercept\r\n",
        "CIL_rel = CI_rel[1]\r\n",
        "CIH_rel = CI_rel[0]\r\n",
        "round(CIL_rel,2),round(CIH_rel,2)\r\n",
        "\r\n",
        "DR_rel = round(100*resolution*slope/intercept,2)\r\n",
        "DR_rel"
      ],
      "execution_count": 17,
      "outputs": [
        {
          "output_type": "execute_result",
          "data": {
            "text/plain": [
              "-0.64"
            ]
          },
          "metadata": {
            "tags": []
          },
          "execution_count": 17
        }
      ]
    },
    {
      "cell_type": "code",
      "metadata": {
        "colab": {
          "base_uri": "https://localhost:8080/",
          "height": 302
        },
        "id": "eeeuPuWZYOCL",
        "outputId": "203304f3-ee5d-4a0c-fc32-27a680e2af66"
      },
      "source": [
        "sns.regplot(y = trend_df['Trend'], x = trend_df['Month'], data = milton_2, color='g')\r\n",
        "plt.ylabel(\"PR(%)\",fontsize=15)\r\n",
        "plt.xlabel(\"Month\", fontsize=15)\r\n",
        "plt.ylim(65,90)\r\n",
        "plt.xlim(0, 80)\r\n",
        "plt.title(\"Degradation Rate for Milton PV-2\",fontsize=18)\r\n",
        "plt.grid(True)\r\n",
        "plt.show()"
      ],
      "execution_count": 19,
      "outputs": [
        {
          "output_type": "display_data",
          "data": {
            "image/png": "[encoded data removed]",
            "text/plain": [
              "<Figure size 432x288 with 1 Axes>"
            ]
          },
          "metadata": {
            "tags": [],
            "needs_background": "light"
          }
        }
      ]
    },
    {
      "cell_type": "markdown",
      "metadata": {
        "id": "VUweVJtgYa8F"
      },
      "source": [
        "##### Yearly degredation for Milton PV-2 range -0.54 & -0.64%"
      ]
    },
    {
      "cell_type": "markdown",
      "metadata": {
        "id": "ek0I1gUNYjou"
      },
      "source": [
        "# Degredation Analysis for Milton PV-03"
      ]
    },
    {
      "cell_type": "code",
      "metadata": {
        "id": "abuAHihNYVvO"
      },
      "source": [
        "milton_3 = pd.read_csv('/content/drive/MyDrive/PHD/Data/Milton3.csv')"
      ],
      "execution_count": 21,
      "outputs": []
    },
    {
      "cell_type": "code",
      "metadata": {
        "colab": {
          "base_uri": "https://localhost:8080/",
          "height": 279
        },
        "id": "ANt-Ok5CYqoc",
        "outputId": "8ef293aa-2ac1-4cac-88ec-a32ba4686340"
      },
      "source": [
        "fig, axs = plt.subplots()\r\n",
        "axs.plot(milton_3.index, milton_3.PR, 'o-', alpha = 0.5,color='g')\r\n",
        "axs.set_ylabel('PR (%)');\r\n",
        "axs.set_xlabel('Month')\r\n",
        "\r\n",
        "resolution = 12\r\n",
        "s=sm.tsa.seasonal_decompose(milton_3.PR, model = 'multiplicative', freq = resolution)\r\n",
        "#s.plot()"
      ],
      "execution_count": 22,
      "outputs": [
        {
          "output_type": "display_data",
          "data": {
            "image/png": "[encoded data removed]",
            "text/plain": [
              "<Figure size 432x288 with 1 Axes>"
            ]
          },
          "metadata": {
            "tags": [],
            "needs_background": "light"
          }
        }
      ]
    },
    {
      "cell_type": "code",
      "metadata": {
        "id": "1uQum_UQY4D2"
      },
      "source": [
        "trend_df = pd.DataFrame(list(s.trend), columns = ['Trend'])\r\n",
        "trend_df.insert(loc=0, column = 'Month', value=np.arange(len(trend_df)))\r\n",
        "trend_df=trend_df[np.isfinite(trend_df['Trend'])]\r\n",
        "y = trend_df.Trend\r\n",
        "x = trend_df.Month\r\n",
        "x, y = np.array(x), np.array(y)\r\n",
        "\r\n",
        "x = sm.add_constant(x)"
      ],
      "execution_count": 23,
      "outputs": []
    },
    {
      "cell_type": "code",
      "metadata": {
        "colab": {
          "base_uri": "https://localhost:8080/",
          "height": 426
        },
        "id": "iAL-dlZuZHhq",
        "outputId": "6451ae99-430d-4216-ac9b-be52fd6b4236"
      },
      "source": [
        "model = sm.OLS(y,x)\r\n",
        "results = model.fit()\r\n",
        "results.summary()"
      ],
      "execution_count": 24,
      "outputs": [
        {
          "output_type": "execute_result",
          "data": {
            "text/html": [
              "<table class=\"simpletable\">\n",
              "<caption>OLS Regression Results</caption>\n",
              "<tr>\n",
              "  <th>Dep. Variable:</th>            <td>y</td>        <th>  R-squared:         </th> <td>   0.872</td>\n",
              "</tr>\n",
              "<tr>\n",
              "  <th>Model:</th>                   <td>OLS</td>       <th>  Adj. R-squared:    </th> <td>   0.869</td>\n",
              "</tr>\n",
              "<tr>\n",
              "  <th>Method:</th>             <td>Least Squares</td>  <th>  F-statistic:       </th> <td>   394.1</td>\n",
              "</tr>\n",
              "<tr>\n",
              "  <th>Date:</th>             <td>Fri, 29 Jan 2021</td> <th>  Prob (F-statistic):</th> <td>1.53e-27</td>\n",
              "</tr>\n",
              "<tr>\n",
              "  <th>Time:</th>                 <td>19:00:13</td>     <th>  Log-Likelihood:    </th> <td> -29.241</td>\n",
              "</tr>\n",
              "<tr>\n",
              "  <th>No. Observations:</th>      <td>    60</td>      <th>  AIC:               </th> <td>   62.48</td>\n",
              "</tr>\n",
              "<tr>\n",
              "  <th>Df Residuals:</th>          <td>    58</td>      <th>  BIC:               </th> <td>   66.67</td>\n",
              "</tr>\n",
              "<tr>\n",
              "  <th>Df Model:</th>              <td>     1</td>      <th>                     </th>     <td> </td>   \n",
              "</tr>\n",
              "<tr>\n",
              "  <th>Covariance Type:</th>      <td>nonrobust</td>    <th>                     </th>     <td> </td>   \n",
              "</tr>\n",
              "</table>\n",
              "<table class=\"simpletable\">\n",
              "<tr>\n",
              "    <td></td>       <th>coef</th>     <th>std err</th>      <th>t</th>      <th>P>|t|</th>  <th>[0.025</th>    <th>0.975]</th>  \n",
              "</tr>\n",
              "<tr>\n",
              "  <th>const</th> <td>   84.6987</td> <td>    0.118</td> <td>  717.947</td> <td> 0.000</td> <td>   84.463</td> <td>   84.935</td>\n",
              "</tr>\n",
              "<tr>\n",
              "  <th>x1</th>    <td>   -0.0593</td> <td>    0.003</td> <td>  -19.852</td> <td> 0.000</td> <td>   -0.065</td> <td>   -0.053</td>\n",
              "</tr>\n",
              "</table>\n",
              "<table class=\"simpletable\">\n",
              "<tr>\n",
              "  <th>Omnibus:</th>       <td> 4.092</td> <th>  Durbin-Watson:     </th> <td>   0.196</td>\n",
              "</tr>\n",
              "<tr>\n",
              "  <th>Prob(Omnibus):</th> <td> 0.129</td> <th>  Jarque-Bera (JB):  </th> <td>   3.572</td>\n",
              "</tr>\n",
              "<tr>\n",
              "  <th>Skew:</th>          <td> 0.311</td> <th>  Prob(JB):          </th> <td>   0.168</td>\n",
              "</tr>\n",
              "<tr>\n",
              "  <th>Kurtosis:</th>      <td> 4.021</td> <th>  Cond. No.          </th> <td>    90.1</td>\n",
              "</tr>\n",
              "</table><br/><br/>Warnings:<br/>[1] Standard Errors assume that the covariance matrix of the errors is correctly specified."
            ],
            "text/plain": [
              "<class 'statsmodels.iolib.summary.Summary'>\n",
              "\"\"\"\n",
              "                            OLS Regression Results                            \n",
              "==============================================================================\n",
              "Dep. Variable:                      y   R-squared:                       0.872\n",
              "Model:                            OLS   Adj. R-squared:                  0.869\n",
              "Method:                 Least Squares   F-statistic:                     394.1\n",
              "Date:                Fri, 29 Jan 2021   Prob (F-statistic):           1.53e-27\n",
              "Time:                        19:00:13   Log-Likelihood:                -29.241\n",
              "No. Observations:                  60   AIC:                             62.48\n",
              "Df Residuals:                      58   BIC:                             66.67\n",
              "Df Model:                           1                                         \n",
              "Covariance Type:            nonrobust                                         \n",
              "==============================================================================\n",
              "                 coef    std err          t      P>|t|      [0.025      0.975]\n",
              "------------------------------------------------------------------------------\n",
              "const         84.6987      0.118    717.947      0.000      84.463      84.935\n",
              "x1            -0.0593      0.003    -19.852      0.000      -0.065      -0.053\n",
              "==============================================================================\n",
              "Omnibus:                        4.092   Durbin-Watson:                   0.196\n",
              "Prob(Omnibus):                  0.129   Jarque-Bera (JB):                3.572\n",
              "Skew:                           0.311   Prob(JB):                        0.168\n",
              "Kurtosis:                       4.021   Cond. No.                         90.1\n",
              "==============================================================================\n",
              "\n",
              "Warnings:\n",
              "[1] Standard Errors assume that the covariance matrix of the errors is correctly specified.\n",
              "\"\"\""
            ]
          },
          "metadata": {
            "tags": []
          },
          "execution_count": 24
        }
      ]
    },
    {
      "cell_type": "markdown",
      "metadata": {
        "id": "sWgCcgpWZaaF"
      },
      "source": [
        "## Result interpretation\r\n",
        "\r\n",
        "##### R-squared values is closer to one showing that the model has a good fit.\r\n",
        "\r\n",
        "##### As the Prob (F-statistic) is less than 0.05 we can reject the null hypothesis ( the intercept only model is same as the co-effiecent model. if the null hypothesis was true the model would be useless. However this is not the case.\r\n",
        "\r\n",
        "##### x1- p-value is equal to zero which can be interpreted as the feature co-efficient is not zero, thErefore does have a relationship with the target."
      ]
    },
    {
      "cell_type": "code",
      "metadata": {
        "colab": {
          "base_uri": "https://localhost:8080/"
        },
        "id": "UAdx9cuiZO1O",
        "outputId": "b024d08a-1c78-41b2-f186-903f43c5107f"
      },
      "source": [
        "#confidence level 95%\r\n",
        "intercept, slope = results.params\r\n",
        "CI_abs = resolution*results.conf_int(alpha = 0.05)[1]\r\n",
        "CIL_abs = CI_abs[1]\r\n",
        "CIH_abs = CI_abs[0]\r\n",
        "round(CIL_abs,2),round(CIH_abs,2)\r\n",
        "\r\n",
        "DR_abs = round(resolution*slope, 2)\r\n",
        "DR_abs"
      ],
      "execution_count": 25,
      "outputs": [
        {
          "output_type": "execute_result",
          "data": {
            "text/plain": [
              "-0.71"
            ]
          },
          "metadata": {
            "tags": []
          },
          "execution_count": 25
        }
      ]
    },
    {
      "cell_type": "code",
      "metadata": {
        "colab": {
          "base_uri": "https://localhost:8080/"
        },
        "id": "OCFgaTMYaoUM",
        "outputId": "328026fe-4705-4980-a4d2-871fecf37c50"
      },
      "source": [
        "results.params"
      ],
      "execution_count": 26,
      "outputs": [
        {
          "output_type": "execute_result",
          "data": {
            "text/plain": [
              "array([ 8.46986547e+01, -5.92930907e-02])"
            ]
          },
          "metadata": {
            "tags": []
          },
          "execution_count": 26
        }
      ]
    },
    {
      "cell_type": "code",
      "metadata": {
        "colab": {
          "base_uri": "https://localhost:8080/"
        },
        "id": "DYPkx7riatNi",
        "outputId": "878cfd9f-eaf6-4134-a4c9-f8fe8babc430"
      },
      "source": [
        "#confidence level 95%\r\n",
        "CI_rel = 100*resolution*results.conf_int(alpha = 0.05)[1]/intercept\r\n",
        "CIL_rel = CI_rel[1]\r\n",
        "CIH_rel = CI_rel[0]\r\n",
        "round(CIL_rel,2),round(CIH_rel,2)\r\n",
        "\r\n",
        "DR_rel = round(100*resolution*slope/intercept,2)\r\n",
        "DR_rel"
      ],
      "execution_count": 27,
      "outputs": [
        {
          "output_type": "execute_result",
          "data": {
            "text/plain": [
              "-0.84"
            ]
          },
          "metadata": {
            "tags": []
          },
          "execution_count": 27
        }
      ]
    },
    {
      "cell_type": "code",
      "metadata": {
        "colab": {
          "base_uri": "https://localhost:8080/",
          "height": 302
        },
        "id": "XPuMsoY6azki",
        "outputId": "cd4c7eaa-d36d-4a87-b848-de81fbbdd318"
      },
      "source": [
        "sns.regplot(y = trend_df['Trend'], x = trend_df['Month'], data = milton_3, color='g')\r\n",
        "plt.ylabel(\"PR(%)\",fontsize=15)\r\n",
        "plt.xlabel(\"Month\", fontsize=15)\r\n",
        "plt.ylim(65,90)\r\n",
        "plt.xlim(0, 80)\r\n",
        "plt.title(\"Degradation Rate for Milton PV-3\",fontsize=18)\r\n",
        "plt.grid(True)\r\n",
        "plt.show()"
      ],
      "execution_count": 28,
      "outputs": [
        {
          "output_type": "display_data",
          "data": {
            "image/png": "[encoded data removed]",
            "text/plain": [
              "<Figure size 432x288 with 1 Axes>"
            ]
          },
          "metadata": {
            "tags": [],
            "needs_background": "light"
          }
        }
      ]
    },
    {
      "cell_type": "markdown",
      "metadata": {
        "id": "2zfgUg2ia-3i"
      },
      "source": [
        "##### Yearly degredation for Milton PV-3 range -0.71 & -0.84%"
      ]
    },
    {
      "cell_type": "code",
      "metadata": {
        "id": "gQpBs-p_a3wC"
      },
      "source": [
        ""
      ],
      "execution_count": null,
      "outputs": []
    }
  ]
}