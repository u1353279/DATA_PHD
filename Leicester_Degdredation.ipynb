{
  "nbformat": 4,
  "nbformat_minor": 0,
  "metadata": {
    "colab": {
      "name": "Leicester-Degdredation.ipynb",
      "provenance": [],
      "collapsed_sections": [],
      "toc_visible": true,
      "mount_file_id": "1Mfmu7UTG0ey0RVDmZrJ3jRBGnXI5hEJl",
      "authorship_tag": "ABX9TyOLb66V4O1VyTXpoL9KqVkp",
      "include_colab_link": true
    },
    "kernelspec": {
      "name": "python3",
      "display_name": "Python 3"
    }
  },
  "cells": [
    {
      "cell_type": "markdown",
      "metadata": {
        "id": "view-in-github",
        "colab_type": "text"
      },
      "source": [
        "<a href=\"https://colab.research.google.com/github/u1353279/DATA_PHD/blob/main/Leicester_Degdredation.ipynb\" target=\"_parent\"><img src=\"https://colab.research.google.com/assets/colab-badge.svg\" alt=\"Open In Colab\"/></a>"
      ]
    },
    {
      "cell_type": "code",
      "metadata": {
        "id": "m_QZ8Eby4egm",
        "colab": {
          "base_uri": "https://localhost:8080/"
        },
        "outputId": "5b922178-29c7-463c-f083-1f837cf92158"
      },
      "source": [
        "import pandas as pd\r\n",
        "import numpy as np\r\n",
        "import seaborn as sns\r\n",
        "import statsmodels.api as sm\r\n",
        "from matplotlib import pyplot as plt\r\n",
        "from pandas.plotting import register_matplotlib_converters\r\n",
        "register_matplotlib_converters()\r\n",
        "\r\n",
        "# settings\r\n",
        "plt.style.use('seaborn')\r\n",
        "plt.rcParams[\"figure.figsize\"] = (9, 9)"
      ],
      "execution_count": 1,
      "outputs": [
        {
          "output_type": "stream",
          "text": [
            "/usr/local/lib/python3.6/dist-packages/statsmodels/tools/_testing.py:19: FutureWarning: pandas.util.testing is deprecated. Use the functions in the public API at pandas.testing instead.\n",
            "  import pandas.util.testing as tm\n"
          ],
          "name": "stderr"
        }
      ]
    },
    {
      "cell_type": "markdown",
      "metadata": {
        "id": "qaJSManIBBWM"
      },
      "source": [
        "#Degredation Analysis for leicester PV-01"
      ]
    },
    {
      "cell_type": "code",
      "metadata": {
        "id": "BcUC60yr5ZJ9"
      },
      "source": [
        "leicester_1 = pd.read_csv('/content/drive/MyDrive/PHD/Data/Leicester1.csv')"
      ],
      "execution_count": 3,
      "outputs": []
    },
    {
      "cell_type": "code",
      "metadata": {
        "colab": {
          "base_uri": "https://localhost:8080/",
          "height": 282
        },
        "id": "7Rh6K84M8o9g",
        "outputId": "141586ef-62fa-46f5-fa96-511b0d28f9c3"
      },
      "source": [
        "fig, axs = plt.subplots()\r\n",
        "axs.plot(bedford_1.index, leicester_1.PR, 'o-', alpha = 0.5,color='g')\r\n",
        "axs.set_ylabel('PR (%)');\r\n",
        "axs.set_xlabel('Month')\r\n",
        "\r\n",
        "resolution = 12\r\n",
        "s=sm.tsa.seasonal_decompose(leicester_1.PR, model = 'multiplicative', freq = resolution)\r\n",
        "#s.plot()"
      ],
      "execution_count": 4,
      "outputs": [
        {
          "output_type": "display_data",
          "data": {
            "image/png": "[encoded data removed]",
            "text/plain": [
              "<Figure size 432x288 with 1 Axes>"
            ]
          },
          "metadata": {
            "tags": [],
            "needs_background": "light"
          }
        }
      ]
    },
    {
      "cell_type": "code",
      "metadata": {
        "id": "75MiH3g681sW"
      },
      "source": [
        "trend_df = pd.DataFrame(list(s.trend), columns = ['Trend'])\r\n",
        "trend_df.insert(loc=0, column = 'Month', value=np.arange(len(trend_df)))\r\n",
        "trend_df=trend_df[np.isfinite(trend_df['Trend'])]\r\n",
        "y = trend_df.Trend\r\n",
        "x = trend_df.Month\r\n",
        "x, y = np.array(x), np.array(y)\r\n",
        "\r\n",
        "x = sm.add_constant(x)"
      ],
      "execution_count": 5,
      "outputs": []
    },
    {
      "cell_type": "code",
      "metadata": {
        "colab": {
          "base_uri": "https://localhost:8080/",
          "height": 426
        },
        "id": "i8YZxeBc898K",
        "outputId": "01831449-2fbf-4ace-c174-8d6ed692aa99"
      },
      "source": [
        "model = sm.OLS(y,x)\r\n",
        "results = model.fit()\r\n",
        "results.summary()"
      ],
      "execution_count": 6,
      "outputs": [
        {
          "output_type": "execute_result",
          "data": {
            "text/html": [
              "<table class=\"simpletable\">\n",
              "<caption>OLS Regression Results</caption>\n",
              "<tr>\n",
              "  <th>Dep. Variable:</th>            <td>y</td>        <th>  R-squared:         </th> <td>   0.906</td>\n",
              "</tr>\n",
              "<tr>\n",
              "  <th>Model:</th>                   <td>OLS</td>       <th>  Adj. R-squared:    </th> <td>   0.905</td>\n",
              "</tr>\n",
              "<tr>\n",
              "  <th>Method:</th>             <td>Least Squares</td>  <th>  F-statistic:       </th> <td>   561.0</td>\n",
              "</tr>\n",
              "<tr>\n",
              "  <th>Date:</th>             <td>Fri, 29 Jan 2021</td> <th>  Prob (F-statistic):</th> <td>1.66e-31</td>\n",
              "</tr>\n",
              "<tr>\n",
              "  <th>Time:</th>                 <td>18:37:55</td>     <th>  Log-Likelihood:    </th> <td> -17.174</td>\n",
              "</tr>\n",
              "<tr>\n",
              "  <th>No. Observations:</th>      <td>    60</td>      <th>  AIC:               </th> <td>   38.35</td>\n",
              "</tr>\n",
              "<tr>\n",
              "  <th>Df Residuals:</th>          <td>    58</td>      <th>  BIC:               </th> <td>   42.54</td>\n",
              "</tr>\n",
              "<tr>\n",
              "  <th>Df Model:</th>              <td>     1</td>      <th>                     </th>     <td> </td>   \n",
              "</tr>\n",
              "<tr>\n",
              "  <th>Covariance Type:</th>      <td>nonrobust</td>    <th>                     </th>     <td> </td>   \n",
              "</tr>\n",
              "</table>\n",
              "<table class=\"simpletable\">\n",
              "<tr>\n",
              "    <td></td>       <th>coef</th>     <th>std err</th>      <th>t</th>      <th>P>|t|</th>  <th>[0.025</th>    <th>0.975]</th>  \n",
              "</tr>\n",
              "<tr>\n",
              "  <th>const</th> <td>   82.2774</td> <td>    0.096</td> <td>  852.773</td> <td> 0.000</td> <td>   82.084</td> <td>   82.471</td>\n",
              "</tr>\n",
              "<tr>\n",
              "  <th>x1</th>    <td>   -0.0579</td> <td>    0.002</td> <td>  -23.685</td> <td> 0.000</td> <td>   -0.063</td> <td>   -0.053</td>\n",
              "</tr>\n",
              "</table>\n",
              "<table class=\"simpletable\">\n",
              "<tr>\n",
              "  <th>Omnibus:</th>       <td> 6.258</td> <th>  Durbin-Watson:     </th> <td>   0.193</td>\n",
              "</tr>\n",
              "<tr>\n",
              "  <th>Prob(Omnibus):</th> <td> 0.044</td> <th>  Jarque-Bera (JB):  </th> <td>   4.295</td>\n",
              "</tr>\n",
              "<tr>\n",
              "  <th>Skew:</th>          <td>-0.504</td> <th>  Prob(JB):          </th> <td>   0.117</td>\n",
              "</tr>\n",
              "<tr>\n",
              "  <th>Kurtosis:</th>      <td> 2.163</td> <th>  Cond. No.          </th> <td>    90.1</td>\n",
              "</tr>\n",
              "</table><br/><br/>Warnings:<br/>[1] Standard Errors assume that the covariance matrix of the errors is correctly specified."
            ],
            "text/plain": [
              "<class 'statsmodels.iolib.summary.Summary'>\n",
              "\"\"\"\n",
              "                            OLS Regression Results                            \n",
              "==============================================================================\n",
              "Dep. Variable:                      y   R-squared:                       0.906\n",
              "Model:                            OLS   Adj. R-squared:                  0.905\n",
              "Method:                 Least Squares   F-statistic:                     561.0\n",
              "Date:                Fri, 29 Jan 2021   Prob (F-statistic):           1.66e-31\n",
              "Time:                        18:37:55   Log-Likelihood:                -17.174\n",
              "No. Observations:                  60   AIC:                             38.35\n",
              "Df Residuals:                      58   BIC:                             42.54\n",
              "Df Model:                           1                                         \n",
              "Covariance Type:            nonrobust                                         \n",
              "==============================================================================\n",
              "                 coef    std err          t      P>|t|      [0.025      0.975]\n",
              "------------------------------------------------------------------------------\n",
              "const         82.2774      0.096    852.773      0.000      82.084      82.471\n",
              "x1            -0.0579      0.002    -23.685      0.000      -0.063      -0.053\n",
              "==============================================================================\n",
              "Omnibus:                        6.258   Durbin-Watson:                   0.193\n",
              "Prob(Omnibus):                  0.044   Jarque-Bera (JB):                4.295\n",
              "Skew:                          -0.504   Prob(JB):                        0.117\n",
              "Kurtosis:                       2.163   Cond. No.                         90.1\n",
              "==============================================================================\n",
              "\n",
              "Warnings:\n",
              "[1] Standard Errors assume that the covariance matrix of the errors is correctly specified.\n",
              "\"\"\""
            ]
          },
          "metadata": {
            "tags": []
          },
          "execution_count": 6
        }
      ]
    },
    {
      "cell_type": "markdown",
      "metadata": {
        "id": "ILUOwW5DkUfQ"
      },
      "source": [
        "## Result interpretation\r\n",
        "\r\n",
        "##### R-squared values is closer to one showing that the model has a good fit.\r\n",
        "\r\n",
        "##### As the Prob (F-statistic) is less than 0.05 we can reject the null hypothesis ( the intercept only model is same as the co-effiecent model. if the null hypothesis was true the model would be useless. However this is not the case.\r\n",
        "\r\n",
        "##### x1- p-value is equal to zero which can be interpreted as the feature co-efficient is not zero, tehrefore does have a relationship with the target."
      ]
    },
    {
      "cell_type": "code",
      "metadata": {
        "colab": {
          "base_uri": "https://localhost:8080/"
        },
        "id": "yLg3KbTT9DSw",
        "outputId": "3d5ba8c4-243f-406b-c6a1-e9d976057c58"
      },
      "source": [
        "#confidence level 95%\r\n",
        "intercept, slope = results.params\r\n",
        "CI_abs = resolution*results.conf_int(alpha = 0.05)[1]\r\n",
        "CIL_abs = CI_abs[1]\r\n",
        "CIH_abs = CI_abs[0]\r\n",
        "round(CIL_abs,2),round(CIH_abs,2)\r\n",
        "\r\n",
        "DR_abs = round(resolution*slope, 2)\r\n",
        "DR_abs"
      ],
      "execution_count": 7,
      "outputs": [
        {
          "output_type": "execute_result",
          "data": {
            "text/plain": [
              "-0.69"
            ]
          },
          "metadata": {
            "tags": []
          },
          "execution_count": 7
        }
      ]
    },
    {
      "cell_type": "code",
      "metadata": {
        "colab": {
          "base_uri": "https://localhost:8080/"
        },
        "id": "QFQ3D2XQnG7b",
        "outputId": "dbefba5a-5e8b-40ef-adcb-e35eec534e6e"
      },
      "source": [
        "results.params"
      ],
      "execution_count": 8,
      "outputs": [
        {
          "output_type": "execute_result",
          "data": {
            "text/plain": [
              "array([ 8.22774293e+01, -5.78540335e-02])"
            ]
          },
          "metadata": {
            "tags": []
          },
          "execution_count": 8
        }
      ]
    },
    {
      "cell_type": "code",
      "metadata": {
        "colab": {
          "base_uri": "https://localhost:8080/"
        },
        "id": "x6tepcsw5ebq",
        "outputId": "9b9104ef-17b6-4c4b-c818-14f0f788d8e4"
      },
      "source": [
        "#confidence level 95%\r\n",
        "CI_rel = 100*resolution*results.conf_int(alpha = 0.05)[1]/intercept\r\n",
        "CIL_rel = CI_rel[1]\r\n",
        "CIH_rel = CI_rel[0]\r\n",
        "round(CIL_rel,2),round(CIH_rel,2)\r\n",
        "\r\n",
        "DR_rel = round(100*resolution*slope/intercept,2)\r\n",
        "DR_rel"
      ],
      "execution_count": 9,
      "outputs": [
        {
          "output_type": "execute_result",
          "data": {
            "text/plain": [
              "-0.84"
            ]
          },
          "metadata": {
            "tags": []
          },
          "execution_count": 9
        }
      ]
    },
    {
      "cell_type": "code",
      "metadata": {
        "colab": {
          "base_uri": "https://localhost:8080/",
          "height": 302
        },
        "id": "310ltslg9ItI",
        "outputId": "e8fc0f0c-5435-4705-f121-d671f81be174"
      },
      "source": [
        "sns.regplot(y = trend_df['Trend'], x = trend_df['Month'], data = leicester_1, color='g')\r\n",
        "plt.ylabel(\"PR(%)\",fontsize=15)\r\n",
        "plt.xlabel(\"Month\", fontsize=15)\r\n",
        "plt.ylim(65,90)\r\n",
        "plt.xlim(0, 80)\r\n",
        "plt.title(\"Degradation Rate for leicester PV-1\",fontsize=18)\r\n",
        "plt.grid(True)\r\n",
        "plt.show()"
      ],
      "execution_count": 10,
      "outputs": [
        {
          "output_type": "display_data",
          "data": {
            "image/png": "[encoded data removed]",
            "text/plain": [
              "<Figure size 432x288 with 1 Axes>"
            ]
          },
          "metadata": {
            "tags": [],
            "needs_background": "light"
          }
        }
      ]
    },
    {
      "cell_type": "markdown",
      "metadata": {
        "id": "zRx6zB-IWLYW"
      },
      "source": [
        "##### Yearly degredation for leicester PV-1 range -0.69 & -0.84%"
      ]
    },
    {
      "cell_type": "markdown",
      "metadata": {
        "id": "dJXOkgJcW4Jf"
      },
      "source": [
        "# Degredation Analysis for leicester PV-02"
      ]
    },
    {
      "cell_type": "code",
      "metadata": {
        "id": "pUplML198Plh"
      },
      "source": [
        "leicester_2 = pd.read_csv('/content/drive/MyDrive/PHD/Data/Leicester2.csv')"
      ],
      "execution_count": 12,
      "outputs": []
    },
    {
      "cell_type": "code",
      "metadata": {
        "colab": {
          "base_uri": "https://localhost:8080/",
          "height": 279
        },
        "id": "pPf5APCSXJE2",
        "outputId": "7ba5f12e-9621-4888-9e39-cefbc679c153"
      },
      "source": [
        "fig, axs = plt.subplots()\r\n",
        "axs.plot(leicester_2.index, leicester_2.PR, 'o-', alpha = 0.5,color='g')\r\n",
        "axs.set_ylabel('PR (%)');\r\n",
        "axs.set_xlabel('Month')\r\n",
        "\r\n",
        "resolution = 12\r\n",
        "s=sm.tsa.seasonal_decompose(leicester_2.PR, model = 'multiplicative', freq = resolution)\r\n",
        "#s.plot()"
      ],
      "execution_count": 13,
      "outputs": [
        {
          "output_type": "display_data",
          "data": {
            "image/png": "[encoded data removed]",
            "text/plain": [
              "<Figure size 432x288 with 1 Axes>"
            ]
          },
          "metadata": {
            "tags": [],
            "needs_background": "light"
          }
        }
      ]
    },
    {
      "cell_type": "code",
      "metadata": {
        "id": "HzpDxyEIXTjL"
      },
      "source": [
        "trend_df = pd.DataFrame(list(s.trend), columns = ['Trend'])\r\n",
        "trend_df.insert(loc=0, column = 'Month', value=np.arange(len(trend_df)))\r\n",
        "trend_df=trend_df[np.isfinite(trend_df['Trend'])]\r\n",
        "y = trend_df.Trend\r\n",
        "x = trend_df.Month\r\n",
        "x, y = np.array(x), np.array(y)\r\n",
        "\r\n",
        "x = sm.add_constant(x)"
      ],
      "execution_count": 14,
      "outputs": []
    },
    {
      "cell_type": "code",
      "metadata": {
        "colab": {
          "base_uri": "https://localhost:8080/",
          "height": 426
        },
        "id": "pw0kIgxTXoDK",
        "outputId": "aa8b2fad-83f2-4bef-9a7a-43b7f779b6c5"
      },
      "source": [
        "model = sm.OLS(y,x)\r\n",
        "results = model.fit()\r\n",
        "results.summary()"
      ],
      "execution_count": 15,
      "outputs": [
        {
          "output_type": "execute_result",
          "data": {
            "text/html": [
              "<table class=\"simpletable\">\n",
              "<caption>OLS Regression Results</caption>\n",
              "<tr>\n",
              "  <th>Dep. Variable:</th>            <td>y</td>        <th>  R-squared:         </th> <td>   0.717</td>\n",
              "</tr>\n",
              "<tr>\n",
              "  <th>Model:</th>                   <td>OLS</td>       <th>  Adj. R-squared:    </th> <td>   0.712</td>\n",
              "</tr>\n",
              "<tr>\n",
              "  <th>Method:</th>             <td>Least Squares</td>  <th>  F-statistic:       </th> <td>   146.8</td>\n",
              "</tr>\n",
              "<tr>\n",
              "  <th>Date:</th>             <td>Fri, 29 Jan 2021</td> <th>  Prob (F-statistic):</th> <td>1.58e-17</td>\n",
              "</tr>\n",
              "<tr>\n",
              "  <th>Time:</th>                 <td>18:42:04</td>     <th>  Log-Likelihood:    </th> <td> -55.272</td>\n",
              "</tr>\n",
              "<tr>\n",
              "  <th>No. Observations:</th>      <td>    60</td>      <th>  AIC:               </th> <td>   114.5</td>\n",
              "</tr>\n",
              "<tr>\n",
              "  <th>Df Residuals:</th>          <td>    58</td>      <th>  BIC:               </th> <td>   118.7</td>\n",
              "</tr>\n",
              "<tr>\n",
              "  <th>Df Model:</th>              <td>     1</td>      <th>                     </th>     <td> </td>   \n",
              "</tr>\n",
              "<tr>\n",
              "  <th>Covariance Type:</th>      <td>nonrobust</td>    <th>                     </th>     <td> </td>   \n",
              "</tr>\n",
              "</table>\n",
              "<table class=\"simpletable\">\n",
              "<tr>\n",
              "    <td></td>       <th>coef</th>     <th>std err</th>      <th>t</th>      <th>P>|t|</th>  <th>[0.025</th>    <th>0.975]</th>  \n",
              "</tr>\n",
              "<tr>\n",
              "  <th>const</th> <td>   81.2187</td> <td>    0.182</td> <td>  446.118</td> <td> 0.000</td> <td>   80.854</td> <td>   81.583</td>\n",
              "</tr>\n",
              "<tr>\n",
              "  <th>x1</th>    <td>   -0.0558</td> <td>    0.005</td> <td>  -12.117</td> <td> 0.000</td> <td>   -0.065</td> <td>   -0.047</td>\n",
              "</tr>\n",
              "</table>\n",
              "<table class=\"simpletable\">\n",
              "<tr>\n",
              "  <th>Omnibus:</th>       <td> 2.549</td> <th>  Durbin-Watson:     </th> <td>   0.109</td>\n",
              "</tr>\n",
              "<tr>\n",
              "  <th>Prob(Omnibus):</th> <td> 0.280</td> <th>  Jarque-Bera (JB):  </th> <td>   1.496</td>\n",
              "</tr>\n",
              "<tr>\n",
              "  <th>Skew:</th>          <td> 0.022</td> <th>  Prob(JB):          </th> <td>   0.473</td>\n",
              "</tr>\n",
              "<tr>\n",
              "  <th>Kurtosis:</th>      <td> 2.228</td> <th>  Cond. No.          </th> <td>    90.1</td>\n",
              "</tr>\n",
              "</table><br/><br/>Warnings:<br/>[1] Standard Errors assume that the covariance matrix of the errors is correctly specified."
            ],
            "text/plain": [
              "<class 'statsmodels.iolib.summary.Summary'>\n",
              "\"\"\"\n",
              "                            OLS Regression Results                            \n",
              "==============================================================================\n",
              "Dep. Variable:                      y   R-squared:                       0.717\n",
              "Model:                            OLS   Adj. R-squared:                  0.712\n",
              "Method:                 Least Squares   F-statistic:                     146.8\n",
              "Date:                Fri, 29 Jan 2021   Prob (F-statistic):           1.58e-17\n",
              "Time:                        18:42:04   Log-Likelihood:                -55.272\n",
              "No. Observations:                  60   AIC:                             114.5\n",
              "Df Residuals:                      58   BIC:                             118.7\n",
              "Df Model:                           1                                         \n",
              "Covariance Type:            nonrobust                                         \n",
              "==============================================================================\n",
              "                 coef    std err          t      P>|t|      [0.025      0.975]\n",
              "------------------------------------------------------------------------------\n",
              "const         81.2187      0.182    446.118      0.000      80.854      81.583\n",
              "x1            -0.0558      0.005    -12.117      0.000      -0.065      -0.047\n",
              "==============================================================================\n",
              "Omnibus:                        2.549   Durbin-Watson:                   0.109\n",
              "Prob(Omnibus):                  0.280   Jarque-Bera (JB):                1.496\n",
              "Skew:                           0.022   Prob(JB):                        0.473\n",
              "Kurtosis:                       2.228   Cond. No.                         90.1\n",
              "==============================================================================\n",
              "\n",
              "Warnings:\n",
              "[1] Standard Errors assume that the covariance matrix of the errors is correctly specified.\n",
              "\"\"\""
            ]
          },
          "metadata": {
            "tags": []
          },
          "execution_count": 15
        }
      ]
    },
    {
      "cell_type": "markdown",
      "metadata": {
        "id": "bYzLVgJCX1Lp"
      },
      "source": [
        "## Result interpretation\r\n",
        "\r\n",
        "##### R-squared values is closer to one showing that the model has a good fit.\r\n",
        "\r\n",
        "##### As the Prob (F-statistic) is less than 0.05 we can reject the null hypothesis ( the intercept only model is same as the co-effiecent model. if the null hypothesis was true the model would be useless. However this is not the case.\r\n",
        "\r\n",
        "##### x1- p-value is equal to zero which can be interpreted as the feature co-efficient is not zero, thErefore does have a relationship with the target."
      ]
    },
    {
      "cell_type": "code",
      "metadata": {
        "colab": {
          "base_uri": "https://localhost:8080/"
        },
        "id": "H_w08BjiXt-z",
        "outputId": "1acc4c8f-48ab-4295-83bf-2a518fa8ff72"
      },
      "source": [
        "#confidence level 95%\r\n",
        "intercept, slope = results.params\r\n",
        "CI_abs = resolution*results.conf_int(alpha = 0.05)[1]\r\n",
        "CIL_abs = CI_abs[1]\r\n",
        "CIH_abs = CI_abs[0]\r\n",
        "round(CIL_abs,2),round(CIH_abs,2)\r\n",
        "\r\n",
        "DR_abs = round(resolution*slope, 2)\r\n",
        "DR_abs"
      ],
      "execution_count": 16,
      "outputs": [
        {
          "output_type": "execute_result",
          "data": {
            "text/plain": [
              "-0.67"
            ]
          },
          "metadata": {
            "tags": []
          },
          "execution_count": 16
        }
      ]
    },
    {
      "cell_type": "code",
      "metadata": {
        "colab": {
          "base_uri": "https://localhost:8080/"
        },
        "id": "yF2EVpdPYEzP",
        "outputId": "31522f19-5f92-4c30-f5e5-542a4ed340fa"
      },
      "source": [
        "results.params"
      ],
      "execution_count": 17,
      "outputs": [
        {
          "output_type": "execute_result",
          "data": {
            "text/plain": [
              "array([ 8.12187452e+01, -5.58488469e-02])"
            ]
          },
          "metadata": {
            "tags": []
          },
          "execution_count": 17
        }
      ]
    },
    {
      "cell_type": "code",
      "metadata": {
        "colab": {
          "base_uri": "https://localhost:8080/"
        },
        "id": "ibO5yPcjYJtv",
        "outputId": "70f266b9-06fb-4e37-a966-9721ba4fc2d8"
      },
      "source": [
        "#confidence level 95%\r\n",
        "CI_rel = 100*resolution*results.conf_int(alpha = 0.05)[1]/intercept\r\n",
        "CIL_rel = CI_rel[1]\r\n",
        "CIH_rel = CI_rel[0]\r\n",
        "round(CIL_rel,2),round(CIH_rel,2)\r\n",
        "\r\n",
        "DR_rel = round(100*resolution*slope/intercept,2)\r\n",
        "DR_rel"
      ],
      "execution_count": 18,
      "outputs": [
        {
          "output_type": "execute_result",
          "data": {
            "text/plain": [
              "-0.83"
            ]
          },
          "metadata": {
            "tags": []
          },
          "execution_count": 18
        }
      ]
    },
    {
      "cell_type": "code",
      "metadata": {
        "colab": {
          "base_uri": "https://localhost:8080/",
          "height": 302
        },
        "id": "eeeuPuWZYOCL",
        "outputId": "72e27640-3bce-4df4-d52e-4d81e310063c"
      },
      "source": [
        "sns.regplot(y = trend_df['Trend'], x = trend_df['Month'], data = leicester_2, color='g')\r\n",
        "plt.ylabel(\"PR(%)\",fontsize=15)\r\n",
        "plt.xlabel(\"Month\", fontsize=15)\r\n",
        "plt.ylim(65,90)\r\n",
        "plt.xlim(0, 80)\r\n",
        "plt.title(\"Degradation Rate for leicester PV-2\",fontsize=18)\r\n",
        "plt.grid(True)\r\n",
        "plt.show()"
      ],
      "execution_count": 19,
      "outputs": [
        {
          "output_type": "display_data",
          "data": {
            "image/png": "[encoded data removed]",
            "text/plain": [
              "<Figure size 432x288 with 1 Axes>"
            ]
          },
          "metadata": {
            "tags": [],
            "needs_background": "light"
          }
        }
      ]
    },
    {
      "cell_type": "markdown",
      "metadata": {
        "id": "VUweVJtgYa8F"
      },
      "source": [
        "##### Yearly degredation for leicester PV-2 range -0.67 & -0.83%"
      ]
    },
    {
      "cell_type": "markdown",
      "metadata": {
        "id": "ek0I1gUNYjou"
      },
      "source": [
        "# Degredation Analysis for leicester PV-03"
      ]
    },
    {
      "cell_type": "code",
      "metadata": {
        "id": "abuAHihNYVvO"
      },
      "source": [
        "leicester_3 = pd.read_csv('/content/drive/MyDrive/PHD/Data/Leicester3.csv')"
      ],
      "execution_count": 21,
      "outputs": []
    },
    {
      "cell_type": "code",
      "metadata": {
        "colab": {
          "base_uri": "https://localhost:8080/",
          "height": 279
        },
        "id": "ANt-Ok5CYqoc",
        "outputId": "1acd99d5-9000-40ed-de93-98c83e23590c"
      },
      "source": [
        "fig, axs = plt.subplots()\r\n",
        "axs.plot(leicester_3.index, leicester_3.PR, 'o-', alpha = 0.5,color='g')\r\n",
        "axs.set_ylabel('PR (%)');\r\n",
        "axs.set_xlabel('Month')\r\n",
        "\r\n",
        "resolution = 12\r\n",
        "s=sm.tsa.seasonal_decompose(leicester_3.PR, model = 'multiplicative', freq = resolution)\r\n",
        "#s.plot()"
      ],
      "execution_count": 23,
      "outputs": [
        {
          "output_type": "display_data",
          "data": {
            "image/png": "[encoded data removed]",
            "text/plain": [
              "<Figure size 432x288 with 1 Axes>"
            ]
          },
          "metadata": {
            "tags": [],
            "needs_background": "light"
          }
        }
      ]
    },
    {
      "cell_type": "code",
      "metadata": {
        "id": "1uQum_UQY4D2"
      },
      "source": [
        "trend_df = pd.DataFrame(list(s.trend), columns = ['Trend'])\r\n",
        "trend_df.insert(loc=0, column = 'Month', value=np.arange(len(trend_df)))\r\n",
        "trend_df=trend_df[np.isfinite(trend_df['Trend'])]\r\n",
        "y = trend_df.Trend\r\n",
        "x = trend_df.Month\r\n",
        "x, y = np.array(x), np.array(y)\r\n",
        "\r\n",
        "x = sm.add_constant(x)"
      ],
      "execution_count": 24,
      "outputs": []
    },
    {
      "cell_type": "code",
      "metadata": {
        "colab": {
          "base_uri": "https://localhost:8080/",
          "height": 426
        },
        "id": "iAL-dlZuZHhq",
        "outputId": "058fe594-3402-428b-8a84-eb130f6d2d6d"
      },
      "source": [
        "model = sm.OLS(y,x)\r\n",
        "results = model.fit()\r\n",
        "results.summary()"
      ],
      "execution_count": 25,
      "outputs": [
        {
          "output_type": "execute_result",
          "data": {
            "text/html": [
              "<table class=\"simpletable\">\n",
              "<caption>OLS Regression Results</caption>\n",
              "<tr>\n",
              "  <th>Dep. Variable:</th>            <td>y</td>        <th>  R-squared:         </th> <td>   0.725</td>\n",
              "</tr>\n",
              "<tr>\n",
              "  <th>Model:</th>                   <td>OLS</td>       <th>  Adj. R-squared:    </th> <td>   0.720</td>\n",
              "</tr>\n",
              "<tr>\n",
              "  <th>Method:</th>             <td>Least Squares</td>  <th>  F-statistic:       </th> <td>   152.9</td>\n",
              "</tr>\n",
              "<tr>\n",
              "  <th>Date:</th>             <td>Fri, 29 Jan 2021</td> <th>  Prob (F-statistic):</th> <td>6.69e-18</td>\n",
              "</tr>\n",
              "<tr>\n",
              "  <th>Time:</th>                 <td>18:45:11</td>     <th>  Log-Likelihood:    </th> <td> -42.879</td>\n",
              "</tr>\n",
              "<tr>\n",
              "  <th>No. Observations:</th>      <td>    60</td>      <th>  AIC:               </th> <td>   89.76</td>\n",
              "</tr>\n",
              "<tr>\n",
              "  <th>Df Residuals:</th>          <td>    58</td>      <th>  BIC:               </th> <td>   93.95</td>\n",
              "</tr>\n",
              "<tr>\n",
              "  <th>Df Model:</th>              <td>     1</td>      <th>                     </th>     <td> </td>   \n",
              "</tr>\n",
              "<tr>\n",
              "  <th>Covariance Type:</th>      <td>nonrobust</td>    <th>                     </th>     <td> </td>   \n",
              "</tr>\n",
              "</table>\n",
              "<table class=\"simpletable\">\n",
              "<tr>\n",
              "    <td></td>       <th>coef</th>     <th>std err</th>      <th>t</th>      <th>P>|t|</th>  <th>[0.025</th>    <th>0.975]</th>  \n",
              "</tr>\n",
              "<tr>\n",
              "  <th>const</th> <td>   80.7590</td> <td>    0.148</td> <td>  545.362</td> <td> 0.000</td> <td>   80.463</td> <td>   81.055</td>\n",
              "</tr>\n",
              "<tr>\n",
              "  <th>x1</th>    <td>   -0.0464</td> <td>    0.004</td> <td>  -12.366</td> <td> 0.000</td> <td>   -0.054</td> <td>   -0.039</td>\n",
              "</tr>\n",
              "</table>\n",
              "<table class=\"simpletable\">\n",
              "<tr>\n",
              "  <th>Omnibus:</th>       <td> 3.478</td> <th>  Durbin-Watson:     </th> <td>   0.104</td>\n",
              "</tr>\n",
              "<tr>\n",
              "  <th>Prob(Omnibus):</th> <td> 0.176</td> <th>  Jarque-Bera (JB):  </th> <td>   2.521</td>\n",
              "</tr>\n",
              "<tr>\n",
              "  <th>Skew:</th>          <td>-0.342</td> <th>  Prob(JB):          </th> <td>   0.284</td>\n",
              "</tr>\n",
              "<tr>\n",
              "  <th>Kurtosis:</th>      <td> 2.265</td> <th>  Cond. No.          </th> <td>    90.1</td>\n",
              "</tr>\n",
              "</table><br/><br/>Warnings:<br/>[1] Standard Errors assume that the covariance matrix of the errors is correctly specified."
            ],
            "text/plain": [
              "<class 'statsmodels.iolib.summary.Summary'>\n",
              "\"\"\"\n",
              "                            OLS Regression Results                            \n",
              "==============================================================================\n",
              "Dep. Variable:                      y   R-squared:                       0.725\n",
              "Model:                            OLS   Adj. R-squared:                  0.720\n",
              "Method:                 Least Squares   F-statistic:                     152.9\n",
              "Date:                Fri, 29 Jan 2021   Prob (F-statistic):           6.69e-18\n",
              "Time:                        18:45:11   Log-Likelihood:                -42.879\n",
              "No. Observations:                  60   AIC:                             89.76\n",
              "Df Residuals:                      58   BIC:                             93.95\n",
              "Df Model:                           1                                         \n",
              "Covariance Type:            nonrobust                                         \n",
              "==============================================================================\n",
              "                 coef    std err          t      P>|t|      [0.025      0.975]\n",
              "------------------------------------------------------------------------------\n",
              "const         80.7590      0.148    545.362      0.000      80.463      81.055\n",
              "x1            -0.0464      0.004    -12.366      0.000      -0.054      -0.039\n",
              "==============================================================================\n",
              "Omnibus:                        3.478   Durbin-Watson:                   0.104\n",
              "Prob(Omnibus):                  0.176   Jarque-Bera (JB):                2.521\n",
              "Skew:                          -0.342   Prob(JB):                        0.284\n",
              "Kurtosis:                       2.265   Cond. No.                         90.1\n",
              "==============================================================================\n",
              "\n",
              "Warnings:\n",
              "[1] Standard Errors assume that the covariance matrix of the errors is correctly specified.\n",
              "\"\"\""
            ]
          },
          "metadata": {
            "tags": []
          },
          "execution_count": 25
        }
      ]
    },
    {
      "cell_type": "markdown",
      "metadata": {
        "id": "sWgCcgpWZaaF"
      },
      "source": [
        "## Result interpretation\r\n",
        "\r\n",
        "##### R-squared values is closer to one showing that the model has a good fit.\r\n",
        "\r\n",
        "##### As the Prob (F-statistic) is less than 0.05 we can reject the null hypothesis ( the intercept only model is same as the co-effiecent model. if the null hypothesis was true the model would be useless. However this is not the case.\r\n",
        "\r\n",
        "##### x1- p-value is equal to zero which can be interpreted as the feature co-efficient is not zero, thErefore does have a relationship with the target."
      ]
    },
    {
      "cell_type": "code",
      "metadata": {
        "colab": {
          "base_uri": "https://localhost:8080/"
        },
        "id": "UAdx9cuiZO1O",
        "outputId": "88fb6379-07cf-4a7a-b315-dae00c9e9511"
      },
      "source": [
        "#confidence level 95%\r\n",
        "intercept, slope = results.params\r\n",
        "CI_abs = resolution*results.conf_int(alpha = 0.05)[1]\r\n",
        "CIL_abs = CI_abs[1]\r\n",
        "CIH_abs = CI_abs[0]\r\n",
        "round(CIL_abs,2),round(CIH_abs,2)\r\n",
        "\r\n",
        "DR_abs = round(resolution*slope, 2)\r\n",
        "DR_abs"
      ],
      "execution_count": 26,
      "outputs": [
        {
          "output_type": "execute_result",
          "data": {
            "text/plain": [
              "-0.56"
            ]
          },
          "metadata": {
            "tags": []
          },
          "execution_count": 26
        }
      ]
    },
    {
      "cell_type": "code",
      "metadata": {
        "colab": {
          "base_uri": "https://localhost:8080/"
        },
        "id": "OCFgaTMYaoUM",
        "outputId": "5e431bfc-1f0f-472d-c978-e514faf23da0"
      },
      "source": [
        "results.params"
      ],
      "execution_count": 27,
      "outputs": [
        {
          "output_type": "execute_result",
          "data": {
            "text/plain": [
              "array([ 8.07590191e+01, -4.63612578e-02])"
            ]
          },
          "metadata": {
            "tags": []
          },
          "execution_count": 27
        }
      ]
    },
    {
      "cell_type": "code",
      "metadata": {
        "colab": {
          "base_uri": "https://localhost:8080/"
        },
        "id": "DYPkx7riatNi",
        "outputId": "9acac2a3-37ea-42c1-d698-9a7869b2329d"
      },
      "source": [
        "#confidence level 95%\r\n",
        "CI_rel = 100*resolution*results.conf_int(alpha = 0.05)[1]/intercept\r\n",
        "CIL_rel = CI_rel[1]\r\n",
        "CIH_rel = CI_rel[0]\r\n",
        "round(CIL_rel,2),round(CIH_rel,2)\r\n",
        "\r\n",
        "DR_rel = round(100*resolution*slope/intercept,2)\r\n",
        "DR_rel"
      ],
      "execution_count": 28,
      "outputs": [
        {
          "output_type": "execute_result",
          "data": {
            "text/plain": [
              "-0.69"
            ]
          },
          "metadata": {
            "tags": []
          },
          "execution_count": 28
        }
      ]
    },
    {
      "cell_type": "code",
      "metadata": {
        "colab": {
          "base_uri": "https://localhost:8080/",
          "height": 302
        },
        "id": "XPuMsoY6azki",
        "outputId": "4e0addce-9fb3-4a04-c05a-f075f18e20ce"
      },
      "source": [
        "sns.regplot(y = trend_df['Trend'], x = trend_df['Month'], data = leicester_3, color='g')\r\n",
        "plt.ylabel(\"PR(%)\",fontsize=15)\r\n",
        "plt.xlabel(\"Month\", fontsize=15)\r\n",
        "plt.ylim(65,90)\r\n",
        "plt.xlim(0, 80)\r\n",
        "plt.title(\"Degradation Rate for leicester PV-3\",fontsize=18)\r\n",
        "plt.grid(True)\r\n",
        "plt.show()"
      ],
      "execution_count": 29,
      "outputs": [
        {
          "output_type": "display_data",
          "data": {
            "image/png": "[encoded data removed]",
            "text/plain": [
              "<Figure size 432x288 with 1 Axes>"
            ]
          },
          "metadata": {
            "tags": [],
            "needs_background": "light"
          }
        }
      ]
    },
    {
      "cell_type": "markdown",
      "metadata": {
        "id": "2zfgUg2ia-3i"
      },
      "source": [
        "##### Yearly degredation for Bedford PV-3 range -0.56 & -0.69%"
      ]
    },
    {
      "cell_type": "code",
      "metadata": {
        "id": "gQpBs-p_a3wC"
      },
      "source": [
        ""
      ],
      "execution_count": null,
      "outputs": []
    }
  ]
}