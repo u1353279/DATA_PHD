{
  "nbformat": 4,
  "nbformat_minor": 0,
  "metadata": {
    "colab": {
      "name": "Bedford-Degdredation.ipynb",
      "provenance": [],
      "collapsed_sections": [],
      "toc_visible": true,
      "mount_file_id": "1XUOVAHgWXLyFX_rgJCDU8j1nfOyT_P2d",
      "authorship_tag": "ABX9TyNnHQ7wRXqV5fA218MHsz7z",
      "include_colab_link": true
    },
    "kernelspec": {
      "name": "python3",
      "display_name": "Python 3"
    }
  },
  "cells": [
    {
      "cell_type": "markdown",
      "metadata": {
        "id": "view-in-github",
        "colab_type": "text"
      },
      "source": [
        "<a href=\"https://colab.research.google.com/github/u1353279/DATA_PHD/blob/main/Bedford_Degdredation.ipynb\" target=\"_parent\"><img src=\"https://colab.research.google.com/assets/colab-badge.svg\" alt=\"Open In Colab\"/></a>"
      ]
    },
    {
      "cell_type": "code",
      "metadata": {
        "id": "m_QZ8Eby4egm",
        "colab": {
          "base_uri": "https://localhost:8080/"
        },
        "outputId": "07bb77db-e78d-44ff-93f9-3c951f3e72ec"
      },
      "source": [
        "import pandas as pd\r\n",
        "import numpy as np\r\n",
        "import seaborn as sns\r\n",
        "import statsmodels.api as sm\r\n",
        "from matplotlib import pyplot as plt\r\n",
        "from pandas.plotting import register_matplotlib_converters\r\n",
        "register_matplotlib_converters()\r\n",
        "\r\n",
        "# settings\r\n",
        "plt.style.use('seaborn')\r\n",
        "plt.rcParams[\"figure.figsize\"] = (9, 9)"
      ],
      "execution_count": 1,
      "outputs": [
        {
          "output_type": "stream",
          "text": [
            "/usr/local/lib/python3.6/dist-packages/statsmodels/tools/_testing.py:19: FutureWarning: pandas.util.testing is deprecated. Use the functions in the public API at pandas.testing instead.\n",
            "  import pandas.util.testing as tm\n"
          ],
          "name": "stderr"
        }
      ]
    },
    {
      "cell_type": "markdown",
      "metadata": {
        "id": "qaJSManIBBWM"
      },
      "source": [
        "#Degredation Analysis for Bedford PV-01"
      ]
    },
    {
      "cell_type": "code",
      "metadata": {
        "id": "BcUC60yr5ZJ9"
      },
      "source": [
        "bedford_1 = pd.read_csv('/content/drive/MyDrive/PHD/Data/Bedford1.csv')"
      ],
      "execution_count": 2,
      "outputs": []
    },
    {
      "cell_type": "code",
      "metadata": {
        "colab": {
          "base_uri": "https://localhost:8080/",
          "height": 279
        },
        "id": "7Rh6K84M8o9g",
        "outputId": "f5aaefed-97fd-4d31-945a-ac2cfb170f58"
      },
      "source": [
        "fig, axs = plt.subplots()\r\n",
        "axs.plot(bedford_1.index, bedford_1.PR, 'o-', alpha = 0.5,color='g')\r\n",
        "axs.set_ylabel('PR (%)');\r\n",
        "axs.set_xlabel('Month')\r\n",
        "\r\n",
        "resolution = 12\r\n",
        "s=sm.tsa.seasonal_decompose(bedford_1.PR, model = 'multiplicative', freq = resolution)\r\n",
        "#s.plot()"
      ],
      "execution_count": 10,
      "outputs": [
        {
          "output_type": "display_data",
          "data": {
            "image/png": "[encoded data removed]",
            "text/plain": [
              "<Figure size 432x288 with 1 Axes>"
            ]
          },
          "metadata": {
            "tags": [],
            "needs_background": "light"
          }
        }
      ]
    },
    {
      "cell_type": "code",
      "metadata": {
        "id": "75MiH3g681sW"
      },
      "source": [
        "trend_df = pd.DataFrame(list(s.trend), columns = ['Trend'])\r\n",
        "trend_df.insert(loc=0, column = 'Month', value=np.arange(len(trend_df)))\r\n",
        "trend_df=trend_df[np.isfinite(trend_df['Trend'])]\r\n",
        "y = trend_df.Trend\r\n",
        "x = trend_df.Month\r\n",
        "x, y = np.array(x), np.array(y)\r\n",
        "\r\n",
        "x = sm.add_constant(x)"
      ],
      "execution_count": 4,
      "outputs": []
    },
    {
      "cell_type": "code",
      "metadata": {
        "colab": {
          "base_uri": "https://localhost:8080/",
          "height": 426
        },
        "id": "i8YZxeBc898K",
        "outputId": "44f8d984-bde0-4e72-a025-9e3e8e265e3e"
      },
      "source": [
        "model = sm.OLS(y,x)\r\n",
        "results = model.fit()\r\n",
        "results.summary()"
      ],
      "execution_count": 5,
      "outputs": [
        {
          "output_type": "execute_result",
          "data": {
            "text/html": [
              "<table class=\"simpletable\">\n",
              "<caption>OLS Regression Results</caption>\n",
              "<tr>\n",
              "  <th>Dep. Variable:</th>            <td>y</td>        <th>  R-squared:         </th> <td>   0.709</td>\n",
              "</tr>\n",
              "<tr>\n",
              "  <th>Model:</th>                   <td>OLS</td>       <th>  Adj. R-squared:    </th> <td>   0.704</td>\n",
              "</tr>\n",
              "<tr>\n",
              "  <th>Method:</th>             <td>Least Squares</td>  <th>  F-statistic:       </th> <td>   141.1</td>\n",
              "</tr>\n",
              "<tr>\n",
              "  <th>Date:</th>             <td>Fri, 29 Jan 2021</td> <th>  Prob (F-statistic):</th> <td>3.59e-17</td>\n",
              "</tr>\n",
              "<tr>\n",
              "  <th>Time:</th>                 <td>18:09:25</td>     <th>  Log-Likelihood:    </th> <td> -57.052</td>\n",
              "</tr>\n",
              "<tr>\n",
              "  <th>No. Observations:</th>      <td>    60</td>      <th>  AIC:               </th> <td>   118.1</td>\n",
              "</tr>\n",
              "<tr>\n",
              "  <th>Df Residuals:</th>          <td>    58</td>      <th>  BIC:               </th> <td>   122.3</td>\n",
              "</tr>\n",
              "<tr>\n",
              "  <th>Df Model:</th>              <td>     1</td>      <th>                     </th>     <td> </td>   \n",
              "</tr>\n",
              "<tr>\n",
              "  <th>Covariance Type:</th>      <td>nonrobust</td>    <th>                     </th>     <td> </td>   \n",
              "</tr>\n",
              "</table>\n",
              "<table class=\"simpletable\">\n",
              "<tr>\n",
              "    <td></td>       <th>coef</th>     <th>std err</th>      <th>t</th>      <th>P>|t|</th>  <th>[0.025</th>    <th>0.975]</th>  \n",
              "</tr>\n",
              "<tr>\n",
              "  <th>const</th> <td>   85.4024</td> <td>    0.188</td> <td>  455.390</td> <td> 0.000</td> <td>   85.027</td> <td>   85.778</td>\n",
              "</tr>\n",
              "<tr>\n",
              "  <th>x1</th>    <td>   -0.0564</td> <td>    0.005</td> <td>  -11.880</td> <td> 0.000</td> <td>   -0.066</td> <td>   -0.047</td>\n",
              "</tr>\n",
              "</table>\n",
              "<table class=\"simpletable\">\n",
              "<tr>\n",
              "  <th>Omnibus:</th>       <td> 4.396</td> <th>  Durbin-Watson:     </th> <td>   0.054</td>\n",
              "</tr>\n",
              "<tr>\n",
              "  <th>Prob(Omnibus):</th> <td> 0.111</td> <th>  Jarque-Bera (JB):  </th> <td>   3.466</td>\n",
              "</tr>\n",
              "<tr>\n",
              "  <th>Skew:</th>          <td> 0.466</td> <th>  Prob(JB):          </th> <td>   0.177</td>\n",
              "</tr>\n",
              "<tr>\n",
              "  <th>Kurtosis:</th>      <td> 2.281</td> <th>  Cond. No.          </th> <td>    90.1</td>\n",
              "</tr>\n",
              "</table><br/><br/>Warnings:<br/>[1] Standard Errors assume that the covariance matrix of the errors is correctly specified."
            ],
            "text/plain": [
              "<class 'statsmodels.iolib.summary.Summary'>\n",
              "\"\"\"\n",
              "                            OLS Regression Results                            \n",
              "==============================================================================\n",
              "Dep. Variable:                      y   R-squared:                       0.709\n",
              "Model:                            OLS   Adj. R-squared:                  0.704\n",
              "Method:                 Least Squares   F-statistic:                     141.1\n",
              "Date:                Fri, 29 Jan 2021   Prob (F-statistic):           3.59e-17\n",
              "Time:                        18:09:25   Log-Likelihood:                -57.052\n",
              "No. Observations:                  60   AIC:                             118.1\n",
              "Df Residuals:                      58   BIC:                             122.3\n",
              "Df Model:                           1                                         \n",
              "Covariance Type:            nonrobust                                         \n",
              "==============================================================================\n",
              "                 coef    std err          t      P>|t|      [0.025      0.975]\n",
              "------------------------------------------------------------------------------\n",
              "const         85.4024      0.188    455.390      0.000      85.027      85.778\n",
              "x1            -0.0564      0.005    -11.880      0.000      -0.066      -0.047\n",
              "==============================================================================\n",
              "Omnibus:                        4.396   Durbin-Watson:                   0.054\n",
              "Prob(Omnibus):                  0.111   Jarque-Bera (JB):                3.466\n",
              "Skew:                           0.466   Prob(JB):                        0.177\n",
              "Kurtosis:                       2.281   Cond. No.                         90.1\n",
              "==============================================================================\n",
              "\n",
              "Warnings:\n",
              "[1] Standard Errors assume that the covariance matrix of the errors is correctly specified.\n",
              "\"\"\""
            ]
          },
          "metadata": {
            "tags": []
          },
          "execution_count": 5
        }
      ]
    },
    {
      "cell_type": "markdown",
      "metadata": {
        "id": "ILUOwW5DkUfQ"
      },
      "source": [
        "## Result interpretation\r\n",
        "\r\n",
        "##### R-squared values is closer to one showing that the model has a good fit.\r\n",
        "\r\n",
        "##### As the Prob (F-statistic) is less than 0.05 we can reject the null hypothesis ( the intercept only model is same as the co-effiecent model. if the null hypothesis was true the model would be useless. However this is not the case.\r\n",
        "\r\n",
        "##### x1- p-value is equal to zero which can be interpreted as the feature co-efficient is not zero, tehrefore does have a relationship with the target."
      ]
    },
    {
      "cell_type": "code",
      "metadata": {
        "colab": {
          "base_uri": "https://localhost:8080/"
        },
        "id": "yLg3KbTT9DSw",
        "outputId": "e70ad23f-f107-4b6b-c48c-542e8eea2a0f"
      },
      "source": [
        "#confidence level 95%\r\n",
        "intercept, slope = results.params\r\n",
        "CI_abs = resolution*results.conf_int(alpha = 0.05)[1]\r\n",
        "CIL_abs = CI_abs[1]\r\n",
        "CIH_abs = CI_abs[0]\r\n",
        "round(CIL_abs,2),round(CIH_abs,2)\r\n",
        "\r\n",
        "DR_abs = round(resolution*slope, 2)\r\n",
        "DR_abs"
      ],
      "execution_count": 6,
      "outputs": [
        {
          "output_type": "execute_result",
          "data": {
            "text/plain": [
              "-0.68"
            ]
          },
          "metadata": {
            "tags": []
          },
          "execution_count": 6
        }
      ]
    },
    {
      "cell_type": "code",
      "metadata": {
        "colab": {
          "base_uri": "https://localhost:8080/"
        },
        "id": "QFQ3D2XQnG7b",
        "outputId": "26f091da-3d4c-4e18-86b4-5fe3063bcd0d"
      },
      "source": [
        "results.params"
      ],
      "execution_count": 7,
      "outputs": [
        {
          "output_type": "execute_result",
          "data": {
            "text/plain": [
              "array([ 8.54023618e+01, -5.64045568e-02])"
            ]
          },
          "metadata": {
            "tags": []
          },
          "execution_count": 7
        }
      ]
    },
    {
      "cell_type": "code",
      "metadata": {
        "colab": {
          "base_uri": "https://localhost:8080/"
        },
        "id": "x6tepcsw5ebq",
        "outputId": "f343fb9c-1b3b-4140-e2e8-83b75359d77b"
      },
      "source": [
        "#confidence level 95%\r\n",
        "CI_rel = 100*resolution*results.conf_int(alpha = 0.05)[1]/intercept\r\n",
        "CIL_rel = CI_rel[1]\r\n",
        "CIH_rel = CI_rel[0]\r\n",
        "round(CIL_rel,2),round(CIH_rel,2)\r\n",
        "\r\n",
        "DR_rel = round(100*resolution*slope/intercept,2)\r\n",
        "DR_rel"
      ],
      "execution_count": 8,
      "outputs": [
        {
          "output_type": "execute_result",
          "data": {
            "text/plain": [
              "-0.79"
            ]
          },
          "metadata": {
            "tags": []
          },
          "execution_count": 8
        }
      ]
    },
    {
      "cell_type": "code",
      "metadata": {
        "colab": {
          "base_uri": "https://localhost:8080/",
          "height": 302
        },
        "id": "310ltslg9ItI",
        "outputId": "c3654474-3e7e-4881-8616-dc01a8d8db62"
      },
      "source": [
        "sns.regplot(y = trend_df['Trend'], x = trend_df['Month'], data = bedford_1, color='g')\r\n",
        "plt.ylabel(\"PR(%)\",fontsize=15)\r\n",
        "plt.xlabel(\"Month\", fontsize=15)\r\n",
        "plt.ylim(65,90)\r\n",
        "plt.xlim(0, 80)\r\n",
        "plt.title(\"Degradation Rate for Bedford PV-1\",fontsize=18)\r\n",
        "plt.grid(True)\r\n",
        "plt.show()"
      ],
      "execution_count": 9,
      "outputs": [
        {
          "output_type": "display_data",
          "data": {
            "image/png": "[encoded data removed]",
            "text/plain": [
              "<Figure size 432x288 with 1 Axes>"
            ]
          },
          "metadata": {
            "tags": [],
            "needs_background": "light"
          }
        }
      ]
    },
    {
      "cell_type": "markdown",
      "metadata": {
        "id": "zRx6zB-IWLYW"
      },
      "source": [
        "##### Yearly degredation for Bedford PV-1 range -0.68 & -0.79%"
      ]
    },
    {
      "cell_type": "markdown",
      "metadata": {
        "id": "dJXOkgJcW4Jf"
      },
      "source": [
        "# Degredation Analysis for Bedford PV-02"
      ]
    },
    {
      "cell_type": "code",
      "metadata": {
        "id": "pUplML198Plh"
      },
      "source": [
        "bedford_2 = pd.read_csv('/content/drive/MyDrive/PHD/Data/Bedford2.csv')"
      ],
      "execution_count": 11,
      "outputs": []
    },
    {
      "cell_type": "code",
      "metadata": {
        "colab": {
          "base_uri": "https://localhost:8080/",
          "height": 279
        },
        "id": "pPf5APCSXJE2",
        "outputId": "ed2cd59c-1501-40ed-cb46-ce54b025c734"
      },
      "source": [
        "fig, axs = plt.subplots()\r\n",
        "axs.plot(bedford_2.index, bedford_2.PR, 'o-', alpha = 0.5,color='g')\r\n",
        "axs.set_ylabel('PR (%)');\r\n",
        "axs.set_xlabel('Month')\r\n",
        "\r\n",
        "resolution = 12\r\n",
        "s=sm.tsa.seasonal_decompose(bedford_2.PR, model = 'multiplicative', freq = resolution)\r\n",
        "#s.plot()"
      ],
      "execution_count": 12,
      "outputs": [
        {
          "output_type": "display_data",
          "data": {
            "image/png": "[encoded data removed]",
            "text/plain": [
              "<Figure size 432x288 with 1 Axes>"
            ]
          },
          "metadata": {
            "tags": [],
            "needs_background": "light"
          }
        }
      ]
    },
    {
      "cell_type": "code",
      "metadata": {
        "id": "HzpDxyEIXTjL"
      },
      "source": [
        "trend_df = pd.DataFrame(list(s.trend), columns = ['Trend'])\r\n",
        "trend_df.insert(loc=0, column = 'Month', value=np.arange(len(trend_df)))\r\n",
        "trend_df=trend_df[np.isfinite(trend_df['Trend'])]\r\n",
        "y = trend_df.Trend\r\n",
        "x = trend_df.Month\r\n",
        "x, y = np.array(x), np.array(y)\r\n",
        "\r\n",
        "x = sm.add_constant(x)"
      ],
      "execution_count": 13,
      "outputs": []
    },
    {
      "cell_type": "code",
      "metadata": {
        "colab": {
          "base_uri": "https://localhost:8080/",
          "height": 426
        },
        "id": "pw0kIgxTXoDK",
        "outputId": "da0a9e7a-9531-4518-e9e8-6760fd37066e"
      },
      "source": [
        "model = sm.OLS(y,x)\r\n",
        "results = model.fit()\r\n",
        "results.summary()"
      ],
      "execution_count": 14,
      "outputs": [
        {
          "output_type": "execute_result",
          "data": {
            "text/html": [
              "<table class=\"simpletable\">\n",
              "<caption>OLS Regression Results</caption>\n",
              "<tr>\n",
              "  <th>Dep. Variable:</th>            <td>y</td>        <th>  R-squared:         </th> <td>   0.773</td>\n",
              "</tr>\n",
              "<tr>\n",
              "  <th>Model:</th>                   <td>OLS</td>       <th>  Adj. R-squared:    </th> <td>   0.769</td>\n",
              "</tr>\n",
              "<tr>\n",
              "  <th>Method:</th>             <td>Least Squares</td>  <th>  F-statistic:       </th> <td>   197.1</td>\n",
              "</tr>\n",
              "<tr>\n",
              "  <th>Date:</th>             <td>Fri, 29 Jan 2021</td> <th>  Prob (F-statistic):</th> <td>2.62e-20</td>\n",
              "</tr>\n",
              "<tr>\n",
              "  <th>Time:</th>                 <td>18:19:13</td>     <th>  Log-Likelihood:    </th> <td> -44.064</td>\n",
              "</tr>\n",
              "<tr>\n",
              "  <th>No. Observations:</th>      <td>    60</td>      <th>  AIC:               </th> <td>   92.13</td>\n",
              "</tr>\n",
              "<tr>\n",
              "  <th>Df Residuals:</th>          <td>    58</td>      <th>  BIC:               </th> <td>   96.32</td>\n",
              "</tr>\n",
              "<tr>\n",
              "  <th>Df Model:</th>              <td>     1</td>      <th>                     </th>     <td> </td>   \n",
              "</tr>\n",
              "<tr>\n",
              "  <th>Covariance Type:</th>      <td>nonrobust</td>    <th>                     </th>     <td> </td>   \n",
              "</tr>\n",
              "</table>\n",
              "<table class=\"simpletable\">\n",
              "<tr>\n",
              "    <td></td>       <th>coef</th>     <th>std err</th>      <th>t</th>      <th>P>|t|</th>  <th>[0.025</th>    <th>0.975]</th>  \n",
              "</tr>\n",
              "<tr>\n",
              "  <th>const</th> <td>   85.2070</td> <td>    0.151</td> <td>  564.152</td> <td> 0.000</td> <td>   84.905</td> <td>   85.509</td>\n",
              "</tr>\n",
              "<tr>\n",
              "  <th>x1</th>    <td>   -0.0537</td> <td>    0.004</td> <td>  -14.038</td> <td> 0.000</td> <td>   -0.061</td> <td>   -0.046</td>\n",
              "</tr>\n",
              "</table>\n",
              "<table class=\"simpletable\">\n",
              "<tr>\n",
              "  <th>Omnibus:</th>       <td> 9.565</td> <th>  Durbin-Watson:     </th> <td>   0.072</td>\n",
              "</tr>\n",
              "<tr>\n",
              "  <th>Prob(Omnibus):</th> <td> 0.008</td> <th>  Jarque-Bera (JB):  </th> <td>   2.973</td>\n",
              "</tr>\n",
              "<tr>\n",
              "  <th>Skew:</th>          <td> 0.081</td> <th>  Prob(JB):          </th> <td>   0.226</td>\n",
              "</tr>\n",
              "<tr>\n",
              "  <th>Kurtosis:</th>      <td> 1.922</td> <th>  Cond. No.          </th> <td>    90.1</td>\n",
              "</tr>\n",
              "</table><br/><br/>Warnings:<br/>[1] Standard Errors assume that the covariance matrix of the errors is correctly specified."
            ],
            "text/plain": [
              "<class 'statsmodels.iolib.summary.Summary'>\n",
              "\"\"\"\n",
              "                            OLS Regression Results                            \n",
              "==============================================================================\n",
              "Dep. Variable:                      y   R-squared:                       0.773\n",
              "Model:                            OLS   Adj. R-squared:                  0.769\n",
              "Method:                 Least Squares   F-statistic:                     197.1\n",
              "Date:                Fri, 29 Jan 2021   Prob (F-statistic):           2.62e-20\n",
              "Time:                        18:19:13   Log-Likelihood:                -44.064\n",
              "No. Observations:                  60   AIC:                             92.13\n",
              "Df Residuals:                      58   BIC:                             96.32\n",
              "Df Model:                           1                                         \n",
              "Covariance Type:            nonrobust                                         \n",
              "==============================================================================\n",
              "                 coef    std err          t      P>|t|      [0.025      0.975]\n",
              "------------------------------------------------------------------------------\n",
              "const         85.2070      0.151    564.152      0.000      84.905      85.509\n",
              "x1            -0.0537      0.004    -14.038      0.000      -0.061      -0.046\n",
              "==============================================================================\n",
              "Omnibus:                        9.565   Durbin-Watson:                   0.072\n",
              "Prob(Omnibus):                  0.008   Jarque-Bera (JB):                2.973\n",
              "Skew:                           0.081   Prob(JB):                        0.226\n",
              "Kurtosis:                       1.922   Cond. No.                         90.1\n",
              "==============================================================================\n",
              "\n",
              "Warnings:\n",
              "[1] Standard Errors assume that the covariance matrix of the errors is correctly specified.\n",
              "\"\"\""
            ]
          },
          "metadata": {
            "tags": []
          },
          "execution_count": 14
        }
      ]
    },
    {
      "cell_type": "markdown",
      "metadata": {
        "id": "bYzLVgJCX1Lp"
      },
      "source": [
        "## Result interpretation\r\n",
        "\r\n",
        "##### R-squared values is closer to one showing that the model has a good fit.\r\n",
        "\r\n",
        "##### As the Prob (F-statistic) is less than 0.05 we can reject the null hypothesis ( the intercept only model is same as the co-effiecent model. if the null hypothesis was true the model would be useless. However this is not the case.\r\n",
        "\r\n",
        "##### x1- p-value is equal to zero which can be interpreted as the feature co-efficient is not zero, thErefore does have a relationship with the target."
      ]
    },
    {
      "cell_type": "code",
      "metadata": {
        "colab": {
          "base_uri": "https://localhost:8080/"
        },
        "id": "H_w08BjiXt-z",
        "outputId": "731504a7-162e-445e-f607-e2189661c7c7"
      },
      "source": [
        "#confidence level 95%\r\n",
        "intercept, slope = results.params\r\n",
        "CI_abs = resolution*results.conf_int(alpha = 0.05)[1]\r\n",
        "CIL_abs = CI_abs[1]\r\n",
        "CIH_abs = CI_abs[0]\r\n",
        "round(CIL_abs,2),round(CIH_abs,2)\r\n",
        "\r\n",
        "DR_abs = round(resolution*slope, 2)\r\n",
        "DR_abs"
      ],
      "execution_count": 15,
      "outputs": [
        {
          "output_type": "execute_result",
          "data": {
            "text/plain": [
              "-0.64"
            ]
          },
          "metadata": {
            "tags": []
          },
          "execution_count": 15
        }
      ]
    },
    {
      "cell_type": "code",
      "metadata": {
        "colab": {
          "base_uri": "https://localhost:8080/"
        },
        "id": "yF2EVpdPYEzP",
        "outputId": "18d034d3-e829-42b2-ff54-878bdc12d656"
      },
      "source": [
        "results.params"
      ],
      "execution_count": 16,
      "outputs": [
        {
          "output_type": "execute_result",
          "data": {
            "text/plain": [
              "array([ 8.52070027e+01, -5.36792628e-02])"
            ]
          },
          "metadata": {
            "tags": []
          },
          "execution_count": 16
        }
      ]
    },
    {
      "cell_type": "code",
      "metadata": {
        "colab": {
          "base_uri": "https://localhost:8080/"
        },
        "id": "ibO5yPcjYJtv",
        "outputId": "2e58a228-e33d-4917-885e-b3801e4d8506"
      },
      "source": [
        "#confidence level 95%\r\n",
        "CI_rel = 100*resolution*results.conf_int(alpha = 0.05)[1]/intercept\r\n",
        "CIL_rel = CI_rel[1]\r\n",
        "CIH_rel = CI_rel[0]\r\n",
        "round(CIL_rel,2),round(CIH_rel,2)\r\n",
        "\r\n",
        "DR_rel = round(100*resolution*slope/intercept,2)\r\n",
        "DR_rel"
      ],
      "execution_count": 17,
      "outputs": [
        {
          "output_type": "execute_result",
          "data": {
            "text/plain": [
              "-0.76"
            ]
          },
          "metadata": {
            "tags": []
          },
          "execution_count": 17
        }
      ]
    },
    {
      "cell_type": "code",
      "metadata": {
        "colab": {
          "base_uri": "https://localhost:8080/",
          "height": 302
        },
        "id": "eeeuPuWZYOCL",
        "outputId": "ae219685-86bc-4cef-d44c-2530381626f7"
      },
      "source": [
        "sns.regplot(y = trend_df['Trend'], x = trend_df['Month'], data = bedford_2, color='g')\r\n",
        "plt.ylabel(\"PR(%)\",fontsize=15)\r\n",
        "plt.xlabel(\"Month\", fontsize=15)\r\n",
        "plt.ylim(65,90)\r\n",
        "plt.xlim(0, 80)\r\n",
        "plt.title(\"Degradation Rate for Bedford PV-2\",fontsize=18)\r\n",
        "plt.grid(True)\r\n",
        "plt.show()"
      ],
      "execution_count": 18,
      "outputs": [
        {
          "output_type": "display_data",
          "data": {
            "image/png": "[encoded data removed]",
            "text/plain": [
              "<Figure size 432x288 with 1 Axes>"
            ]
          },
          "metadata": {
            "tags": [],
            "needs_background": "light"
          }
        }
      ]
    },
    {
      "cell_type": "markdown",
      "metadata": {
        "id": "VUweVJtgYa8F"
      },
      "source": [
        "##### Yearly degredation for Bedford PV-2 range -0.64 & -0.76%"
      ]
    },
    {
      "cell_type": "markdown",
      "metadata": {
        "id": "ek0I1gUNYjou"
      },
      "source": [
        "# Degredation Analysis for Bedford PV-03"
      ]
    },
    {
      "cell_type": "code",
      "metadata": {
        "id": "abuAHihNYVvO"
      },
      "source": [
        "bedford_3 = pd.read_csv('/content/drive/MyDrive/PHD/Data/Bedford3.csv')"
      ],
      "execution_count": 19,
      "outputs": []
    },
    {
      "cell_type": "code",
      "metadata": {
        "colab": {
          "base_uri": "https://localhost:8080/",
          "height": 279
        },
        "id": "ANt-Ok5CYqoc",
        "outputId": "7ce55790-4234-43e0-b16d-7663ba69cab5"
      },
      "source": [
        "fig, axs = plt.subplots()\r\n",
        "axs.plot(bedford_3.index, bedford_2.PR, 'o-', alpha = 0.5,color='g')\r\n",
        "axs.set_ylabel('PR (%)');\r\n",
        "axs.set_xlabel('Month')\r\n",
        "\r\n",
        "resolution = 12\r\n",
        "s=sm.tsa.seasonal_decompose(bedford_3.PR, model = 'multiplicative', freq = resolution)\r\n",
        "#s.plot()"
      ],
      "execution_count": 20,
      "outputs": [
        {
          "output_type": "display_data",
          "data": {
            "image/png": "[encoded data removed]",
            "text/plain": [
              "<Figure size 432x288 with 1 Axes>"
            ]
          },
          "metadata": {
            "tags": [],
            "needs_background": "light"
          }
        }
      ]
    },
    {
      "cell_type": "code",
      "metadata": {
        "id": "1uQum_UQY4D2"
      },
      "source": [
        "trend_df = pd.DataFrame(list(s.trend), columns = ['Trend'])\r\n",
        "trend_df.insert(loc=0, column = 'Month', value=np.arange(len(trend_df)))\r\n",
        "trend_df=trend_df[np.isfinite(trend_df['Trend'])]\r\n",
        "y = trend_df.Trend\r\n",
        "x = trend_df.Month\r\n",
        "x, y = np.array(x), np.array(y)\r\n",
        "\r\n",
        "x = sm.add_constant(x)"
      ],
      "execution_count": 21,
      "outputs": []
    },
    {
      "cell_type": "code",
      "metadata": {
        "colab": {
          "base_uri": "https://localhost:8080/",
          "height": 426
        },
        "id": "iAL-dlZuZHhq",
        "outputId": "7e92694e-d47b-4337-d1ba-738e86c62d58"
      },
      "source": [
        "model = sm.OLS(y,x)\r\n",
        "results = model.fit()\r\n",
        "results.summary()"
      ],
      "execution_count": 22,
      "outputs": [
        {
          "output_type": "execute_result",
          "data": {
            "text/html": [
              "<table class=\"simpletable\">\n",
              "<caption>OLS Regression Results</caption>\n",
              "<tr>\n",
              "  <th>Dep. Variable:</th>            <td>y</td>        <th>  R-squared:         </th> <td>   0.603</td>\n",
              "</tr>\n",
              "<tr>\n",
              "  <th>Model:</th>                   <td>OLS</td>       <th>  Adj. R-squared:    </th> <td>   0.596</td>\n",
              "</tr>\n",
              "<tr>\n",
              "  <th>Method:</th>             <td>Least Squares</td>  <th>  F-statistic:       </th> <td>   88.12</td>\n",
              "</tr>\n",
              "<tr>\n",
              "  <th>Date:</th>             <td>Fri, 29 Jan 2021</td> <th>  Prob (F-statistic):</th> <td>3.06e-13</td>\n",
              "</tr>\n",
              "<tr>\n",
              "  <th>Time:</th>                 <td>18:25:50</td>     <th>  Log-Likelihood:    </th> <td> -72.058</td>\n",
              "</tr>\n",
              "<tr>\n",
              "  <th>No. Observations:</th>      <td>    60</td>      <th>  AIC:               </th> <td>   148.1</td>\n",
              "</tr>\n",
              "<tr>\n",
              "  <th>Df Residuals:</th>          <td>    58</td>      <th>  BIC:               </th> <td>   152.3</td>\n",
              "</tr>\n",
              "<tr>\n",
              "  <th>Df Model:</th>              <td>     1</td>      <th>                     </th>     <td> </td>   \n",
              "</tr>\n",
              "<tr>\n",
              "  <th>Covariance Type:</th>      <td>nonrobust</td>    <th>                     </th>     <td> </td>   \n",
              "</tr>\n",
              "</table>\n",
              "<table class=\"simpletable\">\n",
              "<tr>\n",
              "    <td></td>       <th>coef</th>     <th>std err</th>      <th>t</th>      <th>P>|t|</th>  <th>[0.025</th>    <th>0.975]</th>  \n",
              "</tr>\n",
              "<tr>\n",
              "  <th>const</th> <td>   85.3666</td> <td>    0.241</td> <td>  354.470</td> <td> 0.000</td> <td>   84.885</td> <td>   85.849</td>\n",
              "</tr>\n",
              "<tr>\n",
              "  <th>x1</th>    <td>   -0.0572</td> <td>    0.006</td> <td>   -9.387</td> <td> 0.000</td> <td>   -0.069</td> <td>   -0.045</td>\n",
              "</tr>\n",
              "</table>\n",
              "<table class=\"simpletable\">\n",
              "<tr>\n",
              "  <th>Omnibus:</th>       <td> 2.277</td> <th>  Durbin-Watson:     </th> <td>   0.068</td>\n",
              "</tr>\n",
              "<tr>\n",
              "  <th>Prob(Omnibus):</th> <td> 0.320</td> <th>  Jarque-Bera (JB):  </th> <td>   2.111</td>\n",
              "</tr>\n",
              "<tr>\n",
              "  <th>Skew:</th>          <td> 0.449</td> <th>  Prob(JB):          </th> <td>   0.348</td>\n",
              "</tr>\n",
              "<tr>\n",
              "  <th>Kurtosis:</th>      <td> 2.804</td> <th>  Cond. No.          </th> <td>    90.1</td>\n",
              "</tr>\n",
              "</table><br/><br/>Warnings:<br/>[1] Standard Errors assume that the covariance matrix of the errors is correctly specified."
            ],
            "text/plain": [
              "<class 'statsmodels.iolib.summary.Summary'>\n",
              "\"\"\"\n",
              "                            OLS Regression Results                            \n",
              "==============================================================================\n",
              "Dep. Variable:                      y   R-squared:                       0.603\n",
              "Model:                            OLS   Adj. R-squared:                  0.596\n",
              "Method:                 Least Squares   F-statistic:                     88.12\n",
              "Date:                Fri, 29 Jan 2021   Prob (F-statistic):           3.06e-13\n",
              "Time:                        18:25:50   Log-Likelihood:                -72.058\n",
              "No. Observations:                  60   AIC:                             148.1\n",
              "Df Residuals:                      58   BIC:                             152.3\n",
              "Df Model:                           1                                         \n",
              "Covariance Type:            nonrobust                                         \n",
              "==============================================================================\n",
              "                 coef    std err          t      P>|t|      [0.025      0.975]\n",
              "------------------------------------------------------------------------------\n",
              "const         85.3666      0.241    354.470      0.000      84.885      85.849\n",
              "x1            -0.0572      0.006     -9.387      0.000      -0.069      -0.045\n",
              "==============================================================================\n",
              "Omnibus:                        2.277   Durbin-Watson:                   0.068\n",
              "Prob(Omnibus):                  0.320   Jarque-Bera (JB):                2.111\n",
              "Skew:                           0.449   Prob(JB):                        0.348\n",
              "Kurtosis:                       2.804   Cond. No.                         90.1\n",
              "==============================================================================\n",
              "\n",
              "Warnings:\n",
              "[1] Standard Errors assume that the covariance matrix of the errors is correctly specified.\n",
              "\"\"\""
            ]
          },
          "metadata": {
            "tags": []
          },
          "execution_count": 22
        }
      ]
    },
    {
      "cell_type": "markdown",
      "metadata": {
        "id": "sWgCcgpWZaaF"
      },
      "source": [
        "## Result interpretation\r\n",
        "\r\n",
        "##### R-squared values is closer to one showing that the model has a good fit.\r\n",
        "\r\n",
        "##### As the Prob (F-statistic) is less than 0.05 we can reject the null hypothesis ( the intercept only model is same as the co-effiecent model. if the null hypothesis was true the model would be useless. However this is not the case.\r\n",
        "\r\n",
        "##### x1- p-value is equal to zero which can be interpreted as the feature co-efficient is not zero, thErefore does have a relationship with the target."
      ]
    },
    {
      "cell_type": "code",
      "metadata": {
        "colab": {
          "base_uri": "https://localhost:8080/"
        },
        "id": "UAdx9cuiZO1O",
        "outputId": "c72b2f19-3d72-45da-eac1-8d0f032260fc"
      },
      "source": [
        "#confidence level 95%\r\n",
        "intercept, slope = results.params\r\n",
        "CI_abs = resolution*results.conf_int(alpha = 0.05)[1]\r\n",
        "CIL_abs = CI_abs[1]\r\n",
        "CIH_abs = CI_abs[0]\r\n",
        "round(CIL_abs,2),round(CIH_abs,2)\r\n",
        "\r\n",
        "DR_abs = round(resolution*slope, 2)\r\n",
        "DR_abs"
      ],
      "execution_count": 23,
      "outputs": [
        {
          "output_type": "execute_result",
          "data": {
            "text/plain": [
              "-0.69"
            ]
          },
          "metadata": {
            "tags": []
          },
          "execution_count": 23
        }
      ]
    },
    {
      "cell_type": "code",
      "metadata": {
        "colab": {
          "base_uri": "https://localhost:8080/"
        },
        "id": "OCFgaTMYaoUM",
        "outputId": "09d1bf33-b53f-41d4-e3d7-f036a9a0067d"
      },
      "source": [
        "results.params"
      ],
      "execution_count": 24,
      "outputs": [
        {
          "output_type": "execute_result",
          "data": {
            "text/plain": [
              "array([ 8.53665933e+01, -5.72358062e-02])"
            ]
          },
          "metadata": {
            "tags": []
          },
          "execution_count": 24
        }
      ]
    },
    {
      "cell_type": "code",
      "metadata": {
        "colab": {
          "base_uri": "https://localhost:8080/"
        },
        "id": "DYPkx7riatNi",
        "outputId": "2607177f-e6a6-45cb-9d9f-3732196b00b5"
      },
      "source": [
        "#confidence level 95%\r\n",
        "CI_rel = 100*resolution*results.conf_int(alpha = 0.05)[1]/intercept\r\n",
        "CIL_rel = CI_rel[1]\r\n",
        "CIH_rel = CI_rel[0]\r\n",
        "round(CIL_rel,2),round(CIH_rel,2)\r\n",
        "\r\n",
        "DR_rel = round(100*resolution*slope/intercept,2)\r\n",
        "DR_rel"
      ],
      "execution_count": 25,
      "outputs": [
        {
          "output_type": "execute_result",
          "data": {
            "text/plain": [
              "-0.8"
            ]
          },
          "metadata": {
            "tags": []
          },
          "execution_count": 25
        }
      ]
    },
    {
      "cell_type": "code",
      "metadata": {
        "colab": {
          "base_uri": "https://localhost:8080/",
          "height": 302
        },
        "id": "XPuMsoY6azki",
        "outputId": "4251742e-dcca-4e2c-e5bb-865b85a1aa8c"
      },
      "source": [
        "sns.regplot(y = trend_df['Trend'], x = trend_df['Month'], data = bedford_2, color='g')\r\n",
        "plt.ylabel(\"PR(%)\",fontsize=15)\r\n",
        "plt.xlabel(\"Month\", fontsize=15)\r\n",
        "plt.ylim(65,90)\r\n",
        "plt.xlim(0, 80)\r\n",
        "plt.title(\"Degradation Rate for Bedford PV-3\",fontsize=18)\r\n",
        "plt.grid(True)\r\n",
        "plt.show()"
      ],
      "execution_count": 27,
      "outputs": [
        {
          "output_type": "display_data",
          "data": {
            "image/png": "[encoded data removed]",
            "text/plain": [
              "<Figure size 432x288 with 1 Axes>"
            ]
          },
          "metadata": {
            "tags": [],
            "needs_background": "light"
          }
        }
      ]
    },
    {
      "cell_type": "markdown",
      "metadata": {
        "id": "2zfgUg2ia-3i"
      },
      "source": [
        "##### Yearly degredation for Bedford PV-2 range -0.69 & -0.80%"
      ]
    },
    {
      "cell_type": "code",
      "metadata": {
        "id": "gQpBs-p_a3wC"
      },
      "source": [
        ""
      ],
      "execution_count": null,
      "outputs": []
    }
  ]
}