{
  "nbformat": 4,
  "nbformat_minor": 0,
  "metadata": {
    "colab": {
      "name": "Northampton_Degdredation.ipynb",
      "provenance": [],
      "collapsed_sections": [],
      "toc_visible": true,
      "mount_file_id": "1R0zO6o0PIui_XdWHAynLPkMVIh-to3jG",
      "authorship_tag": "ABX9TyODym6/+hOO+ZyLyM62pQhM",
      "include_colab_link": true
    },
    "kernelspec": {
      "name": "python3",
      "display_name": "Python 3"
    }
  },
  "cells": [
    {
      "cell_type": "markdown",
      "metadata": {
        "id": "view-in-github",
        "colab_type": "text"
      },
      "source": [
        "<a href=\"https://colab.research.google.com/github/u1353279/DATA_PHD/blob/main/Northampton_Degdredation.ipynb\" target=\"_parent\"><img src=\"https://colab.research.google.com/assets/colab-badge.svg\" alt=\"Open In Colab\"/></a>"
      ]
    },
    {
      "cell_type": "code",
      "metadata": {
        "id": "m_QZ8Eby4egm",
        "colab": {
          "base_uri": "https://localhost:8080/"
        },
        "outputId": "d64e188f-a503-4f56-f86f-32ab8a0acef8"
      },
      "source": [
        "import pandas as pd\r\n",
        "import numpy as np\r\n",
        "import seaborn as sns\r\n",
        "import statsmodels.api as sm\r\n",
        "from matplotlib import pyplot as plt\r\n",
        "from pandas.plotting import register_matplotlib_converters\r\n",
        "register_matplotlib_converters()\r\n",
        "\r\n",
        "# settings\r\n",
        "plt.style.use('seaborn')\r\n",
        "plt.rcParams[\"figure.figsize\"] = (9, 9)"
      ],
      "execution_count": 1,
      "outputs": [
        {
          "output_type": "stream",
          "text": [
            "/usr/local/lib/python3.6/dist-packages/statsmodels/tools/_testing.py:19: FutureWarning: pandas.util.testing is deprecated. Use the functions in the public API at pandas.testing instead.\n",
            "  import pandas.util.testing as tm\n"
          ],
          "name": "stderr"
        }
      ]
    },
    {
      "cell_type": "markdown",
      "metadata": {
        "id": "qaJSManIBBWM"
      },
      "source": [
        "#Degredation Analysis for Northampton PV-01"
      ]
    },
    {
      "cell_type": "code",
      "metadata": {
        "id": "BcUC60yr5ZJ9"
      },
      "source": [
        "northampton_1 = pd.read_csv('/content/drive/MyDrive/PHD/Data/Northampton1.csv')"
      ],
      "execution_count": 3,
      "outputs": []
    },
    {
      "cell_type": "code",
      "metadata": {
        "colab": {
          "base_uri": "https://localhost:8080/",
          "height": 279
        },
        "id": "7Rh6K84M8o9g",
        "outputId": "d6dc1136-dbce-4811-cf45-4c720963cd10"
      },
      "source": [
        "fig, axs = plt.subplots()\r\n",
        "axs.plot(northampton_1.index, northampton_1.PR, 'o-', alpha = 0.5,color='g')\r\n",
        "axs.set_ylabel('PR (%)');\r\n",
        "axs.set_xlabel('Month')\r\n",
        "\r\n",
        "resolution = 12\r\n",
        "s=sm.tsa.seasonal_decompose(northampton_1.PR, model = 'multiplicative', freq = resolution)\r\n",
        "#s.plot()"
      ],
      "execution_count": 4,
      "outputs": [
        {
          "output_type": "display_data",
          "data": {
            "image/png": "[encoded data removed]",
            "text/plain": [
              "<Figure size 432x288 with 1 Axes>"
            ]
          },
          "metadata": {
            "tags": [],
            "needs_background": "light"
          }
        }
      ]
    },
    {
      "cell_type": "code",
      "metadata": {
        "id": "75MiH3g681sW"
      },
      "source": [
        "trend_df = pd.DataFrame(list(s.trend), columns = ['Trend'])\r\n",
        "trend_df.insert(loc=0, column = 'Month', value=np.arange(len(trend_df)))\r\n",
        "trend_df=trend_df[np.isfinite(trend_df['Trend'])]\r\n",
        "y = trend_df.Trend\r\n",
        "x = trend_df.Month\r\n",
        "x, y = np.array(x), np.array(y)\r\n",
        "\r\n",
        "x = sm.add_constant(x)"
      ],
      "execution_count": 5,
      "outputs": []
    },
    {
      "cell_type": "code",
      "metadata": {
        "colab": {
          "base_uri": "https://localhost:8080/",
          "height": 426
        },
        "id": "i8YZxeBc898K",
        "outputId": "579382bc-c926-46e0-e7ab-28ce7266e893"
      },
      "source": [
        "model = sm.OLS(y,x)\r\n",
        "results = model.fit()\r\n",
        "results.summary()"
      ],
      "execution_count": 6,
      "outputs": [
        {
          "output_type": "execute_result",
          "data": {
            "text/html": [
              "<table class=\"simpletable\">\n",
              "<caption>OLS Regression Results</caption>\n",
              "<tr>\n",
              "  <th>Dep. Variable:</th>            <td>y</td>        <th>  R-squared:         </th> <td>   0.195</td>\n",
              "</tr>\n",
              "<tr>\n",
              "  <th>Model:</th>                   <td>OLS</td>       <th>  Adj. R-squared:    </th> <td>   0.182</td>\n",
              "</tr>\n",
              "<tr>\n",
              "  <th>Method:</th>             <td>Least Squares</td>  <th>  F-statistic:       </th> <td>   14.09</td>\n",
              "</tr>\n",
              "<tr>\n",
              "  <th>Date:</th>             <td>Fri, 29 Jan 2021</td> <th>  Prob (F-statistic):</th> <td>0.000406</td>\n",
              "</tr>\n",
              "<tr>\n",
              "  <th>Time:</th>                 <td>19:05:00</td>     <th>  Log-Likelihood:    </th> <td> -78.693</td>\n",
              "</tr>\n",
              "<tr>\n",
              "  <th>No. Observations:</th>      <td>    60</td>      <th>  AIC:               </th> <td>   161.4</td>\n",
              "</tr>\n",
              "<tr>\n",
              "  <th>Df Residuals:</th>          <td>    58</td>      <th>  BIC:               </th> <td>   165.6</td>\n",
              "</tr>\n",
              "<tr>\n",
              "  <th>Df Model:</th>              <td>     1</td>      <th>                     </th>     <td> </td>   \n",
              "</tr>\n",
              "<tr>\n",
              "  <th>Covariance Type:</th>      <td>nonrobust</td>    <th>                     </th>     <td> </td>   \n",
              "</tr>\n",
              "</table>\n",
              "<table class=\"simpletable\">\n",
              "<tr>\n",
              "    <td></td>       <th>coef</th>     <th>std err</th>      <th>t</th>      <th>P>|t|</th>  <th>[0.025</th>    <th>0.975]</th>  \n",
              "</tr>\n",
              "<tr>\n",
              "  <th>const</th> <td>   81.0616</td> <td>    0.269</td> <td>  301.355</td> <td> 0.000</td> <td>   80.523</td> <td>   81.600</td>\n",
              "</tr>\n",
              "<tr>\n",
              "  <th>x1</th>    <td>   -0.0256</td> <td>    0.007</td> <td>   -3.753</td> <td> 0.000</td> <td>   -0.039</td> <td>   -0.012</td>\n",
              "</tr>\n",
              "</table>\n",
              "<table class=\"simpletable\">\n",
              "<tr>\n",
              "  <th>Omnibus:</th>       <td>21.597</td> <th>  Durbin-Watson:     </th> <td>   0.026</td>\n",
              "</tr>\n",
              "<tr>\n",
              "  <th>Prob(Omnibus):</th> <td> 0.000</td> <th>  Jarque-Bera (JB):  </th> <td>   5.499</td>\n",
              "</tr>\n",
              "<tr>\n",
              "  <th>Skew:</th>          <td>-0.392</td> <th>  Prob(JB):          </th> <td>  0.0639</td>\n",
              "</tr>\n",
              "<tr>\n",
              "  <th>Kurtosis:</th>      <td> 1.741</td> <th>  Cond. No.          </th> <td>    90.1</td>\n",
              "</tr>\n",
              "</table><br/><br/>Warnings:<br/>[1] Standard Errors assume that the covariance matrix of the errors is correctly specified."
            ],
            "text/plain": [
              "<class 'statsmodels.iolib.summary.Summary'>\n",
              "\"\"\"\n",
              "                            OLS Regression Results                            \n",
              "==============================================================================\n",
              "Dep. Variable:                      y   R-squared:                       0.195\n",
              "Model:                            OLS   Adj. R-squared:                  0.182\n",
              "Method:                 Least Squares   F-statistic:                     14.09\n",
              "Date:                Fri, 29 Jan 2021   Prob (F-statistic):           0.000406\n",
              "Time:                        19:05:00   Log-Likelihood:                -78.693\n",
              "No. Observations:                  60   AIC:                             161.4\n",
              "Df Residuals:                      58   BIC:                             165.6\n",
              "Df Model:                           1                                         \n",
              "Covariance Type:            nonrobust                                         \n",
              "==============================================================================\n",
              "                 coef    std err          t      P>|t|      [0.025      0.975]\n",
              "------------------------------------------------------------------------------\n",
              "const         81.0616      0.269    301.355      0.000      80.523      81.600\n",
              "x1            -0.0256      0.007     -3.753      0.000      -0.039      -0.012\n",
              "==============================================================================\n",
              "Omnibus:                       21.597   Durbin-Watson:                   0.026\n",
              "Prob(Omnibus):                  0.000   Jarque-Bera (JB):                5.499\n",
              "Skew:                          -0.392   Prob(JB):                       0.0639\n",
              "Kurtosis:                       1.741   Cond. No.                         90.1\n",
              "==============================================================================\n",
              "\n",
              "Warnings:\n",
              "[1] Standard Errors assume that the covariance matrix of the errors is correctly specified.\n",
              "\"\"\""
            ]
          },
          "metadata": {
            "tags": []
          },
          "execution_count": 6
        }
      ]
    },
    {
      "cell_type": "markdown",
      "metadata": {
        "id": "ILUOwW5DkUfQ"
      },
      "source": [
        "## Result interpretation\r\n",
        "\r\n",
        "##### R-squared values is closer to zero showing that the model is not a good fit.\r\n",
        "\r\n",
        "##### As the Prob (F-statistic) is less than 0.05 we can reject the null hypothesis ( the intercept only model is same as the co-effiecent model. if the null hypothesis was true the model would be useless. However this is not the case.\r\n",
        "\r\n",
        "##### x1- p-value is equal to zero which can be interpreted as the feature co-efficient is not zero, tehrefore does have a relationship with the target."
      ]
    },
    {
      "cell_type": "code",
      "metadata": {
        "colab": {
          "base_uri": "https://localhost:8080/"
        },
        "id": "yLg3KbTT9DSw",
        "outputId": "7097e159-74fa-48ec-f137-8e4822b41d59"
      },
      "source": [
        "#confidence level 95%\r\n",
        "intercept, slope = results.params\r\n",
        "CI_abs = resolution*results.conf_int(alpha = 0.05)[1]\r\n",
        "CIL_abs = CI_abs[1]\r\n",
        "CIH_abs = CI_abs[0]\r\n",
        "round(CIL_abs,2),round(CIH_abs,2)\r\n",
        "\r\n",
        "DR_abs = round(resolution*slope, 2)\r\n",
        "DR_abs"
      ],
      "execution_count": 7,
      "outputs": [
        {
          "output_type": "execute_result",
          "data": {
            "text/plain": [
              "-0.31"
            ]
          },
          "metadata": {
            "tags": []
          },
          "execution_count": 7
        }
      ]
    },
    {
      "cell_type": "code",
      "metadata": {
        "colab": {
          "base_uri": "https://localhost:8080/"
        },
        "id": "QFQ3D2XQnG7b",
        "outputId": "4fa28215-353c-4d39-9175-5b4f39e077af"
      },
      "source": [
        "results.params"
      ],
      "execution_count": 8,
      "outputs": [
        {
          "output_type": "execute_result",
          "data": {
            "text/plain": [
              "array([ 8.10615588e+01, -2.55603408e-02])"
            ]
          },
          "metadata": {
            "tags": []
          },
          "execution_count": 8
        }
      ]
    },
    {
      "cell_type": "code",
      "metadata": {
        "colab": {
          "base_uri": "https://localhost:8080/"
        },
        "id": "x6tepcsw5ebq",
        "outputId": "ec523706-e13f-45cd-b074-1736cc38cef7"
      },
      "source": [
        "#confidence level 95%\r\n",
        "CI_rel = 100*resolution*results.conf_int(alpha = 0.05)[1]/intercept\r\n",
        "CIL_rel = CI_rel[1]\r\n",
        "CIH_rel = CI_rel[0]\r\n",
        "round(CIL_rel,2),round(CIH_rel,2)\r\n",
        "\r\n",
        "DR_rel = round(100*resolution*slope/intercept,2)\r\n",
        "DR_rel"
      ],
      "execution_count": 9,
      "outputs": [
        {
          "output_type": "execute_result",
          "data": {
            "text/plain": [
              "-0.38"
            ]
          },
          "metadata": {
            "tags": []
          },
          "execution_count": 9
        }
      ]
    },
    {
      "cell_type": "code",
      "metadata": {
        "colab": {
          "base_uri": "https://localhost:8080/",
          "height": 302
        },
        "id": "310ltslg9ItI",
        "outputId": "47812fa4-f594-46bd-e557-352b47064f7f"
      },
      "source": [
        "sns.regplot(y = trend_df['Trend'], x = trend_df['Month'], data = northampton_1, color='g')\r\n",
        "plt.ylabel(\"PR(%)\",fontsize=15)\r\n",
        "plt.xlabel(\"Month\", fontsize=15)\r\n",
        "plt.ylim(65,90)\r\n",
        "plt.xlim(0, 80)\r\n",
        "plt.title(\"Degradation Rate for Northampton PV-1\",fontsize=18)\r\n",
        "plt.grid(True)\r\n",
        "plt.show()"
      ],
      "execution_count": 10,
      "outputs": [
        {
          "output_type": "display_data",
          "data": {
            "image/png": "[encoded data removed]",
            "text/plain": [
              "<Figure size 432x288 with 1 Axes>"
            ]
          },
          "metadata": {
            "tags": [],
            "needs_background": "light"
          }
        }
      ]
    },
    {
      "cell_type": "markdown",
      "metadata": {
        "id": "zRx6zB-IWLYW"
      },
      "source": [
        "##### Yearly degredation for Northampton PV-1 range -0.31 & -0.38%"
      ]
    },
    {
      "cell_type": "markdown",
      "metadata": {
        "id": "dJXOkgJcW4Jf"
      },
      "source": [
        "# Degredation Analysis for Northampton PV-02"
      ]
    },
    {
      "cell_type": "code",
      "metadata": {
        "id": "pUplML198Plh"
      },
      "source": [
        "northampton_2 = pd.read_csv('/content/drive/MyDrive/PHD/Data/Northampton2.csv')"
      ],
      "execution_count": 11,
      "outputs": []
    },
    {
      "cell_type": "code",
      "metadata": {
        "colab": {
          "base_uri": "https://localhost:8080/",
          "height": 279
        },
        "id": "pPf5APCSXJE2",
        "outputId": "5466a77c-8f3f-4b09-ad66-c95a53ef6633"
      },
      "source": [
        "fig, axs = plt.subplots()\r\n",
        "axs.plot(northampton_2.index, northampton_2.PR, 'o-', alpha = 0.5,color='g')\r\n",
        "axs.set_ylabel('PR (%)');\r\n",
        "axs.set_xlabel('Month')\r\n",
        "\r\n",
        "resolution = 12\r\n",
        "s=sm.tsa.seasonal_decompose(northampton_2.PR, model = 'multiplicative', freq = resolution)\r\n",
        "#s.plot()"
      ],
      "execution_count": 12,
      "outputs": [
        {
          "output_type": "display_data",
          "data": {
            "image/png": "[encoded data removed]",
            "text/plain": [
              "<Figure size 432x288 with 1 Axes>"
            ]
          },
          "metadata": {
            "tags": [],
            "needs_background": "light"
          }
        }
      ]
    },
    {
      "cell_type": "code",
      "metadata": {
        "id": "HzpDxyEIXTjL"
      },
      "source": [
        "trend_df = pd.DataFrame(list(s.trend), columns = ['Trend'])\r\n",
        "trend_df.insert(loc=0, column = 'Month', value=np.arange(len(trend_df)))\r\n",
        "trend_df=trend_df[np.isfinite(trend_df['Trend'])]\r\n",
        "y = trend_df.Trend\r\n",
        "x = trend_df.Month\r\n",
        "x, y = np.array(x), np.array(y)\r\n",
        "\r\n",
        "x = sm.add_constant(x)"
      ],
      "execution_count": 13,
      "outputs": []
    },
    {
      "cell_type": "code",
      "metadata": {
        "colab": {
          "base_uri": "https://localhost:8080/",
          "height": 426
        },
        "id": "pw0kIgxTXoDK",
        "outputId": "f29e29e7-df1c-4510-c9ed-27c1f457e4f3"
      },
      "source": [
        "model = sm.OLS(y,x)\r\n",
        "results = model.fit()\r\n",
        "results.summary()"
      ],
      "execution_count": 14,
      "outputs": [
        {
          "output_type": "execute_result",
          "data": {
            "text/html": [
              "<table class=\"simpletable\">\n",
              "<caption>OLS Regression Results</caption>\n",
              "<tr>\n",
              "  <th>Dep. Variable:</th>            <td>y</td>        <th>  R-squared:         </th> <td>   0.923</td>\n",
              "</tr>\n",
              "<tr>\n",
              "  <th>Model:</th>                   <td>OLS</td>       <th>  Adj. R-squared:    </th> <td>   0.922</td>\n",
              "</tr>\n",
              "<tr>\n",
              "  <th>Method:</th>             <td>Least Squares</td>  <th>  F-statistic:       </th> <td>   699.7</td>\n",
              "</tr>\n",
              "<tr>\n",
              "  <th>Date:</th>             <td>Fri, 29 Jan 2021</td> <th>  Prob (F-statistic):</th> <td>4.67e-34</td>\n",
              "</tr>\n",
              "<tr>\n",
              "  <th>Time:</th>                 <td>19:07:42</td>     <th>  Log-Likelihood:    </th> <td> -10.126</td>\n",
              "</tr>\n",
              "<tr>\n",
              "  <th>No. Observations:</th>      <td>    60</td>      <th>  AIC:               </th> <td>   24.25</td>\n",
              "</tr>\n",
              "<tr>\n",
              "  <th>Df Residuals:</th>          <td>    58</td>      <th>  BIC:               </th> <td>   28.44</td>\n",
              "</tr>\n",
              "<tr>\n",
              "  <th>Df Model:</th>              <td>     1</td>      <th>                     </th>     <td> </td>   \n",
              "</tr>\n",
              "<tr>\n",
              "  <th>Covariance Type:</th>      <td>nonrobust</td>    <th>                     </th>     <td> </td>   \n",
              "</tr>\n",
              "</table>\n",
              "<table class=\"simpletable\">\n",
              "<tr>\n",
              "    <td></td>       <th>coef</th>     <th>std err</th>      <th>t</th>      <th>P>|t|</th>  <th>[0.025</th>    <th>0.975]</th>  \n",
              "</tr>\n",
              "<tr>\n",
              "  <th>const</th> <td>   82.2340</td> <td>    0.086</td> <td>  958.570</td> <td> 0.000</td> <td>   82.062</td> <td>   82.406</td>\n",
              "</tr>\n",
              "<tr>\n",
              "  <th>x1</th>    <td>   -0.0575</td> <td>    0.002</td> <td>  -26.452</td> <td> 0.000</td> <td>   -0.062</td> <td>   -0.053</td>\n",
              "</tr>\n",
              "</table>\n",
              "<table class=\"simpletable\">\n",
              "<tr>\n",
              "  <th>Omnibus:</th>       <td> 3.100</td> <th>  Durbin-Watson:     </th> <td>   0.138</td>\n",
              "</tr>\n",
              "<tr>\n",
              "  <th>Prob(Omnibus):</th> <td> 0.212</td> <th>  Jarque-Bera (JB):  </th> <td>   2.723</td>\n",
              "</tr>\n",
              "<tr>\n",
              "  <th>Skew:</th>          <td> 0.425</td> <th>  Prob(JB):          </th> <td>   0.256</td>\n",
              "</tr>\n",
              "<tr>\n",
              "  <th>Kurtosis:</th>      <td> 2.393</td> <th>  Cond. No.          </th> <td>    90.1</td>\n",
              "</tr>\n",
              "</table><br/><br/>Warnings:<br/>[1] Standard Errors assume that the covariance matrix of the errors is correctly specified."
            ],
            "text/plain": [
              "<class 'statsmodels.iolib.summary.Summary'>\n",
              "\"\"\"\n",
              "                            OLS Regression Results                            \n",
              "==============================================================================\n",
              "Dep. Variable:                      y   R-squared:                       0.923\n",
              "Model:                            OLS   Adj. R-squared:                  0.922\n",
              "Method:                 Least Squares   F-statistic:                     699.7\n",
              "Date:                Fri, 29 Jan 2021   Prob (F-statistic):           4.67e-34\n",
              "Time:                        19:07:42   Log-Likelihood:                -10.126\n",
              "No. Observations:                  60   AIC:                             24.25\n",
              "Df Residuals:                      58   BIC:                             28.44\n",
              "Df Model:                           1                                         \n",
              "Covariance Type:            nonrobust                                         \n",
              "==============================================================================\n",
              "                 coef    std err          t      P>|t|      [0.025      0.975]\n",
              "------------------------------------------------------------------------------\n",
              "const         82.2340      0.086    958.570      0.000      82.062      82.406\n",
              "x1            -0.0575      0.002    -26.452      0.000      -0.062      -0.053\n",
              "==============================================================================\n",
              "Omnibus:                        3.100   Durbin-Watson:                   0.138\n",
              "Prob(Omnibus):                  0.212   Jarque-Bera (JB):                2.723\n",
              "Skew:                           0.425   Prob(JB):                        0.256\n",
              "Kurtosis:                       2.393   Cond. No.                         90.1\n",
              "==============================================================================\n",
              "\n",
              "Warnings:\n",
              "[1] Standard Errors assume that the covariance matrix of the errors is correctly specified.\n",
              "\"\"\""
            ]
          },
          "metadata": {
            "tags": []
          },
          "execution_count": 14
        }
      ]
    },
    {
      "cell_type": "markdown",
      "metadata": {
        "id": "bYzLVgJCX1Lp"
      },
      "source": [
        "## Result interpretation\r\n",
        "\r\n",
        "##### R-squared values is closer to one showing that the model has a good fit.\r\n",
        "\r\n",
        "##### As the Prob (F-statistic) is less than 0.05 we can reject the null hypothesis ( the intercept only model is same as the co-effiecent model. if the null hypothesis was true the model would be useless. However this is not the case.\r\n",
        "\r\n",
        "##### x1- p-value is equal to zero which can be interpreted as the feature co-efficient is not zero, thErefore does have a relationship with the target."
      ]
    },
    {
      "cell_type": "code",
      "metadata": {
        "colab": {
          "base_uri": "https://localhost:8080/"
        },
        "id": "H_w08BjiXt-z",
        "outputId": "e93b59f8-88e0-4237-92d1-2a6aee204198"
      },
      "source": [
        "#confidence level 95%\r\n",
        "intercept, slope = results.params\r\n",
        "CI_abs = resolution*results.conf_int(alpha = 0.05)[1]\r\n",
        "CIL_abs = CI_abs[1]\r\n",
        "CIH_abs = CI_abs[0]\r\n",
        "round(CIL_abs,2),round(CIH_abs,2)\r\n",
        "\r\n",
        "DR_abs = round(resolution*slope, 2)\r\n",
        "DR_abs"
      ],
      "execution_count": 15,
      "outputs": [
        {
          "output_type": "execute_result",
          "data": {
            "text/plain": [
              "-0.69"
            ]
          },
          "metadata": {
            "tags": []
          },
          "execution_count": 15
        }
      ]
    },
    {
      "cell_type": "code",
      "metadata": {
        "colab": {
          "base_uri": "https://localhost:8080/"
        },
        "id": "yF2EVpdPYEzP",
        "outputId": "23b26ff6-0d78-45e2-c66d-aca714abc3a0"
      },
      "source": [
        "results.params"
      ],
      "execution_count": 16,
      "outputs": [
        {
          "output_type": "execute_result",
          "data": {
            "text/plain": [
              "array([ 8.22339601e+01, -5.74511438e-02])"
            ]
          },
          "metadata": {
            "tags": []
          },
          "execution_count": 16
        }
      ]
    },
    {
      "cell_type": "code",
      "metadata": {
        "colab": {
          "base_uri": "https://localhost:8080/"
        },
        "id": "ibO5yPcjYJtv",
        "outputId": "47d1eb77-b662-4939-c518-bcb360c681d9"
      },
      "source": [
        "#confidence level 95%\r\n",
        "CI_rel = 100*resolution*results.conf_int(alpha = 0.05)[1]/intercept\r\n",
        "CIL_rel = CI_rel[1]\r\n",
        "CIH_rel = CI_rel[0]\r\n",
        "round(CIL_rel,2),round(CIH_rel,2)\r\n",
        "\r\n",
        "DR_rel = round(100*resolution*slope/intercept,2)\r\n",
        "DR_rel"
      ],
      "execution_count": 17,
      "outputs": [
        {
          "output_type": "execute_result",
          "data": {
            "text/plain": [
              "-0.84"
            ]
          },
          "metadata": {
            "tags": []
          },
          "execution_count": 17
        }
      ]
    },
    {
      "cell_type": "code",
      "metadata": {
        "colab": {
          "base_uri": "https://localhost:8080/",
          "height": 302
        },
        "id": "eeeuPuWZYOCL",
        "outputId": "448deb59-11b1-440b-c024-8e1914f6d615"
      },
      "source": [
        "sns.regplot(y = trend_df['Trend'], x = trend_df['Month'], data = northampton_2, color='g')\r\n",
        "plt.ylabel(\"PR(%)\",fontsize=15)\r\n",
        "plt.xlabel(\"Month\", fontsize=15)\r\n",
        "plt.ylim(65,90)\r\n",
        "plt.xlim(0, 80)\r\n",
        "plt.title(\"Degradation Rate for Northampton PV-2\",fontsize=18)\r\n",
        "plt.grid(True)\r\n",
        "plt.show()"
      ],
      "execution_count": 18,
      "outputs": [
        {
          "output_type": "display_data",
          "data": {
            "image/png": "[encoded data removed]",
            "text/plain": [
              "<Figure size 432x288 with 1 Axes>"
            ]
          },
          "metadata": {
            "tags": [],
            "needs_background": "light"
          }
        }
      ]
    },
    {
      "cell_type": "markdown",
      "metadata": {
        "id": "VUweVJtgYa8F"
      },
      "source": [
        "##### Yearly degredation for Northampton PV-2 range -0.69 & -0.84%"
      ]
    },
    {
      "cell_type": "markdown",
      "metadata": {
        "id": "ek0I1gUNYjou"
      },
      "source": [
        "# Degredation Analysis for Northampton PV-03"
      ]
    },
    {
      "cell_type": "code",
      "metadata": {
        "id": "abuAHihNYVvO"
      },
      "source": [
        "northampton_3 = pd.read_csv('/content/drive/MyDrive/PHD/Data/Northampton3.csv')"
      ],
      "execution_count": 19,
      "outputs": []
    },
    {
      "cell_type": "code",
      "metadata": {
        "colab": {
          "base_uri": "https://localhost:8080/",
          "height": 279
        },
        "id": "ANt-Ok5CYqoc",
        "outputId": "e764ce6a-f6b8-41c4-82b8-1be8b00da0ea"
      },
      "source": [
        "fig, axs = plt.subplots()\r\n",
        "axs.plot(northampton_3.index, northampton_3.PR, 'o-', alpha = 0.5,color='g')\r\n",
        "axs.set_ylabel('PR (%)');\r\n",
        "axs.set_xlabel('Month')\r\n",
        "\r\n",
        "resolution = 12\r\n",
        "s=sm.tsa.seasonal_decompose(northampton_3.PR, model = 'multiplicative', freq = resolution)\r\n",
        "#s.plot()"
      ],
      "execution_count": 21,
      "outputs": [
        {
          "output_type": "display_data",
          "data": {
            "image/png": "[encoded data removed]",
            "text/plain": [
              "<Figure size 432x288 with 1 Axes>"
            ]
          },
          "metadata": {
            "tags": [],
            "needs_background": "light"
          }
        }
      ]
    },
    {
      "cell_type": "code",
      "metadata": {
        "id": "1uQum_UQY4D2"
      },
      "source": [
        "trend_df = pd.DataFrame(list(s.trend), columns = ['Trend'])\r\n",
        "trend_df.insert(loc=0, column = 'Month', value=np.arange(len(trend_df)))\r\n",
        "trend_df=trend_df[np.isfinite(trend_df['Trend'])]\r\n",
        "y = trend_df.Trend\r\n",
        "x = trend_df.Month\r\n",
        "x, y = np.array(x), np.array(y)\r\n",
        "\r\n",
        "x = sm.add_constant(x)"
      ],
      "execution_count": 22,
      "outputs": []
    },
    {
      "cell_type": "code",
      "metadata": {
        "colab": {
          "base_uri": "https://localhost:8080/",
          "height": 426
        },
        "id": "iAL-dlZuZHhq",
        "outputId": "ae310e92-7e0a-4d05-dc23-4c5856a23761"
      },
      "source": [
        "model = sm.OLS(y,x)\r\n",
        "results = model.fit()\r\n",
        "results.summary()"
      ],
      "execution_count": 23,
      "outputs": [
        {
          "output_type": "execute_result",
          "data": {
            "text/html": [
              "<table class=\"simpletable\">\n",
              "<caption>OLS Regression Results</caption>\n",
              "<tr>\n",
              "  <th>Dep. Variable:</th>            <td>y</td>        <th>  R-squared:         </th> <td>   0.914</td>\n",
              "</tr>\n",
              "<tr>\n",
              "  <th>Model:</th>                   <td>OLS</td>       <th>  Adj. R-squared:    </th> <td>   0.912</td>\n",
              "</tr>\n",
              "<tr>\n",
              "  <th>Method:</th>             <td>Least Squares</td>  <th>  F-statistic:       </th> <td>   615.2</td>\n",
              "</tr>\n",
              "<tr>\n",
              "  <th>Date:</th>             <td>Fri, 29 Jan 2021</td> <th>  Prob (F-statistic):</th> <td>1.45e-32</td>\n",
              "</tr>\n",
              "<tr>\n",
              "  <th>Time:</th>                 <td>19:10:02</td>     <th>  Log-Likelihood:    </th> <td> -18.244</td>\n",
              "</tr>\n",
              "<tr>\n",
              "  <th>No. Observations:</th>      <td>    60</td>      <th>  AIC:               </th> <td>   40.49</td>\n",
              "</tr>\n",
              "<tr>\n",
              "  <th>Df Residuals:</th>          <td>    58</td>      <th>  BIC:               </th> <td>   44.68</td>\n",
              "</tr>\n",
              "<tr>\n",
              "  <th>Df Model:</th>              <td>     1</td>      <th>                     </th>     <td> </td>   \n",
              "</tr>\n",
              "<tr>\n",
              "  <th>Covariance Type:</th>      <td>nonrobust</td>    <th>                     </th>     <td> </td>   \n",
              "</tr>\n",
              "</table>\n",
              "<table class=\"simpletable\">\n",
              "<tr>\n",
              "    <td></td>       <th>coef</th>     <th>std err</th>      <th>t</th>      <th>P>|t|</th>  <th>[0.025</th>    <th>0.975]</th>  \n",
              "</tr>\n",
              "<tr>\n",
              "  <th>const</th> <td>   82.7388</td> <td>    0.098</td> <td>  842.398</td> <td> 0.000</td> <td>   82.542</td> <td>   82.935</td>\n",
              "</tr>\n",
              "<tr>\n",
              "  <th>x1</th>    <td>   -0.0617</td> <td>    0.002</td> <td>  -24.803</td> <td> 0.000</td> <td>   -0.067</td> <td>   -0.057</td>\n",
              "</tr>\n",
              "</table>\n",
              "<table class=\"simpletable\">\n",
              "<tr>\n",
              "  <th>Omnibus:</th>       <td> 1.535</td> <th>  Durbin-Watson:     </th> <td>   0.171</td>\n",
              "</tr>\n",
              "<tr>\n",
              "  <th>Prob(Omnibus):</th> <td> 0.464</td> <th>  Jarque-Bera (JB):  </th> <td>   1.196</td>\n",
              "</tr>\n",
              "<tr>\n",
              "  <th>Skew:</th>          <td> 0.112</td> <th>  Prob(JB):          </th> <td>   0.550</td>\n",
              "</tr>\n",
              "<tr>\n",
              "  <th>Kurtosis:</th>      <td> 2.346</td> <th>  Cond. No.          </th> <td>    90.1</td>\n",
              "</tr>\n",
              "</table><br/><br/>Warnings:<br/>[1] Standard Errors assume that the covariance matrix of the errors is correctly specified."
            ],
            "text/plain": [
              "<class 'statsmodels.iolib.summary.Summary'>\n",
              "\"\"\"\n",
              "                            OLS Regression Results                            \n",
              "==============================================================================\n",
              "Dep. Variable:                      y   R-squared:                       0.914\n",
              "Model:                            OLS   Adj. R-squared:                  0.912\n",
              "Method:                 Least Squares   F-statistic:                     615.2\n",
              "Date:                Fri, 29 Jan 2021   Prob (F-statistic):           1.45e-32\n",
              "Time:                        19:10:02   Log-Likelihood:                -18.244\n",
              "No. Observations:                  60   AIC:                             40.49\n",
              "Df Residuals:                      58   BIC:                             44.68\n",
              "Df Model:                           1                                         \n",
              "Covariance Type:            nonrobust                                         \n",
              "==============================================================================\n",
              "                 coef    std err          t      P>|t|      [0.025      0.975]\n",
              "------------------------------------------------------------------------------\n",
              "const         82.7388      0.098    842.398      0.000      82.542      82.935\n",
              "x1            -0.0617      0.002    -24.803      0.000      -0.067      -0.057\n",
              "==============================================================================\n",
              "Omnibus:                        1.535   Durbin-Watson:                   0.171\n",
              "Prob(Omnibus):                  0.464   Jarque-Bera (JB):                1.196\n",
              "Skew:                           0.112   Prob(JB):                        0.550\n",
              "Kurtosis:                       2.346   Cond. No.                         90.1\n",
              "==============================================================================\n",
              "\n",
              "Warnings:\n",
              "[1] Standard Errors assume that the covariance matrix of the errors is correctly specified.\n",
              "\"\"\""
            ]
          },
          "metadata": {
            "tags": []
          },
          "execution_count": 23
        }
      ]
    },
    {
      "cell_type": "markdown",
      "metadata": {
        "id": "sWgCcgpWZaaF"
      },
      "source": [
        "## Result interpretation\r\n",
        "\r\n",
        "##### R-squared values is closer to one showing that the model has a good fit.\r\n",
        "\r\n",
        "##### As the Prob (F-statistic) is less than 0.05 we can reject the null hypothesis ( the intercept only model is same as the co-effiecent model. if the null hypothesis was true the model would be useless. However this is not the case.\r\n",
        "\r\n",
        "##### x1- p-value is equal to zero which can be interpreted as the feature co-efficient is not zero, thErefore does have a relationship with the target."
      ]
    },
    {
      "cell_type": "code",
      "metadata": {
        "colab": {
          "base_uri": "https://localhost:8080/"
        },
        "id": "UAdx9cuiZO1O",
        "outputId": "52c1a907-9467-4ae6-f8e1-364a7a64f5b8"
      },
      "source": [
        "#confidence level 95%\r\n",
        "intercept, slope = results.params\r\n",
        "CI_abs = resolution*results.conf_int(alpha = 0.05)[1]\r\n",
        "CIL_abs = CI_abs[1]\r\n",
        "CIH_abs = CI_abs[0]\r\n",
        "round(CIL_abs,2),round(CIH_abs,2)\r\n",
        "\r\n",
        "DR_abs = round(resolution*slope, 2)\r\n",
        "DR_abs"
      ],
      "execution_count": 24,
      "outputs": [
        {
          "output_type": "execute_result",
          "data": {
            "text/plain": [
              "-0.74"
            ]
          },
          "metadata": {
            "tags": []
          },
          "execution_count": 24
        }
      ]
    },
    {
      "cell_type": "code",
      "metadata": {
        "colab": {
          "base_uri": "https://localhost:8080/"
        },
        "id": "OCFgaTMYaoUM",
        "outputId": "30c292c6-6b2b-4e3d-81bd-b861e91021a7"
      },
      "source": [
        "results.params"
      ],
      "execution_count": 25,
      "outputs": [
        {
          "output_type": "execute_result",
          "data": {
            "text/plain": [
              "array([ 8.27387928e+01, -6.16756970e-02])"
            ]
          },
          "metadata": {
            "tags": []
          },
          "execution_count": 25
        }
      ]
    },
    {
      "cell_type": "code",
      "metadata": {
        "colab": {
          "base_uri": "https://localhost:8080/"
        },
        "id": "DYPkx7riatNi",
        "outputId": "40c95187-3577-4338-93d5-fb477e10089c"
      },
      "source": [
        "#confidence level 95%\r\n",
        "CI_rel = 100*resolution*results.conf_int(alpha = 0.05)[1]/intercept\r\n",
        "CIL_rel = CI_rel[1]\r\n",
        "CIH_rel = CI_rel[0]\r\n",
        "round(CIL_rel,2),round(CIH_rel,2)\r\n",
        "\r\n",
        "DR_rel = round(100*resolution*slope/intercept,2)\r\n",
        "DR_rel"
      ],
      "execution_count": 26,
      "outputs": [
        {
          "output_type": "execute_result",
          "data": {
            "text/plain": [
              "-0.89"
            ]
          },
          "metadata": {
            "tags": []
          },
          "execution_count": 26
        }
      ]
    },
    {
      "cell_type": "code",
      "metadata": {
        "colab": {
          "base_uri": "https://localhost:8080/",
          "height": 302
        },
        "id": "XPuMsoY6azki",
        "outputId": "48b93df6-7c4d-4e78-a3e6-b4b56ba51afa"
      },
      "source": [
        "sns.regplot(y = trend_df['Trend'], x = trend_df['Month'], data = northampton_3, color='g')\r\n",
        "plt.ylabel(\"PR(%)\",fontsize=15)\r\n",
        "plt.xlabel(\"Month\", fontsize=15)\r\n",
        "plt.ylim(65,90)\r\n",
        "plt.xlim(0, 80)\r\n",
        "plt.title(\"Degradation Rate for Northampton PV-3\",fontsize=18)\r\n",
        "plt.grid(True)\r\n",
        "plt.show()"
      ],
      "execution_count": 27,
      "outputs": [
        {
          "output_type": "display_data",
          "data": {
            "image/png": "[encoded data removed]",
            "text/plain": [
              "<Figure size 432x288 with 1 Axes>"
            ]
          },
          "metadata": {
            "tags": [],
            "needs_background": "light"
          }
        }
      ]
    },
    {
      "cell_type": "markdown",
      "metadata": {
        "id": "2zfgUg2ia-3i"
      },
      "source": [
        "##### Yearly degredation for Northampton PV-3 range -0.74 & -0.89%"
      ]
    },
    {
      "cell_type": "code",
      "metadata": {
        "id": "gQpBs-p_a3wC"
      },
      "source": [
        ""
      ],
      "execution_count": null,
      "outputs": []
    }
  ]
}