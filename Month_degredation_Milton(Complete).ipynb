{
  "nbformat": 4,
  "nbformat_minor": 0,
  "metadata": {
    "colab": {
      "name": "Month_degredation_Milton(Complete).ipynb",
      "provenance": [],
      "collapsed_sections": [],
      "toc_visible": true,
      "mount_file_id": "1G-BtVB97iAamwcfYcE8H2_3ydM-PtxS2",
      "authorship_tag": "ABX9TyPxer0NIN7lnXxEsSKO57Vn",
      "include_colab_link": true
    },
    "kernelspec": {
      "name": "python3",
      "display_name": "Python 3"
    }
  },
  "cells": [
    {
      "cell_type": "markdown",
      "metadata": {
        "id": "view-in-github",
        "colab_type": "text"
      },
      "source": [
        "<a href=\"https://colab.research.google.com/github/u1353279/DATA_PHD/blob/main/Month_degredation_Milton(Complete).ipynb\" target=\"_parent\"><img src=\"https://colab.research.google.com/assets/colab-badge.svg\" alt=\"Open In Colab\"/></a>"
      ]
    },
    {
      "cell_type": "markdown",
      "metadata": {
        "id": "3blIf5BPCsgD"
      },
      "source": [
        "# Comparing Seasonal degredation of 3 PV systems based on 3 month intervals located in Milton"
      ]
    },
    {
      "cell_type": "code",
      "metadata": {
        "id": "ty0ROpk_7qTe",
        "colab": {
          "base_uri": "https://localhost:8080/"
        },
        "outputId": "2211e0ec-f33a-4134-87a3-85afdacc4da0"
      },
      "source": [
        "import pandas as pd\r\n",
        "import numpy as np\r\n",
        "import seaborn as sns\r\n",
        "import statsmodels.api as sm\r\n",
        "from matplotlib import pyplot as plt\r\n",
        "from pandas.plotting import register_matplotlib_converters\r\n",
        "register_matplotlib_converters()\r\n",
        "\r\n",
        "# settings\r\n",
        "plt.style.use('seaborn-white')\r\n",
        "plt.rcParams[\"figure.figsize\"] = (8, 5)"
      ],
      "execution_count": 1,
      "outputs": [
        {
          "output_type": "stream",
          "text": [
            "/usr/local/lib/python3.6/dist-packages/statsmodels/tools/_testing.py:19: FutureWarning: pandas.util.testing is deprecated. Use the functions in the public API at pandas.testing instead.\n",
            "  import pandas.util.testing as tm\n"
          ],
          "name": "stderr"
        }
      ]
    },
    {
      "cell_type": "markdown",
      "metadata": {
        "id": "z0Ou0Ev0747k"
      },
      "source": [
        "# Leicester PV-01 JAN-MAR"
      ]
    },
    {
      "cell_type": "code",
      "metadata": {
        "colab": {
          "base_uri": "https://localhost:8080/",
          "height": 342
        },
        "id": "BCDqv1nZ7uve",
        "outputId": "662b3eae-bb0c-4e82-f56b-33f295a94e55"
      },
      "source": [
        "Leicester_1 = pd.read_csv('/content/drive/MyDrive/PHD/Data/Milton1.csv')\r\n",
        "\r\n",
        "df = Leicester_1[(Leicester_1['Unnamed: 1']>0) & (Leicester_1['Unnamed: 1']<4)]\r\n",
        "\r\n",
        "#df['PR'].plot()\r\n",
        "#plt.xlabel('Month')\r\n",
        "#plt.ylabel('PR')\r\n",
        "#plt.title('Monthly PR 2015-2020')\r\n",
        "\r\n",
        "#fig, axs = plt.subplots()\r\n",
        "#axs.plot(df.index, df.PR, 'o-', alpha = 0.5,color='g')\r\n",
        "#axs.set_ylabel('PR (%)');\r\n",
        "#axs.set_xlabel('Month')\r\n",
        "\r\n",
        "resolution = 3\r\n",
        "s=sm.tsa.seasonal_decompose(df.PR, model = 'multiplicative', freq = 3)\r\n",
        "#s.plot()\r\n",
        "\r\n",
        "trend_df = pd.DataFrame(list(s.trend), columns = ['Trend'])\r\n",
        "trend_df.insert(loc=0, column = 'Month', value=np.arange(len(trend_df)))\r\n",
        "trend_df=trend_df[np.isfinite(trend_df['Trend'])]\r\n",
        "y = trend_df.Trend\r\n",
        "x = trend_df.Month\r\n",
        "x, y = np.array(x), np.array(y)\r\n",
        "\r\n",
        "x = sm.add_constant(x)\r\n",
        "\r\n",
        "#trend_df['Trend'].plot()\r\n",
        "#plt.xlabel('Month')\r\n",
        "#plt.ylabel('PR')\r\n",
        "#plt.title('Decomposed Trend for Bedford PV-2 JAN-APR')\r\n",
        "\r\n",
        "model = sm.OLS(y,x)\r\n",
        "results = model.fit()\r\n",
        "#results.summary()\r\n",
        "\r\n",
        "#confidence level 95%\r\n",
        "intercept, slope = results.params\r\n",
        "CI_abs = resolution*results.conf_int(alpha = 0.05)[1]\r\n",
        "CIL_abs = CI_abs[1]\r\n",
        "CIH_abs = CI_abs[0]\r\n",
        "round(CIL_abs,2),round(CIH_abs,2)\r\n",
        "\r\n",
        "DR_abs = round(resolution*slope, 2)\r\n",
        "\r\n",
        "\r\n",
        "sns.regplot(y = trend_df['Trend'], x = trend_df['Month'], data = df, color='g')\r\n",
        "plt.ylabel(\"PR(%)\")\r\n",
        "plt.xlabel(\"Month\")\r\n",
        "plt.ylim(65,100)\r\n",
        "plt.xlim(0, 17)\r\n",
        "plt.title(\"JAN-MARCH:Degradation Rate for Milton PV-1\")\r\n",
        "plt.grid(True)\r\n",
        "plt.show()\r\n",
        "\r\n",
        "print('Absolute degredation value', DR_abs)\r\n",
        "print('Lower boundary degredation value', CIL_abs)\r\n",
        "print('Upper boundary degredation value', CIH_abs)"
      ],
      "execution_count": 3,
      "outputs": [
        {
          "output_type": "display_data",
          "data": {
            "image/png": "[encoded data removed]",
            "text/plain": [
              "<Figure size 432x288 with 1 Axes>"
            ]
          },
          "metadata": {
            "tags": [],
            "needs_background": "light"
          }
        },
        {
          "output_type": "stream",
          "text": [
            "Absolute degredation value -1.0\n",
            "Lower boundary degredation value -0.6466653702613572\n",
            "Upper boundary degredation value -1.362158159150415\n"
          ],
          "name": "stdout"
        }
      ]
    },
    {
      "cell_type": "markdown",
      "metadata": {
        "id": "I-UECbmE8mMF"
      },
      "source": [
        "# Milton PV-02 JAN-MAR"
      ]
    },
    {
      "cell_type": "code",
      "metadata": {
        "colab": {
          "base_uri": "https://localhost:8080/",
          "height": 342
        },
        "id": "8qawen928PrX",
        "outputId": "67cf2820-85cb-4124-91db-8e7ea39d80fc"
      },
      "source": [
        "Leicester_2 = pd.read_csv('/content/drive/MyDrive/PHD/Data/Milton2.csv')\r\n",
        "\r\n",
        "df = Leicester_2[(Leicester_2['Unnamed: 1']>0) & (Leicester_2['Unnamed: 1']<4)]\r\n",
        "\r\n",
        "#df['PR'].plot()\r\n",
        "#plt.xlabel('Month')\r\n",
        "#plt.ylabel('PR')\r\n",
        "#plt.title('Monthly PR 2015-2020')\r\n",
        "\r\n",
        "#fig, axs = plt.subplots()\r\n",
        "#axs.plot(df.index, df.PR, 'o-', alpha = 0.5,color='g')\r\n",
        "#axs.set_ylabel('PR (%)');\r\n",
        "#axs.set_xlabel('Month')\r\n",
        "\r\n",
        "resolution = 3\r\n",
        "s=sm.tsa.seasonal_decompose(df.PR, model = 'multiplicative', freq = 3)\r\n",
        "#s.plot()\r\n",
        "\r\n",
        "trend_df = pd.DataFrame(list(s.trend), columns = ['Trend'])\r\n",
        "trend_df.insert(loc=0, column = 'Month', value=np.arange(len(trend_df)))\r\n",
        "trend_df=trend_df[np.isfinite(trend_df['Trend'])]\r\n",
        "y = trend_df.Trend\r\n",
        "x = trend_df.Month\r\n",
        "x, y = np.array(x), np.array(y)\r\n",
        "\r\n",
        "x = sm.add_constant(x)\r\n",
        "\r\n",
        "#trend_df['Trend'].plot()\r\n",
        "#plt.xlabel('Month')\r\n",
        "#plt.ylabel('PR')\r\n",
        "#plt.title('Decomposed Trend for Bedford PV-2 JAN-APR')\r\n",
        "\r\n",
        "model = sm.OLS(y,x)\r\n",
        "results = model.fit()\r\n",
        "#results.summary()\r\n",
        "\r\n",
        "#confidence level 95%\r\n",
        "intercept, slope = results.params\r\n",
        "CI_abs = resolution*results.conf_int(alpha = 0.05)[1]\r\n",
        "CIL_abs = CI_abs[1]\r\n",
        "CIH_abs = CI_abs[0]\r\n",
        "round(CIL_abs,2),round(CIH_abs,2)\r\n",
        "\r\n",
        "DR_abs = round(resolution*slope, 2)\r\n",
        "\r\n",
        "\r\n",
        "sns.regplot(y = trend_df['Trend'], x = trend_df['Month'], data = df, color='g')\r\n",
        "plt.ylabel(\"PR(%)\")\r\n",
        "plt.xlabel(\"Month\")\r\n",
        "plt.ylim(65,100)\r\n",
        "plt.xlim(0, 17)\r\n",
        "plt.title(\"JAN-MARCH:Degradation Rate for Milton PV-2\")\r\n",
        "plt.grid(True)\r\n",
        "plt.show()\r\n",
        "\r\n",
        "print('Absolute degredation value', DR_abs)\r\n",
        "print('Lower boundary degredation value', CIL_abs)\r\n",
        "print('Upper boundary degredation value', CIH_abs)"
      ],
      "execution_count": 16,
      "outputs": [
        {
          "output_type": "display_data",
          "data": {
            "image/png": "[encoded data removed]",
            "text/plain": [
              "<Figure size 432x288 with 1 Axes>"
            ]
          },
          "metadata": {
            "tags": [],
            "needs_background": "light"
          }
        },
        {
          "output_type": "stream",
          "text": [
            "Absolute degredation value -0.45\n",
            "Lower boundary degredation value -0.12790441052115945\n",
            "Upper boundary degredation value -0.7632720600670886\n"
          ],
          "name": "stdout"
        }
      ]
    },
    {
      "cell_type": "markdown",
      "metadata": {
        "id": "UEy9A372837b"
      },
      "source": [
        "# Milton PV-03 JAN-MAR"
      ]
    },
    {
      "cell_type": "code",
      "metadata": {
        "colab": {
          "base_uri": "https://localhost:8080/",
          "height": 342
        },
        "id": "NlD3u1-I8ze3",
        "outputId": "1d1d8d71-c406-4896-b58e-9b7449bc4283"
      },
      "source": [
        "Leicester_3 = pd.read_csv('/content/drive/MyDrive/PHD/Data/Milton3.csv')\r\n",
        "\r\n",
        "df = Leicester_3[(Leicester_3['Unnamed: 1']>0) & (Leicester_3['Unnamed: 1']<4)]\r\n",
        "\r\n",
        "#df['PR'].plot()\r\n",
        "#plt.xlabel('Month')\r\n",
        "#plt.ylabel('PR')\r\n",
        "#plt.title('Monthly PR 2015-2020')\r\n",
        "\r\n",
        "#fig, axs = plt.subplots()\r\n",
        "#axs.plot(df.index, df.PR, 'o-', alpha = 0.5,color='g')\r\n",
        "#axs.set_ylabel('PR (%)');\r\n",
        "#axs.set_xlabel('Month')\r\n",
        "\r\n",
        "resolution = 3\r\n",
        "s=sm.tsa.seasonal_decompose(df.PR, model = 'multiplicative', freq = 3)\r\n",
        "#s.plot()\r\n",
        "\r\n",
        "trend_df = pd.DataFrame(list(s.trend), columns = ['Trend'])\r\n",
        "trend_df.insert(loc=0, column = 'Month', value=np.arange(len(trend_df)))\r\n",
        "trend_df=trend_df[np.isfinite(trend_df['Trend'])]\r\n",
        "y = trend_df.Trend\r\n",
        "x = trend_df.Month\r\n",
        "x, y = np.array(x), np.array(y)\r\n",
        "\r\n",
        "x = sm.add_constant(x)\r\n",
        "\r\n",
        "#trend_df['Trend'].plot()\r\n",
        "#plt.xlabel('Month')\r\n",
        "#plt.ylabel('PR')\r\n",
        "#plt.title('Decomposed Trend for Milton PV-2 JAN-APR')\r\n",
        "\r\n",
        "model = sm.OLS(y,x)\r\n",
        "results = model.fit()\r\n",
        "#results.summary()\r\n",
        "\r\n",
        "#confidence level 95%\r\n",
        "intercept, slope = results.params\r\n",
        "CI_abs = resolution*results.conf_int(alpha = 0.05)[1]\r\n",
        "CIL_abs = CI_abs[1]\r\n",
        "CIH_abs = CI_abs[0]\r\n",
        "round(CIL_abs,2),round(CIH_abs,2)\r\n",
        "\r\n",
        "DR_abs = round(resolution*slope, 2)\r\n",
        "\r\n",
        "\r\n",
        "sns.regplot(y = trend_df['Trend'], x = trend_df['Month'], data = df, color='g')\r\n",
        "plt.ylabel(\"PR(%)\")\r\n",
        "plt.xlabel(\"Month\")\r\n",
        "plt.ylim(65,100)\r\n",
        "plt.xlim(0, 17)\r\n",
        "plt.title(\"JAN-MARCH:Degradation Rate for Bedford PV-3\")\r\n",
        "plt.grid(True)\r\n",
        "plt.show()\r\n",
        "\r\n",
        "print('Absolute degredation value', DR_abs)\r\n",
        "print('Lower boundary degredation value', CIL_abs)\r\n",
        "print('Upper boundary degredation value', CIH_abs)"
      ],
      "execution_count": 17,
      "outputs": [
        {
          "output_type": "display_data",
          "data": {
            "image/png": "[encoded data removed]",
            "text/plain": [
              "<Figure size 432x288 with 1 Axes>"
            ]
          },
          "metadata": {
            "tags": [],
            "needs_background": "light"
          }
        },
        {
          "output_type": "stream",
          "text": [
            "Absolute degredation value -0.5\n",
            "Lower boundary degredation value -0.22474699085294345\n",
            "Upper boundary degredation value -0.7840765385588351\n"
          ],
          "name": "stdout"
        }
      ]
    },
    {
      "cell_type": "markdown",
      "metadata": {
        "id": "yZCmtmQXHCJV"
      },
      "source": [
        "## Avg degredation for Milton between JAN-March is -0.65%"
      ]
    },
    {
      "cell_type": "markdown",
      "metadata": {
        "id": "8RlvM1bi9JXO"
      },
      "source": [
        "# Milton PV-01 APR-JUN"
      ]
    },
    {
      "cell_type": "code",
      "metadata": {
        "colab": {
          "base_uri": "https://localhost:8080/",
          "height": 342
        },
        "id": "30MNvrsg9Bmb",
        "outputId": "6ced1c48-a18b-4381-a9cd-c26191facdb2"
      },
      "source": [
        "Leicester_1 = pd.read_csv('/content/drive/MyDrive/PHD/Data/Milton1.csv')\r\n",
        "\r\n",
        "df = Leicester_1[(Leicester_1['Unnamed: 1']>3) & (Leicester_1['Unnamed: 1']<7)]\r\n",
        "\r\n",
        "#df['PR'].plot()\r\n",
        "#plt.xlabel('Month')\r\n",
        "#plt.ylabel('PR')\r\n",
        "#plt.title('Monthly PR 2015-2020')\r\n",
        "\r\n",
        "#fig, axs = plt.subplots()\r\n",
        "#axs.plot(df.index, df.PR, 'o-', alpha = 0.5,color='g')\r\n",
        "#axs.set_ylabel('PR (%)');\r\n",
        "#axs.set_xlabel('Month')\r\n",
        "\r\n",
        "resolution = 3\r\n",
        "s=sm.tsa.seasonal_decompose(df.PR, model = 'multiplicative', freq = 3)\r\n",
        "#s.plot()\r\n",
        "\r\n",
        "trend_df = pd.DataFrame(list(s.trend), columns = ['Trend'])\r\n",
        "trend_df.insert(loc=0, column = 'Month', value=np.arange(len(trend_df)))\r\n",
        "trend_df=trend_df[np.isfinite(trend_df['Trend'])]\r\n",
        "y = trend_df.Trend\r\n",
        "x = trend_df.Month\r\n",
        "x, y = np.array(x), np.array(y)\r\n",
        "\r\n",
        "x = sm.add_constant(x)\r\n",
        "\r\n",
        "#trend_df['Trend'].plot()\r\n",
        "#plt.xlabel('Month')\r\n",
        "#plt.ylabel('PR')\r\n",
        "#plt.title('Decomposed Trend for Bedford PV-2 JAN-APR')\r\n",
        "\r\n",
        "model = sm.OLS(y,x)\r\n",
        "results = model.fit()\r\n",
        "#results.summary()\r\n",
        "\r\n",
        "#confidence level 95%\r\n",
        "intercept, slope = results.params\r\n",
        "CI_abs = resolution*results.conf_int(alpha = 0.05)[1]\r\n",
        "CIL_abs = CI_abs[1]\r\n",
        "CIH_abs = CI_abs[0]\r\n",
        "round(CIL_abs,2),round(CIH_abs,2)\r\n",
        "\r\n",
        "DR_abs = round(resolution*slope, 2)\r\n",
        "\r\n",
        "\r\n",
        "sns.regplot(y = trend_df['Trend'], x = trend_df['Month'], data = df, color='g')\r\n",
        "plt.ylabel(\"PR(%)\")\r\n",
        "plt.xlabel(\"Month\")\r\n",
        "plt.ylim(65,100)\r\n",
        "plt.xlim(0, 17)\r\n",
        "plt.title(\"APR-JUN:Degradation Rate for Milton PV-1\")\r\n",
        "plt.grid(True)\r\n",
        "plt.show()\r\n",
        "\r\n",
        "print('Absolute degredation value', DR_abs)\r\n",
        "print('Lower boundary degredation value', CIL_abs)\r\n",
        "print('Upper boundary degredation value', CIH_abs)"
      ],
      "execution_count": 18,
      "outputs": [
        {
          "output_type": "display_data",
          "data": {
            "image/png": "[encoded data removed]",
            "text/plain": [
              "<Figure size 432x288 with 1 Axes>"
            ]
          },
          "metadata": {
            "tags": [],
            "needs_background": "light"
          }
        },
        {
          "output_type": "stream",
          "text": [
            "Absolute degredation value -0.66\n",
            "Lower boundary degredation value -0.20806838932323815\n",
            "Upper boundary degredation value -1.1184021989120685\n"
          ],
          "name": "stdout"
        }
      ]
    },
    {
      "cell_type": "markdown",
      "metadata": {
        "id": "oWXgOhq_9-uU"
      },
      "source": [
        "# Milton PV-02 APR-JUN"
      ]
    },
    {
      "cell_type": "code",
      "metadata": {
        "colab": {
          "base_uri": "https://localhost:8080/",
          "height": 342
        },
        "id": "E_xzQn9g92tj",
        "outputId": "5caa03d7-dbce-4be2-d7a9-317df4f421a3"
      },
      "source": [
        "Leicester_2 = pd.read_csv('/content/drive/MyDrive/PHD/Data/Milton2.csv')\r\n",
        "\r\n",
        "df = Leicester_2[(Leicester_2['Unnamed: 1']>3) & (Leicester_2['Unnamed: 1']<7)]\r\n",
        "\r\n",
        "#df['PR'].plot()\r\n",
        "#plt.xlabel('Month')\r\n",
        "#plt.ylabel('PR')\r\n",
        "#plt.title('Monthly PR 2015-2020')\r\n",
        "\r\n",
        "#fig, axs = plt.subplots()\r\n",
        "#axs.plot(df.index, df.PR, 'o-', alpha = 0.5,color='g')\r\n",
        "#axs.set_ylabel('PR (%)');\r\n",
        "#axs.set_xlabel('Month')\r\n",
        "\r\n",
        "resolution = 3\r\n",
        "s=sm.tsa.seasonal_decompose(df.PR, model = 'multiplicative', freq = 3)\r\n",
        "#s.plot()\r\n",
        "\r\n",
        "trend_df = pd.DataFrame(list(s.trend), columns = ['Trend'])\r\n",
        "trend_df.insert(loc=0, column = 'Month', value=np.arange(len(trend_df)))\r\n",
        "trend_df=trend_df[np.isfinite(trend_df['Trend'])]\r\n",
        "y = trend_df.Trend\r\n",
        "x = trend_df.Month\r\n",
        "x, y = np.array(x), np.array(y)\r\n",
        "\r\n",
        "x = sm.add_constant(x)\r\n",
        "\r\n",
        "#trend_df['Trend'].plot()\r\n",
        "#plt.xlabel('Month')\r\n",
        "#plt.ylabel('PR')\r\n",
        "#plt.title('Decomposed Trend for Bedford PV-2 JAN-APR')\r\n",
        "\r\n",
        "model = sm.OLS(y,x)\r\n",
        "results = model.fit()\r\n",
        "#results.summary()\r\n",
        "\r\n",
        "#confidence level 95%\r\n",
        "intercept, slope = results.params\r\n",
        "CI_abs = resolution*results.conf_int(alpha = 0.05)[1]\r\n",
        "CIL_abs = CI_abs[1]\r\n",
        "CIH_abs = CI_abs[0]\r\n",
        "round(CIL_abs,2),round(CIH_abs,2)\r\n",
        "\r\n",
        "DR_abs = round(resolution*slope, 2)\r\n",
        "\r\n",
        "\r\n",
        "sns.regplot(y = trend_df['Trend'], x = trend_df['Month'], data = df, color='g')\r\n",
        "plt.ylabel(\"PR(%)\")\r\n",
        "plt.xlabel(\"Month\")\r\n",
        "plt.ylim(65,100)\r\n",
        "plt.xlim(0, 17)\r\n",
        "plt.title(\"APR-JUN:Degradation Rate for Milton PV-2\")\r\n",
        "plt.grid(True)\r\n",
        "plt.show()\r\n",
        "\r\n",
        "print('Absolute degredation value', DR_abs)\r\n",
        "print('Lower boundary degredation value', CIL_abs)\r\n",
        "print('Upper boundary degredation value', CIH_abs)"
      ],
      "execution_count": 19,
      "outputs": [
        {
          "output_type": "display_data",
          "data": {
            "image/png": "[encoded data removed]",
            "text/plain": [
              "<Figure size 432x288 with 1 Axes>"
            ]
          },
          "metadata": {
            "tags": [],
            "needs_background": "light"
          }
        },
        {
          "output_type": "stream",
          "text": [
            "Absolute degredation value -0.57\n",
            "Lower boundary degredation value -0.0717556984533183\n",
            "Upper boundary degredation value -1.0605972427231616\n"
          ],
          "name": "stdout"
        }
      ]
    },
    {
      "cell_type": "markdown",
      "metadata": {
        "id": "WtMmTH4j-JfU"
      },
      "source": [
        "# Milton PV-03 APR-JUN"
      ]
    },
    {
      "cell_type": "code",
      "metadata": {
        "colab": {
          "base_uri": "https://localhost:8080/",
          "height": 342
        },
        "id": "ui8JzDPh-GAL",
        "outputId": "19cf4e52-4cd1-469e-9978-2e370ffc24d8"
      },
      "source": [
        "Leicester_3 = pd.read_csv('/content/drive/MyDrive/PHD/Data/Milton3.csv')\r\n",
        "\r\n",
        "df = Leicester_3[(Leicester_3['Unnamed: 1']>3) & (Leicester_3['Unnamed: 1']<7)]\r\n",
        "\r\n",
        "#df['PR'].plot()\r\n",
        "#plt.xlabel('Month')\r\n",
        "#plt.ylabel('PR')\r\n",
        "#plt.title('Monthly PR 2015-2020')\r\n",
        "\r\n",
        "#fig, axs = plt.subplots()\r\n",
        "#axs.plot(df.index, df.PR, 'o-', alpha = 0.5,color='g')\r\n",
        "#axs.set_ylabel('PR (%)');\r\n",
        "#axs.set_xlabel('Month')\r\n",
        "\r\n",
        "resolution = 3\r\n",
        "s=sm.tsa.seasonal_decompose(df.PR, model = 'multiplicative', freq = 3)\r\n",
        "#s.plot()\r\n",
        "\r\n",
        "trend_df = pd.DataFrame(list(s.trend), columns = ['Trend'])\r\n",
        "trend_df.insert(loc=0, column = 'Month', value=np.arange(len(trend_df)))\r\n",
        "trend_df=trend_df[np.isfinite(trend_df['Trend'])]\r\n",
        "y = trend_df.Trend\r\n",
        "x = trend_df.Month\r\n",
        "x, y = np.array(x), np.array(y)\r\n",
        "\r\n",
        "x = sm.add_constant(x)\r\n",
        "\r\n",
        "#trend_df['Trend'].plot()\r\n",
        "#plt.xlabel('Month')\r\n",
        "#plt.ylabel('PR')\r\n",
        "#plt.title('Decomposed Trend for Milton PV-2 JAN-APR')\r\n",
        "\r\n",
        "model = sm.OLS(y,x)\r\n",
        "results = model.fit()\r\n",
        "#results.summary()\r\n",
        "\r\n",
        "#confidence level 95%\r\n",
        "intercept, slope = results.params\r\n",
        "CI_abs = resolution*results.conf_int(alpha = 0.05)[1]\r\n",
        "CIL_abs = CI_abs[1]\r\n",
        "CIH_abs = CI_abs[0]\r\n",
        "round(CIL_abs,2),round(CIH_abs,2)\r\n",
        "\r\n",
        "DR_abs = round(resolution*slope, 2)\r\n",
        "\r\n",
        "\r\n",
        "sns.regplot(y = trend_df['Trend'], x = trend_df['Month'], data = df, color='g')\r\n",
        "plt.ylabel(\"PR(%)\")\r\n",
        "plt.xlabel(\"Month\")\r\n",
        "plt.ylim(65,100)\r\n",
        "plt.xlim(0, 17)\r\n",
        "plt.title(\"APR-JUN:Degradation Rate for Milton PV-03\")\r\n",
        "plt.grid(True)\r\n",
        "plt.show()\r\n",
        "\r\n",
        "print('Absolute degredation value', DR_abs)\r\n",
        "print('Lower boundary degredation value', CIL_abs)\r\n",
        "print('Upper boundary degredation value', CIH_abs)"
      ],
      "execution_count": 20,
      "outputs": [
        {
          "output_type": "display_data",
          "data": {
            "image/png": "[encoded data removed]",
            "text/plain": [
              "<Figure size 432x288 with 1 Axes>"
            ]
          },
          "metadata": {
            "tags": [],
            "needs_background": "light"
          }
        },
        {
          "output_type": "stream",
          "text": [
            "Absolute degredation value -0.79\n",
            "Lower boundary degredation value -0.4377644684551359\n",
            "Upper boundary degredation value -1.147529649191928\n"
          ],
          "name": "stdout"
        }
      ]
    },
    {
      "cell_type": "markdown",
      "metadata": {
        "id": "a6wvGuOWHkPB"
      },
      "source": [
        "## Avg degredation for Milton between Apr-Jun is -0.67%"
      ]
    },
    {
      "cell_type": "markdown",
      "metadata": {
        "id": "GyUnFvWd_eq_"
      },
      "source": [
        "# Milton PV-01 JUL-SEPT"
      ]
    },
    {
      "cell_type": "code",
      "metadata": {
        "colab": {
          "base_uri": "https://localhost:8080/",
          "height": 342
        },
        "id": "nJjhwmeY-RiS",
        "outputId": "11540428-f521-432c-9f56-17d844bc86f5"
      },
      "source": [
        "Leicester_1 = pd.read_csv('/content/drive/MyDrive/PHD/Data/Milton1.csv')\r\n",
        "\r\n",
        "df = Leicester_1[(Leicester_1['Unnamed: 1']>6) & (Leicester_1['Unnamed: 1']<10)]\r\n",
        "\r\n",
        "#df['PR'].plot()\r\n",
        "#plt.xlabel('Month')\r\n",
        "#plt.ylabel('PR')\r\n",
        "#plt.title('Monthly PR 2015-2020')\r\n",
        "\r\n",
        "#fig, axs = plt.subplots()\r\n",
        "#axs.plot(df.index, df.PR, 'o-', alpha = 0.5,color='g')\r\n",
        "#axs.set_ylabel('PR (%)');\r\n",
        "#axs.set_xlabel('Month')\r\n",
        "\r\n",
        "resolution = 3\r\n",
        "s=sm.tsa.seasonal_decompose(df.PR, model = 'multiplicative', freq = 3)\r\n",
        "#s.plot()\r\n",
        "\r\n",
        "trend_df = pd.DataFrame(list(s.trend), columns = ['Trend'])\r\n",
        "trend_df.insert(loc=0, column = 'Month', value=np.arange(len(trend_df)))\r\n",
        "trend_df=trend_df[np.isfinite(trend_df['Trend'])]\r\n",
        "y = trend_df.Trend\r\n",
        "x = trend_df.Month\r\n",
        "x, y = np.array(x), np.array(y)\r\n",
        "\r\n",
        "x = sm.add_constant(x)\r\n",
        "\r\n",
        "#trend_df['Trend'].plot()\r\n",
        "#plt.xlabel('Month')\r\n",
        "#plt.ylabel('PR')\r\n",
        "#plt.title('Decomposed Trend for Bedford PV-2 JAN-APR')\r\n",
        "\r\n",
        "model = sm.OLS(y,x)\r\n",
        "results = model.fit()\r\n",
        "#results.summary()\r\n",
        "\r\n",
        "#confidence level 95%\r\n",
        "intercept, slope = results.params\r\n",
        "CI_abs = resolution*results.conf_int(alpha = 0.05)[1]\r\n",
        "CIL_abs = CI_abs[1]\r\n",
        "CIH_abs = CI_abs[0]\r\n",
        "round(CIL_abs,2),round(CIH_abs,2)\r\n",
        "\r\n",
        "DR_abs = round(resolution*slope, 2)\r\n",
        "\r\n",
        "\r\n",
        "sns.regplot(y = trend_df['Trend'], x = trend_df['Month'], data = df, color='g')\r\n",
        "plt.ylabel(\"PR(%)\")\r\n",
        "plt.xlabel(\"Month\")\r\n",
        "plt.ylim(65,100)\r\n",
        "plt.xlim(0, 17)\r\n",
        "plt.title(\"JUL-SEPT:Degradation Rate for Milton PV-1\")\r\n",
        "plt.grid(True)\r\n",
        "plt.show()\r\n",
        "\r\n",
        "print('Absolute degredation value', DR_abs)\r\n",
        "print('Lower boundary degredation value', CIL_abs)\r\n",
        "print('Upper boundary degredation value', CIH_abs)"
      ],
      "execution_count": 21,
      "outputs": [
        {
          "output_type": "display_data",
          "data": {
            "image/png": "[encoded data removed]",
            "text/plain": [
              "<Figure size 432x288 with 1 Axes>"
            ]
          },
          "metadata": {
            "tags": [],
            "needs_background": "light"
          }
        },
        {
          "output_type": "stream",
          "text": [
            "Absolute degredation value -0.87\n",
            "Lower boundary degredation value -0.5534443575826681\n",
            "Upper boundary degredation value -1.1847909365349916\n"
          ],
          "name": "stdout"
        }
      ]
    },
    {
      "cell_type": "markdown",
      "metadata": {
        "id": "_bVB0eZEAIj3"
      },
      "source": [
        "# Milton PV-02 JUL-SEPT"
      ]
    },
    {
      "cell_type": "code",
      "metadata": {
        "colab": {
          "base_uri": "https://localhost:8080/",
          "height": 342
        },
        "id": "5A4gFgJsABH9",
        "outputId": "a5ff5e5c-bc10-4d39-8b0b-4314ede69471"
      },
      "source": [
        "Leicester_2 = pd.read_csv('/content/drive/MyDrive/PHD/Data/Milton2.csv')\r\n",
        "\r\n",
        "df = Leicester_2[(Leicester_2['Unnamed: 1']>6) & (Leicester_2['Unnamed: 1']<10)]\r\n",
        "\r\n",
        "#df['PR'].plot()\r\n",
        "#plt.xlabel('Month')\r\n",
        "#plt.ylabel('PR')\r\n",
        "#plt.title('Monthly PR 2015-2020')\r\n",
        "\r\n",
        "#fig, axs = plt.subplots()\r\n",
        "#axs.plot(df.index, df.PR, 'o-', alpha = 0.5,color='g')\r\n",
        "#axs.set_ylabel('PR (%)');\r\n",
        "#axs.set_xlabel('Month')\r\n",
        "\r\n",
        "resolution = 3\r\n",
        "s=sm.tsa.seasonal_decompose(df.PR, model = 'multiplicative', freq = 3)\r\n",
        "#s.plot()\r\n",
        "\r\n",
        "trend_df = pd.DataFrame(list(s.trend), columns = ['Trend'])\r\n",
        "trend_df.insert(loc=0, column = 'Month', value=np.arange(len(trend_df)))\r\n",
        "trend_df=trend_df[np.isfinite(trend_df['Trend'])]\r\n",
        "y = trend_df.Trend\r\n",
        "x = trend_df.Month\r\n",
        "x, y = np.array(x), np.array(y)\r\n",
        "\r\n",
        "x = sm.add_constant(x)\r\n",
        "\r\n",
        "#trend_df['Trend'].plot()\r\n",
        "#plt.xlabel('Month')\r\n",
        "#plt.ylabel('PR')\r\n",
        "#plt.title('Decomposed Trend for Milton PV-2 JAN-APR')\r\n",
        "\r\n",
        "model = sm.OLS(y,x)\r\n",
        "results = model.fit()\r\n",
        "#results.summary()\r\n",
        "\r\n",
        "#confidence level 95%\r\n",
        "intercept, slope = results.params\r\n",
        "CI_abs = resolution*results.conf_int(alpha = 0.05)[1]\r\n",
        "CIL_abs = CI_abs[1]\r\n",
        "CIH_abs = CI_abs[0]\r\n",
        "round(CIL_abs,2),round(CIH_abs,2)\r\n",
        "\r\n",
        "DR_abs = round(resolution*slope, 2)\r\n",
        "\r\n",
        "\r\n",
        "sns.regplot(y = trend_df['Trend'], x = trend_df['Month'], data = df, color='g')\r\n",
        "plt.ylabel(\"PR(%)\")\r\n",
        "plt.xlabel(\"Month\")\r\n",
        "plt.ylim(65,100)\r\n",
        "plt.xlim(0, 17)\r\n",
        "plt.title(\"JUL-SEPT:Degradation Rate for Milton PV-2\")\r\n",
        "plt.grid(True)\r\n",
        "plt.show()\r\n",
        "\r\n",
        "print('Absolute degredation value', DR_abs)\r\n",
        "print('Lower boundary degredation value', CIL_abs)\r\n",
        "print('Upper boundary degredation value', CIH_abs)"
      ],
      "execution_count": 22,
      "outputs": [
        {
          "output_type": "display_data",
          "data": {
            "image/png": "[encoded data removed]",
            "text/plain": [
              "<Figure size 432x288 with 1 Axes>"
            ]
          },
          "metadata": {
            "tags": [],
            "needs_background": "light"
          }
        },
        {
          "output_type": "stream",
          "text": [
            "Absolute degredation value -0.51\n",
            "Lower boundary degredation value -0.11709944697553229\n",
            "Upper boundary degredation value -0.9093711412597782\n"
          ],
          "name": "stdout"
        }
      ]
    },
    {
      "cell_type": "markdown",
      "metadata": {
        "id": "X6kRn5fTAg-9"
      },
      "source": [
        "# Milton PV-03 JUL-SEPT"
      ]
    },
    {
      "cell_type": "code",
      "metadata": {
        "colab": {
          "base_uri": "https://localhost:8080/",
          "height": 342
        },
        "id": "Ln73bqLAAXaf",
        "outputId": "aaf5c6a8-75e5-48e1-c833-599f42a8a900"
      },
      "source": [
        "Leicester_3 = pd.read_csv('/content/drive/MyDrive/PHD/Data/Milton3.csv')\r\n",
        "\r\n",
        "df = Leicester_3[(Leicester_3['Unnamed: 1']>6) & (Leicester_3['Unnamed: 1']<10)]\r\n",
        "\r\n",
        "#df['PR'].plot()\r\n",
        "#plt.xlabel('Month')\r\n",
        "#plt.ylabel('PR')\r\n",
        "#plt.title('Monthly PR 2015-2020')\r\n",
        "\r\n",
        "#fig, axs = plt.subplots()\r\n",
        "#axs.plot(df.index, df.PR, 'o-', alpha = 0.5,color='g')\r\n",
        "#axs.set_ylabel('PR (%)');\r\n",
        "#axs.set_xlabel('Month')\r\n",
        "\r\n",
        "resolution = 3\r\n",
        "s=sm.tsa.seasonal_decompose(df.PR, model = 'multiplicative', freq = 3)\r\n",
        "#s.plot()\r\n",
        "\r\n",
        "trend_df = pd.DataFrame(list(s.trend), columns = ['Trend'])\r\n",
        "trend_df.insert(loc=0, column = 'Month', value=np.arange(len(trend_df)))\r\n",
        "trend_df=trend_df[np.isfinite(trend_df['Trend'])]\r\n",
        "y = trend_df.Trend\r\n",
        "x = trend_df.Month\r\n",
        "x, y = np.array(x), np.array(y)\r\n",
        "\r\n",
        "x = sm.add_constant(x)\r\n",
        "\r\n",
        "#trend_df['Trend'].plot()\r\n",
        "#plt.xlabel('Month')\r\n",
        "#plt.ylabel('PR')\r\n",
        "#plt.title('Decomposed Trend for Milton PV-2 JAN-APR')\r\n",
        "\r\n",
        "model = sm.OLS(y,x)\r\n",
        "results = model.fit()\r\n",
        "#results.summary()\r\n",
        "\r\n",
        "#confidence level 95%\r\n",
        "intercept, slope = results.params\r\n",
        "CI_abs = resolution*results.conf_int(alpha = 0.05)[1]\r\n",
        "CIL_abs = CI_abs[1]\r\n",
        "CIH_abs = CI_abs[0]\r\n",
        "round(CIL_abs,2),round(CIH_abs,2)\r\n",
        "\r\n",
        "DR_abs = round(resolution*slope, 2)\r\n",
        "\r\n",
        "\r\n",
        "sns.regplot(y = trend_df['Trend'], x = trend_df['Month'], data = df, color='g')\r\n",
        "plt.ylabel(\"PR(%)\")\r\n",
        "plt.xlabel(\"Month\")\r\n",
        "plt.ylim(65,100)\r\n",
        "plt.xlim(0, 17)\r\n",
        "plt.title(\"JUL-SEPT:Degradation Rate for Milton PV-3\")\r\n",
        "plt.grid(True)\r\n",
        "plt.show()\r\n",
        "\r\n",
        "print('Absolute degredation value', DR_abs)\r\n",
        "print('Lower boundary degredation value', CIL_abs)\r\n",
        "print('Upper boundary degredation value', CIH_abs)"
      ],
      "execution_count": 23,
      "outputs": [
        {
          "output_type": "display_data",
          "data": {
            "image/png": "[encoded data removed]",
            "text/plain": [
              "<Figure size 432x288 with 1 Axes>"
            ]
          },
          "metadata": {
            "tags": [],
            "needs_background": "light"
          }
        },
        {
          "output_type": "stream",
          "text": [
            "Absolute degredation value -0.97\n",
            "Lower boundary degredation value -0.5416122603829838\n",
            "Upper boundary degredation value -1.3966230337346683\n"
          ],
          "name": "stdout"
        }
      ]
    },
    {
      "cell_type": "markdown",
      "metadata": {
        "id": "arfURbN1INK8"
      },
      "source": [
        "## Avg degredation for Milton between Jul-Sept is -0.78%"
      ]
    },
    {
      "cell_type": "markdown",
      "metadata": {
        "id": "XVgGHX2-BZXT"
      },
      "source": [
        "# Milton PV-01 OCT-DEC"
      ]
    },
    {
      "cell_type": "code",
      "metadata": {
        "colab": {
          "base_uri": "https://localhost:8080/",
          "height": 342
        },
        "id": "g_nVAtKeAv4I",
        "outputId": "13f4ed44-5d67-4d32-c730-40100fba2440"
      },
      "source": [
        "Leicester_1 = pd.read_csv('/content/drive/MyDrive/PHD/Data/Milton1.csv')\r\n",
        "\r\n",
        "df = Leicester_1[(Leicester_1['Unnamed: 1']>9) & (Leicester_1['Unnamed: 1']<13)]\r\n",
        "\r\n",
        "#df['PR'].plot()\r\n",
        "#plt.xlabel('Month')\r\n",
        "#plt.ylabel('PR')\r\n",
        "#plt.title('Monthly PR 2015-2020')\r\n",
        "\r\n",
        "#fig, axs = plt.subplots()\r\n",
        "#axs.plot(df.index, df.PR, 'o-', alpha = 0.5,color='g')\r\n",
        "#axs.set_ylabel('PR (%)');\r\n",
        "#axs.set_xlabel('Month')\r\n",
        "\r\n",
        "resolution = 3\r\n",
        "s=sm.tsa.seasonal_decompose(df.PR, model = 'multiplicative', freq = 3)\r\n",
        "#s.plot()\r\n",
        "\r\n",
        "trend_df = pd.DataFrame(list(s.trend), columns = ['Trend'])\r\n",
        "trend_df.insert(loc=0, column = 'Month', value=np.arange(len(trend_df)))\r\n",
        "trend_df=trend_df[np.isfinite(trend_df['Trend'])]\r\n",
        "y = trend_df.Trend\r\n",
        "x = trend_df.Month\r\n",
        "x, y = np.array(x), np.array(y)\r\n",
        "\r\n",
        "x = sm.add_constant(x)\r\n",
        "\r\n",
        "#trend_df['Trend'].plot()\r\n",
        "#plt.xlabel('Month')\r\n",
        "#plt.ylabel('PR')\r\n",
        "#plt.title('Decomposed Trend for Bedford PV-2 JAN-APR')\r\n",
        "\r\n",
        "model = sm.OLS(y,x)\r\n",
        "results = model.fit()\r\n",
        "#results.summary()\r\n",
        "\r\n",
        "#confidence level 95%\r\n",
        "intercept, slope = results.params\r\n",
        "CI_abs = resolution*results.conf_int(alpha = 0.05)[1]\r\n",
        "CIL_abs = CI_abs[1]\r\n",
        "CIH_abs = CI_abs[0]\r\n",
        "round(CIL_abs,2),round(CIH_abs,2)\r\n",
        "\r\n",
        "DR_abs = round(resolution*slope, 2)\r\n",
        "\r\n",
        "\r\n",
        "sns.regplot(y = trend_df['Trend'], x = trend_df['Month'], data = df, color='g')\r\n",
        "plt.ylabel(\"PR(%)\")\r\n",
        "plt.xlabel(\"Month\")\r\n",
        "plt.ylim(65,100)\r\n",
        "plt.xlim(0, 17)\r\n",
        "plt.title(\"OCT-DEC:Degradation Rate for Milton PV-1\")\r\n",
        "plt.grid(True)\r\n",
        "plt.show()\r\n",
        "\r\n",
        "print('Absolute degredation value', DR_abs)\r\n",
        "print('Lower boundary degredation value', CIL_abs)\r\n",
        "print('Upper boundary degredation value', CIH_abs)"
      ],
      "execution_count": 13,
      "outputs": [
        {
          "output_type": "display_data",
          "data": {
            "image/png": "[encoded data removed]",
            "text/plain": [
              "<Figure size 432x288 with 1 Axes>"
            ]
          },
          "metadata": {
            "tags": [],
            "needs_background": "light"
          }
        },
        {
          "output_type": "stream",
          "text": [
            "Absolute degredation value -1.05\n",
            "Lower boundary degredation value -0.5458512824926411\n",
            "Upper boundary degredation value -1.557089893977957\n"
          ],
          "name": "stdout"
        }
      ]
    },
    {
      "cell_type": "markdown",
      "metadata": {
        "id": "OHpOk_KjBz15"
      },
      "source": [
        "# Milton PV-02 OCT-DEC"
      ]
    },
    {
      "cell_type": "code",
      "metadata": {
        "colab": {
          "base_uri": "https://localhost:8080/",
          "height": 342
        },
        "id": "JBCAicpHBvqd",
        "outputId": "1a61d7ed-37a6-4014-cf3e-a369dfd34e09"
      },
      "source": [
        "Leicester_2 = pd.read_csv('/content/drive/MyDrive/PHD/Data/Milton2.csv')\r\n",
        "\r\n",
        "df = Leicester_2[(Leicester_2['Unnamed: 1']>9) & (Leicester_2['Unnamed: 1']<13)]\r\n",
        "\r\n",
        "#df['PR'].plot()\r\n",
        "#plt.xlabel('Month')\r\n",
        "#plt.ylabel('PR')\r\n",
        "#plt.title('Monthly PR 2015-2020')\r\n",
        "\r\n",
        "#fig, axs = plt.subplots()\r\n",
        "#axs.plot(df.index, df.PR, 'o-', alpha = 0.5,color='g')\r\n",
        "#axs.set_ylabel('PR (%)');\r\n",
        "#axs.set_xlabel('Month')\r\n",
        "\r\n",
        "resolution = 3\r\n",
        "s=sm.tsa.seasonal_decompose(df.PR, model = 'multiplicative', freq = 3)\r\n",
        "#s.plot()\r\n",
        "\r\n",
        "trend_df = pd.DataFrame(list(s.trend), columns = ['Trend'])\r\n",
        "trend_df.insert(loc=0, column = 'Month', value=np.arange(len(trend_df)))\r\n",
        "trend_df=trend_df[np.isfinite(trend_df['Trend'])]\r\n",
        "y = trend_df.Trend\r\n",
        "x = trend_df.Month\r\n",
        "x, y = np.array(x), np.array(y)\r\n",
        "\r\n",
        "x = sm.add_constant(x)\r\n",
        "\r\n",
        "#trend_df['Trend'].plot()\r\n",
        "#plt.xlabel('Month')\r\n",
        "#plt.ylabel('PR')\r\n",
        "#plt.title('Decomposed Trend for Milton PV-2 JAN-APR')\r\n",
        "\r\n",
        "model = sm.OLS(y,x)\r\n",
        "results = model.fit()\r\n",
        "#results.summary()\r\n",
        "\r\n",
        "#confidence level 95%\r\n",
        "intercept, slope = results.params\r\n",
        "CI_abs = resolution*results.conf_int(alpha = 0.05)[1]\r\n",
        "CIL_abs = CI_abs[1]\r\n",
        "CIH_abs = CI_abs[0]\r\n",
        "round(CIL_abs,2),round(CIH_abs,2)\r\n",
        "\r\n",
        "DR_abs = round(resolution*slope, 2)\r\n",
        "\r\n",
        "\r\n",
        "sns.regplot(y = trend_df['Trend'], x = trend_df['Month'], data = df, color='g')\r\n",
        "plt.ylabel(\"PR(%)\")\r\n",
        "plt.xlabel(\"Month\")\r\n",
        "plt.ylim(65,100)\r\n",
        "plt.xlim(0, 17)\r\n",
        "plt.title(\"OCT-DEC:Degradation Rate for Milton PV-2\")\r\n",
        "plt.grid(True)\r\n",
        "plt.show()\r\n",
        "\r\n",
        "print('Absolute degredation value', DR_abs)\r\n",
        "print('Lower boundary degredation value', CIL_abs)\r\n",
        "print('Upper boundary degredation value', CIH_abs)"
      ],
      "execution_count": 24,
      "outputs": [
        {
          "output_type": "display_data",
          "data": {
            "image/png": "[encoded data removed]",
            "text/plain": [
              "<Figure size 432x288 with 1 Axes>"
            ]
          },
          "metadata": {
            "tags": [],
            "needs_background": "light"
          }
        },
        {
          "output_type": "stream",
          "text": [
            "Absolute degredation value -0.31\n",
            "Lower boundary degredation value 0.23070909859253064\n",
            "Upper boundary degredation value -0.8424738044748921\n"
          ],
          "name": "stdout"
        }
      ]
    },
    {
      "cell_type": "markdown",
      "metadata": {
        "id": "2Q4a05bKCHEY"
      },
      "source": [
        "# Milton PV-03 OCT-DEC"
      ]
    },
    {
      "cell_type": "code",
      "metadata": {
        "colab": {
          "base_uri": "https://localhost:8080/",
          "height": 342
        },
        "id": "3aeNvB7tCCk_",
        "outputId": "ac78e92b-9392-4d99-b3a1-5e71bc9b4af8"
      },
      "source": [
        "Leicester_3 = pd.read_csv('/content/drive/MyDrive/PHD/Data/Milton3.csv')\r\n",
        "\r\n",
        "df = Leicester_3[(Leicester_3['Unnamed: 1']>9) & (Leicester_3['Unnamed: 1']<13)]\r\n",
        "\r\n",
        "#df['PR'].plot()\r\n",
        "#plt.xlabel('Month')\r\n",
        "#plt.ylabel('PR')\r\n",
        "#plt.title('Monthly PR 2015-2020')\r\n",
        "\r\n",
        "#fig, axs = plt.subplots()\r\n",
        "#axs.plot(df.index, df.PR, 'o-', alpha = 0.5,color='g')\r\n",
        "#axs.set_ylabel('PR (%)');\r\n",
        "#axs.set_xlabel('Month')\r\n",
        "\r\n",
        "resolution = 3\r\n",
        "s=sm.tsa.seasonal_decompose(df.PR, model = 'multiplicative', freq = 3)\r\n",
        "#s.plot()\r\n",
        "\r\n",
        "trend_df = pd.DataFrame(list(s.trend), columns = ['Trend'])\r\n",
        "trend_df.insert(loc=0, column = 'Month', value=np.arange(len(trend_df)))\r\n",
        "trend_df=trend_df[np.isfinite(trend_df['Trend'])]\r\n",
        "y = trend_df.Trend\r\n",
        "x = trend_df.Month\r\n",
        "x, y = np.array(x), np.array(y)\r\n",
        "\r\n",
        "x = sm.add_constant(x)\r\n",
        "\r\n",
        "#trend_df['Trend'].plot()\r\n",
        "#plt.xlabel('Month')\r\n",
        "#plt.ylabel('PR')\r\n",
        "#plt.title('Decomposed Trend for Milton PV-2 JAN-APR')\r\n",
        "\r\n",
        "model = sm.OLS(y,x)\r\n",
        "results = model.fit()\r\n",
        "#results.summary()\r\n",
        "\r\n",
        "#confidence level 95%\r\n",
        "intercept, slope = results.params\r\n",
        "CI_abs = resolution*results.conf_int(alpha = 0.05)[1]\r\n",
        "CIL_abs = CI_abs[1]\r\n",
        "CIH_abs = CI_abs[0]\r\n",
        "round(CIL_abs,2),round(CIH_abs,2)\r\n",
        "\r\n",
        "DR_abs = round(resolution*slope, 2)\r\n",
        "\r\n",
        "\r\n",
        "sns.regplot(y = trend_df['Trend'], x = trend_df['Month'], data = df, color='g')\r\n",
        "plt.ylabel(\"PR(%)\")\r\n",
        "plt.xlabel(\"Month\")\r\n",
        "plt.ylim(65,100)\r\n",
        "plt.xlim(0, 17)\r\n",
        "plt.title(\"OCT-DEC:Degradation Rate for Milton PV-3\")\r\n",
        "plt.grid(True)\r\n",
        "plt.show()\r\n",
        "\r\n",
        "print('Absolute degredation value', DR_abs)\r\n",
        "print('Lower boundary degredation value', CIL_abs)\r\n",
        "print('Upper boundary degredation value', CIH_abs)"
      ],
      "execution_count": 25,
      "outputs": [
        {
          "output_type": "display_data",
          "data": {
            "image/png": "[encoded data removed]",
            "text/plain": [
              "<Figure size 432x288 with 1 Axes>"
            ]
          },
          "metadata": {
            "tags": [],
            "needs_background": "light"
          }
        },
        {
          "output_type": "stream",
          "text": [
            "Absolute degredation value -0.03\n",
            "Lower boundary degredation value 0.2922929541542538\n",
            "Upper boundary degredation value -0.35994001297778966\n"
          ],
          "name": "stdout"
        }
      ]
    },
    {
      "cell_type": "markdown",
      "metadata": {
        "id": "pmRSWIpyJB24"
      },
      "source": [
        "## Avg degredation for Milton between Oct-Dec is -0.46%"
      ]
    },
    {
      "cell_type": "code",
      "metadata": {
        "id": "FTLiOWQwCTus"
      },
      "source": [
        "# https://www.carboncommentary.com/blog/2019/12/6/how-fast-do-solar-panels-degrade-evidence-from-a-single-house-over-15-years"
      ],
      "execution_count": null,
      "outputs": []
    },
    {
      "cell_type": "code",
      "metadata": {
        "id": "IyVZkOtSFOuU"
      },
      "source": [
        ""
      ],
      "execution_count": null,
      "outputs": []
    }
  ]
}