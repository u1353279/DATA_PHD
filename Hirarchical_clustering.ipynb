{
  "nbformat": 4,
  "nbformat_minor": 0,
  "metadata": {
    "colab": {
      "name": "Hirarchical_clustering.ipynb",
      "provenance": [],
      "mount_file_id": "1ujT39JKvXxfbAnQ0TRdksOpO-UIZ8X7i",
      "authorship_tag": "ABX9TyNckJ6WvkOavAXC3xeh4RTg",
      "include_colab_link": true
    },
    "kernelspec": {
      "name": "python3",
      "display_name": "Python 3"
    }
  },
  "cells": [
    {
      "cell_type": "markdown",
      "metadata": {
        "id": "view-in-github",
        "colab_type": "text"
      },
      "source": [
        "<a href=\"https://colab.research.google.com/github/u1353279/DATA_PHD/blob/main/Hirarchical_clustering.ipynb\" target=\"_parent\"><img src=\"https://colab.research.google.com/assets/colab-badge.svg\" alt=\"Open In Colab\"/></a>"
      ]
    },
    {
      "cell_type": "code",
      "metadata": {
        "id": "G2fQzP1aO3qz"
      },
      "source": [
        "import numpy as np\r\n",
        "import pandas as pd\r\n",
        "\r\n",
        "import scipy\r\n",
        "from scipy.cluster.hierarchy import dendrogram, linkage\r\n",
        "from scipy.cluster.hierarchy import fcluster\r\n",
        "from scipy.cluster.hierarchy import cophenet\r\n",
        "from scipy.spatial.distance import pdist\r\n",
        "\r\n",
        "from pylab import rcParams\r\n",
        "import seaborn as sns\r\n",
        "import matplotlib.pyplot as plt\r\n",
        "\r\n",
        "import sklearn\r\n",
        "from sklearn.cluster import AgglomerativeClustering\r\n",
        "from sklearn.cluster import KMeans\r\n",
        "from sklearn.preprocessing import MinMaxScaler\r\n",
        "%matplotlib inline"
      ],
      "execution_count": 1,
      "outputs": []
    },
    {
      "cell_type": "code",
      "metadata": {
        "id": "mfZeDfSiPOC2"
      },
      "source": [
        "df=pd.read_excel('/content/drive/MyDrive/time.xlsx')"
      ],
      "execution_count": 2,
      "outputs": []
    },
    {
      "cell_type": "code",
      "metadata": {
        "colab": {
          "base_uri": "https://localhost:8080/",
          "height": 195
        },
        "id": "qDzJuC8hPgoS",
        "outputId": "8efdf664-3ac5-4095-b4d9-e135cd8c5096"
      },
      "source": [
        "df.head()"
      ],
      "execution_count": 4,
      "outputs": [
        {
          "output_type": "execute_result",
          "data": {
            "text/html": [
              "<div>\n",
              "<style scoped>\n",
              "    .dataframe tbody tr th:only-of-type {\n",
              "        vertical-align: middle;\n",
              "    }\n",
              "\n",
              "    .dataframe tbody tr th {\n",
              "        vertical-align: top;\n",
              "    }\n",
              "\n",
              "    .dataframe thead th {\n",
              "        text-align: right;\n",
              "    }\n",
              "</style>\n",
              "<table border=\"1\" class=\"dataframe\">\n",
              "  <thead>\n",
              "    <tr style=\"text-align: right;\">\n",
              "      <th></th>\n",
              "      <th>TIME</th>\n",
              "      <th>T</th>\n",
              "      <th>G</th>\n",
              "      <th>P</th>\n",
              "    </tr>\n",
              "  </thead>\n",
              "  <tbody>\n",
              "    <tr>\n",
              "      <th>0</th>\n",
              "      <td>03:54:00</td>\n",
              "      <td>3</td>\n",
              "      <td>0.0</td>\n",
              "      <td>0.0</td>\n",
              "    </tr>\n",
              "    <tr>\n",
              "      <th>1</th>\n",
              "      <td>03:55:00</td>\n",
              "      <td>3</td>\n",
              "      <td>0.0</td>\n",
              "      <td>0.0</td>\n",
              "    </tr>\n",
              "    <tr>\n",
              "      <th>2</th>\n",
              "      <td>03:56:00</td>\n",
              "      <td>3</td>\n",
              "      <td>0.0</td>\n",
              "      <td>0.0</td>\n",
              "    </tr>\n",
              "    <tr>\n",
              "      <th>3</th>\n",
              "      <td>03:57:00</td>\n",
              "      <td>3</td>\n",
              "      <td>0.0</td>\n",
              "      <td>0.0</td>\n",
              "    </tr>\n",
              "    <tr>\n",
              "      <th>4</th>\n",
              "      <td>03:58:00</td>\n",
              "      <td>3</td>\n",
              "      <td>0.0</td>\n",
              "      <td>0.0</td>\n",
              "    </tr>\n",
              "  </tbody>\n",
              "</table>\n",
              "</div>"
            ],
            "text/plain": [
              "       TIME  T    G    P\n",
              "0  03:54:00  3  0.0  0.0\n",
              "1  03:55:00  3  0.0  0.0\n",
              "2  03:56:00  3  0.0  0.0\n",
              "3  03:57:00  3  0.0  0.0\n",
              "4  03:58:00  3  0.0  0.0"
            ]
          },
          "metadata": {
            "tags": []
          },
          "execution_count": 4
        }
      ]
    },
    {
      "cell_type": "code",
      "metadata": {
        "id": "q_zzQWN8PVvC"
      },
      "source": [
        "df_new=df.drop(columns=['TIME'])"
      ],
      "execution_count": 5,
      "outputs": []
    },
    {
      "cell_type": "code",
      "metadata": {
        "id": "uc6HIZuIPeSP"
      },
      "source": [
        "m = df_new['T'].between(8,16,inclusive=False)\r\n",
        "g = m.ne(m.shift()).cumsum()\r\n",
        "df_new['G_new'] = df_new.groupby(g)['G'].transform('mean')\r\n",
        "#export=df.to_excel(r'C:\\Users\\zahid.hussain\\exportdata.xlsx', index=None, header=True)"
      ],
      "execution_count": 6,
      "outputs": []
    },
    {
      "cell_type": "code",
      "metadata": {
        "colab": {
          "base_uri": "https://localhost:8080/",
          "height": 402
        },
        "id": "Et4D3bJHPoX7",
        "outputId": "c3825483-8151-4dd2-b7d7-e0d5f79c1f0d"
      },
      "source": [
        "x = df_new['T'].between(8,16,inclusive=False)\r\n",
        "p = x.ne(x.shift()).cumsum()\r\n",
        "df_new['P_new'] = df_new.groupby(p)['P'].transform('mean')\r\n",
        "#export=df.to_excel(r'C:\\Users\\zahid.hussain\\exportdata.xlsx', index=None, header=True)\r\n",
        "df_new"
      ],
      "execution_count": 7,
      "outputs": [
        {
          "output_type": "execute_result",
          "data": {
            "text/html": [
              "<div>\n",
              "<style scoped>\n",
              "    .dataframe tbody tr th:only-of-type {\n",
              "        vertical-align: middle;\n",
              "    }\n",
              "\n",
              "    .dataframe tbody tr th {\n",
              "        vertical-align: top;\n",
              "    }\n",
              "\n",
              "    .dataframe thead th {\n",
              "        text-align: right;\n",
              "    }\n",
              "</style>\n",
              "<table border=\"1\" class=\"dataframe\">\n",
              "  <thead>\n",
              "    <tr style=\"text-align: right;\">\n",
              "      <th></th>\n",
              "      <th>T</th>\n",
              "      <th>G</th>\n",
              "      <th>P</th>\n",
              "      <th>G_new</th>\n",
              "      <th>P_new</th>\n",
              "    </tr>\n",
              "  </thead>\n",
              "  <tbody>\n",
              "    <tr>\n",
              "      <th>0</th>\n",
              "      <td>3</td>\n",
              "      <td>0.0</td>\n",
              "      <td>0.0</td>\n",
              "      <td>56.205594</td>\n",
              "      <td>123.328396</td>\n",
              "    </tr>\n",
              "    <tr>\n",
              "      <th>1</th>\n",
              "      <td>3</td>\n",
              "      <td>0.0</td>\n",
              "      <td>0.0</td>\n",
              "      <td>56.205594</td>\n",
              "      <td>123.328396</td>\n",
              "    </tr>\n",
              "    <tr>\n",
              "      <th>2</th>\n",
              "      <td>3</td>\n",
              "      <td>0.0</td>\n",
              "      <td>0.0</td>\n",
              "      <td>56.205594</td>\n",
              "      <td>123.328396</td>\n",
              "    </tr>\n",
              "    <tr>\n",
              "      <th>3</th>\n",
              "      <td>3</td>\n",
              "      <td>0.0</td>\n",
              "      <td>0.0</td>\n",
              "      <td>56.205594</td>\n",
              "      <td>123.328396</td>\n",
              "    </tr>\n",
              "    <tr>\n",
              "      <th>4</th>\n",
              "      <td>3</td>\n",
              "      <td>0.0</td>\n",
              "      <td>0.0</td>\n",
              "      <td>56.205594</td>\n",
              "      <td>123.328396</td>\n",
              "    </tr>\n",
              "    <tr>\n",
              "      <th>...</th>\n",
              "      <td>...</td>\n",
              "      <td>...</td>\n",
              "      <td>...</td>\n",
              "      <td>...</td>\n",
              "      <td>...</td>\n",
              "    </tr>\n",
              "    <tr>\n",
              "      <th>97195</th>\n",
              "      <td>21</td>\n",
              "      <td>0.0</td>\n",
              "      <td>0.0</td>\n",
              "      <td>45.375258</td>\n",
              "      <td>9.997262</td>\n",
              "    </tr>\n",
              "    <tr>\n",
              "      <th>97196</th>\n",
              "      <td>21</td>\n",
              "      <td>0.0</td>\n",
              "      <td>0.0</td>\n",
              "      <td>45.375258</td>\n",
              "      <td>9.997262</td>\n",
              "    </tr>\n",
              "    <tr>\n",
              "      <th>97197</th>\n",
              "      <td>21</td>\n",
              "      <td>0.0</td>\n",
              "      <td>0.0</td>\n",
              "      <td>45.375258</td>\n",
              "      <td>9.997262</td>\n",
              "    </tr>\n",
              "    <tr>\n",
              "      <th>97198</th>\n",
              "      <td>21</td>\n",
              "      <td>0.0</td>\n",
              "      <td>0.0</td>\n",
              "      <td>45.375258</td>\n",
              "      <td>9.997262</td>\n",
              "    </tr>\n",
              "    <tr>\n",
              "      <th>97199</th>\n",
              "      <td>21</td>\n",
              "      <td>0.0</td>\n",
              "      <td>0.0</td>\n",
              "      <td>45.375258</td>\n",
              "      <td>9.997262</td>\n",
              "    </tr>\n",
              "  </tbody>\n",
              "</table>\n",
              "<p>97200 rows × 5 columns</p>\n",
              "</div>"
            ],
            "text/plain": [
              "        T    G    P      G_new       P_new\n",
              "0       3  0.0  0.0  56.205594  123.328396\n",
              "1       3  0.0  0.0  56.205594  123.328396\n",
              "2       3  0.0  0.0  56.205594  123.328396\n",
              "3       3  0.0  0.0  56.205594  123.328396\n",
              "4       3  0.0  0.0  56.205594  123.328396\n",
              "...    ..  ...  ...        ...         ...\n",
              "97195  21  0.0  0.0  45.375258    9.997262\n",
              "97196  21  0.0  0.0  45.375258    9.997262\n",
              "97197  21  0.0  0.0  45.375258    9.997262\n",
              "97198  21  0.0  0.0  45.375258    9.997262\n",
              "97199  21  0.0  0.0  45.375258    9.997262\n",
              "\n",
              "[97200 rows x 5 columns]"
            ]
          },
          "metadata": {
            "tags": []
          },
          "execution_count": 7
        }
      ]
    },
    {
      "cell_type": "code",
      "metadata": {
        "id": "8MVSKsfzPrni"
      },
      "source": [
        "df_new=df_new.drop(columns=['T','G','P'])"
      ],
      "execution_count": 8,
      "outputs": []
    },
    {
      "cell_type": "code",
      "metadata": {
        "id": "rVga35FDPvRG"
      },
      "source": [
        "z=df_new.P_new.unique()"
      ],
      "execution_count": 9,
      "outputs": []
    },
    {
      "cell_type": "code",
      "metadata": {
        "id": "gSFMsxqNPzQp"
      },
      "source": [
        "p=z[1::2]"
      ],
      "execution_count": 10,
      "outputs": []
    },
    {
      "cell_type": "code",
      "metadata": {
        "id": "VmOgY2rhP1h6"
      },
      "source": [
        "y=df_new.G_new.unique()"
      ],
      "execution_count": 11,
      "outputs": []
    },
    {
      "cell_type": "code",
      "metadata": {
        "id": "MiEgbDO9P3fS"
      },
      "source": [
        "g=y[1::2]"
      ],
      "execution_count": 12,
      "outputs": []
    },
    {
      "cell_type": "code",
      "metadata": {
        "colab": {
          "base_uri": "https://localhost:8080/",
          "height": 402
        },
        "id": "ro91ebgjP5d-",
        "outputId": "dbcc8d71-da42-4522-f7f7-a22ea3b04252"
      },
      "source": [
        "df_new = pd.DataFrame({'g_avg':g, 'p_avg':p})\r\n",
        "df_new"
      ],
      "execution_count": 13,
      "outputs": [
        {
          "output_type": "execute_result",
          "data": {
            "text/html": [
              "<div>\n",
              "<style scoped>\n",
              "    .dataframe tbody tr th:only-of-type {\n",
              "        vertical-align: middle;\n",
              "    }\n",
              "\n",
              "    .dataframe tbody tr th {\n",
              "        vertical-align: top;\n",
              "    }\n",
              "\n",
              "    .dataframe thead th {\n",
              "        text-align: right;\n",
              "    }\n",
              "</style>\n",
              "<table border=\"1\" class=\"dataframe\">\n",
              "  <thead>\n",
              "    <tr style=\"text-align: right;\">\n",
              "      <th></th>\n",
              "      <th>g_avg</th>\n",
              "      <th>p_avg</th>\n",
              "    </tr>\n",
              "  </thead>\n",
              "  <tbody>\n",
              "    <tr>\n",
              "      <th>0</th>\n",
              "      <td>140.108917</td>\n",
              "      <td>308.404302</td>\n",
              "    </tr>\n",
              "    <tr>\n",
              "      <th>1</th>\n",
              "      <td>236.312436</td>\n",
              "      <td>519.628464</td>\n",
              "    </tr>\n",
              "    <tr>\n",
              "      <th>2</th>\n",
              "      <td>184.061955</td>\n",
              "      <td>403.916031</td>\n",
              "    </tr>\n",
              "    <tr>\n",
              "      <th>3</th>\n",
              "      <td>126.781479</td>\n",
              "      <td>279.268931</td>\n",
              "    </tr>\n",
              "    <tr>\n",
              "      <th>4</th>\n",
              "      <td>206.944010</td>\n",
              "      <td>455.222386</td>\n",
              "    </tr>\n",
              "    <tr>\n",
              "      <th>...</th>\n",
              "      <td>...</td>\n",
              "      <td>...</td>\n",
              "    </tr>\n",
              "    <tr>\n",
              "      <th>65</th>\n",
              "      <td>136.385092</td>\n",
              "      <td>30.025310</td>\n",
              "    </tr>\n",
              "    <tr>\n",
              "      <th>66</th>\n",
              "      <td>286.297398</td>\n",
              "      <td>62.956717</td>\n",
              "    </tr>\n",
              "    <tr>\n",
              "      <th>67</th>\n",
              "      <td>301.259807</td>\n",
              "      <td>66.244266</td>\n",
              "    </tr>\n",
              "    <tr>\n",
              "      <th>68</th>\n",
              "      <td>136.058879</td>\n",
              "      <td>30.015204</td>\n",
              "    </tr>\n",
              "    <tr>\n",
              "      <th>69</th>\n",
              "      <td>318.306898</td>\n",
              "      <td>70.139322</td>\n",
              "    </tr>\n",
              "  </tbody>\n",
              "</table>\n",
              "<p>70 rows × 2 columns</p>\n",
              "</div>"
            ],
            "text/plain": [
              "         g_avg       p_avg\n",
              "0   140.108917  308.404302\n",
              "1   236.312436  519.628464\n",
              "2   184.061955  403.916031\n",
              "3   126.781479  279.268931\n",
              "4   206.944010  455.222386\n",
              "..         ...         ...\n",
              "65  136.385092   30.025310\n",
              "66  286.297398   62.956717\n",
              "67  301.259807   66.244266\n",
              "68  136.058879   30.015204\n",
              "69  318.306898   70.139322\n",
              "\n",
              "[70 rows x 2 columns]"
            ]
          },
          "metadata": {
            "tags": []
          },
          "execution_count": 13
        }
      ]
    },
    {
      "cell_type": "code",
      "metadata": {
        "id": "VlRey1TrP8X5"
      },
      "source": [
        "df_new['avg_ratio'] = df_new['g_avg'] / df_new['p_avg']"
      ],
      "execution_count": 14,
      "outputs": []
    },
    {
      "cell_type": "code",
      "metadata": {
        "id": "Jx2AVqqsQAjt"
      },
      "source": [
        "df_new=df_new.drop(columns=['g_avg','p_avg'])"
      ],
      "execution_count": 15,
      "outputs": []
    },
    {
      "cell_type": "code",
      "metadata": {
        "id": "6KGLbnEVQDvm"
      },
      "source": [
        "df_new = df_new.reset_index()"
      ],
      "execution_count": 16,
      "outputs": []
    },
    {
      "cell_type": "code",
      "metadata": {
        "colab": {
          "base_uri": "https://localhost:8080/"
        },
        "id": "VRckUFtpQGqF",
        "outputId": "6cf28595-3013-4cde-d3fb-925bc17bf2f8"
      },
      "source": [
        "df_new.loc[df_new['avg_ratio'].idxmax()]"
      ],
      "execution_count": 17,
      "outputs": [
        {
          "output_type": "execute_result",
          "data": {
            "text/plain": [
              "index        67.000000\n",
              "avg_ratio     4.547711\n",
              "Name: 67, dtype: float64"
            ]
          },
          "metadata": {
            "tags": []
          },
          "execution_count": 17
        }
      ]
    },
    {
      "cell_type": "code",
      "metadata": {
        "id": "RpmRoynSQI86"
      },
      "source": [
        "X=df_new.values"
      ],
      "execution_count": 18,
      "outputs": []
    },
    {
      "cell_type": "code",
      "metadata": {
        "id": "2pK1DP7aQNBu"
      },
      "source": [
        "z=linkage(X,'single')"
      ],
      "execution_count": 19,
      "outputs": []
    },
    {
      "cell_type": "code",
      "metadata": {
        "id": "oSvdiB2TQPkS"
      },
      "source": [
        "df_new['cluster']=pd.Series('single')"
      ],
      "execution_count": 20,
      "outputs": []
    },
    {
      "cell_type": "code",
      "metadata": {
        "id": "cBqvAGmpQSFy"
      },
      "source": [
        "s=linkage(X,'single')"
      ],
      "execution_count": 21,
      "outputs": []
    },
    {
      "cell_type": "code",
      "metadata": {
        "id": "6uUPvRXqT2Ov"
      },
      "source": [
        "# settings\r\n",
        "plt.style.use('seaborn-white')\r\n",
        "plt.rcParams[\"figure.figsize\"] = (7, 5)"
      ],
      "execution_count": 57,
      "outputs": []
    },
    {
      "cell_type": "code",
      "metadata": {
        "colab": {
          "base_uri": "https://localhost:8080/"
        },
        "id": "ZKS9HKjgUxVU",
        "outputId": "f8987781-8346-47c4-e0d4-4b24d07104f7"
      },
      "source": [
        "plt.style.available"
      ],
      "execution_count": 58,
      "outputs": [
        {
          "output_type": "execute_result",
          "data": {
            "text/plain": [
              "['Solarize_Light2',\n",
              " '_classic_test_patch',\n",
              " 'bmh',\n",
              " 'classic',\n",
              " 'dark_background',\n",
              " 'fast',\n",
              " 'fivethirtyeight',\n",
              " 'ggplot',\n",
              " 'grayscale',\n",
              " 'seaborn',\n",
              " 'seaborn-bright',\n",
              " 'seaborn-colorblind',\n",
              " 'seaborn-dark',\n",
              " 'seaborn-dark-palette',\n",
              " 'seaborn-darkgrid',\n",
              " 'seaborn-deep',\n",
              " 'seaborn-muted',\n",
              " 'seaborn-notebook',\n",
              " 'seaborn-paper',\n",
              " 'seaborn-pastel',\n",
              " 'seaborn-poster',\n",
              " 'seaborn-talk',\n",
              " 'seaborn-ticks',\n",
              " 'seaborn-white',\n",
              " 'seaborn-whitegrid',\n",
              " 'tableau-colorblind10']"
            ]
          },
          "metadata": {
            "tags": []
          },
          "execution_count": 58
        }
      ]
    },
    {
      "cell_type": "code",
      "metadata": {
        "id": "8K5tScMwWtkN"
      },
      "source": [
        "import matplotlib.font_manager"
      ],
      "execution_count": 66,
      "outputs": []
    },
    {
      "cell_type": "code",
      "metadata": {
        "id": "KbDNvQnfVke5"
      },
      "source": [
        "font_setting = {'family': 'Times New Roman',\r\n",
        "        'color':  'black',\r\n",
        "        'weight': 'normal',\r\n",
        "        'size': 12,\r\n",
        "}\r\n"
      ],
      "execution_count": 69,
      "outputs": []
    },
    {
      "cell_type": "code",
      "metadata": {
        "colab": {
          "base_uri": "https://localhost:8080/",
          "height": 366
        },
        "id": "CGYkxYTfQWyO",
        "outputId": "fe97a28b-a729-4dce-e738-dac46441fe22"
      },
      "source": [
        "x=dendrogram(s,truncate_mode='lastp', p=10, leaf_rotation=45.,leaf_font_size=15., show_contracted=True)\r\n",
        "\r\n",
        "plt.title('Single Linkage Hierachical Clusters',fontdict=font_setting)\r\n",
        "plt.xlabel('Cluster Size',fontdict=font_setting)\r\n",
        "plt.ylabel('Distance',fontdict=font_setting)\r\n",
        "\r\n",
        "#plt.axhline(y=2)\r\n",
        "#plt.axhline(y=0.5)\r\n",
        "\r\n",
        "plt.show()"
      ],
      "execution_count": 72,
      "outputs": [
        {
          "output_type": "display_data",
          "data": {
            "image/png": "[encoded data removed]",
            "text/plain": [
              "<Figure size 504x360 with 1 Axes>"
            ]
          },
          "metadata": {
            "tags": []
          }
        }
      ]
    },
    {
      "cell_type": "code",
      "metadata": {
        "id": "qfPOnglpRslG"
      },
      "source": [
        ""
      ],
      "execution_count": null,
      "outputs": []
    }
  ]
}