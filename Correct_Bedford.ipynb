{
  "nbformat": 4,
  "nbformat_minor": 0,
  "metadata": {
    "colab": {
      "name": "Correct_Bedford.ipynb",
      "provenance": [],
      "collapsed_sections": [],
      "toc_visible": true,
      "mount_file_id": "1LRQd7GayLKRyxuo22Q1YhelfkHxgHQR6",
      "authorship_tag": "ABX9TyNLG6rdslQpGP341+ko6v16",
      "include_colab_link": true
    },
    "kernelspec": {
      "name": "python3",
      "display_name": "Python 3"
    }
  },
  "cells": [
    {
      "cell_type": "markdown",
      "metadata": {
        "id": "view-in-github",
        "colab_type": "text"
      },
      "source": [
        "<a href=\"https://colab.research.google.com/github/u1353279/DATA_PHD/blob/main/Correct_Bedford.ipynb\" target=\"_parent\"><img src=\"https://colab.research.google.com/assets/colab-badge.svg\" alt=\"Open In Colab\"/></a>"
      ]
    },
    {
      "cell_type": "markdown",
      "metadata": {
        "id": "3blIf5BPCsgD"
      },
      "source": [
        "# Comparing Seasonal degredation of 3 PV systems based on 3 month intervals located in Bedford"
      ]
    },
    {
      "cell_type": "code",
      "metadata": {
        "colab": {
          "base_uri": "https://localhost:8080/"
        },
        "id": "ty0ROpk_7qTe",
        "outputId": "d4d09320-fc97-4478-9e28-ed05b4064ab9"
      },
      "source": [
        "import pandas as pd\r\n",
        "import numpy as np\r\n",
        "import seaborn as sns\r\n",
        "import statsmodels.api as sm\r\n",
        "from matplotlib import pyplot as plt\r\n",
        "from pandas.plotting import register_matplotlib_converters\r\n",
        "register_matplotlib_converters()\r\n",
        "\r\n",
        "# settings\r\n",
        "plt.style.use('seaborn-white')\r\n",
        "plt.rcParams[\"figure.figsize\"] = (8, 5)"
      ],
      "execution_count": 1,
      "outputs": [
        {
          "output_type": "stream",
          "text": [
            "/usr/local/lib/python3.6/dist-packages/statsmodels/tools/_testing.py:19: FutureWarning: pandas.util.testing is deprecated. Use the functions in the public API at pandas.testing instead.\n",
            "  import pandas.util.testing as tm\n"
          ],
          "name": "stderr"
        }
      ]
    },
    {
      "cell_type": "markdown",
      "metadata": {
        "id": "z0Ou0Ev0747k"
      },
      "source": [
        "# Bedford PV-01 MAR-MAY"
      ]
    },
    {
      "cell_type": "code",
      "metadata": {
        "colab": {
          "base_uri": "https://localhost:8080/",
          "height": 342
        },
        "id": "BCDqv1nZ7uve",
        "outputId": "259ebf3b-2ef2-4242-b4bf-ae3b3feb71ae"
      },
      "source": [
        "bedford_1 = pd.read_csv('/content/drive/MyDrive/PHD/Data/Bedford1.csv')\r\n",
        "\r\n",
        "df = bedford_1[(bedford_1['Unnamed: 1']>2) & (bedford_1['Unnamed: 1']<6)]\r\n",
        "\r\n",
        "#df['PR'].plot()\r\n",
        "#plt.xlabel('Month')\r\n",
        "#plt.ylabel('PR')\r\n",
        "#plt.title('Monthly PR 2015-2020')\r\n",
        "\r\n",
        "#fig, axs = plt.subplots()\r\n",
        "#axs.plot(df.index, df.PR, 'o-', alpha = 0.5,color='g')\r\n",
        "#axs.set_ylabel('PR (%)');\r\n",
        "#axs.set_xlabel('Month')\r\n",
        "\r\n",
        "resolution = 3\r\n",
        "s=sm.tsa.seasonal_decompose(df.PR, model = 'multiplicative', freq = 1)\r\n",
        "#s.plot()\r\n",
        "\r\n",
        "trend_df = pd.DataFrame(list(s.trend), columns = ['Trend'])\r\n",
        "trend_df.insert(loc=0, column = 'Month', value=np.arange(len(trend_df)))\r\n",
        "trend_df=trend_df[np.isfinite(trend_df['Trend'])]\r\n",
        "y = trend_df.Trend\r\n",
        "x = trend_df.Month\r\n",
        "x, y = np.array(x), np.array(y)\r\n",
        "\r\n",
        "x = sm.add_constant(x)\r\n",
        "\r\n",
        "#trend_df['Trend'].plot()\r\n",
        "#plt.xlabel('Month')\r\n",
        "#plt.ylabel('PR')\r\n",
        "#plt.title('Decomposed Trend for Bedford PV-2 JAN-APR')\r\n",
        "\r\n",
        "model = sm.OLS(y,x)\r\n",
        "results = model.fit()\r\n",
        "#results.summary()\r\n",
        "\r\n",
        "#confidence level 95%\r\n",
        "intercept, slope = results.params\r\n",
        "CI_abs = resolution*results.conf_int(alpha = 0.05)[1]\r\n",
        "CIL_abs = CI_abs[1]\r\n",
        "CIH_abs = CI_abs[0]\r\n",
        "round(CIL_abs,2),round(CIH_abs,2)\r\n",
        "\r\n",
        "DR_abs = round(resolution*slope, 2)\r\n",
        "\r\n",
        "\r\n",
        "sns.regplot(y = trend_df['Trend'], x = trend_df['Month'], data = df, color='g')\r\n",
        "plt.ylabel(\"PR(%)\")\r\n",
        "plt.xlabel(\"Month\")\r\n",
        "plt.ylim(65,100)\r\n",
        "plt.xlim(0, 18)\r\n",
        "plt.title(\"MAR-May:Degradation Rate for Bedford PV-1\")\r\n",
        "plt.grid(True)\r\n",
        "plt.show()\r\n",
        "\r\n",
        "print('Absolute degredation value', DR_abs)\r\n",
        "print('Lower boundary degredation value', CIL_abs)\r\n",
        "print('Upper boundary degredation value', CIH_abs)"
      ],
      "execution_count": 24,
      "outputs": [
        {
          "output_type": "display_data",
          "data": {
            "image/png": "[encoded data removed]",
            "text/plain": [
              "<Figure size 432x288 with 1 Axes>"
            ]
          },
          "metadata": {
            "tags": [],
            "needs_background": "light"
          }
        },
        {
          "output_type": "stream",
          "text": [
            "Absolute degredation value -0.48\n",
            "Lower boundary degredation value 0.11895539649516579\n",
            "Upper boundary degredation value -1.0848996689410053\n"
          ],
          "name": "stdout"
        }
      ]
    },
    {
      "cell_type": "markdown",
      "metadata": {
        "id": "I-UECbmE8mMF"
      },
      "source": [
        "# Bedford PV-02 MAR-MAY"
      ]
    },
    {
      "cell_type": "code",
      "metadata": {
        "colab": {
          "base_uri": "https://localhost:8080/",
          "height": 342
        },
        "id": "8qawen928PrX",
        "outputId": "fa523f3d-9e1e-4594-d76a-a33f48d77d04"
      },
      "source": [
        "bedford_2 = pd.read_csv('/content/drive/MyDrive/PHD/Data/Bedford2.csv')\r\n",
        "\r\n",
        "df = bedford_2[(bedford_2['Unnamed: 1']>2) & (bedford_2['Unnamed: 1']<6)]\r\n",
        "\r\n",
        "#df['PR'].plot()\r\n",
        "#plt.xlabel('Month')\r\n",
        "#plt.ylabel('PR')\r\n",
        "#plt.title('Monthly PR 2015-2020')\r\n",
        "\r\n",
        "#fig, axs = plt.subplots()\r\n",
        "#axs.plot(df.index, df.PR, 'o-', alpha = 0.5,color='g')\r\n",
        "#axs.set_ylabel('PR (%)');\r\n",
        "#axs.set_xlabel('Month')\r\n",
        "\r\n",
        "resolution = 3\r\n",
        "s=sm.tsa.seasonal_decompose(df.PR, model = 'multiplicative', freq = 1)\r\n",
        "#s.plot()\r\n",
        "\r\n",
        "trend_df = pd.DataFrame(list(s.trend), columns = ['Trend'])\r\n",
        "trend_df.insert(loc=0, column = 'Month', value=np.arange(len(trend_df)))\r\n",
        "trend_df=trend_df[np.isfinite(trend_df['Trend'])]\r\n",
        "y = trend_df.Trend\r\n",
        "x = trend_df.Month\r\n",
        "x, y = np.array(x), np.array(y)\r\n",
        "\r\n",
        "x = sm.add_constant(x)\r\n",
        "\r\n",
        "#trend_df['Trend'].plot()\r\n",
        "#plt.xlabel('Month')\r\n",
        "#plt.ylabel('PR')\r\n",
        "#plt.title('Decomposed Trend for Bedford PV-2 JAN-APR')\r\n",
        "\r\n",
        "model = sm.OLS(y,x)\r\n",
        "results = model.fit()\r\n",
        "#results.summary()\r\n",
        "\r\n",
        "#confidence level 95%\r\n",
        "intercept, slope = results.params\r\n",
        "CI_abs = resolution*results.conf_int(alpha = 0.05)[1]\r\n",
        "CIL_abs = CI_abs[1]\r\n",
        "CIH_abs = CI_abs[0]\r\n",
        "round(CIL_abs,2),round(CIH_abs,2)\r\n",
        "\r\n",
        "DR_abs = round(resolution*slope, 2)\r\n",
        "\r\n",
        "\r\n",
        "sns.regplot(y = trend_df['Trend'], x = trend_df['Month'], data = df, color='g')\r\n",
        "plt.ylabel(\"PR(%)\")\r\n",
        "plt.xlabel(\"Month\")\r\n",
        "plt.ylim(65,100)\r\n",
        "plt.xlim(0, 18)\r\n",
        "plt.title(\"MAR-MAY:Degradation Rate for Bedford PV-2\")\r\n",
        "plt.grid(True)\r\n",
        "plt.show()\r\n",
        "\r\n",
        "print('Absolute degredation value', DR_abs)\r\n",
        "print('Lower boundary degredation value', CIL_abs)\r\n",
        "print('Upper boundary degredation value', CIH_abs)"
      ],
      "execution_count": 28,
      "outputs": [
        {
          "output_type": "display_data",
          "data": {
            "image/png": "[encoded data removed]",
            "text/plain": [
              "<Figure size 432x288 with 1 Axes>"
            ]
          },
          "metadata": {
            "tags": [],
            "needs_background": "light"
          }
        },
        {
          "output_type": "stream",
          "text": [
            "Absolute degredation value -0.45\n",
            "Lower boundary degredation value 0.17815773837877147\n",
            "Upper boundary degredation value -1.0821825061806414\n"
          ],
          "name": "stdout"
        }
      ]
    },
    {
      "cell_type": "markdown",
      "metadata": {
        "id": "UEy9A372837b"
      },
      "source": [
        "# Bedford PV-03 MAR-MAY"
      ]
    },
    {
      "cell_type": "code",
      "metadata": {
        "colab": {
          "base_uri": "https://localhost:8080/",
          "height": 342
        },
        "id": "NlD3u1-I8ze3",
        "outputId": "ce32a798-efee-4891-ef27-acb6db23b699"
      },
      "source": [
        "bedford_3 = pd.read_csv('/content/drive/MyDrive/PHD/Data/Bedford3.csv')\r\n",
        "\r\n",
        "df = bedford_3[(bedford_3['Unnamed: 1']>2) & (bedford_3['Unnamed: 1']<6)]\r\n",
        "\r\n",
        "#df['PR'].plot()\r\n",
        "#plt.xlabel('Month')\r\n",
        "#plt.ylabel('PR')\r\n",
        "#plt.title('Monthly PR 2015-2020')\r\n",
        "\r\n",
        "#fig, axs = plt.subplots()\r\n",
        "#axs.plot(df.index, df.PR, 'o-', alpha = 0.5,color='g')\r\n",
        "#axs.set_ylabel('PR (%)');\r\n",
        "#axs.set_xlabel('Month')\r\n",
        "\r\n",
        "resolution = 3\r\n",
        "s=sm.tsa.seasonal_decompose(df.PR, model = 'multiplicative', freq = 1)\r\n",
        "#s.plot()\r\n",
        "\r\n",
        "trend_df = pd.DataFrame(list(s.trend), columns = ['Trend'])\r\n",
        "trend_df.insert(loc=0, column = 'Month', value=np.arange(len(trend_df)))\r\n",
        "trend_df=trend_df[np.isfinite(trend_df['Trend'])]\r\n",
        "y = trend_df.Trend\r\n",
        "x = trend_df.Month\r\n",
        "x, y = np.array(x), np.array(y)\r\n",
        "\r\n",
        "x = sm.add_constant(x)\r\n",
        "\r\n",
        "#trend_df['Trend'].plot()\r\n",
        "#plt.xlabel('Month')\r\n",
        "#plt.ylabel('PR')\r\n",
        "#plt.title('Decomposed Trend for Bedford PV-2 JAN-APR')\r\n",
        "\r\n",
        "model = sm.OLS(y,x)\r\n",
        "results = model.fit()\r\n",
        "#results.summary()\r\n",
        "\r\n",
        "#confidence level 95%\r\n",
        "intercept, slope = results.params\r\n",
        "CI_abs = resolution*results.conf_int(alpha = 0.05)[1]\r\n",
        "CIL_abs = CI_abs[1]\r\n",
        "CIH_abs = CI_abs[0]\r\n",
        "round(CIL_abs,2),round(CIH_abs,2)\r\n",
        "\r\n",
        "DR_abs = round(resolution*slope, 2)\r\n",
        "\r\n",
        "\r\n",
        "sns.regplot(y = trend_df['Trend'], x = trend_df['Month'], data = df, color='g')\r\n",
        "plt.ylabel(\"PR(%)\")\r\n",
        "plt.xlabel(\"Month\")\r\n",
        "plt.ylim(65,100)\r\n",
        "plt.xlim(0, 18)\r\n",
        "plt.title(\"MAR-MAY:Degradation Rate for Bedford PV-3\")\r\n",
        "plt.grid(True)\r\n",
        "plt.show()\r\n",
        "\r\n",
        "print('Absolute degredation value', DR_abs)\r\n",
        "print('Lower boundary degredation value', CIL_abs)\r\n",
        "print('Upper boundary degredation value', CIH_abs)"
      ],
      "execution_count": 29,
      "outputs": [
        {
          "output_type": "display_data",
          "data": {
            "image/png": "[encoded data removed]",
            "text/plain": [
              "<Figure size 432x288 with 1 Axes>"
            ]
          },
          "metadata": {
            "tags": [],
            "needs_background": "light"
          }
        },
        {
          "output_type": "stream",
          "text": [
            "Absolute degredation value -0.78\n",
            "Lower boundary degredation value -0.020306170481887376\n",
            "Upper boundary degredation value -1.5338733960815973\n"
          ],
          "name": "stdout"
        }
      ]
    },
    {
      "cell_type": "markdown",
      "metadata": {
        "id": "yZCmtmQXHCJV"
      },
      "source": [
        "## Avg degredation for Bedford between MAR-MAY is -0.57%"
      ]
    },
    {
      "cell_type": "markdown",
      "metadata": {
        "id": "8RlvM1bi9JXO"
      },
      "source": [
        "# Bedford PV-01 JUN-AUG"
      ]
    },
    {
      "cell_type": "code",
      "metadata": {
        "colab": {
          "base_uri": "https://localhost:8080/",
          "height": 342
        },
        "id": "30MNvrsg9Bmb",
        "outputId": "626e68fe-fec9-4181-8fd9-a37c1015b78f"
      },
      "source": [
        "bedford_1 = pd.read_csv('/content/drive/MyDrive/PHD/Data/Bedford1.csv')\r\n",
        "\r\n",
        "df = bedford_1[(bedford_1['Unnamed: 1']>5) & (bedford_1['Unnamed: 1']<9)]\r\n",
        "\r\n",
        "#df['PR'].plot()\r\n",
        "#plt.xlabel('Month')\r\n",
        "#plt.ylabel('PR')\r\n",
        "#plt.title('Monthly PR 2015-2020')\r\n",
        "\r\n",
        "#fig, axs = plt.subplots()\r\n",
        "#axs.plot(df.index, df.PR, 'o-', alpha = 0.5,color='g')\r\n",
        "#axs.set_ylabel('PR (%)');\r\n",
        "#axs.set_xlabel('Month')\r\n",
        "\r\n",
        "resolution = 3\r\n",
        "s=sm.tsa.seasonal_decompose(df.PR, model = 'multiplicative', freq = 1)\r\n",
        "#s.plot()\r\n",
        "\r\n",
        "trend_df = pd.DataFrame(list(s.trend), columns = ['Trend'])\r\n",
        "trend_df.insert(loc=0, column = 'Month', value=np.arange(len(trend_df)))\r\n",
        "trend_df=trend_df[np.isfinite(trend_df['Trend'])]\r\n",
        "y = trend_df.Trend\r\n",
        "x = trend_df.Month\r\n",
        "x, y = np.array(x), np.array(y)\r\n",
        "\r\n",
        "x = sm.add_constant(x)\r\n",
        "\r\n",
        "#trend_df['Trend'].plot()\r\n",
        "#plt.xlabel('Month')\r\n",
        "#plt.ylabel('PR')\r\n",
        "#plt.title('Decomposed Trend for Bedford PV-2 JAN-APR')\r\n",
        "\r\n",
        "model = sm.OLS(y,x)\r\n",
        "results = model.fit()\r\n",
        "#results.summary()\r\n",
        "\r\n",
        "#confidence level 95%\r\n",
        "intercept, slope = results.params\r\n",
        "CI_abs = resolution*results.conf_int(alpha = 0.05)[1]\r\n",
        "CIL_abs = CI_abs[1]\r\n",
        "CIH_abs = CI_abs[0]\r\n",
        "round(CIL_abs,2),round(CIH_abs,2)\r\n",
        "\r\n",
        "DR_abs = round(resolution*slope, 2)\r\n",
        "\r\n",
        "\r\n",
        "sns.regplot(y = trend_df['Trend'], x = trend_df['Month'], data = df, color='g')\r\n",
        "plt.ylabel(\"PR(%)\")\r\n",
        "plt.xlabel(\"Month\")\r\n",
        "plt.ylim(65,100)\r\n",
        "plt.xlim(0, 18)\r\n",
        "plt.title(\"JUN-AUG:Degradation Rate for Bedford PV-1\")\r\n",
        "plt.grid(True)\r\n",
        "plt.show()\r\n",
        "\r\n",
        "print('Absolute degredation value', DR_abs)\r\n",
        "print('Lower boundary degredation value', CIL_abs)\r\n",
        "print('Upper boundary degredation value', CIH_abs)"
      ],
      "execution_count": 30,
      "outputs": [
        {
          "output_type": "display_data",
          "data": {
            "image/png": "[encoded data removed]",
            "text/plain": [
              "<Figure size 432x288 with 1 Axes>"
            ]
          },
          "metadata": {
            "tags": [],
            "needs_background": "light"
          }
        },
        {
          "output_type": "stream",
          "text": [
            "Absolute degredation value -0.32\n",
            "Lower boundary degredation value 0.346039894619474\n",
            "Upper boundary degredation value -0.9900027429167049\n"
          ],
          "name": "stdout"
        }
      ]
    },
    {
      "cell_type": "markdown",
      "metadata": {
        "id": "oWXgOhq_9-uU"
      },
      "source": [
        "# Bedford PV-02 JUN-AUG"
      ]
    },
    {
      "cell_type": "code",
      "metadata": {
        "colab": {
          "base_uri": "https://localhost:8080/",
          "height": 342
        },
        "id": "E_xzQn9g92tj",
        "outputId": "ba6aca33-b18e-4e6f-a11b-62ab7d3eaeac"
      },
      "source": [
        "bedford_2 = pd.read_csv('/content/drive/MyDrive/PHD/Data/Bedford2.csv')\r\n",
        "\r\n",
        "df = bedford_2[(bedford_2['Unnamed: 1']>5) & (bedford_2['Unnamed: 1']<9)]\r\n",
        "\r\n",
        "#df['PR'].plot()\r\n",
        "#plt.xlabel('Month')\r\n",
        "#plt.ylabel('PR')\r\n",
        "#plt.title('Monthly PR 2015-2020')\r\n",
        "\r\n",
        "#fig, axs = plt.subplots()\r\n",
        "#axs.plot(df.index, df.PR, 'o-', alpha = 0.5,color='g')\r\n",
        "#axs.set_ylabel('PR (%)');\r\n",
        "#axs.set_xlabel('Month')\r\n",
        "\r\n",
        "resolution = 3\r\n",
        "s=sm.tsa.seasonal_decompose(df.PR, model = 'multiplicative', freq = 1)\r\n",
        "#s.plot()\r\n",
        "\r\n",
        "trend_df = pd.DataFrame(list(s.trend), columns = ['Trend'])\r\n",
        "trend_df.insert(loc=0, column = 'Month', value=np.arange(len(trend_df)))\r\n",
        "trend_df=trend_df[np.isfinite(trend_df['Trend'])]\r\n",
        "y = trend_df.Trend\r\n",
        "x = trend_df.Month\r\n",
        "x, y = np.array(x), np.array(y)\r\n",
        "\r\n",
        "x = sm.add_constant(x)\r\n",
        "\r\n",
        "#trend_df['Trend'].plot()\r\n",
        "#plt.xlabel('Month')\r\n",
        "#plt.ylabel('PR')\r\n",
        "#plt.title('Decomposed Trend for Bedford PV-2 JAN-APR')\r\n",
        "\r\n",
        "model = sm.OLS(y,x)\r\n",
        "results = model.fit()\r\n",
        "#results.summary()\r\n",
        "\r\n",
        "#confidence level 95%\r\n",
        "intercept, slope = results.params\r\n",
        "CI_abs = resolution*results.conf_int(alpha = 0.05)[1]\r\n",
        "CIL_abs = CI_abs[1]\r\n",
        "CIH_abs = CI_abs[0]\r\n",
        "round(CIL_abs,2),round(CIH_abs,2)\r\n",
        "\r\n",
        "DR_abs = round(resolution*slope, 2)\r\n",
        "\r\n",
        "\r\n",
        "sns.regplot(y = trend_df['Trend'], x = trend_df['Month'], data = df, color='g')\r\n",
        "plt.ylabel(\"PR(%)\")\r\n",
        "plt.xlabel(\"Month\")\r\n",
        "plt.ylim(65,100)\r\n",
        "plt.xlim(0, 18)\r\n",
        "plt.title(\"JUN-AUG:Degradation Rate for Bedford PV-2\")\r\n",
        "plt.grid(True)\r\n",
        "plt.show()\r\n",
        "\r\n",
        "print('Absolute degredation value', DR_abs)\r\n",
        "print('Lower boundary degredation value', CIL_abs)\r\n",
        "print('Upper boundary degredation value', CIH_abs)"
      ],
      "execution_count": 31,
      "outputs": [
        {
          "output_type": "display_data",
          "data": {
            "image/png": "[encoded data removed]",
            "text/plain": [
              "<Figure size 432x288 with 1 Axes>"
            ]
          },
          "metadata": {
            "tags": [],
            "needs_background": "light"
          }
        },
        {
          "output_type": "stream",
          "text": [
            "Absolute degredation value -0.42\n",
            "Lower boundary degredation value 0.3494530993892284\n",
            "Upper boundary degredation value -1.1853664120827445\n"
          ],
          "name": "stdout"
        }
      ]
    },
    {
      "cell_type": "markdown",
      "metadata": {
        "id": "WtMmTH4j-JfU"
      },
      "source": [
        "# Bedford PV-03 JUN-AUG"
      ]
    },
    {
      "cell_type": "code",
      "metadata": {
        "colab": {
          "base_uri": "https://localhost:8080/",
          "height": 342
        },
        "id": "ui8JzDPh-GAL",
        "outputId": "7c3e3533-6312-45a2-a3b3-1dc31e04c794"
      },
      "source": [
        "bedford_3 = pd.read_csv('/content/drive/MyDrive/PHD/Data/Bedford3.csv')\r\n",
        "\r\n",
        "df = bedford_3[(bedford_3['Unnamed: 1']>5) & (bedford_3['Unnamed: 1']<9)]\r\n",
        "\r\n",
        "#df['PR'].plot()\r\n",
        "#plt.xlabel('Month')\r\n",
        "#plt.ylabel('PR')\r\n",
        "#plt.title('Monthly PR 2015-2020')\r\n",
        "\r\n",
        "#fig, axs = plt.subplots()\r\n",
        "#axs.plot(df.index, df.PR, 'o-', alpha = 0.5,color='g')\r\n",
        "#axs.set_ylabel('PR (%)');\r\n",
        "#axs.set_xlabel('Month')\r\n",
        "\r\n",
        "resolution = 3\r\n",
        "s=sm.tsa.seasonal_decompose(df.PR, model = 'multiplicative', freq = 1)\r\n",
        "#s.plot()\r\n",
        "\r\n",
        "trend_df = pd.DataFrame(list(s.trend), columns = ['Trend'])\r\n",
        "trend_df.insert(loc=0, column = 'Month', value=np.arange(len(trend_df)))\r\n",
        "trend_df=trend_df[np.isfinite(trend_df['Trend'])]\r\n",
        "y = trend_df.Trend\r\n",
        "x = trend_df.Month\r\n",
        "x, y = np.array(x), np.array(y)\r\n",
        "\r\n",
        "x = sm.add_constant(x)\r\n",
        "\r\n",
        "#trend_df['Trend'].plot()\r\n",
        "#plt.xlabel('Month')\r\n",
        "#plt.ylabel('PR')\r\n",
        "#plt.title('Decomposed Trend for Bedford PV-2 JAN-APR')\r\n",
        "\r\n",
        "model = sm.OLS(y,x)\r\n",
        "results = model.fit()\r\n",
        "#results.summary()\r\n",
        "\r\n",
        "#confidence level 95%\r\n",
        "intercept, slope = results.params\r\n",
        "CI_abs = resolution*results.conf_int(alpha = 0.05)[1]\r\n",
        "CIL_abs = CI_abs[1]\r\n",
        "CIH_abs = CI_abs[0]\r\n",
        "round(CIL_abs,2),round(CIH_abs,2)\r\n",
        "\r\n",
        "DR_abs = round(resolution*slope, 2)\r\n",
        "\r\n",
        "\r\n",
        "sns.regplot(y = trend_df['Trend'], x = trend_df['Month'], data = df, color='g')\r\n",
        "plt.ylabel(\"PR(%)\")\r\n",
        "plt.xlabel(\"Month\")\r\n",
        "plt.ylim(65,100)\r\n",
        "plt.xlim(0, 18)\r\n",
        "plt.title(\"JUN-AUG:Degradation Rate for Bedford PV-03\")\r\n",
        "plt.grid(True)\r\n",
        "plt.show()\r\n",
        "\r\n",
        "print('Absolute degredation value', DR_abs)\r\n",
        "print('Lower boundary degredation value', CIL_abs)\r\n",
        "print('Upper boundary degredation value', CIH_abs)"
      ],
      "execution_count": 32,
      "outputs": [
        {
          "output_type": "display_data",
          "data": {
            "image/png": "[encoded data removed]",
            "text/plain": [
              "<Figure size 432x288 with 1 Axes>"
            ]
          },
          "metadata": {
            "tags": [],
            "needs_background": "light"
          }
        },
        {
          "output_type": "stream",
          "text": [
            "Absolute degredation value -0.71\n",
            "Lower boundary degredation value 0.1521448240558711\n",
            "Upper boundary degredation value -1.5762934308670293\n"
          ],
          "name": "stdout"
        }
      ]
    },
    {
      "cell_type": "markdown",
      "metadata": {
        "id": "a6wvGuOWHkPB"
      },
      "source": [
        "## Avg degredation for Bedford between JUN-AUG is -0.48%"
      ]
    },
    {
      "cell_type": "markdown",
      "metadata": {
        "id": "GyUnFvWd_eq_"
      },
      "source": [
        "# Bedford PV-01 SEPT-NOV"
      ]
    },
    {
      "cell_type": "code",
      "metadata": {
        "colab": {
          "base_uri": "https://localhost:8080/",
          "height": 342
        },
        "id": "nJjhwmeY-RiS",
        "outputId": "2d3140ac-a46c-4c07-9cc7-0f56d0619f28"
      },
      "source": [
        "bedford_1 = pd.read_csv('/content/drive/MyDrive/PHD/Data/Bedford1.csv')\r\n",
        "\r\n",
        "df = bedford_1[(bedford_1['Unnamed: 1']>8) & (bedford_1['Unnamed: 1']<12)]\r\n",
        "\r\n",
        "#df['PR'].plot()\r\n",
        "#plt.xlabel('Month')\r\n",
        "#plt.ylabel('PR')\r\n",
        "#plt.title('Monthly PR 2015-2020')\r\n",
        "\r\n",
        "#fig, axs = plt.subplots()\r\n",
        "#axs.plot(df.index, df.PR, 'o-', alpha = 0.5,color='g')\r\n",
        "#axs.set_ylabel('PR (%)');\r\n",
        "#axs.set_xlabel('Month')\r\n",
        "\r\n",
        "resolution = 3\r\n",
        "s=sm.tsa.seasonal_decompose(df.PR, model = 'multiplicative', freq = 1)\r\n",
        "#s.plot()\r\n",
        "\r\n",
        "trend_df = pd.DataFrame(list(s.trend), columns = ['Trend'])\r\n",
        "trend_df.insert(loc=0, column = 'Month', value=np.arange(len(trend_df)))\r\n",
        "trend_df=trend_df[np.isfinite(trend_df['Trend'])]\r\n",
        "y = trend_df.Trend\r\n",
        "x = trend_df.Month\r\n",
        "x, y = np.array(x), np.array(y)\r\n",
        "\r\n",
        "x = sm.add_constant(x)\r\n",
        "\r\n",
        "#trend_df['Trend'].plot()\r\n",
        "#plt.xlabel('Month')\r\n",
        "#plt.ylabel('PR')\r\n",
        "#plt.title('Decomposed Trend for Bedford PV-2 JAN-APR')\r\n",
        "\r\n",
        "model = sm.OLS(y,x)\r\n",
        "results = model.fit()\r\n",
        "#results.summary()\r\n",
        "\r\n",
        "#confidence level 95%\r\n",
        "intercept, slope = results.params\r\n",
        "CI_abs = resolution*results.conf_int(alpha = 0.05)[1]\r\n",
        "CIL_abs = CI_abs[1]\r\n",
        "CIH_abs = CI_abs[0]\r\n",
        "round(CIL_abs,2),round(CIH_abs,2)\r\n",
        "\r\n",
        "DR_abs = round(resolution*slope, 2)\r\n",
        "\r\n",
        "\r\n",
        "sns.regplot(y = trend_df['Trend'], x = trend_df['Month'], data = df, color='g')\r\n",
        "plt.ylabel(\"PR(%)\")\r\n",
        "plt.xlabel(\"Month\")\r\n",
        "plt.ylim(65,100)\r\n",
        "plt.xlim(0, 18)\r\n",
        "plt.title(\"SEPT-NOV:Degradation Rate for Bedford PV-1\")\r\n",
        "plt.grid(True)\r\n",
        "plt.show()\r\n",
        "\r\n",
        "print('Absolute degredation value', DR_abs)\r\n",
        "print('Lower boundary degredation value', CIL_abs)\r\n",
        "print('Upper boundary degredation value', CIH_abs)"
      ],
      "execution_count": 33,
      "outputs": [
        {
          "output_type": "display_data",
          "data": {
            "image/png": "[encoded data removed]",
            "text/plain": [
              "<Figure size 432x288 with 1 Axes>"
            ]
          },
          "metadata": {
            "tags": [],
            "needs_background": "light"
          }
        },
        {
          "output_type": "stream",
          "text": [
            "Absolute degredation value -0.38\n",
            "Lower boundary degredation value 0.12263767522563532\n",
            "Upper boundary degredation value -0.8904395328107925\n"
          ],
          "name": "stdout"
        }
      ]
    },
    {
      "cell_type": "markdown",
      "metadata": {
        "id": "_bVB0eZEAIj3"
      },
      "source": [
        "# Bedford PV-02 SEPT-NOV"
      ]
    },
    {
      "cell_type": "code",
      "metadata": {
        "colab": {
          "base_uri": "https://localhost:8080/",
          "height": 342
        },
        "id": "5A4gFgJsABH9",
        "outputId": "110c3ead-9202-4f6b-9e4c-941df1e9831d"
      },
      "source": [
        "bedford_2 = pd.read_csv('/content/drive/MyDrive/PHD/Data/Bedford2.csv')\r\n",
        "\r\n",
        "df = bedford_2[(bedford_2['Unnamed: 1']>8) & (bedford_2['Unnamed: 1']<12)]\r\n",
        "\r\n",
        "#df['PR'].plot()\r\n",
        "#plt.xlabel('Month')\r\n",
        "#plt.ylabel('PR')\r\n",
        "#plt.title('Monthly PR 2015-2020')\r\n",
        "\r\n",
        "#fig, axs = plt.subplots()\r\n",
        "#axs.plot(df.index, df.PR, 'o-', alpha = 0.5,color='g')\r\n",
        "#axs.set_ylabel('PR (%)');\r\n",
        "#axs.set_xlabel('Month')\r\n",
        "\r\n",
        "resolution = 3\r\n",
        "s=sm.tsa.seasonal_decompose(df.PR, model = 'multiplicative', freq = 1)\r\n",
        "#s.plot()\r\n",
        "\r\n",
        "trend_df = pd.DataFrame(list(s.trend), columns = ['Trend'])\r\n",
        "trend_df.insert(loc=0, column = 'Month', value=np.arange(len(trend_df)))\r\n",
        "trend_df=trend_df[np.isfinite(trend_df['Trend'])]\r\n",
        "y = trend_df.Trend\r\n",
        "x = trend_df.Month\r\n",
        "x, y = np.array(x), np.array(y)\r\n",
        "\r\n",
        "x = sm.add_constant(x)\r\n",
        "\r\n",
        "#trend_df['Trend'].plot()\r\n",
        "#plt.xlabel('Month')\r\n",
        "#plt.ylabel('PR')\r\n",
        "#plt.title('Decomposed Trend for Bedford PV-2 JAN-APR')\r\n",
        "\r\n",
        "model = sm.OLS(y,x)\r\n",
        "results = model.fit()\r\n",
        "#results.summary()\r\n",
        "\r\n",
        "#confidence level 95%\r\n",
        "intercept, slope = results.params\r\n",
        "CI_abs = resolution*results.conf_int(alpha = 0.05)[1]\r\n",
        "CIL_abs = CI_abs[1]\r\n",
        "CIH_abs = CI_abs[0]\r\n",
        "round(CIL_abs,2),round(CIH_abs,2)\r\n",
        "\r\n",
        "DR_abs = round(resolution*slope, 2)\r\n",
        "\r\n",
        "\r\n",
        "sns.regplot(y = trend_df['Trend'], x = trend_df['Month'], data = df, color='g')\r\n",
        "plt.ylabel(\"PR(%)\")\r\n",
        "plt.xlabel(\"Month\")\r\n",
        "plt.ylim(65,100)\r\n",
        "plt.xlim(0, 18)\r\n",
        "plt.title(\"SEPT-NOV:Degradation Rate for Bedford PV-2\")\r\n",
        "plt.grid(True)\r\n",
        "plt.show()\r\n",
        "\r\n",
        "print('Absolute degredation value', DR_abs)\r\n",
        "print('Lower boundary degredation value', CIL_abs)\r\n",
        "print('Upper boundary degredation value', CIH_abs)"
      ],
      "execution_count": 34,
      "outputs": [
        {
          "output_type": "display_data",
          "data": {
            "image/png": "[encoded data removed]",
            "text/plain": [
              "<Figure size 432x288 with 1 Axes>"
            ]
          },
          "metadata": {
            "tags": [],
            "needs_background": "light"
          }
        },
        {
          "output_type": "stream",
          "text": [
            "Absolute degredation value -0.58\n",
            "Lower boundary degredation value -0.07022795148568378\n",
            "Upper boundary degredation value -1.093858735820833\n"
          ],
          "name": "stdout"
        }
      ]
    },
    {
      "cell_type": "markdown",
      "metadata": {
        "id": "X6kRn5fTAg-9"
      },
      "source": [
        "# Bedford PV-03 SEPT-NOV"
      ]
    },
    {
      "cell_type": "code",
      "metadata": {
        "colab": {
          "base_uri": "https://localhost:8080/",
          "height": 342
        },
        "id": "Ln73bqLAAXaf",
        "outputId": "1b37c3a6-cd95-4564-d07e-aee61ef7b4e7"
      },
      "source": [
        "bedford_3 = pd.read_csv('/content/drive/MyDrive/PHD/Data/Bedford3.csv')\r\n",
        "\r\n",
        "df = bedford_3[(bedford_3['Unnamed: 1']>8) & (bedford_3['Unnamed: 1']<12)]\r\n",
        "\r\n",
        "#df['PR'].plot()\r\n",
        "#plt.xlabel('Month')\r\n",
        "#plt.ylabel('PR')\r\n",
        "#plt.title('Monthly PR 2015-2020')\r\n",
        "\r\n",
        "#fig, axs = plt.subplots()\r\n",
        "#axs.plot(df.index, df.PR, 'o-', alpha = 0.5,color='g')\r\n",
        "#axs.set_ylabel('PR (%)');\r\n",
        "#axs.set_xlabel('Month')\r\n",
        "\r\n",
        "resolution = 3\r\n",
        "s=sm.tsa.seasonal_decompose(df.PR, model = 'multiplicative', freq = 1)\r\n",
        "#s.plot()\r\n",
        "\r\n",
        "trend_df = pd.DataFrame(list(s.trend), columns = ['Trend'])\r\n",
        "trend_df.insert(loc=0, column = 'Month', value=np.arange(len(trend_df)))\r\n",
        "trend_df=trend_df[np.isfinite(trend_df['Trend'])]\r\n",
        "y = trend_df.Trend\r\n",
        "x = trend_df.Month\r\n",
        "x, y = np.array(x), np.array(y)\r\n",
        "\r\n",
        "x = sm.add_constant(x)\r\n",
        "\r\n",
        "#trend_df['Trend'].plot()\r\n",
        "#plt.xlabel('Month')\r\n",
        "#plt.ylabel('PR')\r\n",
        "#plt.title('Decomposed Trend for Bedford PV-2 JAN-APR')\r\n",
        "\r\n",
        "model = sm.OLS(y,x)\r\n",
        "results = model.fit()\r\n",
        "#results.summary()\r\n",
        "\r\n",
        "#confidence level 95%\r\n",
        "intercept, slope = results.params\r\n",
        "CI_abs = resolution*results.conf_int(alpha = 0.05)[1]\r\n",
        "CIL_abs = CI_abs[1]\r\n",
        "CIH_abs = CI_abs[0]\r\n",
        "round(CIL_abs,2),round(CIH_abs,2)\r\n",
        "\r\n",
        "DR_abs = round(resolution*slope, 2)\r\n",
        "\r\n",
        "\r\n",
        "sns.regplot(y = trend_df['Trend'], x = trend_df['Month'], data = df, color='g')\r\n",
        "plt.ylabel(\"PR(%)\")\r\n",
        "plt.xlabel(\"Month\")\r\n",
        "plt.ylim(65,100)\r\n",
        "plt.xlim(0, 18)\r\n",
        "plt.title(\"SEPT-NOV:Degradation Rate for Bedford PV-3\")\r\n",
        "plt.grid(True)\r\n",
        "plt.show()\r\n",
        "\r\n",
        "print('Absolute degredation value', DR_abs)\r\n",
        "print('Lower boundary degredation value', CIL_abs)\r\n",
        "print('Upper boundary degredation value', CIH_abs)"
      ],
      "execution_count": 36,
      "outputs": [
        {
          "output_type": "display_data",
          "data": {
            "image/png": "[encoded data removed]",
            "text/plain": [
              "<Figure size 432x288 with 1 Axes>"
            ]
          },
          "metadata": {
            "tags": [],
            "needs_background": "light"
          }
        },
        {
          "output_type": "stream",
          "text": [
            "Absolute degredation value -0.46\n",
            "Lower boundary degredation value 0.29641326222091613\n",
            "Upper boundary degredation value -1.2128219309515778\n"
          ],
          "name": "stdout"
        }
      ]
    },
    {
      "cell_type": "markdown",
      "metadata": {
        "id": "arfURbN1INK8"
      },
      "source": [
        "## Avg degredation for Bedford between SEPT-NOV is -0.47%"
      ]
    },
    {
      "cell_type": "markdown",
      "metadata": {
        "id": "XVgGHX2-BZXT"
      },
      "source": [
        "# Bedford PV-01 DEC-FEB"
      ]
    },
    {
      "cell_type": "code",
      "metadata": {
        "colab": {
          "base_uri": "https://localhost:8080/",
          "height": 426
        },
        "id": "g_nVAtKeAv4I",
        "outputId": "f9ade0f9-41b9-4531-813f-039dd554f7de"
      },
      "source": [
        "bedford_1 = pd.read_csv('/content/drive/MyDrive/PHD/Data/Bedford1.csv')\r\n",
        "\r\n",
        "data = bedford_1[(bedford_1['Unnamed: 1']<3) | (bedford_1['Unnamed: 1']==12)]\r\n",
        "\r\n",
        "data.replace(12, 3,inplace=True)\r\n",
        "\r\n",
        "df=data\r\n",
        "\r\n",
        "#df['PR'].plot()\r\n",
        "#plt.xlabel('Month')\r\n",
        "#plt.ylabel('PR')\r\n",
        "#plt.title('Monthly PR 2015-2020')\r\n",
        "\r\n",
        "#fig, axs = plt.subplots()\r\n",
        "#axs.plot(df.index, df.PR, 'o-', alpha = 0.5,color='g')\r\n",
        "#axs.set_ylabel('PR (%)');\r\n",
        "#axs.set_xlabel('Month')\r\n",
        "\r\n",
        "resolution = 3\r\n",
        "s=sm.tsa.seasonal_decompose(df.PR, model = 'multiplicative', freq = 1)\r\n",
        "#s.plot()\r\n",
        "\r\n",
        "trend_df = pd.DataFrame(list(s.trend), columns = ['Trend'])\r\n",
        "trend_df.insert(loc=0, column = 'Month', value=np.arange(len(trend_df)))\r\n",
        "trend_df=trend_df[np.isfinite(trend_df['Trend'])]\r\n",
        "y = trend_df.Trend\r\n",
        "x = trend_df.Month\r\n",
        "x, y = np.array(x), np.array(y)\r\n",
        "\r\n",
        "x = sm.add_constant(x)\r\n",
        "\r\n",
        "#trend_df['Trend'].plot()\r\n",
        "#plt.xlabel('Month')\r\n",
        "#plt.ylabel('PR')\r\n",
        "#plt.title('Decomposed Trend for Bedford PV-2 JAN-APR')\r\n",
        "\r\n",
        "model = sm.OLS(y,x)\r\n",
        "results = model.fit()\r\n",
        "#results.summary()\r\n",
        "\r\n",
        "#confidence level 95%\r\n",
        "intercept, slope = results.params\r\n",
        "CI_abs = resolution*results.conf_int(alpha = 0.05)[1]\r\n",
        "CIL_abs = CI_abs[1]\r\n",
        "CIH_abs = CI_abs[0]\r\n",
        "round(CIL_abs,2),round(CIH_abs,2)\r\n",
        "\r\n",
        "DR_abs = round(resolution*slope, 2)\r\n",
        "\r\n",
        "\r\n",
        "sns.regplot(y = trend_df['Trend'], x = trend_df['Month'], data = df, color='g')\r\n",
        "plt.ylabel(\"PR(%)\")\r\n",
        "plt.xlabel(\"Month\")\r\n",
        "plt.ylim(65,100)\r\n",
        "plt.xlim(0, 18)\r\n",
        "plt.title(\"DEC-FEB:Degradation Rate for Bedford PV-1\")\r\n",
        "plt.grid(True)\r\n",
        "plt.show()\r\n",
        "\r\n",
        "print('Absolute degredation value', DR_abs)\r\n",
        "print('Lower boundary degredation value', CIL_abs)\r\n",
        "print('Upper boundary degredation value', CIH_abs)"
      ],
      "execution_count": 37,
      "outputs": [
        {
          "output_type": "stream",
          "text": [
            "/usr/local/lib/python3.6/dist-packages/pandas/core/frame.py:4389: SettingWithCopyWarning: \n",
            "A value is trying to be set on a copy of a slice from a DataFrame\n",
            "\n",
            "See the caveats in the documentation: https://pandas.pydata.org/pandas-docs/stable/user_guide/indexing.html#returning-a-view-versus-a-copy\n",
            "  method=method,\n"
          ],
          "name": "stderr"
        },
        {
          "output_type": "display_data",
          "data": {
            "image/png": "[encoded data removed]",
            "text/plain": [
              "<Figure size 432x288 with 1 Axes>"
            ]
          },
          "metadata": {
            "tags": [],
            "needs_background": "light"
          }
        },
        {
          "output_type": "stream",
          "text": [
            "Absolute degredation value -0.73\n",
            "Lower boundary degredation value -0.24598382752208228\n",
            "Upper boundary degredation value -1.2091245316110597\n"
          ],
          "name": "stdout"
        }
      ]
    },
    {
      "cell_type": "markdown",
      "metadata": {
        "id": "OHpOk_KjBz15"
      },
      "source": [
        "# Bedford PV-02 DEC-FEB"
      ]
    },
    {
      "cell_type": "code",
      "metadata": {
        "colab": {
          "base_uri": "https://localhost:8080/",
          "height": 426
        },
        "id": "JBCAicpHBvqd",
        "outputId": "b67287df-7955-4615-bc44-a3d289ea77f5"
      },
      "source": [
        "bedford_2 = pd.read_csv('/content/drive/MyDrive/PHD/Data/Bedford2.csv')\r\n",
        "\r\n",
        "data = bedford_2[(bedford_1['Unnamed: 1']<3) | (bedford_2['Unnamed: 1']==12)]\r\n",
        "\r\n",
        "data.replace(12, 3,inplace=True)\r\n",
        "\r\n",
        "df=data\r\n",
        "\r\n",
        "#df['PR'].plot()\r\n",
        "#plt.xlabel('Month')\r\n",
        "#plt.ylabel('PR')\r\n",
        "#plt.title('Monthly PR 2015-2020')\r\n",
        "\r\n",
        "#fig, axs = plt.subplots()\r\n",
        "#axs.plot(df.index, df.PR, 'o-', alpha = 0.5,color='g')\r\n",
        "#axs.set_ylabel('PR (%)');\r\n",
        "#axs.set_xlabel('Month')\r\n",
        "\r\n",
        "resolution = 3\r\n",
        "s=sm.tsa.seasonal_decompose(df.PR, model = 'multiplicative', freq = 1)\r\n",
        "#s.plot()\r\n",
        "\r\n",
        "trend_df = pd.DataFrame(list(s.trend), columns = ['Trend'])\r\n",
        "trend_df.insert(loc=0, column = 'Month', value=np.arange(len(trend_df)))\r\n",
        "trend_df=trend_df[np.isfinite(trend_df['Trend'])]\r\n",
        "y = trend_df.Trend\r\n",
        "x = trend_df.Month\r\n",
        "x, y = np.array(x), np.array(y)\r\n",
        "\r\n",
        "x = sm.add_constant(x)\r\n",
        "\r\n",
        "#trend_df['Trend'].plot()\r\n",
        "#plt.xlabel('Month')\r\n",
        "#plt.ylabel('PR')\r\n",
        "#plt.title('Decomposed Trend for Bedford PV-2 JAN-APR')\r\n",
        "\r\n",
        "model = sm.OLS(y,x)\r\n",
        "results = model.fit()\r\n",
        "#results.summary()\r\n",
        "\r\n",
        "#confidence level 95%\r\n",
        "intercept, slope = results.params\r\n",
        "CI_abs = resolution*results.conf_int(alpha = 0.05)[1]\r\n",
        "CIL_abs = CI_abs[1]\r\n",
        "CIH_abs = CI_abs[0]\r\n",
        "round(CIL_abs,2),round(CIH_abs,2)\r\n",
        "\r\n",
        "DR_abs = round(resolution*slope, 2)\r\n",
        "\r\n",
        "\r\n",
        "sns.regplot(y = trend_df['Trend'], x = trend_df['Month'], data = df, color='g')\r\n",
        "plt.ylabel(\"PR(%)\")\r\n",
        "plt.xlabel(\"Month\")\r\n",
        "plt.ylim(65,100)\r\n",
        "plt.xlim(0, 18)\r\n",
        "plt.title(\"OCT-DEC:Degradation Rate for Bedford PV-2\")\r\n",
        "plt.grid(True)\r\n",
        "plt.show()\r\n",
        "\r\n",
        "print('Absolute degredation value', DR_abs)\r\n",
        "print('Lower boundary degredation value', CIL_abs)\r\n",
        "print('Upper boundary degredation value', CIH_abs)"
      ],
      "execution_count": 38,
      "outputs": [
        {
          "output_type": "stream",
          "text": [
            "/usr/local/lib/python3.6/dist-packages/pandas/core/frame.py:4389: SettingWithCopyWarning: \n",
            "A value is trying to be set on a copy of a slice from a DataFrame\n",
            "\n",
            "See the caveats in the documentation: https://pandas.pydata.org/pandas-docs/stable/user_guide/indexing.html#returning-a-view-versus-a-copy\n",
            "  method=method,\n"
          ],
          "name": "stderr"
        },
        {
          "output_type": "display_data",
          "data": {
            "image/png": "[encoded data removed]",
            "text/plain": [
              "<Figure size 432x288 with 1 Axes>"
            ]
          },
          "metadata": {
            "tags": [],
            "needs_background": "light"
          }
        },
        {
          "output_type": "stream",
          "text": [
            "Absolute degredation value -0.54\n",
            "Lower boundary degredation value 0.04199891369027911\n",
            "Upper boundary degredation value -1.131782195424045\n"
          ],
          "name": "stdout"
        }
      ]
    },
    {
      "cell_type": "markdown",
      "metadata": {
        "id": "2Q4a05bKCHEY"
      },
      "source": [
        "# Bedford PV-03 DEC-FEB"
      ]
    },
    {
      "cell_type": "code",
      "metadata": {
        "colab": {
          "base_uri": "https://localhost:8080/",
          "height": 426
        },
        "id": "3aeNvB7tCCk_",
        "outputId": "b9ca8e34-aa2a-41fc-9451-03c75894f335"
      },
      "source": [
        "bedford_3 = pd.read_csv('/content/drive/MyDrive/PHD/Data/Bedford3.csv')\r\n",
        "\r\n",
        "data = bedford_3[(bedford_1['Unnamed: 1']<3) | (bedford_3['Unnamed: 1']==12)]\r\n",
        "\r\n",
        "data.replace(12, 3,inplace=True)\r\n",
        "\r\n",
        "df=data\r\n",
        "\r\n",
        "#df['PR'].plot()\r\n",
        "#plt.xlabel('Month')\r\n",
        "#plt.ylabel('PR')\r\n",
        "#plt.title('Monthly PR 2015-2020')\r\n",
        "\r\n",
        "#fig, axs = plt.subplots()\r\n",
        "#axs.plot(df.index, df.PR, 'o-', alpha = 0.5,color='g')\r\n",
        "#axs.set_ylabel('PR (%)');\r\n",
        "#axs.set_xlabel('Month')\r\n",
        "\r\n",
        "resolution = 3\r\n",
        "s=sm.tsa.seasonal_decompose(df.PR, model = 'multiplicative', freq = 1)\r\n",
        "#s.plot()\r\n",
        "\r\n",
        "trend_df = pd.DataFrame(list(s.trend), columns = ['Trend'])\r\n",
        "trend_df.insert(loc=0, column = 'Month', value=np.arange(len(trend_df)))\r\n",
        "trend_df=trend_df[np.isfinite(trend_df['Trend'])]\r\n",
        "y = trend_df.Trend\r\n",
        "x = trend_df.Month\r\n",
        "x, y = np.array(x), np.array(y)\r\n",
        "\r\n",
        "x = sm.add_constant(x)\r\n",
        "\r\n",
        "#trend_df['Trend'].plot()\r\n",
        "#plt.xlabel('Month')\r\n",
        "#plt.ylabel('PR')\r\n",
        "#plt.title('Decomposed Trend for Bedford PV-2 JAN-APR')\r\n",
        "\r\n",
        "model = sm.OLS(y,x)\r\n",
        "results = model.fit()\r\n",
        "#results.summary()\r\n",
        "\r\n",
        "#confidence level 95%\r\n",
        "intercept, slope = results.params\r\n",
        "CI_abs = resolution*results.conf_int(alpha = 0.05)[1]\r\n",
        "CIL_abs = CI_abs[1]\r\n",
        "CIH_abs = CI_abs[0]\r\n",
        "round(CIL_abs,2),round(CIH_abs,2)\r\n",
        "\r\n",
        "DR_abs = round(resolution*slope, 2)\r\n",
        "\r\n",
        "\r\n",
        "sns.regplot(y = trend_df['Trend'], x = trend_df['Month'], data = df, color='g')\r\n",
        "plt.ylabel(\"PR(%)\")\r\n",
        "plt.xlabel(\"Month\")\r\n",
        "plt.ylim(65,100)\r\n",
        "plt.xlim(0, 18)\r\n",
        "plt.title(\"OCT-DEC:Degradation Rate for Bedford PV-3\")\r\n",
        "plt.grid(True)\r\n",
        "plt.show()\r\n",
        "\r\n",
        "print('Absolute degredation value', DR_abs)\r\n",
        "print('Lower boundary degredation value', CIL_abs)\r\n",
        "print('Upper boundary degredation value', CIH_abs)"
      ],
      "execution_count": 39,
      "outputs": [
        {
          "output_type": "stream",
          "text": [
            "/usr/local/lib/python3.6/dist-packages/pandas/core/frame.py:4389: SettingWithCopyWarning: \n",
            "A value is trying to be set on a copy of a slice from a DataFrame\n",
            "\n",
            "See the caveats in the documentation: https://pandas.pydata.org/pandas-docs/stable/user_guide/indexing.html#returning-a-view-versus-a-copy\n",
            "  method=method,\n"
          ],
          "name": "stderr"
        },
        {
          "output_type": "display_data",
          "data": {
            "image/png": "[encoded data removed]",
            "text/plain": [
              "<Figure size 432x288 with 1 Axes>"
            ]
          },
          "metadata": {
            "tags": [],
            "needs_background": "light"
          }
        },
        {
          "output_type": "stream",
          "text": [
            "Absolute degredation value -0.12\n",
            "Lower boundary degredation value 0.4212733466087363\n",
            "Upper boundary degredation value -0.6689513651846021\n"
          ],
          "name": "stdout"
        }
      ]
    },
    {
      "cell_type": "markdown",
      "metadata": {
        "id": "pmRSWIpyJB24"
      },
      "source": [
        "## Avg degredation for Bedford between DEC-FEB is -0.49%"
      ]
    },
    {
      "cell_type": "code",
      "metadata": {
        "id": "FTLiOWQwCTus"
      },
      "source": [
        "# https://www.carboncommentary.com/blog/2019/12/6/how-fast-do-solar-panels-degrade-evidence-from-a-single-house-over-15-years"
      ],
      "execution_count": null,
      "outputs": []
    },
    {
      "cell_type": "code",
      "metadata": {
        "id": "IyVZkOtSFOuU"
      },
      "source": [
        ""
      ],
      "execution_count": null,
      "outputs": []
    }
  ]
}