{
  "nbformat": 4,
  "nbformat_minor": 0,
  "metadata": {
    "colab": {
      "name": "All_degradation(no seasonality).ipynb",
      "provenance": [],
      "collapsed_sections": [],
      "toc_visible": true,
      "mount_file_id": "1Xgcev2vc7f81dz8xutAsDQpYJYNm05gh",
      "authorship_tag": "ABX9TyN8PiCKF9ChURUT6sd0lWN/",
      "include_colab_link": true
    },
    "kernelspec": {
      "name": "python3",
      "display_name": "Python 3"
    }
  },
  "cells": [
    {
      "cell_type": "markdown",
      "metadata": {
        "id": "view-in-github",
        "colab_type": "text"
      },
      "source": [
        "<a href=\"https://colab.research.google.com/github/u1353279/DATA_PHD/blob/main/All_degradation(no_seasonality).ipynb\" target=\"_parent\"><img src=\"https://colab.research.google.com/assets/colab-badge.svg\" alt=\"Open In Colab\"/></a>"
      ]
    },
    {
      "cell_type": "markdown",
      "metadata": {
        "id": "qaJSManIBBWM"
      },
      "source": [
        "#Degredation Analysis for Bedford PV-01"
      ]
    },
    {
      "cell_type": "code",
      "metadata": {
        "id": "m_QZ8Eby4egm",
        "colab": {
          "base_uri": "https://localhost:8080/"
        },
        "outputId": "b1214813-742b-4541-a020-b84776f66543"
      },
      "source": [
        "import pandas as pd\n",
        "import numpy as np\n",
        "import seaborn as sns\n",
        "import statsmodels.api as sm\n",
        "from matplotlib import pyplot as plt\n",
        "from pandas.plotting import register_matplotlib_converters\n",
        "register_matplotlib_converters()\n",
        "\n",
        "# settings\n",
        "plt.style.use('seaborn')\n",
        "plt.rcParams[\"figure.figsize\"] = (16, 8)"
      ],
      "execution_count": 1,
      "outputs": [
        {
          "output_type": "stream",
          "text": [
            "/usr/local/lib/python3.7/dist-packages/statsmodels/tools/_testing.py:19: FutureWarning: pandas.util.testing is deprecated. Use the functions in the public API at pandas.testing instead.\n",
            "  import pandas.util.testing as tm\n"
          ],
          "name": "stderr"
        }
      ]
    },
    {
      "cell_type": "code",
      "metadata": {
        "id": "G6r7w0msIyIq"
      },
      "source": [
        "# settings\n",
        "plt.style.use('seaborn-white')\n",
        "plt.rcParams[\"figure.figsize\"] = (7, 5)"
      ],
      "execution_count": 2,
      "outputs": []
    },
    {
      "cell_type": "code",
      "metadata": {
        "id": "vP8A6xqHI3CB"
      },
      "source": [
        "import matplotlib.font_manager"
      ],
      "execution_count": 3,
      "outputs": []
    },
    {
      "cell_type": "code",
      "metadata": {
        "id": "bE6MMOlFI3Gr"
      },
      "source": [
        "font_setting = {'family': 'Times New Roman',\n",
        "        'color':  'black',\n",
        "        'weight': 'normal',\n",
        "        'size': 12,\n",
        "}"
      ],
      "execution_count": 4,
      "outputs": []
    },
    {
      "cell_type": "code",
      "metadata": {
        "id": "BcUC60yr5ZJ9"
      },
      "source": [
        "bedford_1 = pd.read_excel('/content/drive/MyDrive/PHD/avg_pf (1).xlsx')"
      ],
      "execution_count": 5,
      "outputs": []
    },
    {
      "cell_type": "code",
      "metadata": {
        "colab": {
          "base_uri": "https://localhost:8080/",
          "height": 212
        },
        "id": "a6ChEJlx90n9",
        "outputId": "4aad8816-c0e4-44e0-e4d9-aa2c704f3f3f"
      },
      "source": [
        "bedford_1.head()"
      ],
      "execution_count": 6,
      "outputs": [
        {
          "output_type": "execute_result",
          "data": {
            "text/html": [
              "<div>\n",
              "<style scoped>\n",
              "    .dataframe tbody tr th:only-of-type {\n",
              "        vertical-align: middle;\n",
              "    }\n",
              "\n",
              "    .dataframe tbody tr th {\n",
              "        vertical-align: top;\n",
              "    }\n",
              "\n",
              "    .dataframe thead th {\n",
              "        text-align: right;\n",
              "    }\n",
              "</style>\n",
              "<table border=\"1\" class=\"dataframe\">\n",
              "  <thead>\n",
              "    <tr style=\"text-align: right;\">\n",
              "      <th></th>\n",
              "      <th>PR-01</th>\n",
              "      <th>PR-02</th>\n",
              "      <th>PR-03</th>\n",
              "      <th>AvG_pf Bedford</th>\n",
              "      <th>PR-01.1</th>\n",
              "      <th>PR-02.1</th>\n",
              "      <th>PR-03.1</th>\n",
              "      <th>AvG_pf leicester</th>\n",
              "      <th>PR-01.2</th>\n",
              "      <th>PR-02.2</th>\n",
              "      <th>PR-03.2</th>\n",
              "      <th>AvG_pf Milton</th>\n",
              "      <th>PR-01.3</th>\n",
              "      <th>PR-02.3</th>\n",
              "      <th>PR-03.3</th>\n",
              "      <th>AvG_pf Northampton</th>\n",
              "      <th>Month count</th>\n",
              "    </tr>\n",
              "  </thead>\n",
              "  <tbody>\n",
              "    <tr>\n",
              "      <th>0</th>\n",
              "      <td>81</td>\n",
              "      <td>80</td>\n",
              "      <td>81</td>\n",
              "      <td>80.666667</td>\n",
              "      <td>78</td>\n",
              "      <td>77</td>\n",
              "      <td>75</td>\n",
              "      <td>76.666667</td>\n",
              "      <td>80</td>\n",
              "      <td>80</td>\n",
              "      <td>81</td>\n",
              "      <td>80.333333</td>\n",
              "      <td>79</td>\n",
              "      <td>79</td>\n",
              "      <td>79</td>\n",
              "      <td>79.0</td>\n",
              "      <td>1</td>\n",
              "    </tr>\n",
              "    <tr>\n",
              "      <th>1</th>\n",
              "      <td>82</td>\n",
              "      <td>80</td>\n",
              "      <td>77</td>\n",
              "      <td>79.666667</td>\n",
              "      <td>76</td>\n",
              "      <td>75</td>\n",
              "      <td>75</td>\n",
              "      <td>75.333333</td>\n",
              "      <td>80</td>\n",
              "      <td>80</td>\n",
              "      <td>80</td>\n",
              "      <td>80.000000</td>\n",
              "      <td>79</td>\n",
              "      <td>79</td>\n",
              "      <td>79</td>\n",
              "      <td>79.0</td>\n",
              "      <td>2</td>\n",
              "    </tr>\n",
              "    <tr>\n",
              "      <th>2</th>\n",
              "      <td>81</td>\n",
              "      <td>82</td>\n",
              "      <td>83</td>\n",
              "      <td>82.000000</td>\n",
              "      <td>78</td>\n",
              "      <td>77</td>\n",
              "      <td>79</td>\n",
              "      <td>78.000000</td>\n",
              "      <td>82</td>\n",
              "      <td>80</td>\n",
              "      <td>81</td>\n",
              "      <td>81.000000</td>\n",
              "      <td>80</td>\n",
              "      <td>80</td>\n",
              "      <td>80</td>\n",
              "      <td>80.0</td>\n",
              "      <td>3</td>\n",
              "    </tr>\n",
              "    <tr>\n",
              "      <th>3</th>\n",
              "      <td>84</td>\n",
              "      <td>83</td>\n",
              "      <td>84</td>\n",
              "      <td>83.666667</td>\n",
              "      <td>78</td>\n",
              "      <td>80</td>\n",
              "      <td>80</td>\n",
              "      <td>79.333333</td>\n",
              "      <td>83</td>\n",
              "      <td>82</td>\n",
              "      <td>83</td>\n",
              "      <td>82.666667</td>\n",
              "      <td>80</td>\n",
              "      <td>80</td>\n",
              "      <td>80</td>\n",
              "      <td>80.0</td>\n",
              "      <td>4</td>\n",
              "    </tr>\n",
              "    <tr>\n",
              "      <th>4</th>\n",
              "      <td>85</td>\n",
              "      <td>86</td>\n",
              "      <td>87</td>\n",
              "      <td>86.000000</td>\n",
              "      <td>83</td>\n",
              "      <td>80</td>\n",
              "      <td>82</td>\n",
              "      <td>81.666667</td>\n",
              "      <td>84</td>\n",
              "      <td>84</td>\n",
              "      <td>85</td>\n",
              "      <td>84.333333</td>\n",
              "      <td>81</td>\n",
              "      <td>81</td>\n",
              "      <td>81</td>\n",
              "      <td>81.0</td>\n",
              "      <td>5</td>\n",
              "    </tr>\n",
              "  </tbody>\n",
              "</table>\n",
              "</div>"
            ],
            "text/plain": [
              "   PR-01  PR-02  PR-03  ...  PR-03.3  AvG_pf Northampton  Month count\n",
              "0     81     80     81  ...       79                79.0            1\n",
              "1     82     80     77  ...       79                79.0            2\n",
              "2     81     82     83  ...       80                80.0            3\n",
              "3     84     83     84  ...       80                80.0            4\n",
              "4     85     86     87  ...       81                81.0            5\n",
              "\n",
              "[5 rows x 17 columns]"
            ]
          },
          "metadata": {
            "tags": []
          },
          "execution_count": 6
        }
      ]
    },
    {
      "cell_type": "code",
      "metadata": {
        "id": "vHkvnW-M-odt"
      },
      "source": [
        "bedford_1.drop(columns=['PR-01','PR-02','PR-03','PR-01.1','PR-02.1','PR-03.1','PR-01.2','PR-02.2','PR-03.2','PR-01.3','PR-02.3','PR-03.3'],inplace=True)"
      ],
      "execution_count": 7,
      "outputs": []
    },
    {
      "cell_type": "code",
      "metadata": {
        "colab": {
          "base_uri": "https://localhost:8080/",
          "height": 195
        },
        "id": "1nOyZQKt_30C",
        "outputId": "0776b0cb-42af-44f7-b453-b789afd23646"
      },
      "source": [
        "bedford_1.head()"
      ],
      "execution_count": 8,
      "outputs": [
        {
          "output_type": "execute_result",
          "data": {
            "text/html": [
              "<div>\n",
              "<style scoped>\n",
              "    .dataframe tbody tr th:only-of-type {\n",
              "        vertical-align: middle;\n",
              "    }\n",
              "\n",
              "    .dataframe tbody tr th {\n",
              "        vertical-align: top;\n",
              "    }\n",
              "\n",
              "    .dataframe thead th {\n",
              "        text-align: right;\n",
              "    }\n",
              "</style>\n",
              "<table border=\"1\" class=\"dataframe\">\n",
              "  <thead>\n",
              "    <tr style=\"text-align: right;\">\n",
              "      <th></th>\n",
              "      <th>AvG_pf Bedford</th>\n",
              "      <th>AvG_pf leicester</th>\n",
              "      <th>AvG_pf Milton</th>\n",
              "      <th>AvG_pf Northampton</th>\n",
              "      <th>Month count</th>\n",
              "    </tr>\n",
              "  </thead>\n",
              "  <tbody>\n",
              "    <tr>\n",
              "      <th>0</th>\n",
              "      <td>80.666667</td>\n",
              "      <td>76.666667</td>\n",
              "      <td>80.333333</td>\n",
              "      <td>79.0</td>\n",
              "      <td>1</td>\n",
              "    </tr>\n",
              "    <tr>\n",
              "      <th>1</th>\n",
              "      <td>79.666667</td>\n",
              "      <td>75.333333</td>\n",
              "      <td>80.000000</td>\n",
              "      <td>79.0</td>\n",
              "      <td>2</td>\n",
              "    </tr>\n",
              "    <tr>\n",
              "      <th>2</th>\n",
              "      <td>82.000000</td>\n",
              "      <td>78.000000</td>\n",
              "      <td>81.000000</td>\n",
              "      <td>80.0</td>\n",
              "      <td>3</td>\n",
              "    </tr>\n",
              "    <tr>\n",
              "      <th>3</th>\n",
              "      <td>83.666667</td>\n",
              "      <td>79.333333</td>\n",
              "      <td>82.666667</td>\n",
              "      <td>80.0</td>\n",
              "      <td>4</td>\n",
              "    </tr>\n",
              "    <tr>\n",
              "      <th>4</th>\n",
              "      <td>86.000000</td>\n",
              "      <td>81.666667</td>\n",
              "      <td>84.333333</td>\n",
              "      <td>81.0</td>\n",
              "      <td>5</td>\n",
              "    </tr>\n",
              "  </tbody>\n",
              "</table>\n",
              "</div>"
            ],
            "text/plain": [
              "   AvG_pf Bedford  AvG_pf leicester  ...  AvG_pf Northampton  Month count\n",
              "0       80.666667         76.666667  ...                79.0            1\n",
              "1       79.666667         75.333333  ...                79.0            2\n",
              "2       82.000000         78.000000  ...                80.0            3\n",
              "3       83.666667         79.333333  ...                80.0            4\n",
              "4       86.000000         81.666667  ...                81.0            5\n",
              "\n",
              "[5 rows x 5 columns]"
            ]
          },
          "metadata": {
            "tags": []
          },
          "execution_count": 8
        }
      ]
    },
    {
      "cell_type": "code",
      "metadata": {
        "colab": {
          "base_uri": "https://localhost:8080/",
          "height": 349
        },
        "id": "7Rh6K84M8o9g",
        "outputId": "290e1fc0-b3c3-44fd-b35f-3652956ba9a4"
      },
      "source": [
        "fig, axs = plt.subplots()\n",
        "axs.plot(bedford_1['Month count'], bedford_1['AvG_pf Bedford'], 'o-', alpha = 0.5,color='g')\n",
        "axs.set_ylabel('PR (%)');\n",
        "axs.set_xlabel('Month Count')\n",
        "plt.title('Performance Ratio for PV-1 Bedford from 2015-2020')\n",
        "\n",
        "resolution = 12\n",
        "s=sm.tsa.seasonal_decompose(bedford_1['AvG_pf Bedford'], model = 'multiplicative', freq = resolution)\n",
        "#s.plot()"
      ],
      "execution_count": 9,
      "outputs": [
        {
          "output_type": "display_data",
          "data": {
            "image/png": "[encoded data removed]",
            "text/plain": [
              "<Figure size 504x360 with 1 Axes>"
            ]
          },
          "metadata": {
            "tags": []
          }
        }
      ]
    },
    {
      "cell_type": "code",
      "metadata": {
        "colab": {
          "base_uri": "https://localhost:8080/",
          "height": 349
        },
        "id": "j02afguWCuCT",
        "outputId": "23f023c5-d3f3-4a9d-850a-54b9c06e4fa4"
      },
      "source": [
        "fig, axs = plt.subplots()\n",
        "axs.plot(bedford_1['Month count'], bedford_1['AvG_pf Milton'], 'o-', alpha = 0.5,color='g')\n",
        "axs.set_ylabel('PR (%)');\n",
        "axs.set_xlabel('Month Count')\n",
        "plt.title('Performance Ratio for PV-1 Milton from 2015-2020')\n",
        "\n",
        "resolution = 12\n",
        "m=sm.tsa.seasonal_decompose(bedford_1['AvG_pf Milton'], model = 'multiplicative', freq = resolution)\n",
        "#s.plot()"
      ],
      "execution_count": 10,
      "outputs": [
        {
          "output_type": "display_data",
          "data": {
            "image/png": "[encoded data removed]",
            "text/plain": [
              "<Figure size 504x360 with 1 Axes>"
            ]
          },
          "metadata": {
            "tags": []
          }
        }
      ]
    },
    {
      "cell_type": "code",
      "metadata": {
        "colab": {
          "base_uri": "https://localhost:8080/",
          "height": 349
        },
        "id": "1CFEcKm_K-J2",
        "outputId": "9fa383f8-b4fa-4660-f60f-aeb0b35396d5"
      },
      "source": [
        "fig, axs = plt.subplots()\n",
        "axs.plot(bedford_1['Month count'], bedford_1['AvG_pf leicester'], 'o-', alpha = 0.5,color='g')\n",
        "axs.set_ylabel('PR (%)');\n",
        "axs.set_xlabel('Month Count')\n",
        "plt.title('Performance Ratio for PV-1 leicester from 2015-2020')\n",
        "\n",
        "resolution = 12\n",
        "l=sm.tsa.seasonal_decompose(bedford_1['AvG_pf leicester'], model = 'multiplicative', freq = resolution)\n",
        "#s.plot()"
      ],
      "execution_count": 11,
      "outputs": [
        {
          "output_type": "display_data",
          "data": {
            "image/png": "[encoded data removed]",
            "text/plain": [
              "<Figure size 504x360 with 1 Axes>"
            ]
          },
          "metadata": {
            "tags": []
          }
        }
      ]
    },
    {
      "cell_type": "code",
      "metadata": {
        "colab": {
          "base_uri": "https://localhost:8080/",
          "height": 349
        },
        "id": "gJpxGFGfRDWs",
        "outputId": "6083bc70-7ba6-419e-b4e8-bb5fe4247c9c"
      },
      "source": [
        "fig, axs = plt.subplots()\n",
        "axs.plot(bedford_1['Month count'], bedford_1['AvG_pf Northampton'], 'o-', alpha = 0.5,color='g')\n",
        "axs.set_ylabel('PR (%)');\n",
        "axs.set_xlabel('Month Count')\n",
        "plt.title('Performance Ratio for PV-1 Northampton from 2015-2020')\n",
        "\n",
        "resolution = 12\n",
        "n=sm.tsa.seasonal_decompose(bedford_1['AvG_pf Northampton'], model = 'multiplicative', freq = resolution)\n",
        "#s.plot()"
      ],
      "execution_count": 12,
      "outputs": [
        {
          "output_type": "display_data",
          "data": {
            "image/png": "[encoded data removed]",
            "text/plain": [
              "<Figure size 504x360 with 1 Axes>"
            ]
          },
          "metadata": {
            "tags": []
          }
        }
      ]
    },
    {
      "cell_type": "code",
      "metadata": {
        "id": "75MiH3g681sW"
      },
      "source": [
        "trend_df = pd.DataFrame(list(s.trend), columns = ['Trend'])\n",
        "trend_df.insert(loc=0, column = 'Month', value=np.arange(len(trend_df)))\n",
        "trend_df=trend_df[np.isfinite(trend_df['Trend'])]\n",
        "y = trend_df.Trend\n",
        "x = trend_df.Month\n",
        "x, y = np.array(x), np.array(y)\n",
        "\n",
        "x = sm.add_constant(x)"
      ],
      "execution_count": 13,
      "outputs": []
    },
    {
      "cell_type": "code",
      "metadata": {
        "id": "XuCaWqrNDhiK"
      },
      "source": [
        "trend_df_m = pd.DataFrame(list(m.trend), columns = ['Trend'])\n",
        "trend_df_m.insert(loc=0, column = 'Month', value=np.arange(len(trend_df_m)))\n",
        "trend_df_m=trend_df_m[np.isfinite(trend_df_m['Trend'])]\n",
        "y = trend_df_m.Trend\n",
        "x = trend_df_m.Month\n",
        "x, y = np.array(x), np.array(y)\n",
        "\n",
        "x = sm.add_constant(x)"
      ],
      "execution_count": 14,
      "outputs": []
    },
    {
      "cell_type": "code",
      "metadata": {
        "id": "OkxjLawqLQBq"
      },
      "source": [
        "trend_df_l = pd.DataFrame(list(l.trend), columns = ['Trend'])\n",
        "trend_df_l.insert(loc=0, column = 'Month', value=np.arange(len(trend_df_l)))\n",
        "trend_df_l=trend_df_l[np.isfinite(trend_df_l['Trend'])]\n",
        "y = trend_df_l.Trend\n",
        "x = trend_df_l.Month\n",
        "x, y = np.array(x), np.array(y)\n",
        "\n",
        "x = sm.add_constant(x)"
      ],
      "execution_count": 15,
      "outputs": []
    },
    {
      "cell_type": "code",
      "metadata": {
        "id": "Nxu-vyV9SMut"
      },
      "source": [
        "trend_df_n = pd.DataFrame(list(n.trend), columns = ['Trend'])\n",
        "trend_df_n.insert(loc=0, column = 'Month', value=np.arange(len(trend_df_n)))\n",
        "trend_df_n=trend_df_n[np.isfinite(trend_df_n['Trend'])]\n",
        "y = trend_df_n.Trend\n",
        "x = trend_df_n.Month\n",
        "x, y = np.array(x), np.array(y)\n",
        "\n",
        "x = sm.add_constant(x)"
      ],
      "execution_count": 16,
      "outputs": []
    },
    {
      "cell_type": "code",
      "metadata": {
        "colab": {
          "base_uri": "https://localhost:8080/",
          "height": 426
        },
        "id": "i8YZxeBc898K",
        "outputId": "d8a7f501-4772-4fc7-f930-09bb33b263bc"
      },
      "source": [
        "model = sm.OLS(y,x)\n",
        "results = model.fit()\n",
        "results.summary()"
      ],
      "execution_count": 17,
      "outputs": [
        {
          "output_type": "execute_result",
          "data": {
            "text/html": [
              "<table class=\"simpletable\">\n",
              "<caption>OLS Regression Results</caption>\n",
              "<tr>\n",
              "  <th>Dep. Variable:</th>            <td>y</td>        <th>  R-squared:         </th> <td>   0.857</td>\n",
              "</tr>\n",
              "<tr>\n",
              "  <th>Model:</th>                   <td>OLS</td>       <th>  Adj. R-squared:    </th> <td>   0.855</td>\n",
              "</tr>\n",
              "<tr>\n",
              "  <th>Method:</th>             <td>Least Squares</td>  <th>  F-statistic:       </th> <td>   348.1</td>\n",
              "</tr>\n",
              "<tr>\n",
              "  <th>Date:</th>             <td>Mon, 29 Mar 2021</td> <th>  Prob (F-statistic):</th> <td>3.47e-26</td>\n",
              "</tr>\n",
              "<tr>\n",
              "  <th>Time:</th>                 <td>09:28:25</td>     <th>  Log-Likelihood:    </th> <td> -20.574</td>\n",
              "</tr>\n",
              "<tr>\n",
              "  <th>No. Observations:</th>      <td>    60</td>      <th>  AIC:               </th> <td>   45.15</td>\n",
              "</tr>\n",
              "<tr>\n",
              "  <th>Df Residuals:</th>          <td>    58</td>      <th>  BIC:               </th> <td>   49.34</td>\n",
              "</tr>\n",
              "<tr>\n",
              "  <th>Df Model:</th>              <td>     1</td>      <th>                     </th>     <td> </td>   \n",
              "</tr>\n",
              "<tr>\n",
              "  <th>Covariance Type:</th>      <td>nonrobust</td>    <th>                     </th>     <td> </td>   \n",
              "</tr>\n",
              "</table>\n",
              "<table class=\"simpletable\">\n",
              "<tr>\n",
              "    <td></td>       <th>coef</th>     <th>std err</th>      <th>t</th>      <th>P>|t|</th>  <th>[0.025</th>    <th>0.975]</th>  \n",
              "</tr>\n",
              "<tr>\n",
              "  <th>const</th> <td>   82.0114</td> <td>    0.102</td> <td>  803.201</td> <td> 0.000</td> <td>   81.807</td> <td>   82.216</td>\n",
              "</tr>\n",
              "<tr>\n",
              "  <th>x1</th>    <td>   -0.0482</td> <td>    0.003</td> <td>  -18.657</td> <td> 0.000</td> <td>   -0.053</td> <td>   -0.043</td>\n",
              "</tr>\n",
              "</table>\n",
              "<table class=\"simpletable\">\n",
              "<tr>\n",
              "  <th>Omnibus:</th>       <td> 1.499</td> <th>  Durbin-Watson:     </th> <td>   0.057</td>\n",
              "</tr>\n",
              "<tr>\n",
              "  <th>Prob(Omnibus):</th> <td> 0.473</td> <th>  Jarque-Bera (JB):  </th> <td>   1.517</td>\n",
              "</tr>\n",
              "<tr>\n",
              "  <th>Skew:</th>          <td>-0.333</td> <th>  Prob(JB):          </th> <td>   0.468</td>\n",
              "</tr>\n",
              "<tr>\n",
              "  <th>Kurtosis:</th>      <td> 2.596</td> <th>  Cond. No.          </th> <td>    90.1</td>\n",
              "</tr>\n",
              "</table><br/><br/>Warnings:<br/>[1] Standard Errors assume that the covariance matrix of the errors is correctly specified."
            ],
            "text/plain": [
              "<class 'statsmodels.iolib.summary.Summary'>\n",
              "\"\"\"\n",
              "                            OLS Regression Results                            \n",
              "==============================================================================\n",
              "Dep. Variable:                      y   R-squared:                       0.857\n",
              "Model:                            OLS   Adj. R-squared:                  0.855\n",
              "Method:                 Least Squares   F-statistic:                     348.1\n",
              "Date:                Mon, 29 Mar 2021   Prob (F-statistic):           3.47e-26\n",
              "Time:                        09:28:25   Log-Likelihood:                -20.574\n",
              "No. Observations:                  60   AIC:                             45.15\n",
              "Df Residuals:                      58   BIC:                             49.34\n",
              "Df Model:                           1                                         \n",
              "Covariance Type:            nonrobust                                         \n",
              "==============================================================================\n",
              "                 coef    std err          t      P>|t|      [0.025      0.975]\n",
              "------------------------------------------------------------------------------\n",
              "const         82.0114      0.102    803.201      0.000      81.807      82.216\n",
              "x1            -0.0482      0.003    -18.657      0.000      -0.053      -0.043\n",
              "==============================================================================\n",
              "Omnibus:                        1.499   Durbin-Watson:                   0.057\n",
              "Prob(Omnibus):                  0.473   Jarque-Bera (JB):                1.517\n",
              "Skew:                          -0.333   Prob(JB):                        0.468\n",
              "Kurtosis:                       2.596   Cond. No.                         90.1\n",
              "==============================================================================\n",
              "\n",
              "Warnings:\n",
              "[1] Standard Errors assume that the covariance matrix of the errors is correctly specified.\n",
              "\"\"\""
            ]
          },
          "metadata": {
            "tags": []
          },
          "execution_count": 17
        }
      ]
    },
    {
      "cell_type": "code",
      "metadata": {
        "colab": {
          "base_uri": "https://localhost:8080/",
          "height": 349
        },
        "id": "FJgF9ddhNfz5",
        "outputId": "68e3699a-fc1c-4267-8273-f1198c171dae"
      },
      "source": [
        "\n",
        "sns.regplot(x=trend_df['Month'],y=trend_df['Trend'])\n",
        "sns.regplot(x=trend_df['Month'],y=trend_df_m['Trend'])\n",
        "sns.regplot(x=trend_df['Month'],y=trend_df_l['Trend'])\n",
        "sns.regplot(x=trend_df['Month'],y=trend_df_n['Trend'])\n",
        "plt.ylabel(\"PR(%)\")\n",
        "plt.xlabel(\"Month Count\")\n",
        "plt.ylim(77,86)\n",
        "plt.xlim(0, 68)\n",
        "plt.title(\"Degradation Rate For Four Locations\")\n",
        "plt.grid(True)\n",
        "plt.show()\n",
        "#sns.plt.show()"
      ],
      "execution_count": 18,
      "outputs": [
        {
          "output_type": "display_data",
          "data": {
            "image/png": "[encoded data removed]",
            "text/plain": [
              "<Figure size 504x360 with 1 Axes>"
            ]
          },
          "metadata": {
            "tags": []
          }
        }
      ]
    },
    {
      "cell_type": "code",
      "metadata": {
        "colab": {
          "base_uri": "https://localhost:8080/"
        },
        "id": "yLg3KbTT9DSw",
        "outputId": "c702cf26-5661-482e-d6fa-e7155db02213"
      },
      "source": [
        "#confidence level 95%\n",
        "intercept, slope = results.params\n",
        "CI_abs = resolution*results.conf_int(alpha = 0.05)[1]\n",
        "CIL_abs = CI_abs[1]\n",
        "CIH_abs = CI_abs[0]\n",
        "round(CIL_abs,2),round(CIH_abs,2)\n",
        "\n",
        "DR_abs = round(resolution*slope, 2)\n",
        "DR_abs"
      ],
      "execution_count": 19,
      "outputs": [
        {
          "output_type": "execute_result",
          "data": {
            "text/plain": [
              "-0.58"
            ]
          },
          "metadata": {
            "tags": []
          },
          "execution_count": 19
        }
      ]
    },
    {
      "cell_type": "code",
      "metadata": {
        "colab": {
          "base_uri": "https://localhost:8080/"
        },
        "id": "ehMmvkJQ5kyP",
        "outputId": "3c1e0bdb-ea34-4835-a065-89625ee10818"
      },
      "source": [
        "round(12*slope,2)"
      ],
      "execution_count": 16,
      "outputs": [
        {
          "output_type": "execute_result",
          "data": {
            "text/plain": [
              "nan"
            ]
          },
          "metadata": {
            "tags": []
          },
          "execution_count": 16
        }
      ]
    },
    {
      "cell_type": "code",
      "metadata": {
        "colab": {
          "base_uri": "https://localhost:8080/"
        },
        "id": "tZoBvZN0jNTr",
        "outputId": "7c5754b1-e79d-49cc-b792-f9d91bb9063e"
      },
      "source": [
        "CI_abs"
      ],
      "execution_count": 17,
      "outputs": [
        {
          "output_type": "execute_result",
          "data": {
            "text/plain": [
              "array([nan, nan])"
            ]
          },
          "metadata": {
            "tags": []
          },
          "execution_count": 17
        }
      ]
    },
    {
      "cell_type": "code",
      "metadata": {
        "colab": {
          "base_uri": "https://localhost:8080/"
        },
        "id": "QE9ENoH_jXve",
        "outputId": "1c1623a9-0a82-44cc-ec3e-e0203df89165"
      },
      "source": [
        "CI_abs[1]"
      ],
      "execution_count": 18,
      "outputs": [
        {
          "output_type": "execute_result",
          "data": {
            "text/plain": [
              "nan"
            ]
          },
          "metadata": {
            "tags": []
          },
          "execution_count": 18
        }
      ]
    },
    {
      "cell_type": "code",
      "metadata": {
        "colab": {
          "base_uri": "https://localhost:8080/"
        },
        "id": "yOlKRMG3jd2U",
        "outputId": "bddad765-01d4-4a6f-ea44-91657ff58997"
      },
      "source": [
        "CI_abs[0]"
      ],
      "execution_count": 19,
      "outputs": [
        {
          "output_type": "execute_result",
          "data": {
            "text/plain": [
              "nan"
            ]
          },
          "metadata": {
            "tags": []
          },
          "execution_count": 19
        }
      ]
    },
    {
      "cell_type": "code",
      "metadata": {
        "colab": {
          "base_uri": "https://localhost:8080/"
        },
        "id": "x6tepcsw5ebq",
        "outputId": "82ff0521-9da6-40f8-f9d2-c210c114db53"
      },
      "source": [
        "#confidence level 95%\n",
        "CI_rel = 100*resolution*results.conf_int(alpha = 0.05)[1]/intercept\n",
        "CIL_rel = CI_rel[1]\n",
        "CIH_rel = CI_rel[0]\n",
        "round(CIL_rel,2),round(CIH_rel,2)\n",
        "\n",
        "DR_rel = round(100*resolution*slope/intercept,2)\n",
        "DR_rel"
      ],
      "execution_count": 20,
      "outputs": [
        {
          "output_type": "execute_result",
          "data": {
            "text/plain": [
              "nan"
            ]
          },
          "metadata": {
            "tags": []
          },
          "execution_count": 20
        }
      ]
    },
    {
      "cell_type": "code",
      "metadata": {
        "colab": {
          "base_uri": "https://localhost:8080/",
          "height": 349
        },
        "id": "310ltslg9ItI",
        "outputId": "c2632a35-e32e-4a2c-8259-1e19f4e79e61"
      },
      "source": [
        "sns.regplot(y = trend_df['Trend'], x = trend_df['Month'], data = bedford_1, color='g')\n",
        "plt.ylabel(\"PR(%)\")\n",
        "plt.xlabel(\"Month Count\")\n",
        "plt.ylim(65,90)\n",
        "plt.xlim(0, 80)\n",
        "plt.title(\"Degradation Rate for Bedford PV-1\")\n",
        "plt.grid(True)\n",
        "plt.show()"
      ],
      "execution_count": 34,
      "outputs": [
        {
          "output_type": "display_data",
          "data": {
            "image/png": "[encoded data removed]",
            "text/plain": [
              "<Figure size 504x360 with 1 Axes>"
            ]
          },
          "metadata": {
            "tags": []
          }
        }
      ]
    },
    {
      "cell_type": "code",
      "metadata": {
        "colab": {
          "base_uri": "https://localhost:8080/"
        },
        "id": "syJvL-RsOKSt",
        "outputId": "a6f18526-2f29-4a73-e0c0-7a44cf8d395b"
      },
      "source": [
        "trend_df_m['Trend'].size"
      ],
      "execution_count": 44,
      "outputs": [
        {
          "output_type": "execute_result",
          "data": {
            "text/plain": [
              "60"
            ]
          },
          "metadata": {
            "tags": []
          },
          "execution_count": 44
        }
      ]
    },
    {
      "cell_type": "code",
      "metadata": {
        "colab": {
          "base_uri": "https://localhost:8080/",
          "height": 402
        },
        "id": "t4EYm23BGNbv",
        "outputId": "bf8b6e2f-2c8e-48a2-9429-29a7d0dc61dd"
      },
      "source": [
        "~frames = [trend_df, trend_df_m]\n",
        "\n",
        "#concatenate dataframes\n",
        "df = pd.concat(frames)\n",
        "\n",
        "# reset index\n",
        "df.reset_index(drop=True, inplace=True)\n",
        "\n",
        "#print dataframe\n",
        "df"
      ],
      "execution_count": 18,
      "outputs": [
        {
          "output_type": "execute_result",
          "data": {
            "text/html": [
              "<div>\n",
              "<style scoped>\n",
              "    .dataframe tbody tr th:only-of-type {\n",
              "        vertical-align: middle;\n",
              "    }\n",
              "\n",
              "    .dataframe tbody tr th {\n",
              "        vertical-align: top;\n",
              "    }\n",
              "\n",
              "    .dataframe thead th {\n",
              "        text-align: right;\n",
              "    }\n",
              "</style>\n",
              "<table border=\"1\" class=\"dataframe\">\n",
              "  <thead>\n",
              "    <tr style=\"text-align: right;\">\n",
              "      <th></th>\n",
              "      <th>Month</th>\n",
              "      <th>Trend</th>\n",
              "    </tr>\n",
              "  </thead>\n",
              "  <tbody>\n",
              "    <tr>\n",
              "      <th>0</th>\n",
              "      <td>6</td>\n",
              "      <td>84.472222</td>\n",
              "    </tr>\n",
              "    <tr>\n",
              "      <th>1</th>\n",
              "      <td>7</td>\n",
              "      <td>84.375000</td>\n",
              "    </tr>\n",
              "    <tr>\n",
              "      <th>2</th>\n",
              "      <td>8</td>\n",
              "      <td>84.347222</td>\n",
              "    </tr>\n",
              "    <tr>\n",
              "      <th>3</th>\n",
              "      <td>9</td>\n",
              "      <td>84.291667</td>\n",
              "    </tr>\n",
              "    <tr>\n",
              "      <th>4</th>\n",
              "      <td>10</td>\n",
              "      <td>84.263889</td>\n",
              "    </tr>\n",
              "    <tr>\n",
              "      <th>...</th>\n",
              "      <td>...</td>\n",
              "      <td>...</td>\n",
              "    </tr>\n",
              "    <tr>\n",
              "      <th>115</th>\n",
              "      <td>61</td>\n",
              "      <td>79.875000</td>\n",
              "    </tr>\n",
              "    <tr>\n",
              "      <th>116</th>\n",
              "      <td>62</td>\n",
              "      <td>80.166667</td>\n",
              "    </tr>\n",
              "    <tr>\n",
              "      <th>117</th>\n",
              "      <td>63</td>\n",
              "      <td>80.416667</td>\n",
              "    </tr>\n",
              "    <tr>\n",
              "      <th>118</th>\n",
              "      <td>64</td>\n",
              "      <td>80.666667</td>\n",
              "    </tr>\n",
              "    <tr>\n",
              "      <th>119</th>\n",
              "      <td>65</td>\n",
              "      <td>80.944444</td>\n",
              "    </tr>\n",
              "  </tbody>\n",
              "</table>\n",
              "<p>120 rows × 2 columns</p>\n",
              "</div>"
            ],
            "text/plain": [
              "     Month      Trend\n",
              "0        6  84.472222\n",
              "1        7  84.375000\n",
              "2        8  84.347222\n",
              "3        9  84.291667\n",
              "4       10  84.263889\n",
              "..     ...        ...\n",
              "115     61  79.875000\n",
              "116     62  80.166667\n",
              "117     63  80.416667\n",
              "118     64  80.666667\n",
              "119     65  80.944444\n",
              "\n",
              "[120 rows x 2 columns]"
            ]
          },
          "metadata": {
            "tags": []
          },
          "execution_count": 18
        }
      ]
    },
    {
      "cell_type": "code",
      "metadata": {
        "colab": {
          "base_uri": "https://localhost:8080/",
          "height": 1000
        },
        "id": "REN3Q-r3HPZ5",
        "outputId": "c61056ef-b95d-46a4-b605-019c564cbe38"
      },
      "source": [
        "result = pd.concat([trend_df, trend_df_m], axis=1, join='outer')\n",
        "display(result)"
      ],
      "execution_count": 26,
      "outputs": [
        {
          "output_type": "display_data",
          "data": {
            "text/html": [
              "<div>\n",
              "<style scoped>\n",
              "    .dataframe tbody tr th:only-of-type {\n",
              "        vertical-align: middle;\n",
              "    }\n",
              "\n",
              "    .dataframe tbody tr th {\n",
              "        vertical-align: top;\n",
              "    }\n",
              "\n",
              "    .dataframe thead th {\n",
              "        text-align: right;\n",
              "    }\n",
              "</style>\n",
              "<table border=\"1\" class=\"dataframe\">\n",
              "  <thead>\n",
              "    <tr style=\"text-align: right;\">\n",
              "      <th></th>\n",
              "      <th>Month</th>\n",
              "      <th>Trend</th>\n",
              "      <th>Month</th>\n",
              "      <th>Trend</th>\n",
              "    </tr>\n",
              "  </thead>\n",
              "  <tbody>\n",
              "    <tr>\n",
              "      <th>6</th>\n",
              "      <td>6</td>\n",
              "      <td>84.472222</td>\n",
              "      <td>6</td>\n",
              "      <td>83.986111</td>\n",
              "    </tr>\n",
              "    <tr>\n",
              "      <th>7</th>\n",
              "      <td>7</td>\n",
              "      <td>84.375000</td>\n",
              "      <td>7</td>\n",
              "      <td>83.944444</td>\n",
              "    </tr>\n",
              "    <tr>\n",
              "      <th>8</th>\n",
              "      <td>8</td>\n",
              "      <td>84.347222</td>\n",
              "      <td>8</td>\n",
              "      <td>83.958333</td>\n",
              "    </tr>\n",
              "    <tr>\n",
              "      <th>9</th>\n",
              "      <td>9</td>\n",
              "      <td>84.291667</td>\n",
              "      <td>9</td>\n",
              "      <td>84.055556</td>\n",
              "    </tr>\n",
              "    <tr>\n",
              "      <th>10</th>\n",
              "      <td>10</td>\n",
              "      <td>84.263889</td>\n",
              "      <td>10</td>\n",
              "      <td>84.166667</td>\n",
              "    </tr>\n",
              "    <tr>\n",
              "      <th>11</th>\n",
              "      <td>11</td>\n",
              "      <td>84.347222</td>\n",
              "      <td>11</td>\n",
              "      <td>84.305556</td>\n",
              "    </tr>\n",
              "    <tr>\n",
              "      <th>12</th>\n",
              "      <td>12</td>\n",
              "      <td>84.513889</td>\n",
              "      <td>12</td>\n",
              "      <td>84.375000</td>\n",
              "    </tr>\n",
              "    <tr>\n",
              "      <th>13</th>\n",
              "      <td>13</td>\n",
              "      <td>84.486111</td>\n",
              "      <td>13</td>\n",
              "      <td>84.277778</td>\n",
              "    </tr>\n",
              "    <tr>\n",
              "      <th>14</th>\n",
              "      <td>14</td>\n",
              "      <td>84.347222</td>\n",
              "      <td>14</td>\n",
              "      <td>84.069444</td>\n",
              "    </tr>\n",
              "    <tr>\n",
              "      <th>15</th>\n",
              "      <td>15</td>\n",
              "      <td>84.250000</td>\n",
              "      <td>15</td>\n",
              "      <td>83.847222</td>\n",
              "    </tr>\n",
              "    <tr>\n",
              "      <th>16</th>\n",
              "      <td>16</td>\n",
              "      <td>84.125000</td>\n",
              "      <td>16</td>\n",
              "      <td>83.666667</td>\n",
              "    </tr>\n",
              "    <tr>\n",
              "      <th>17</th>\n",
              "      <td>17</td>\n",
              "      <td>84.111111</td>\n",
              "      <td>17</td>\n",
              "      <td>83.513889</td>\n",
              "    </tr>\n",
              "    <tr>\n",
              "      <th>18</th>\n",
              "      <td>18</td>\n",
              "      <td>84.333333</td>\n",
              "      <td>18</td>\n",
              "      <td>83.430556</td>\n",
              "    </tr>\n",
              "    <tr>\n",
              "      <th>19</th>\n",
              "      <td>19</td>\n",
              "      <td>84.541667</td>\n",
              "      <td>19</td>\n",
              "      <td>83.388889</td>\n",
              "    </tr>\n",
              "    <tr>\n",
              "      <th>20</th>\n",
              "      <td>20</td>\n",
              "      <td>84.583333</td>\n",
              "      <td>20</td>\n",
              "      <td>83.277778</td>\n",
              "    </tr>\n",
              "    <tr>\n",
              "      <th>21</th>\n",
              "      <td>21</td>\n",
              "      <td>84.652778</td>\n",
              "      <td>21</td>\n",
              "      <td>83.097222</td>\n",
              "    </tr>\n",
              "    <tr>\n",
              "      <th>22</th>\n",
              "      <td>22</td>\n",
              "      <td>84.722222</td>\n",
              "      <td>22</td>\n",
              "      <td>82.902778</td>\n",
              "    </tr>\n",
              "    <tr>\n",
              "      <th>23</th>\n",
              "      <td>23</td>\n",
              "      <td>84.666667</td>\n",
              "      <td>23</td>\n",
              "      <td>82.597222</td>\n",
              "    </tr>\n",
              "    <tr>\n",
              "      <th>24</th>\n",
              "      <td>24</td>\n",
              "      <td>84.736111</td>\n",
              "      <td>24</td>\n",
              "      <td>82.291667</td>\n",
              "    </tr>\n",
              "    <tr>\n",
              "      <th>25</th>\n",
              "      <td>25</td>\n",
              "      <td>84.916667</td>\n",
              "      <td>25</td>\n",
              "      <td>82.125000</td>\n",
              "    </tr>\n",
              "    <tr>\n",
              "      <th>26</th>\n",
              "      <td>26</td>\n",
              "      <td>85.013889</td>\n",
              "      <td>26</td>\n",
              "      <td>82.111111</td>\n",
              "    </tr>\n",
              "    <tr>\n",
              "      <th>27</th>\n",
              "      <td>27</td>\n",
              "      <td>85.069444</td>\n",
              "      <td>27</td>\n",
              "      <td>82.236111</td>\n",
              "    </tr>\n",
              "    <tr>\n",
              "      <th>28</th>\n",
              "      <td>28</td>\n",
              "      <td>85.027778</td>\n",
              "      <td>28</td>\n",
              "      <td>82.402778</td>\n",
              "    </tr>\n",
              "    <tr>\n",
              "      <th>29</th>\n",
              "      <td>29</td>\n",
              "      <td>84.930556</td>\n",
              "      <td>29</td>\n",
              "      <td>82.541667</td>\n",
              "    </tr>\n",
              "    <tr>\n",
              "      <th>30</th>\n",
              "      <td>30</td>\n",
              "      <td>84.680556</td>\n",
              "      <td>30</td>\n",
              "      <td>82.625000</td>\n",
              "    </tr>\n",
              "    <tr>\n",
              "      <th>31</th>\n",
              "      <td>31</td>\n",
              "      <td>84.333333</td>\n",
              "      <td>31</td>\n",
              "      <td>82.736111</td>\n",
              "    </tr>\n",
              "    <tr>\n",
              "      <th>32</th>\n",
              "      <td>32</td>\n",
              "      <td>84.083333</td>\n",
              "      <td>32</td>\n",
              "      <td>82.763889</td>\n",
              "    </tr>\n",
              "    <tr>\n",
              "      <th>33</th>\n",
              "      <td>33</td>\n",
              "      <td>83.805556</td>\n",
              "      <td>33</td>\n",
              "      <td>82.652778</td>\n",
              "    </tr>\n",
              "    <tr>\n",
              "      <th>34</th>\n",
              "      <td>34</td>\n",
              "      <td>83.555556</td>\n",
              "      <td>34</td>\n",
              "      <td>82.569444</td>\n",
              "    </tr>\n",
              "    <tr>\n",
              "      <th>35</th>\n",
              "      <td>35</td>\n",
              "      <td>83.458333</td>\n",
              "      <td>35</td>\n",
              "      <td>82.541667</td>\n",
              "    </tr>\n",
              "    <tr>\n",
              "      <th>36</th>\n",
              "      <td>36</td>\n",
              "      <td>83.236111</td>\n",
              "      <td>36</td>\n",
              "      <td>82.486111</td>\n",
              "    </tr>\n",
              "    <tr>\n",
              "      <th>37</th>\n",
              "      <td>37</td>\n",
              "      <td>82.833333</td>\n",
              "      <td>37</td>\n",
              "      <td>82.444444</td>\n",
              "    </tr>\n",
              "    <tr>\n",
              "      <th>38</th>\n",
              "      <td>38</td>\n",
              "      <td>82.458333</td>\n",
              "      <td>38</td>\n",
              "      <td>82.486111</td>\n",
              "    </tr>\n",
              "    <tr>\n",
              "      <th>39</th>\n",
              "      <td>39</td>\n",
              "      <td>82.180556</td>\n",
              "      <td>39</td>\n",
              "      <td>82.569444</td>\n",
              "    </tr>\n",
              "    <tr>\n",
              "      <th>40</th>\n",
              "      <td>40</td>\n",
              "      <td>82.097222</td>\n",
              "      <td>40</td>\n",
              "      <td>82.611111</td>\n",
              "    </tr>\n",
              "    <tr>\n",
              "      <th>41</th>\n",
              "      <td>41</td>\n",
              "      <td>82.069444</td>\n",
              "      <td>41</td>\n",
              "      <td>82.583333</td>\n",
              "    </tr>\n",
              "    <tr>\n",
              "      <th>42</th>\n",
              "      <td>42</td>\n",
              "      <td>82.041667</td>\n",
              "      <td>42</td>\n",
              "      <td>82.527778</td>\n",
              "    </tr>\n",
              "    <tr>\n",
              "      <th>43</th>\n",
              "      <td>43</td>\n",
              "      <td>82.027778</td>\n",
              "      <td>43</td>\n",
              "      <td>82.361111</td>\n",
              "    </tr>\n",
              "    <tr>\n",
              "      <th>44</th>\n",
              "      <td>44</td>\n",
              "      <td>82.041667</td>\n",
              "      <td>44</td>\n",
              "      <td>82.263889</td>\n",
              "    </tr>\n",
              "    <tr>\n",
              "      <th>45</th>\n",
              "      <td>45</td>\n",
              "      <td>82.111111</td>\n",
              "      <td>45</td>\n",
              "      <td>82.430556</td>\n",
              "    </tr>\n",
              "    <tr>\n",
              "      <th>46</th>\n",
              "      <td>46</td>\n",
              "      <td>82.111111</td>\n",
              "      <td>46</td>\n",
              "      <td>82.611111</td>\n",
              "    </tr>\n",
              "    <tr>\n",
              "      <th>47</th>\n",
              "      <td>47</td>\n",
              "      <td>82.013889</td>\n",
              "      <td>47</td>\n",
              "      <td>82.750000</td>\n",
              "    </tr>\n",
              "    <tr>\n",
              "      <th>48</th>\n",
              "      <td>48</td>\n",
              "      <td>81.958333</td>\n",
              "      <td>48</td>\n",
              "      <td>82.888889</td>\n",
              "    </tr>\n",
              "    <tr>\n",
              "      <th>49</th>\n",
              "      <td>49</td>\n",
              "      <td>82.041667</td>\n",
              "      <td>49</td>\n",
              "      <td>82.819444</td>\n",
              "    </tr>\n",
              "    <tr>\n",
              "      <th>50</th>\n",
              "      <td>50</td>\n",
              "      <td>82.222222</td>\n",
              "      <td>50</td>\n",
              "      <td>82.513889</td>\n",
              "    </tr>\n",
              "    <tr>\n",
              "      <th>51</th>\n",
              "      <td>51</td>\n",
              "      <td>82.388889</td>\n",
              "      <td>51</td>\n",
              "      <td>82.125000</td>\n",
              "    </tr>\n",
              "    <tr>\n",
              "      <th>52</th>\n",
              "      <td>52</td>\n",
              "      <td>82.444444</td>\n",
              "      <td>52</td>\n",
              "      <td>81.750000</td>\n",
              "    </tr>\n",
              "    <tr>\n",
              "      <th>53</th>\n",
              "      <td>53</td>\n",
              "      <td>82.388889</td>\n",
              "      <td>53</td>\n",
              "      <td>81.430556</td>\n",
              "    </tr>\n",
              "    <tr>\n",
              "      <th>54</th>\n",
              "      <td>54</td>\n",
              "      <td>82.291667</td>\n",
              "      <td>54</td>\n",
              "      <td>81.083333</td>\n",
              "    </tr>\n",
              "    <tr>\n",
              "      <th>55</th>\n",
              "      <td>55</td>\n",
              "      <td>82.375000</td>\n",
              "      <td>55</td>\n",
              "      <td>80.888889</td>\n",
              "    </tr>\n",
              "    <tr>\n",
              "      <th>56</th>\n",
              "      <td>56</td>\n",
              "      <td>82.486111</td>\n",
              "      <td>56</td>\n",
              "      <td>80.791667</td>\n",
              "    </tr>\n",
              "    <tr>\n",
              "      <th>57</th>\n",
              "      <td>57</td>\n",
              "      <td>82.416667</td>\n",
              "      <td>57</td>\n",
              "      <td>80.569444</td>\n",
              "    </tr>\n",
              "    <tr>\n",
              "      <th>58</th>\n",
              "      <td>58</td>\n",
              "      <td>82.319444</td>\n",
              "      <td>58</td>\n",
              "      <td>80.305556</td>\n",
              "    </tr>\n",
              "    <tr>\n",
              "      <th>59</th>\n",
              "      <td>59</td>\n",
              "      <td>82.236111</td>\n",
              "      <td>59</td>\n",
              "      <td>80.041667</td>\n",
              "    </tr>\n",
              "    <tr>\n",
              "      <th>60</th>\n",
              "      <td>60</td>\n",
              "      <td>82.194444</td>\n",
              "      <td>60</td>\n",
              "      <td>79.819444</td>\n",
              "    </tr>\n",
              "    <tr>\n",
              "      <th>61</th>\n",
              "      <td>61</td>\n",
              "      <td>82.125000</td>\n",
              "      <td>61</td>\n",
              "      <td>79.875000</td>\n",
              "    </tr>\n",
              "    <tr>\n",
              "      <th>62</th>\n",
              "      <td>62</td>\n",
              "      <td>82.069444</td>\n",
              "      <td>62</td>\n",
              "      <td>80.166667</td>\n",
              "    </tr>\n",
              "    <tr>\n",
              "      <th>63</th>\n",
              "      <td>63</td>\n",
              "      <td>82.111111</td>\n",
              "      <td>63</td>\n",
              "      <td>80.416667</td>\n",
              "    </tr>\n",
              "    <tr>\n",
              "      <th>64</th>\n",
              "      <td>64</td>\n",
              "      <td>82.166667</td>\n",
              "      <td>64</td>\n",
              "      <td>80.666667</td>\n",
              "    </tr>\n",
              "    <tr>\n",
              "      <th>65</th>\n",
              "      <td>65</td>\n",
              "      <td>82.222222</td>\n",
              "      <td>65</td>\n",
              "      <td>80.944444</td>\n",
              "    </tr>\n",
              "  </tbody>\n",
              "</table>\n",
              "</div>"
            ],
            "text/plain": [
              "    Month      Trend  Month      Trend\n",
              "6       6  84.472222      6  83.986111\n",
              "7       7  84.375000      7  83.944444\n",
              "8       8  84.347222      8  83.958333\n",
              "9       9  84.291667      9  84.055556\n",
              "10     10  84.263889     10  84.166667\n",
              "11     11  84.347222     11  84.305556\n",
              "12     12  84.513889     12  84.375000\n",
              "13     13  84.486111     13  84.277778\n",
              "14     14  84.347222     14  84.069444\n",
              "15     15  84.250000     15  83.847222\n",
              "16     16  84.125000     16  83.666667\n",
              "17     17  84.111111     17  83.513889\n",
              "18     18  84.333333     18  83.430556\n",
              "19     19  84.541667     19  83.388889\n",
              "20     20  84.583333     20  83.277778\n",
              "21     21  84.652778     21  83.097222\n",
              "22     22  84.722222     22  82.902778\n",
              "23     23  84.666667     23  82.597222\n",
              "24     24  84.736111     24  82.291667\n",
              "25     25  84.916667     25  82.125000\n",
              "26     26  85.013889     26  82.111111\n",
              "27     27  85.069444     27  82.236111\n",
              "28     28  85.027778     28  82.402778\n",
              "29     29  84.930556     29  82.541667\n",
              "30     30  84.680556     30  82.625000\n",
              "31     31  84.333333     31  82.736111\n",
              "32     32  84.083333     32  82.763889\n",
              "33     33  83.805556     33  82.652778\n",
              "34     34  83.555556     34  82.569444\n",
              "35     35  83.458333     35  82.541667\n",
              "36     36  83.236111     36  82.486111\n",
              "37     37  82.833333     37  82.444444\n",
              "38     38  82.458333     38  82.486111\n",
              "39     39  82.180556     39  82.569444\n",
              "40     40  82.097222     40  82.611111\n",
              "41     41  82.069444     41  82.583333\n",
              "42     42  82.041667     42  82.527778\n",
              "43     43  82.027778     43  82.361111\n",
              "44     44  82.041667     44  82.263889\n",
              "45     45  82.111111     45  82.430556\n",
              "46     46  82.111111     46  82.611111\n",
              "47     47  82.013889     47  82.750000\n",
              "48     48  81.958333     48  82.888889\n",
              "49     49  82.041667     49  82.819444\n",
              "50     50  82.222222     50  82.513889\n",
              "51     51  82.388889     51  82.125000\n",
              "52     52  82.444444     52  81.750000\n",
              "53     53  82.388889     53  81.430556\n",
              "54     54  82.291667     54  81.083333\n",
              "55     55  82.375000     55  80.888889\n",
              "56     56  82.486111     56  80.791667\n",
              "57     57  82.416667     57  80.569444\n",
              "58     58  82.319444     58  80.305556\n",
              "59     59  82.236111     59  80.041667\n",
              "60     60  82.194444     60  79.819444\n",
              "61     61  82.125000     61  79.875000\n",
              "62     62  82.069444     62  80.166667\n",
              "63     63  82.111111     63  80.416667\n",
              "64     64  82.166667     64  80.666667\n",
              "65     65  82.222222     65  80.944444"
            ]
          },
          "metadata": {
            "tags": []
          }
        }
      ]
    },
    {
      "cell_type": "code",
      "metadata": {
        "id": "QiVg6wqoH2Ai"
      },
      "source": [
        "gfg_csv_data = result.to_csv('GfG.csv', index = False)"
      ],
      "execution_count": 29,
      "outputs": []
    },
    {
      "cell_type": "code",
      "metadata": {
        "colab": {
          "base_uri": "https://localhost:8080/"
        },
        "id": "dIDrlHT7I-Bm",
        "outputId": "611576db-ecb2-402a-977f-1e81178809cb"
      },
      "source": [
        "print('\\nCSV String:\\n', gfg_csv_data)"
      ],
      "execution_count": 30,
      "outputs": [
        {
          "output_type": "stream",
          "text": [
            "\n",
            "CSV String:\n",
            " None\n"
          ],
          "name": "stdout"
        }
      ]
    },
    {
      "cell_type": "code",
      "metadata": {
        "id": "2XQ2sHuUKAeq"
      },
      "source": [
        "result.to_csv('data.csv')\n",
        "!cp data.csv \"drive/My Drive/\""
      ],
      "execution_count": 31,
      "outputs": []
    },
    {
      "cell_type": "code",
      "metadata": {
        "id": "YeIabNG-KMFa"
      },
      "source": [
        ""
      ],
      "execution_count": null,
      "outputs": []
    }
  ]
}