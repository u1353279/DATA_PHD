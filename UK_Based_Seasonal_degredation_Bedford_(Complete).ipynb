{
  "nbformat": 4,
  "nbformat_minor": 0,
  "metadata": {
    "colab": {
      "name": "UK_Based_Seasonal_degredation_Bedford (Complete).ipynb",
      "provenance": [],
      "collapsed_sections": [],
      "toc_visible": true,
      "mount_file_id": "1LRQd7GayLKRyxuo22Q1YhelfkHxgHQR6",
      "authorship_tag": "ABX9TyN6s5DkCx+xFemogmkbMuZ+",
      "include_colab_link": true
    },
    "kernelspec": {
      "name": "python3",
      "display_name": "Python 3"
    }
  },
  "cells": [
    {
      "cell_type": "markdown",
      "metadata": {
        "id": "view-in-github",
        "colab_type": "text"
      },
      "source": [
        "<a href=\"https://colab.research.google.com/github/u1353279/DATA_PHD/blob/main/UK_Based_Seasonal_degredation_Bedford_(Complete).ipynb\" target=\"_parent\"><img src=\"https://colab.research.google.com/assets/colab-badge.svg\" alt=\"Open In Colab\"/></a>"
      ]
    },
    {
      "cell_type": "markdown",
      "metadata": {
        "id": "3blIf5BPCsgD"
      },
      "source": [
        "# Comparing Seasonal degredation of 3 PV systems based on 3 month intervals located in Bedford"
      ]
    },
    {
      "cell_type": "code",
      "metadata": {
        "colab": {
          "base_uri": "https://localhost:8080/"
        },
        "id": "ty0ROpk_7qTe",
        "outputId": "625fdf2e-94dc-4a69-b8a3-99a9266ab98f"
      },
      "source": [
        "import pandas as pd\r\n",
        "import numpy as np\r\n",
        "import seaborn as sns\r\n",
        "import statsmodels.api as sm\r\n",
        "from matplotlib import pyplot as plt\r\n",
        "from pandas.plotting import register_matplotlib_converters\r\n",
        "register_matplotlib_converters()\r\n",
        "\r\n",
        "# settings\r\n",
        "plt.style.use('seaborn-white')\r\n",
        "plt.rcParams[\"figure.figsize\"] = (8, 5)"
      ],
      "execution_count": 1,
      "outputs": [
        {
          "output_type": "stream",
          "text": [
            "/usr/local/lib/python3.6/dist-packages/statsmodels/tools/_testing.py:19: FutureWarning: pandas.util.testing is deprecated. Use the functions in the public API at pandas.testing instead.\n",
            "  import pandas.util.testing as tm\n"
          ],
          "name": "stderr"
        }
      ]
    },
    {
      "cell_type": "markdown",
      "metadata": {
        "id": "z0Ou0Ev0747k"
      },
      "source": [
        "# Bedford PV-01 MAR-MAY"
      ]
    },
    {
      "cell_type": "code",
      "metadata": {
        "colab": {
          "base_uri": "https://localhost:8080/",
          "height": 342
        },
        "id": "BCDqv1nZ7uve",
        "outputId": "26ad8ae1-23b7-4440-a73d-e2951a3cd854"
      },
      "source": [
        "bedford_1 = pd.read_csv('/content/drive/MyDrive/PHD/Data/Bedford1.csv')\r\n",
        "\r\n",
        "df = bedford_1[(bedford_1['Unnamed: 1']>2) & (bedford_1['Unnamed: 1']<6)]\r\n",
        "\r\n",
        "#df['PR'].plot()\r\n",
        "#plt.xlabel('Month')\r\n",
        "#plt.ylabel('PR')\r\n",
        "#plt.title('Monthly PR 2015-2020')\r\n",
        "\r\n",
        "#fig, axs = plt.subplots()\r\n",
        "#axs.plot(df.index, df.PR, 'o-', alpha = 0.5,color='g')\r\n",
        "#axs.set_ylabel('PR (%)');\r\n",
        "#axs.set_xlabel('Month')\r\n",
        "\r\n",
        "resolution = 3\r\n",
        "s=sm.tsa.seasonal_decompose(df.PR, model = 'multiplicative', freq = 3)\r\n",
        "#s.plot()\r\n",
        "\r\n",
        "trend_df = pd.DataFrame(list(s.trend), columns = ['Trend'])\r\n",
        "trend_df.insert(loc=0, column = 'Month', value=np.arange(len(trend_df)))\r\n",
        "trend_df=trend_df[np.isfinite(trend_df['Trend'])]\r\n",
        "y = trend_df.Trend\r\n",
        "x = trend_df.Month\r\n",
        "x, y = np.array(x), np.array(y)\r\n",
        "\r\n",
        "x = sm.add_constant(x)\r\n",
        "\r\n",
        "#trend_df['Trend'].plot()\r\n",
        "#plt.xlabel('Month')\r\n",
        "#plt.ylabel('PR')\r\n",
        "#plt.title('Decomposed Trend for Bedford PV-2 JAN-APR')\r\n",
        "\r\n",
        "model = sm.OLS(y,x)\r\n",
        "results = model.fit()\r\n",
        "#results.summary()\r\n",
        "\r\n",
        "#confidence level 95%\r\n",
        "intercept, slope = results.params\r\n",
        "CI_abs = resolution*results.conf_int(alpha = 0.05)[1]\r\n",
        "CIL_abs = CI_abs[1]\r\n",
        "CIH_abs = CI_abs[0]\r\n",
        "round(CIL_abs,2),round(CIH_abs,2)\r\n",
        "\r\n",
        "DR_abs = round(resolution*slope, 2)\r\n",
        "\r\n",
        "\r\n",
        "sns.regplot(y = trend_df['Trend'], x = trend_df['Month'], data = df, color='g')\r\n",
        "plt.ylabel(\"PR(%)\")\r\n",
        "plt.xlabel(\"Month\")\r\n",
        "plt.ylim(65,100)\r\n",
        "plt.xlim(0, 17)\r\n",
        "plt.title(\"MAR-May:Degradation Rate for Bedford PV-1\")\r\n",
        "plt.grid(True)\r\n",
        "plt.show()\r\n",
        "\r\n",
        "print('Absolute degredation value', DR_abs)\r\n",
        "print('Lower boundary degredation value', CIL_abs)\r\n",
        "print('Upper boundary degredation value', CIH_abs)"
      ],
      "execution_count": 4,
      "outputs": [
        {
          "output_type": "display_data",
          "data": {
            "image/png": "[encoded data removed]",
            "text/plain": [
              "<Figure size 432x288 with 1 Axes>"
            ]
          },
          "metadata": {
            "tags": [],
            "needs_background": "light"
          }
        },
        {
          "output_type": "stream",
          "text": [
            "Absolute degredation value -0.69\n",
            "Lower boundary degredation value -0.4658055117650355\n",
            "Upper boundary degredation value -0.9224297823526254\n"
          ],
          "name": "stdout"
        }
      ]
    },
    {
      "cell_type": "markdown",
      "metadata": {
        "id": "I-UECbmE8mMF"
      },
      "source": [
        "# Bedford PV-02 MAR-MAY"
      ]
    },
    {
      "cell_type": "code",
      "metadata": {
        "colab": {
          "base_uri": "https://localhost:8080/",
          "height": 342
        },
        "id": "8qawen928PrX",
        "outputId": "fd41652e-a6f9-4ce2-f74c-72c94ef999bb"
      },
      "source": [
        "bedford_2 = pd.read_csv('/content/drive/MyDrive/PHD/Data/Bedford2.csv')\r\n",
        "\r\n",
        "df = bedford_2[(bedford_2['Unnamed: 1']>2) & (bedford_2['Unnamed: 1']<6)]\r\n",
        "\r\n",
        "#df['PR'].plot()\r\n",
        "#plt.xlabel('Month')\r\n",
        "#plt.ylabel('PR')\r\n",
        "#plt.title('Monthly PR 2015-2020')\r\n",
        "\r\n",
        "#fig, axs = plt.subplots()\r\n",
        "#axs.plot(df.index, df.PR, 'o-', alpha = 0.5,color='g')\r\n",
        "#axs.set_ylabel('PR (%)');\r\n",
        "#axs.set_xlabel('Month')\r\n",
        "\r\n",
        "resolution = 3\r\n",
        "s=sm.tsa.seasonal_decompose(df.PR, model = 'multiplicative', freq = 3)\r\n",
        "#s.plot()\r\n",
        "\r\n",
        "trend_df = pd.DataFrame(list(s.trend), columns = ['Trend'])\r\n",
        "trend_df.insert(loc=0, column = 'Month', value=np.arange(len(trend_df)))\r\n",
        "trend_df=trend_df[np.isfinite(trend_df['Trend'])]\r\n",
        "y = trend_df.Trend\r\n",
        "x = trend_df.Month\r\n",
        "x, y = np.array(x), np.array(y)\r\n",
        "\r\n",
        "x = sm.add_constant(x)\r\n",
        "\r\n",
        "#trend_df['Trend'].plot()\r\n",
        "#plt.xlabel('Month')\r\n",
        "#plt.ylabel('PR')\r\n",
        "#plt.title('Decomposed Trend for Bedford PV-2 JAN-APR')\r\n",
        "\r\n",
        "model = sm.OLS(y,x)\r\n",
        "results = model.fit()\r\n",
        "#results.summary()\r\n",
        "\r\n",
        "#confidence level 95%\r\n",
        "intercept, slope = results.params\r\n",
        "CI_abs = resolution*results.conf_int(alpha = 0.05)[1]\r\n",
        "CIL_abs = CI_abs[1]\r\n",
        "CIH_abs = CI_abs[0]\r\n",
        "round(CIL_abs,2),round(CIH_abs,2)\r\n",
        "\r\n",
        "DR_abs = round(resolution*slope, 2)\r\n",
        "\r\n",
        "\r\n",
        "sns.regplot(y = trend_df['Trend'], x = trend_df['Month'], data = df, color='g')\r\n",
        "plt.ylabel(\"PR(%)\")\r\n",
        "plt.xlabel(\"Month\")\r\n",
        "plt.ylim(65,100)\r\n",
        "plt.xlim(0, 17)\r\n",
        "plt.title(\"MAR-MAY:Degradation Rate for Bedford PV-2\")\r\n",
        "plt.grid(True)\r\n",
        "plt.show()\r\n",
        "\r\n",
        "print('Absolute degredation value', DR_abs)\r\n",
        "print('Lower boundary degredation value', CIL_abs)\r\n",
        "print('Upper boundary degredation value', CIH_abs)"
      ],
      "execution_count": 15,
      "outputs": [
        {
          "output_type": "display_data",
          "data": {
            "image/png": "[encoded data removed]",
            "text/plain": [
              "<Figure size 432x288 with 1 Axes>"
            ]
          },
          "metadata": {
            "tags": [],
            "needs_background": "light"
          }
        },
        {
          "output_type": "stream",
          "text": [
            "Absolute degredation value -0.62\n",
            "Lower boundary degredation value -0.4766718615119291\n",
            "Upper boundary degredation value -0.7674457855469101\n"
          ],
          "name": "stdout"
        }
      ]
    },
    {
      "cell_type": "markdown",
      "metadata": {
        "id": "UEy9A372837b"
      },
      "source": [
        "# Bedford PV-03 MAR-MAY"
      ]
    },
    {
      "cell_type": "code",
      "metadata": {
        "colab": {
          "base_uri": "https://localhost:8080/",
          "height": 342
        },
        "id": "NlD3u1-I8ze3",
        "outputId": "2fc030cc-0687-4f08-fc48-59417aef5443"
      },
      "source": [
        "bedford_3 = pd.read_csv('/content/drive/MyDrive/PHD/Data/Bedford3.csv')\r\n",
        "\r\n",
        "df = bedford_3[(bedford_3['Unnamed: 1']>2) & (bedford_3['Unnamed: 1']<6)]\r\n",
        "\r\n",
        "#df['PR'].plot()\r\n",
        "#plt.xlabel('Month')\r\n",
        "#plt.ylabel('PR')\r\n",
        "#plt.title('Monthly PR 2015-2020')\r\n",
        "\r\n",
        "#fig, axs = plt.subplots()\r\n",
        "#axs.plot(df.index, df.PR, 'o-', alpha = 0.5,color='g')\r\n",
        "#axs.set_ylabel('PR (%)');\r\n",
        "#axs.set_xlabel('Month')\r\n",
        "\r\n",
        "resolution = 3\r\n",
        "s=sm.tsa.seasonal_decompose(df.PR, model = 'multiplicative', freq = 3)\r\n",
        "#s.plot()\r\n",
        "\r\n",
        "trend_df = pd.DataFrame(list(s.trend), columns = ['Trend'])\r\n",
        "trend_df.insert(loc=0, column = 'Month', value=np.arange(len(trend_df)))\r\n",
        "trend_df=trend_df[np.isfinite(trend_df['Trend'])]\r\n",
        "y = trend_df.Trend\r\n",
        "x = trend_df.Month\r\n",
        "x, y = np.array(x), np.array(y)\r\n",
        "\r\n",
        "x = sm.add_constant(x)\r\n",
        "\r\n",
        "#trend_df['Trend'].plot()\r\n",
        "#plt.xlabel('Month')\r\n",
        "#plt.ylabel('PR')\r\n",
        "#plt.title('Decomposed Trend for Bedford PV-2 JAN-APR')\r\n",
        "\r\n",
        "model = sm.OLS(y,x)\r\n",
        "results = model.fit()\r\n",
        "#results.summary()\r\n",
        "\r\n",
        "#confidence level 95%\r\n",
        "intercept, slope = results.params\r\n",
        "CI_abs = resolution*results.conf_int(alpha = 0.05)[1]\r\n",
        "CIL_abs = CI_abs[1]\r\n",
        "CIH_abs = CI_abs[0]\r\n",
        "round(CIL_abs,2),round(CIH_abs,2)\r\n",
        "\r\n",
        "DR_abs = round(resolution*slope, 2)\r\n",
        "\r\n",
        "\r\n",
        "sns.regplot(y = trend_df['Trend'], x = trend_df['Month'], data = df, color='g')\r\n",
        "plt.ylabel(\"PR(%)\")\r\n",
        "plt.xlabel(\"Month\")\r\n",
        "plt.ylim(65,100)\r\n",
        "plt.xlim(0, 17)\r\n",
        "plt.title(\"MAR-MAY:Degradation Rate for Bedford PV-3\")\r\n",
        "plt.grid(True)\r\n",
        "plt.show()\r\n",
        "\r\n",
        "print('Absolute degredation value', DR_abs)\r\n",
        "print('Lower boundary degredation value', CIL_abs)\r\n",
        "print('Upper boundary degredation value', CIH_abs)"
      ],
      "execution_count": 16,
      "outputs": [
        {
          "output_type": "display_data",
          "data": {
            "image/png": "[encoded data removed]",
            "text/plain": [
              "<Figure size 432x288 with 1 Axes>"
            ]
          },
          "metadata": {
            "tags": [],
            "needs_background": "light"
          }
        },
        {
          "output_type": "stream",
          "text": [
            "Absolute degredation value -0.87\n",
            "Lower boundary degredation value -0.5813901612868762\n",
            "Upper boundary degredation value -1.1656686622425414\n"
          ],
          "name": "stdout"
        }
      ]
    },
    {
      "cell_type": "markdown",
      "metadata": {
        "id": "yZCmtmQXHCJV"
      },
      "source": [
        "## Avg degredation for Bedford between MAR-MAY is -0.72%"
      ]
    },
    {
      "cell_type": "markdown",
      "metadata": {
        "id": "8RlvM1bi9JXO"
      },
      "source": [
        "# Bedford PV-01 JUN-AUG"
      ]
    },
    {
      "cell_type": "code",
      "metadata": {
        "colab": {
          "base_uri": "https://localhost:8080/",
          "height": 342
        },
        "id": "30MNvrsg9Bmb",
        "outputId": "c4b6c78b-22ad-4d42-8832-c85611f01874"
      },
      "source": [
        "bedford_1 = pd.read_csv('/content/drive/MyDrive/PHD/Data/Bedford1.csv')\r\n",
        "\r\n",
        "df = bedford_1[(bedford_1['Unnamed: 1']>5) & (bedford_1['Unnamed: 1']<9)]\r\n",
        "\r\n",
        "#df['PR'].plot()\r\n",
        "#plt.xlabel('Month')\r\n",
        "#plt.ylabel('PR')\r\n",
        "#plt.title('Monthly PR 2015-2020')\r\n",
        "\r\n",
        "#fig, axs = plt.subplots()\r\n",
        "#axs.plot(df.index, df.PR, 'o-', alpha = 0.5,color='g')\r\n",
        "#axs.set_ylabel('PR (%)');\r\n",
        "#axs.set_xlabel('Month')\r\n",
        "\r\n",
        "resolution = 3\r\n",
        "s=sm.tsa.seasonal_decompose(df.PR, model = 'multiplicative', freq = 3)\r\n",
        "#s.plot()\r\n",
        "\r\n",
        "trend_df = pd.DataFrame(list(s.trend), columns = ['Trend'])\r\n",
        "trend_df.insert(loc=0, column = 'Month', value=np.arange(len(trend_df)))\r\n",
        "trend_df=trend_df[np.isfinite(trend_df['Trend'])]\r\n",
        "y = trend_df.Trend\r\n",
        "x = trend_df.Month\r\n",
        "x, y = np.array(x), np.array(y)\r\n",
        "\r\n",
        "x = sm.add_constant(x)\r\n",
        "\r\n",
        "#trend_df['Trend'].plot()\r\n",
        "#plt.xlabel('Month')\r\n",
        "#plt.ylabel('PR')\r\n",
        "#plt.title('Decomposed Trend for Bedford PV-2 JAN-APR')\r\n",
        "\r\n",
        "model = sm.OLS(y,x)\r\n",
        "results = model.fit()\r\n",
        "#results.summary()\r\n",
        "\r\n",
        "#confidence level 95%\r\n",
        "intercept, slope = results.params\r\n",
        "CI_abs = resolution*results.conf_int(alpha = 0.05)[1]\r\n",
        "CIL_abs = CI_abs[1]\r\n",
        "CIH_abs = CI_abs[0]\r\n",
        "round(CIL_abs,2),round(CIH_abs,2)\r\n",
        "\r\n",
        "DR_abs = round(resolution*slope, 2)\r\n",
        "\r\n",
        "\r\n",
        "sns.regplot(y = trend_df['Trend'], x = trend_df['Month'], data = df, color='g')\r\n",
        "plt.ylabel(\"PR(%)\")\r\n",
        "plt.xlabel(\"Month\")\r\n",
        "plt.ylim(65,100)\r\n",
        "plt.xlim(0, 17)\r\n",
        "plt.title(\"JUN-AUG:Degradation Rate for Bedford PV-1\")\r\n",
        "plt.grid(True)\r\n",
        "plt.show()\r\n",
        "\r\n",
        "print('Absolute degredation value', DR_abs)\r\n",
        "print('Lower boundary degredation value', CIL_abs)\r\n",
        "print('Upper boundary degredation value', CIH_abs)"
      ],
      "execution_count": 21,
      "outputs": [
        {
          "output_type": "display_data",
          "data": {
            "image/png": "[encoded data removed]",
            "text/plain": [
              "<Figure size 432x288 with 1 Axes>"
            ]
          },
          "metadata": {
            "tags": [],
            "needs_background": "light"
          }
        },
        {
          "output_type": "stream",
          "text": [
            "Absolute degredation value -0.56\n",
            "Lower boundary degredation value -0.3371606819653842\n",
            "Upper boundary degredation value -0.792251082740506\n"
          ],
          "name": "stdout"
        }
      ]
    },
    {
      "cell_type": "markdown",
      "metadata": {
        "id": "oWXgOhq_9-uU"
      },
      "source": [
        "# Bedford PV-02 JUN-AUG"
      ]
    },
    {
      "cell_type": "code",
      "metadata": {
        "colab": {
          "base_uri": "https://localhost:8080/",
          "height": 342
        },
        "id": "E_xzQn9g92tj",
        "outputId": "613de8f1-0ebe-4ee8-aa7e-ac46d679a8ef"
      },
      "source": [
        "bedford_2 = pd.read_csv('/content/drive/MyDrive/PHD/Data/Bedford2.csv')\r\n",
        "\r\n",
        "df = bedford_2[(bedford_2['Unnamed: 1']>5) & (bedford_2['Unnamed: 1']<9)]\r\n",
        "\r\n",
        "#df['PR'].plot()\r\n",
        "#plt.xlabel('Month')\r\n",
        "#plt.ylabel('PR')\r\n",
        "#plt.title('Monthly PR 2015-2020')\r\n",
        "\r\n",
        "#fig, axs = plt.subplots()\r\n",
        "#axs.plot(df.index, df.PR, 'o-', alpha = 0.5,color='g')\r\n",
        "#axs.set_ylabel('PR (%)');\r\n",
        "#axs.set_xlabel('Month')\r\n",
        "\r\n",
        "resolution = 3\r\n",
        "s=sm.tsa.seasonal_decompose(df.PR, model = 'multiplicative', freq = 3)\r\n",
        "#s.plot()\r\n",
        "\r\n",
        "trend_df = pd.DataFrame(list(s.trend), columns = ['Trend'])\r\n",
        "trend_df.insert(loc=0, column = 'Month', value=np.arange(len(trend_df)))\r\n",
        "trend_df=trend_df[np.isfinite(trend_df['Trend'])]\r\n",
        "y = trend_df.Trend\r\n",
        "x = trend_df.Month\r\n",
        "x, y = np.array(x), np.array(y)\r\n",
        "\r\n",
        "x = sm.add_constant(x)\r\n",
        "\r\n",
        "#trend_df['Trend'].plot()\r\n",
        "#plt.xlabel('Month')\r\n",
        "#plt.ylabel('PR')\r\n",
        "#plt.title('Decomposed Trend for Bedford PV-2 JAN-APR')\r\n",
        "\r\n",
        "model = sm.OLS(y,x)\r\n",
        "results = model.fit()\r\n",
        "#results.summary()\r\n",
        "\r\n",
        "#confidence level 95%\r\n",
        "intercept, slope = results.params\r\n",
        "CI_abs = resolution*results.conf_int(alpha = 0.05)[1]\r\n",
        "CIL_abs = CI_abs[1]\r\n",
        "CIH_abs = CI_abs[0]\r\n",
        "round(CIL_abs,2),round(CIH_abs,2)\r\n",
        "\r\n",
        "DR_abs = round(resolution*slope, 2)\r\n",
        "\r\n",
        "\r\n",
        "sns.regplot(y = trend_df['Trend'], x = trend_df['Month'], data = df, color='g')\r\n",
        "plt.ylabel(\"PR(%)\")\r\n",
        "plt.xlabel(\"Month\")\r\n",
        "plt.ylim(65,100)\r\n",
        "plt.xlim(0, 17)\r\n",
        "plt.title(\"JUN-AUG:Degradation Rate for Bedford PV-2\")\r\n",
        "plt.grid(True)\r\n",
        "plt.show()\r\n",
        "\r\n",
        "print('Absolute degredation value', DR_abs)\r\n",
        "print('Lower boundary degredation value', CIL_abs)\r\n",
        "print('Upper boundary degredation value', CIH_abs)"
      ],
      "execution_count": 23,
      "outputs": [
        {
          "output_type": "display_data",
          "data": {
            "image/png": "[encoded data removed]",
            "text/plain": [
              "<Figure size 432x288 with 1 Axes>"
            ]
          },
          "metadata": {
            "tags": [],
            "needs_background": "light"
          }
        },
        {
          "output_type": "stream",
          "text": [
            "Absolute degredation value -0.7\n",
            "Lower boundary degredation value -0.4338019780602133\n",
            "Upper boundary degredation value -0.9691391984103845\n"
          ],
          "name": "stdout"
        }
      ]
    },
    {
      "cell_type": "markdown",
      "metadata": {
        "id": "WtMmTH4j-JfU"
      },
      "source": [
        "# Bedford PV-03 JUN-AUG"
      ]
    },
    {
      "cell_type": "code",
      "metadata": {
        "colab": {
          "base_uri": "https://localhost:8080/",
          "height": 342
        },
        "id": "ui8JzDPh-GAL",
        "outputId": "fc0094d3-9c59-4710-fe49-a443efb87dca"
      },
      "source": [
        "bedford_3 = pd.read_csv('/content/drive/MyDrive/PHD/Data/Bedford3.csv')\r\n",
        "\r\n",
        "df = bedford_3[(bedford_3['Unnamed: 1']>5) & (bedford_3['Unnamed: 1']<9)]\r\n",
        "\r\n",
        "#df['PR'].plot()\r\n",
        "#plt.xlabel('Month')\r\n",
        "#plt.ylabel('PR')\r\n",
        "#plt.title('Monthly PR 2015-2020')\r\n",
        "\r\n",
        "#fig, axs = plt.subplots()\r\n",
        "#axs.plot(df.index, df.PR, 'o-', alpha = 0.5,color='g')\r\n",
        "#axs.set_ylabel('PR (%)');\r\n",
        "#axs.set_xlabel('Month')\r\n",
        "\r\n",
        "resolution = 3\r\n",
        "s=sm.tsa.seasonal_decompose(df.PR, model = 'multiplicative', freq = 3)\r\n",
        "#s.plot()\r\n",
        "\r\n",
        "trend_df = pd.DataFrame(list(s.trend), columns = ['Trend'])\r\n",
        "trend_df.insert(loc=0, column = 'Month', value=np.arange(len(trend_df)))\r\n",
        "trend_df=trend_df[np.isfinite(trend_df['Trend'])]\r\n",
        "y = trend_df.Trend\r\n",
        "x = trend_df.Month\r\n",
        "x, y = np.array(x), np.array(y)\r\n",
        "\r\n",
        "x = sm.add_constant(x)\r\n",
        "\r\n",
        "#trend_df['Trend'].plot()\r\n",
        "#plt.xlabel('Month')\r\n",
        "#plt.ylabel('PR')\r\n",
        "#plt.title('Decomposed Trend for Bedford PV-2 JAN-APR')\r\n",
        "\r\n",
        "model = sm.OLS(y,x)\r\n",
        "results = model.fit()\r\n",
        "#results.summary()\r\n",
        "\r\n",
        "#confidence level 95%\r\n",
        "intercept, slope = results.params\r\n",
        "CI_abs = resolution*results.conf_int(alpha = 0.05)[1]\r\n",
        "CIL_abs = CI_abs[1]\r\n",
        "CIH_abs = CI_abs[0]\r\n",
        "round(CIL_abs,2),round(CIH_abs,2)\r\n",
        "\r\n",
        "DR_abs = round(resolution*slope, 2)\r\n",
        "\r\n",
        "\r\n",
        "sns.regplot(y = trend_df['Trend'], x = trend_df['Month'], data = df, color='g')\r\n",
        "plt.ylabel(\"PR(%)\")\r\n",
        "plt.xlabel(\"Month\")\r\n",
        "plt.ylim(65,100)\r\n",
        "plt.xlim(0, 17)\r\n",
        "plt.title(\"JUN-AUG:Degradation Rate for Bedford PV-03\")\r\n",
        "plt.grid(True)\r\n",
        "plt.show()\r\n",
        "\r\n",
        "print('Absolute degredation value', DR_abs)\r\n",
        "print('Lower boundary degredation value', CIL_abs)\r\n",
        "print('Upper boundary degredation value', CIH_abs)"
      ],
      "execution_count": 24,
      "outputs": [
        {
          "output_type": "display_data",
          "data": {
            "image/png": "[encoded data removed]",
            "text/plain": [
              "<Figure size 432x288 with 1 Axes>"
            ]
          },
          "metadata": {
            "tags": [],
            "needs_background": "light"
          }
        },
        {
          "output_type": "stream",
          "text": [
            "Absolute degredation value -1.07\n",
            "Lower boundary degredation value -0.5033971367018302\n",
            "Upper boundary degredation value -1.6318969809452333\n"
          ],
          "name": "stdout"
        }
      ]
    },
    {
      "cell_type": "markdown",
      "metadata": {
        "id": "a6wvGuOWHkPB"
      },
      "source": [
        "## Avg degredation for Bedford between JUN-AUG is -0.78%"
      ]
    },
    {
      "cell_type": "markdown",
      "metadata": {
        "id": "GyUnFvWd_eq_"
      },
      "source": [
        "# Bedford PV-01 SEPT-NOV"
      ]
    },
    {
      "cell_type": "code",
      "metadata": {
        "colab": {
          "base_uri": "https://localhost:8080/",
          "height": 342
        },
        "id": "nJjhwmeY-RiS",
        "outputId": "fe4eee89-bfd9-4895-ea59-13b6d7cd13d0"
      },
      "source": [
        "bedford_1 = pd.read_csv('/content/drive/MyDrive/PHD/Data/Bedford1.csv')\r\n",
        "\r\n",
        "df = bedford_1[(bedford_1['Unnamed: 1']>8) & (bedford_1['Unnamed: 1']<12)]\r\n",
        "\r\n",
        "#df['PR'].plot()\r\n",
        "#plt.xlabel('Month')\r\n",
        "#plt.ylabel('PR')\r\n",
        "#plt.title('Monthly PR 2015-2020')\r\n",
        "\r\n",
        "#fig, axs = plt.subplots()\r\n",
        "#axs.plot(df.index, df.PR, 'o-', alpha = 0.5,color='g')\r\n",
        "#axs.set_ylabel('PR (%)');\r\n",
        "#axs.set_xlabel('Month')\r\n",
        "\r\n",
        "resolution = 3\r\n",
        "s=sm.tsa.seasonal_decompose(df.PR, model = 'multiplicative', freq = 3)\r\n",
        "#s.plot()\r\n",
        "\r\n",
        "trend_df = pd.DataFrame(list(s.trend), columns = ['Trend'])\r\n",
        "trend_df.insert(loc=0, column = 'Month', value=np.arange(len(trend_df)))\r\n",
        "trend_df=trend_df[np.isfinite(trend_df['Trend'])]\r\n",
        "y = trend_df.Trend\r\n",
        "x = trend_df.Month\r\n",
        "x, y = np.array(x), np.array(y)\r\n",
        "\r\n",
        "x = sm.add_constant(x)\r\n",
        "\r\n",
        "#trend_df['Trend'].plot()\r\n",
        "#plt.xlabel('Month')\r\n",
        "#plt.ylabel('PR')\r\n",
        "#plt.title('Decomposed Trend for Bedford PV-2 JAN-APR')\r\n",
        "\r\n",
        "model = sm.OLS(y,x)\r\n",
        "results = model.fit()\r\n",
        "#results.summary()\r\n",
        "\r\n",
        "#confidence level 95%\r\n",
        "intercept, slope = results.params\r\n",
        "CI_abs = resolution*results.conf_int(alpha = 0.05)[1]\r\n",
        "CIL_abs = CI_abs[1]\r\n",
        "CIH_abs = CI_abs[0]\r\n",
        "round(CIL_abs,2),round(CIH_abs,2)\r\n",
        "\r\n",
        "DR_abs = round(resolution*slope, 2)\r\n",
        "\r\n",
        "\r\n",
        "sns.regplot(y = trend_df['Trend'], x = trend_df['Month'], data = df, color='g')\r\n",
        "plt.ylabel(\"PR(%)\")\r\n",
        "plt.xlabel(\"Month\")\r\n",
        "plt.ylim(65,100)\r\n",
        "plt.xlim(0, 17)\r\n",
        "plt.title(\"SEPT-NOV:Degradation Rate for Bedford PV-1\")\r\n",
        "plt.grid(True)\r\n",
        "plt.show()\r\n",
        "\r\n",
        "print('Absolute degredation value', DR_abs)\r\n",
        "print('Lower boundary degredation value', CIL_abs)\r\n",
        "print('Upper boundary degredation value', CIH_abs)"
      ],
      "execution_count": 27,
      "outputs": [
        {
          "output_type": "display_data",
          "data": {
            "image/png": "[encoded data removed]",
            "text/plain": [
              "<Figure size 432x288 with 1 Axes>"
            ]
          },
          "metadata": {
            "tags": [],
            "needs_background": "light"
          }
        },
        {
          "output_type": "stream",
          "text": [
            "Absolute degredation value -0.36\n",
            "Lower boundary degredation value -0.09030880914736128\n",
            "Upper boundary degredation value -0.6361617790879422\n"
          ],
          "name": "stdout"
        }
      ]
    },
    {
      "cell_type": "markdown",
      "metadata": {
        "id": "_bVB0eZEAIj3"
      },
      "source": [
        "# Bedford PV-02 SEPT-NOV"
      ]
    },
    {
      "cell_type": "code",
      "metadata": {
        "colab": {
          "base_uri": "https://localhost:8080/",
          "height": 342
        },
        "id": "5A4gFgJsABH9",
        "outputId": "07796207-007d-46b2-c1d1-1f63dab216af"
      },
      "source": [
        "bedford_2 = pd.read_csv('/content/drive/MyDrive/PHD/Data/Bedford2.csv')\r\n",
        "\r\n",
        "df = bedford_2[(bedford_2['Unnamed: 1']>8) & (bedford_2['Unnamed: 1']<12)]\r\n",
        "\r\n",
        "#df['PR'].plot()\r\n",
        "#plt.xlabel('Month')\r\n",
        "#plt.ylabel('PR')\r\n",
        "#plt.title('Monthly PR 2015-2020')\r\n",
        "\r\n",
        "#fig, axs = plt.subplots()\r\n",
        "#axs.plot(df.index, df.PR, 'o-', alpha = 0.5,color='g')\r\n",
        "#axs.set_ylabel('PR (%)');\r\n",
        "#axs.set_xlabel('Month')\r\n",
        "\r\n",
        "resolution = 3\r\n",
        "s=sm.tsa.seasonal_decompose(df.PR, model = 'multiplicative', freq = 3)\r\n",
        "#s.plot()\r\n",
        "\r\n",
        "trend_df = pd.DataFrame(list(s.trend), columns = ['Trend'])\r\n",
        "trend_df.insert(loc=0, column = 'Month', value=np.arange(len(trend_df)))\r\n",
        "trend_df=trend_df[np.isfinite(trend_df['Trend'])]\r\n",
        "y = trend_df.Trend\r\n",
        "x = trend_df.Month\r\n",
        "x, y = np.array(x), np.array(y)\r\n",
        "\r\n",
        "x = sm.add_constant(x)\r\n",
        "\r\n",
        "#trend_df['Trend'].plot()\r\n",
        "#plt.xlabel('Month')\r\n",
        "#plt.ylabel('PR')\r\n",
        "#plt.title('Decomposed Trend for Bedford PV-2 JAN-APR')\r\n",
        "\r\n",
        "model = sm.OLS(y,x)\r\n",
        "results = model.fit()\r\n",
        "#results.summary()\r\n",
        "\r\n",
        "#confidence level 95%\r\n",
        "intercept, slope = results.params\r\n",
        "CI_abs = resolution*results.conf_int(alpha = 0.05)[1]\r\n",
        "CIL_abs = CI_abs[1]\r\n",
        "CIH_abs = CI_abs[0]\r\n",
        "round(CIL_abs,2),round(CIH_abs,2)\r\n",
        "\r\n",
        "DR_abs = round(resolution*slope, 2)\r\n",
        "\r\n",
        "\r\n",
        "sns.regplot(y = trend_df['Trend'], x = trend_df['Month'], data = df, color='g')\r\n",
        "plt.ylabel(\"PR(%)\")\r\n",
        "plt.xlabel(\"Month\")\r\n",
        "plt.ylim(65,100)\r\n",
        "plt.xlim(0, 17)\r\n",
        "plt.title(\"SEPT-NOV:Degradation Rate for Bedford PV-2\")\r\n",
        "plt.grid(True)\r\n",
        "plt.show()\r\n",
        "\r\n",
        "print('Absolute degredation value', DR_abs)\r\n",
        "print('Lower boundary degredation value', CIL_abs)\r\n",
        "print('Upper boundary degredation value', CIH_abs)"
      ],
      "execution_count": 28,
      "outputs": [
        {
          "output_type": "display_data",
          "data": {
            "image/png": "[encoded data removed]",
            "text/plain": [
              "<Figure size 432x288 with 1 Axes>"
            ]
          },
          "metadata": {
            "tags": [],
            "needs_background": "light"
          }
        },
        {
          "output_type": "stream",
          "text": [
            "Absolute degredation value -0.51\n",
            "Lower boundary degredation value -0.21705335690464542\n",
            "Upper boundary degredation value -0.8123584078012493\n"
          ],
          "name": "stdout"
        }
      ]
    },
    {
      "cell_type": "markdown",
      "metadata": {
        "id": "X6kRn5fTAg-9"
      },
      "source": [
        "# Bedford PV-03 SEPT-NOV"
      ]
    },
    {
      "cell_type": "code",
      "metadata": {
        "colab": {
          "base_uri": "https://localhost:8080/",
          "height": 342
        },
        "id": "Ln73bqLAAXaf",
        "outputId": "6747d36c-0b44-4971-8bce-11615f3bfde0"
      },
      "source": [
        "bedford_3 = pd.read_csv('/content/drive/MyDrive/PHD/Data/Bedford3.csv')\r\n",
        "\r\n",
        "df = bedford_3[(bedford_3['Unnamed: 1']>8) & (bedford_3['Unnamed: 1']<12)]\r\n",
        "\r\n",
        "#df['PR'].plot()\r\n",
        "#plt.xlabel('Month')\r\n",
        "#plt.ylabel('PR')\r\n",
        "#plt.title('Monthly PR 2015-2020')\r\n",
        "\r\n",
        "#fig, axs = plt.subplots()\r\n",
        "#axs.plot(df.index, df.PR, 'o-', alpha = 0.5,color='g')\r\n",
        "#axs.set_ylabel('PR (%)');\r\n",
        "#axs.set_xlabel('Month')\r\n",
        "\r\n",
        "resolution = 3\r\n",
        "s=sm.tsa.seasonal_decompose(df.PR, model = 'multiplicative', freq = 3)\r\n",
        "#s.plot()\r\n",
        "\r\n",
        "trend_df = pd.DataFrame(list(s.trend), columns = ['Trend'])\r\n",
        "trend_df.insert(loc=0, column = 'Month', value=np.arange(len(trend_df)))\r\n",
        "trend_df=trend_df[np.isfinite(trend_df['Trend'])]\r\n",
        "y = trend_df.Trend\r\n",
        "x = trend_df.Month\r\n",
        "x, y = np.array(x), np.array(y)\r\n",
        "\r\n",
        "x = sm.add_constant(x)\r\n",
        "\r\n",
        "#trend_df['Trend'].plot()\r\n",
        "#plt.xlabel('Month')\r\n",
        "#plt.ylabel('PR')\r\n",
        "#plt.title('Decomposed Trend for Bedford PV-2 JAN-APR')\r\n",
        "\r\n",
        "model = sm.OLS(y,x)\r\n",
        "results = model.fit()\r\n",
        "#results.summary()\r\n",
        "\r\n",
        "#confidence level 95%\r\n",
        "intercept, slope = results.params\r\n",
        "CI_abs = resolution*results.conf_int(alpha = 0.05)[1]\r\n",
        "CIL_abs = CI_abs[1]\r\n",
        "CIH_abs = CI_abs[0]\r\n",
        "round(CIL_abs,2),round(CIH_abs,2)\r\n",
        "\r\n",
        "DR_abs = round(resolution*slope, 2)\r\n",
        "\r\n",
        "\r\n",
        "sns.regplot(y = trend_df['Trend'], x = trend_df['Month'], data = df, color='g')\r\n",
        "plt.ylabel(\"PR(%)\")\r\n",
        "plt.xlabel(\"Month\")\r\n",
        "plt.ylim(65,100)\r\n",
        "plt.xlim(0, 17)\r\n",
        "plt.title(\"SEPT-NOV:Degradation Rate for Bedford PV-3\")\r\n",
        "plt.grid(True)\r\n",
        "plt.show()\r\n",
        "\r\n",
        "print('Absolute degredation value', DR_abs)\r\n",
        "print('Lower boundary degredation value', CIL_abs)\r\n",
        "print('Upper boundary degredation value', CIH_abs)"
      ],
      "execution_count": 29,
      "outputs": [
        {
          "output_type": "display_data",
          "data": {
            "image/png": "[encoded data removed]",
            "text/plain": [
              "<Figure size 432x288 with 1 Axes>"
            ]
          },
          "metadata": {
            "tags": [],
            "needs_background": "light"
          }
        },
        {
          "output_type": "stream",
          "text": [
            "Absolute degredation value -0.26\n",
            "Lower boundary degredation value 0.18928497409069184\n",
            "Upper boundary degredation value -0.7039908564436392\n"
          ],
          "name": "stdout"
        }
      ]
    },
    {
      "cell_type": "markdown",
      "metadata": {
        "id": "arfURbN1INK8"
      },
      "source": [
        "## Avg degredation for Bedford between SEPT-NOV is -0.38%"
      ]
    },
    {
      "cell_type": "markdown",
      "metadata": {
        "id": "XVgGHX2-BZXT"
      },
      "source": [
        "# Bedford PV-01 DEC-FEB"
      ]
    },
    {
      "cell_type": "code",
      "metadata": {
        "colab": {
          "base_uri": "https://localhost:8080/",
          "height": 426
        },
        "id": "g_nVAtKeAv4I",
        "outputId": "5cad6c15-21f5-47a5-f4fe-3d8b6ecbb936"
      },
      "source": [
        "bedford_1 = pd.read_csv('/content/drive/MyDrive/PHD/Data/Bedford1.csv')\r\n",
        "\r\n",
        "data = bedford_1[(bedford_1['Unnamed: 1']<3) | (bedford_1['Unnamed: 1']==12)]\r\n",
        "\r\n",
        "data.replace(12, 3,inplace=True)\r\n",
        "\r\n",
        "df=data\r\n",
        "\r\n",
        "#df['PR'].plot()\r\n",
        "#plt.xlabel('Month')\r\n",
        "#plt.ylabel('PR')\r\n",
        "#plt.title('Monthly PR 2015-2020')\r\n",
        "\r\n",
        "#fig, axs = plt.subplots()\r\n",
        "#axs.plot(df.index, df.PR, 'o-', alpha = 0.5,color='g')\r\n",
        "#axs.set_ylabel('PR (%)');\r\n",
        "#axs.set_xlabel('Month')\r\n",
        "\r\n",
        "resolution = 3\r\n",
        "s=sm.tsa.seasonal_decompose(df.PR, model = 'multiplicative', freq = 3)\r\n",
        "#s.plot()\r\n",
        "\r\n",
        "trend_df = pd.DataFrame(list(s.trend), columns = ['Trend'])\r\n",
        "trend_df.insert(loc=0, column = 'Month', value=np.arange(len(trend_df)))\r\n",
        "trend_df=trend_df[np.isfinite(trend_df['Trend'])]\r\n",
        "y = trend_df.Trend\r\n",
        "x = trend_df.Month\r\n",
        "x, y = np.array(x), np.array(y)\r\n",
        "\r\n",
        "x = sm.add_constant(x)\r\n",
        "\r\n",
        "#trend_df['Trend'].plot()\r\n",
        "#plt.xlabel('Month')\r\n",
        "#plt.ylabel('PR')\r\n",
        "#plt.title('Decomposed Trend for Bedford PV-2 JAN-APR')\r\n",
        "\r\n",
        "model = sm.OLS(y,x)\r\n",
        "results = model.fit()\r\n",
        "#results.summary()\r\n",
        "\r\n",
        "#confidence level 95%\r\n",
        "intercept, slope = results.params\r\n",
        "CI_abs = resolution*results.conf_int(alpha = 0.05)[1]\r\n",
        "CIL_abs = CI_abs[1]\r\n",
        "CIH_abs = CI_abs[0]\r\n",
        "round(CIL_abs,2),round(CIH_abs,2)\r\n",
        "\r\n",
        "DR_abs = round(resolution*slope, 2)\r\n",
        "\r\n",
        "\r\n",
        "sns.regplot(y = trend_df['Trend'], x = trend_df['Month'], data = df, color='g')\r\n",
        "plt.ylabel(\"PR(%)\")\r\n",
        "plt.xlabel(\"Month\")\r\n",
        "plt.ylim(65,100)\r\n",
        "plt.xlim(0, 17)\r\n",
        "plt.title(\"DEC-FEB:Degradation Rate for Bedford PV-1\")\r\n",
        "plt.grid(True)\r\n",
        "plt.show()\r\n",
        "\r\n",
        "print('Absolute degredation value', DR_abs)\r\n",
        "print('Lower boundary degredation value', CIL_abs)\r\n",
        "print('Upper boundary degredation value', CIH_abs)"
      ],
      "execution_count": 21,
      "outputs": [
        {
          "output_type": "stream",
          "text": [
            "/usr/local/lib/python3.6/dist-packages/pandas/core/frame.py:4389: SettingWithCopyWarning: \n",
            "A value is trying to be set on a copy of a slice from a DataFrame\n",
            "\n",
            "See the caveats in the documentation: https://pandas.pydata.org/pandas-docs/stable/user_guide/indexing.html#returning-a-view-versus-a-copy\n",
            "  method=method,\n"
          ],
          "name": "stderr"
        },
        {
          "output_type": "display_data",
          "data": {
            "image/png": "[encoded data removed]",
            "text/plain": [
              "<Figure size 432x288 with 1 Axes>"
            ]
          },
          "metadata": {
            "tags": [],
            "needs_background": "light"
          }
        },
        {
          "output_type": "stream",
          "text": [
            "Absolute degredation value -0.91\n",
            "Lower boundary degredation value -0.5397844273988435\n",
            "Upper boundary degredation value -1.2778626314246955\n"
          ],
          "name": "stdout"
        }
      ]
    },
    {
      "cell_type": "markdown",
      "metadata": {
        "id": "OHpOk_KjBz15"
      },
      "source": [
        "# Bedford PV-02 DEC-FEB"
      ]
    },
    {
      "cell_type": "code",
      "metadata": {
        "colab": {
          "base_uri": "https://localhost:8080/",
          "height": 426
        },
        "id": "JBCAicpHBvqd",
        "outputId": "615f50c2-198d-4d45-a515-0d5d3c4786a8"
      },
      "source": [
        "bedford_2 = pd.read_csv('/content/drive/MyDrive/PHD/Data/Bedford2.csv')\r\n",
        "\r\n",
        "data = bedford_2[(bedford_1['Unnamed: 1']<3) | (bedford_2['Unnamed: 1']==12)]\r\n",
        "\r\n",
        "data.replace(12, 3,inplace=True)\r\n",
        "\r\n",
        "df=data\r\n",
        "\r\n",
        "#df['PR'].plot()\r\n",
        "#plt.xlabel('Month')\r\n",
        "#plt.ylabel('PR')\r\n",
        "#plt.title('Monthly PR 2015-2020')\r\n",
        "\r\n",
        "#fig, axs = plt.subplots()\r\n",
        "#axs.plot(df.index, df.PR, 'o-', alpha = 0.5,color='g')\r\n",
        "#axs.set_ylabel('PR (%)');\r\n",
        "#axs.set_xlabel('Month')\r\n",
        "\r\n",
        "resolution = 3\r\n",
        "s=sm.tsa.seasonal_decompose(df.PR, model = 'multiplicative', freq = 3)\r\n",
        "#s.plot()\r\n",
        "\r\n",
        "trend_df = pd.DataFrame(list(s.trend), columns = ['Trend'])\r\n",
        "trend_df.insert(loc=0, column = 'Month', value=np.arange(len(trend_df)))\r\n",
        "trend_df=trend_df[np.isfinite(trend_df['Trend'])]\r\n",
        "y = trend_df.Trend\r\n",
        "x = trend_df.Month\r\n",
        "x, y = np.array(x), np.array(y)\r\n",
        "\r\n",
        "x = sm.add_constant(x)\r\n",
        "\r\n",
        "#trend_df['Trend'].plot()\r\n",
        "#plt.xlabel('Month')\r\n",
        "#plt.ylabel('PR')\r\n",
        "#plt.title('Decomposed Trend for Bedford PV-2 JAN-APR')\r\n",
        "\r\n",
        "model = sm.OLS(y,x)\r\n",
        "results = model.fit()\r\n",
        "#results.summary()\r\n",
        "\r\n",
        "#confidence level 95%\r\n",
        "intercept, slope = results.params\r\n",
        "CI_abs = resolution*results.conf_int(alpha = 0.05)[1]\r\n",
        "CIL_abs = CI_abs[1]\r\n",
        "CIH_abs = CI_abs[0]\r\n",
        "round(CIL_abs,2),round(CIH_abs,2)\r\n",
        "\r\n",
        "DR_abs = round(resolution*slope, 2)\r\n",
        "\r\n",
        "\r\n",
        "sns.regplot(y = trend_df['Trend'], x = trend_df['Month'], data = df, color='g')\r\n",
        "plt.ylabel(\"PR(%)\")\r\n",
        "plt.xlabel(\"Month\")\r\n",
        "plt.ylim(65,100)\r\n",
        "plt.xlim(0, 17)\r\n",
        "plt.title(\"OCT-DEC:Degradation Rate for Bedford PV-2\")\r\n",
        "plt.grid(True)\r\n",
        "plt.show()\r\n",
        "\r\n",
        "print('Absolute degredation value', DR_abs)\r\n",
        "print('Lower boundary degredation value', CIL_abs)\r\n",
        "print('Upper boundary degredation value', CIH_abs)"
      ],
      "execution_count": 22,
      "outputs": [
        {
          "output_type": "stream",
          "text": [
            "/usr/local/lib/python3.6/dist-packages/pandas/core/frame.py:4389: SettingWithCopyWarning: \n",
            "A value is trying to be set on a copy of a slice from a DataFrame\n",
            "\n",
            "See the caveats in the documentation: https://pandas.pydata.org/pandas-docs/stable/user_guide/indexing.html#returning-a-view-versus-a-copy\n",
            "  method=method,\n"
          ],
          "name": "stderr"
        },
        {
          "output_type": "display_data",
          "data": {
            "image/png": "[encoded data removed]",
            "text/plain": [
              "<Figure size 432x288 with 1 Axes>"
            ]
          },
          "metadata": {
            "tags": [],
            "needs_background": "light"
          }
        },
        {
          "output_type": "stream",
          "text": [
            "Absolute degredation value -0.62\n",
            "Lower boundary degredation value -0.2072332221538122\n",
            "Upper boundary degredation value -1.0280608954932529\n"
          ],
          "name": "stdout"
        }
      ]
    },
    {
      "cell_type": "markdown",
      "metadata": {
        "id": "2Q4a05bKCHEY"
      },
      "source": [
        "# Bedford PV-03 DEC-FEB"
      ]
    },
    {
      "cell_type": "code",
      "metadata": {
        "colab": {
          "base_uri": "https://localhost:8080/",
          "height": 426
        },
        "id": "3aeNvB7tCCk_",
        "outputId": "829010e7-508f-4632-f80d-dd6d4f8f7100"
      },
      "source": [
        "bedford_3 = pd.read_csv('/content/drive/MyDrive/PHD/Data/Bedford3.csv')\r\n",
        "\r\n",
        "data = bedford_3[(bedford_1['Unnamed: 1']<3) | (bedford_3['Unnamed: 1']==12)]\r\n",
        "\r\n",
        "data.replace(12, 3,inplace=True)\r\n",
        "\r\n",
        "df=data\r\n",
        "\r\n",
        "#df['PR'].plot()\r\n",
        "#plt.xlabel('Month')\r\n",
        "#plt.ylabel('PR')\r\n",
        "#plt.title('Monthly PR 2015-2020')\r\n",
        "\r\n",
        "#fig, axs = plt.subplots()\r\n",
        "#axs.plot(df.index, df.PR, 'o-', alpha = 0.5,color='g')\r\n",
        "#axs.set_ylabel('PR (%)');\r\n",
        "#axs.set_xlabel('Month')\r\n",
        "\r\n",
        "resolution = 3\r\n",
        "s=sm.tsa.seasonal_decompose(df.PR, model = 'multiplicative', freq = 3)\r\n",
        "#s.plot()\r\n",
        "\r\n",
        "trend_df = pd.DataFrame(list(s.trend), columns = ['Trend'])\r\n",
        "trend_df.insert(loc=0, column = 'Month', value=np.arange(len(trend_df)))\r\n",
        "trend_df=trend_df[np.isfinite(trend_df['Trend'])]\r\n",
        "y = trend_df.Trend\r\n",
        "x = trend_df.Month\r\n",
        "x, y = np.array(x), np.array(y)\r\n",
        "\r\n",
        "x = sm.add_constant(x)\r\n",
        "\r\n",
        "#trend_df['Trend'].plot()\r\n",
        "#plt.xlabel('Month')\r\n",
        "#plt.ylabel('PR')\r\n",
        "#plt.title('Decomposed Trend for Bedford PV-2 JAN-APR')\r\n",
        "\r\n",
        "model = sm.OLS(y,x)\r\n",
        "results = model.fit()\r\n",
        "#results.summary()\r\n",
        "\r\n",
        "#confidence level 95%\r\n",
        "intercept, slope = results.params\r\n",
        "CI_abs = resolution*results.conf_int(alpha = 0.05)[1]\r\n",
        "CIL_abs = CI_abs[1]\r\n",
        "CIH_abs = CI_abs[0]\r\n",
        "round(CIL_abs,2),round(CIH_abs,2)\r\n",
        "\r\n",
        "DR_abs = round(resolution*slope, 2)\r\n",
        "\r\n",
        "\r\n",
        "sns.regplot(y = trend_df['Trend'], x = trend_df['Month'], data = df, color='g')\r\n",
        "plt.ylabel(\"PR(%)\")\r\n",
        "plt.xlabel(\"Month\")\r\n",
        "plt.ylim(65,100)\r\n",
        "plt.xlim(0, 17)\r\n",
        "plt.title(\"OCT-DEC:Degradation Rate for Bedford PV-3\")\r\n",
        "plt.grid(True)\r\n",
        "plt.show()\r\n",
        "\r\n",
        "print('Absolute degredation value', DR_abs)\r\n",
        "print('Lower boundary degredation value', CIL_abs)\r\n",
        "print('Upper boundary degredation value', CIH_abs)"
      ],
      "execution_count": 23,
      "outputs": [
        {
          "output_type": "stream",
          "text": [
            "/usr/local/lib/python3.6/dist-packages/pandas/core/frame.py:4389: SettingWithCopyWarning: \n",
            "A value is trying to be set on a copy of a slice from a DataFrame\n",
            "\n",
            "See the caveats in the documentation: https://pandas.pydata.org/pandas-docs/stable/user_guide/indexing.html#returning-a-view-versus-a-copy\n",
            "  method=method,\n"
          ],
          "name": "stderr"
        },
        {
          "output_type": "display_data",
          "data": {
            "image/png": "[encoded data removed]",
            "text/plain": [
              "<Figure size 432x288 with 1 Axes>"
            ]
          },
          "metadata": {
            "tags": [],
            "needs_background": "light"
          }
        },
        {
          "output_type": "stream",
          "text": [
            "Absolute degredation value -0.28\n",
            "Lower boundary degredation value 0.06656256538251157\n",
            "Upper boundary degredation value -0.6195037418531125\n"
          ],
          "name": "stdout"
        }
      ]
    },
    {
      "cell_type": "markdown",
      "metadata": {
        "id": "pmRSWIpyJB24"
      },
      "source": [
        "## Avg degredation for Bedford between DEC-FEB is -0.60%"
      ]
    },
    {
      "cell_type": "code",
      "metadata": {
        "id": "FTLiOWQwCTus"
      },
      "source": [
        "# https://www.carboncommentary.com/blog/2019/12/6/how-fast-do-solar-panels-degrade-evidence-from-a-single-house-over-15-years"
      ],
      "execution_count": null,
      "outputs": []
    },
    {
      "cell_type": "code",
      "metadata": {
        "id": "IyVZkOtSFOuU"
      },
      "source": [
        ""
      ],
      "execution_count": null,
      "outputs": []
    }
  ]
}